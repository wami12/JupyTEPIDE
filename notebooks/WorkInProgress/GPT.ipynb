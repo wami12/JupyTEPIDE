{
 "cells": [
  {
   "cell_type": "code",
   "execution_count": 30,
   "metadata": {
    "scrolled": true
   },
   "outputs": [
    {
     "name": "stdout",
     "output_type": "stream",
     "text": [
      "org.esa.s2tbx.dataio.s2.l1c.Sentinel2L1CProductReader[input=/eodata/Sentinel-2/MSI/L1C/2017/09/13/S2A_MSIL1C_20170913T024941_N0205_R046_T49MHM_20170913T024944.SAFE/MTD_MSIL1C.xml]\n",
      "gndvi\n",
      "flags\n"
     ]
    },
    {
     "ename": "RuntimeError",
     "evalue": "java.lang.IllegalArgumentException: The specified region, if not null, must intersect with the image`s bounds.",
     "traceback": [
      "\u001b[0;31m---------------------------------------------------------------------------\u001b[0m",
      "\u001b[0;31mRuntimeError\u001b[0m                              Traceback (most recent call last)",
      "\u001b[0;32m<ipython-input-30-7940db19356a>\u001b[0m in \u001b[0;36m<module>\u001b[0;34m()\u001b[0m\n\u001b[1;32m     17\u001b[0m \u001b[0;34m\u001b[0m\u001b[0m\n\u001b[1;32m     18\u001b[0m \u001b[0;31m# op.setSourceProduct(refl_product)\u001b[0m\u001b[0;34m\u001b[0m\u001b[0;34m\u001b[0m\u001b[0m\n\u001b[0;32m---> 19\u001b[0;31m \u001b[0mProductIO\u001b[0m\u001b[0;34m.\u001b[0m\u001b[0mwriteProduct\u001b[0m\u001b[0;34m(\u001b[0m\u001b[0mrefl_product\u001b[0m\u001b[0;34m,\u001b[0m\u001b[0;34m\"test.tiff\"\u001b[0m\u001b[0;34m,\u001b[0m  \u001b[0;34m'GeoTIFF'\u001b[0m\u001b[0;34m)\u001b[0m\u001b[0;34m\u001b[0m\u001b[0m\n\u001b[0m",
      "\u001b[0;31mRuntimeError\u001b[0m: java.lang.IllegalArgumentException: The specified region, if not null, must intersect with the image`s bounds."
     ],
     "output_type": "error"
    }
   ],
   "source": [
    "from snappyhelpers import pyHashMap\n",
    "from snappy import ProductIO, GPF\n",
    "\n",
    "p = ProductIO.readProduct('/eodata/Sentinel-2/MSI/L1C/2017/09/13/S2A_MSIL1C_20170913T024941_N0205_R046_T49MHM_20170913T024944.SAFE')\n",
    "print(p.getProductReader())\n",
    "GPF.getDefaultInstance().getOperatorSpiRegistry().loadOperatorSpis() # Load all available operators\n",
    "parameters=pyHashMap({'greenFactor': 1,\n",
    "  'greenSourceBand': 'B1',\n",
    "  'nirFactor': 1,\n",
    "  'nirSourceBand': 'B2'})\n",
    "\n",
    "refl_product = GPF.createProduct('GndviOp', parameters.giveHashMap(), p) # compute the product from input called sub_product\n",
    "# op = SubsetOp()\n",
    "for i in refl_product.getBandNames():\n",
    "    print(i)\n",
    "    \n",
    "\n",
    "# op.setSourceProduct(refl_product)\n",
    "ProductIO.writeProduct(refl_product,\"test.tiff\",  'GeoTIFF')   "
   ]
  },
  {
   "cell_type": "code",
   "execution_count": null,
   "metadata": {
    "collapsed": true
   },
   "outputs": [],
   "source": []
  }
 ],
 "metadata": {
  "kernelspec": {
   "display_name": "Python 3.4",
   "language": "python",
   "name": "python34"
  }
 },
 "nbformat": 4,
 "nbformat_minor": 2
}
