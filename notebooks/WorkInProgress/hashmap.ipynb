{
 "cells": [
  {
   "cell_type": "code",
   "execution_count": 1,
   "metadata": {
    "collapsed": true
   },
   "outputs": [],
   "source": [
    "from snappyhelpers import pyHashMap"
   ]
  },
  {
   "cell_type": "code",
   "execution_count": 2,
   "metadata": {},
   "outputs": [
    {
     "name": "stdout",
     "output_type": "stream",
     "text": [
      "Python dict:  {'3': 4, 'foo': 'bar', '5': 6} \n",
      "Java HashMap:  {3=4, 5=6, foo=bar}\n"
     ]
    }
   ],
   "source": [
    "a=pyHashMap()\n",
    "a['3']=4\n",
    "a['5']=6\n",
    "a['foo']='bar'\n",
    "print(\"Python dict: \",a,\"\\nJava HashMap: \",a.giveHashMap())"
   ]
  },
  {
   "cell_type": "code",
   "execution_count": null,
   "metadata": {
    "collapsed": true
   },
   "outputs": [],
   "source": []
  }
 ],
 "metadata": {
  "kernelspec": {
   "display_name": "Python 3.4",
   "language": "python",
   "name": "python34"
  },
  "language_info": {
   "codemirror_mode": {
    "name": "ipython",
    "version": 3
   },
   "file_extension": ".py",
   "mimetype": "text/x-python",
   "name": "python",
   "nbconvert_exporter": "python",
   "pygments_lexer": "ipython3",
   "version": "3.4.5"
  }
 },
 "nbformat": 4,
 "nbformat_minor": 2
}
