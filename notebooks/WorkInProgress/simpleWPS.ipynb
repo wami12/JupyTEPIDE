{
 "cells": [
  {
   "cell_type": "markdown",
   "metadata": {},
   "source": [
    "## Imports and xml wrapper for WPS request"
   ]
  },
  {
   "cell_type": "code",
   "execution_count": 1,
   "metadata": {},
   "outputs": [],
   "source": [
    "import requests\n",
    "from osgeo import ogr\n",
    "\n",
    "def wrapXML(proces,geom):\n",
    "    xml_head='<?xml version=\"1.0\" encoding=\"UTF-8\"?><wps:Execute version=\"1.0.0\" service=\"WPS\" xmlns:xsi=\"http://www.w3.org/2001/XMLSchema-instance\" xmlns=\"http://www.opengis.net/wps/1.0.0\" xmlns:wfs=\"http://www.opengis.net/wfs\" xmlns:wps=\"http://www.opengis.net/wps/1.0.0\" xmlns:ows=\"http://www.opengis.net/ows/1.1\" xmlns:gml=\"http://www.opengis.net/gml\" xmlns:ogc=\"http://www.opengis.net/ogc\" xmlns:wcs=\"http://www.opengis.net/wcs/1.1.1\" xmlns:xlink=\"http://www.w3.org/1999/xlink\" xsi:schemaLocation=\"http://www.opengis.net/wps/1.0.0 http://schemas.opengis.net/wps/1.0.0/wpsAll.xsd\"><ows:Identifier>%s</ows:Identifier>'%proces\n",
    "    xml_tail = '<wps:ResponseForm><wps:RawDataOutput mimeType=\"application/json\"><ows:Identifier>result</ows:Identifier></wps:RawDataOutput></wps:ResponseForm></wps:Execute>'\n",
    "    xml_geom='<wps:DataInputs>'\n",
    "    for identifier,geometria in geom['geoms'].items():\n",
    "        xml_geom+='<wps:Input><ows:Identifier>%s</ows:Identifier><wps:Data><wps:ComplexData mimeType=\"application/json\"><![CDATA[%s]]></wps:ComplexData></wps:Data></wps:Input>'%(identifier,geometria)\n",
    "    if 'literals' in geom.keys():\n",
    "        for identifier,geometria in geom['literals'].items():\n",
    "            xml_geom+='<wps:Input><ows:Identifier>%s</ows:Identifier><wps:Data><wps:LiteralData>%s</wps:LiteralData></wps:Data></wps:Input>'%(identifier,geometria)\n",
    "    xml_geom+='</wps:DataInputs>'\n",
    "    xml=xml_head.strip()+xml_geom.strip()+xml_tail.strip()\n",
    "    return xml.strip()"
   ]
  },
  {
   "cell_type": "markdown",
   "metadata": {},
   "source": [
    "## Preparing input geometries and other parameters"
   ]
  },
  {
   "cell_type": "code",
   "execution_count": 10,
   "metadata": {},
   "outputs": [],
   "source": [
    "# polygon1 = [(-102.8184, 39.5273), (-102.8184, 37.418), (-101.2363, 37.418), (-101.2363, 39.5273), (-102.8184, 39.5273)]\n",
    "polygon1 = [( 18.,52.5), (21.,52.5), (21.2, 53.5), (18.,53.5),( 18.,52.5)]\n",
    "polygon2 = [(-92.8184, 39.5273), (-92.8184, 37.418), (-91.2363, 37.418), (-91.2363, 39.5273), (-92.8184, 39.5273)] \n",
    "poly1 = ogr.Geometry(ogr.wkbLinearRing)\n",
    "poly2 = ogr.Geometry(ogr.wkbLinearRing)\n",
    "for i in polygon1:\n",
    "    poly1.AddPoint(*i)\n",
    "\n",
    "for i in polygon2:\n",
    "    poly2.AddPoint(*i)\n",
    "\n",
    "p=poly1.ExportToJson()\n",
    "p1=poly2.ExportToJson()"
   ]
  },
  {
   "cell_type": "markdown",
   "metadata": {},
   "source": [
    "## Request for distance between two geometries"
   ]
  },
  {
   "cell_type": "code",
   "execution_count": 11,
   "metadata": {},
   "outputs": [
    {
     "name": "stdout",
     "output_type": "stream",
     "text": [
      "Connection status:\n",
      "200 OK\n",
      "WPS response:\n",
      "110.00390985315022...\n"
     ]
    }
   ],
   "source": [
    "g={'geoms':{'a':p,'b':p1}}\n",
    "r = requests.post(\"http://185.52.194.216:8080/geoserver/wps\", data=wrapXML(\"JTS:distance\",g))\n",
    "print(\"Connection status:\")\n",
    "print(r.status_code, r.reason)\n",
    "print(\"WPS response:\")\n",
    "print(r.text[:] + '...')"
   ]
  },
  {
   "cell_type": "markdown",
   "metadata": {},
   "source": [
    "## Request for geometry buffer zone"
   ]
  },
  {
   "cell_type": "code",
   "execution_count": 12,
   "metadata": {},
   "outputs": [
    {
     "name": "stdout",
     "output_type": "stream",
     "text": [
      "Connection status:\n",
      "200 OK\n",
      "WPS response:\n",
      "{\"type\":\"Polygon\",\"coordinates\":[[[17.99,52.5],[17.99,53.5],[18,53.51],[21.2,53.51],[21.2098,53.498],[21.0098,52.498],[21,52.49],[18,52.49],[17.99,52.5]],[[18.01,52.51],[20.9918,52.51],[21.1878,53.49],[18.01,53.49],[18.01,52.51]]]}...\n"
     ]
    }
   ],
   "source": [
    "g={'geoms':{'geom':p},'literals':{'distance':'0.01','quadrantSegments':'1.11','capStyle':'Round'}}\n",
    "r = requests.post(\"http://185.52.194.216:8080/geoserver/wps\", data=wrapXML(\"JTS:buffer\",g))\n",
    "print(\"Connection status:\")\n",
    "print(r.status_code, r.reason)\n",
    "print(\"WPS response:\")\n",
    "print(r.text[:] + '...')\n",
    "odpowiedz = r.text[:]"
   ]
  },
  {
   "cell_type": "code",
   "execution_count": 17,
   "metadata": {},
   "outputs": [
    {
     "name": "stdout",
     "output_type": "stream",
     "text": [
      "{'type': 'Polygon', 'coordinates': [[[17.9, 52.5], [17.9, 53.5], [18, 53.6], [21.2, 53.6], [21.2981, 53.4804], [21.0981, 52.4804], [21, 52.4], [18, 52.4], [17.9, 52.5]], [[18.1, 52.6], [20.918, 52.6], [21.078, 53.4], [18.1, 53.4], [18.1, 52.6]]]}\n"
     ]
    },
    {
     "data": {
      "application/vnd.jupyter.widget-view+json": {
       "model_id": "cd01a8c0b0c245e4a55ab2565b3d1c8f"
      }
     },
     "metadata": {},
     "output_type": "display_data"
    }
   ],
   "source": [
    "import json\n",
    "from ipyleaflet import (\n",
    "    Map,\n",
    "    Marker,\n",
    "    TileLayer, ImageOverlay,\n",
    "    Polyline, Polygon, Rectangle, Circle, CircleMarker,\n",
    "    GeoJSON,\n",
    "    DrawControl\n",
    ")\n",
    "dc = DrawControl(circle={},rectangle={},polyline={},polygon={}\n",
    "                ,marker={'shapeOptions':{'color':'#5300FF'}},edit=False)\n",
    "layers=[]\n",
    "j=json.loads(odpowiedz)\n",
    "print (j)\n",
    "g=GeoJSON(data=j,hover_style={'fillColor': 'red'})\n",
    "layers.append(g)\n",
    "m=Map(center=(53,21))\n",
    "m.add_layer(g)\n",
    "m"
   ]
  },
  {
   "cell_type": "code",
   "execution_count": null,
   "metadata": {},
   "outputs": [],
   "source": [
    "g=GeoJSON(data=h,hover_style={'fillColor': 'red'})\n",
    "    layers.append(g)"
   ]
  }
 ],
 "metadata": {
  "kernelspec": {
   "display_name": "Python 3.6 root",
   "language": "python",
   "name": "root"
  },
  "language_info": {
   "codemirror_mode": {
    "name": "ipython",
    "version": 3
   },
   "file_extension": ".py",
   "mimetype": "text/x-python",
   "name": "python",
   "nbconvert_exporter": "python",
   "pygments_lexer": "ipython3",
   "version": "3.6.1"
  }
 },
 "nbformat": 4,
 "nbformat_minor": 2
}
