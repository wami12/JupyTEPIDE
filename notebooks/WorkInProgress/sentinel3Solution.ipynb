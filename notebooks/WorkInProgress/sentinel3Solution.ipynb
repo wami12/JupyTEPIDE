{
 "cells": [
  {
   "cell_type": "code",
   "execution_count": 3,
   "metadata": {},
   "outputs": [
    {
     "ename": "RuntimeError",
     "evalue": "java.io.IOException: Cannot read product file '/eodata/Sentinel-3/SRAL/SR_2_LAN/2017/08/10/S3A_SR_2_LAN____20170810T021859_20170810T022700_20170810T032119_0481_021_032______SVL_O_NR_002.SEN3/xfdumanifest.xml'.",
     "output_type": "error",
     "traceback": [
      "\u001b[0;31m---------------------------------------------------------------------------\u001b[0m",
      "\u001b[0;31mRuntimeError\u001b[0m                              Traceback (most recent call last)",
      "\u001b[0;32m<ipython-input-3-687727ae6645>\u001b[0m in \u001b[0;36m<module>\u001b[0;34m()\u001b[0m\n\u001b[1;32m     15\u001b[0m \u001b[0mreader500\u001b[0m \u001b[0;34m=\u001b[0m \u001b[0msnappy\u001b[0m\u001b[0;34m.\u001b[0m\u001b[0mProductIO\u001b[0m\u001b[0;34m.\u001b[0m\u001b[0mgetProductReader\u001b[0m\u001b[0;34m(\u001b[0m\u001b[0;34m'Sen3_SLSTRL1B_500m'\u001b[0m\u001b[0;34m)\u001b[0m\u001b[0;34m\u001b[0m\u001b[0m\n\u001b[1;32m     16\u001b[0m \u001b[0;34m\u001b[0m\u001b[0m\n\u001b[0;32m---> 17\u001b[0;31m \u001b[0mproduct500\u001b[0m \u001b[0;34m=\u001b[0m \u001b[0mreader500\u001b[0m\u001b[0;34m.\u001b[0m\u001b[0mreadProductNodes\u001b[0m\u001b[0;34m(\u001b[0m\u001b[0min_file\u001b[0m\u001b[0;34m,\u001b[0m \u001b[0;32mNone\u001b[0m\u001b[0;34m)\u001b[0m\u001b[0;34m\u001b[0m\u001b[0m\n\u001b[0m\u001b[1;32m     18\u001b[0m \u001b[0mwidth\u001b[0m \u001b[0;34m=\u001b[0m \u001b[0mint\u001b[0m\u001b[0;34m(\u001b[0m\u001b[0mproduct500\u001b[0m\u001b[0;34m.\u001b[0m\u001b[0mgetSceneRasterWidth\u001b[0m\u001b[0;34m(\u001b[0m\u001b[0;34m)\u001b[0m\u001b[0;34m)\u001b[0m\u001b[0;34m\u001b[0m\u001b[0m\n\u001b[1;32m     19\u001b[0m \u001b[0;34m\u001b[0m\u001b[0m\n",
      "\u001b[0;31mRuntimeError\u001b[0m: java.io.IOException: Cannot read product file '/eodata/Sentinel-3/SRAL/SR_2_LAN/2017/08/10/S3A_SR_2_LAN____20170810T021859_20170810T022700_20170810T032119_0481_021_032______SVL_O_NR_002.SEN3/xfdumanifest.xml'."
     ]
    }
   ],
   "source": [
    "import snappy\n",
    "import sys\n",
    "from snappy import ProductIO\n",
    "from snappy import jpy\n",
    "\n",
    "ReprojectOp = snappy.jpy.get_type('org.esa.snap.core.gpf.common.reproject.ReprojectionOp')\n",
    "filename = '/eodata/Sentinel-3/SRAL/SR_2_LAN/2017/08/10/S3A_SR_2_LAN____20170810T021859_20170810T022700_20170810T032119_0481_021_032______SVL_O_NR_002.SEN3/xfdumanifest.xml'\n",
    "\n",
    "in_file = snappy.File(filename)\n",
    "\n",
    "# File = jpy.get_type('java.io.File')\n",
    "# prod = snappy.ProductIO.readProduct(File(in_file))\n",
    "\n",
    "\n",
    "reader500 = snappy.ProductIO.getProductReader('Sen3_SLSTRL1B_500m')\n",
    "\n",
    "product500 = reader500.readProductNodes(in_file, None)\n",
    "width = int(product500.getSceneRasterWidth())\n",
    "\n",
    "\n",
    "\n"
   ]
  },
  {
   "cell_type": "code",
   "execution_count": 7,
   "metadata": {},
   "outputs": [
    {
     "name": "stdout",
     "output_type": "stream",
     "text": [
      "None\n"
     ]
    },
    {
     "ename": "AttributeError",
     "evalue": "'NoneType' object has no attribute 'getSceneRasterWidth'",
     "output_type": "error",
     "traceback": [
      "\u001b[0;31m---------------------------------------------------------------------------\u001b[0m",
      "\u001b[0;31mAttributeError\u001b[0m                            Traceback (most recent call last)",
      "\u001b[0;32m<ipython-input-7-b1ad298b5dbd>\u001b[0m in \u001b[0;36m<module>\u001b[0;34m()\u001b[0m\n\u001b[1;32m      6\u001b[0m \u001b[0mprod\u001b[0m \u001b[0;34m=\u001b[0m \u001b[0msnappy\u001b[0m\u001b[0;34m.\u001b[0m\u001b[0mProductIO\u001b[0m\u001b[0;34m.\u001b[0m\u001b[0mreadProduct\u001b[0m\u001b[0;34m(\u001b[0m\u001b[0mfilename\u001b[0m\u001b[0;34m)\u001b[0m\u001b[0;34m\u001b[0m\u001b[0m\n\u001b[1;32m      7\u001b[0m \u001b[0mprint\u001b[0m \u001b[0;34m(\u001b[0m\u001b[0mprod\u001b[0m\u001b[0;34m)\u001b[0m\u001b[0;34m\u001b[0m\u001b[0m\n\u001b[0;32m----> 8\u001b[0;31m \u001b[0mwidth\u001b[0m \u001b[0;34m=\u001b[0m \u001b[0mint\u001b[0m\u001b[0;34m(\u001b[0m\u001b[0mprod\u001b[0m\u001b[0;34m.\u001b[0m\u001b[0mgetSceneRasterWidth\u001b[0m\u001b[0;34m(\u001b[0m\u001b[0;34m)\u001b[0m\u001b[0;34m)\u001b[0m\u001b[0;34m\u001b[0m\u001b[0m\n\u001b[0m\u001b[1;32m      9\u001b[0m \u001b[0mheight\u001b[0m \u001b[0;34m=\u001b[0m \u001b[0mint\u001b[0m\u001b[0;34m(\u001b[0m\u001b[0mprod\u001b[0m\u001b[0;34m.\u001b[0m\u001b[0mgetSceneRasterHeight\u001b[0m\u001b[0;34m(\u001b[0m\u001b[0;34m)\u001b[0m\u001b[0;34m)\u001b[0m\u001b[0;34m\u001b[0m\u001b[0m\n",
      "\u001b[0;31mAttributeError\u001b[0m: 'NoneType' object has no attribute 'getSceneRasterWidth'"
     ]
    }
   ],
   "source": [
    "import snappy\n",
    "import numpy as np\n",
    "\n",
    "filename = '/eodata/Sentinel-3/SRAL/SR_2_LAN/2017/08/10/S3A_SR_2_LAN____20170810T021859_20170810T022700_20170810T032119_0481_021_032______SVL_O_NR_002.SEN3/xfdumanifest.xml'\n",
    "prod = snappy.ProductIO.readProduct(filename)\n",
    "#prod is None:(\n",
    "width = int(prod.getSceneRasterWidth())\n",
    "height = int(prod.getSceneRasterHeight())"
   ]
  },
  {
   "cell_type": "code",
   "execution_count": 1,
   "metadata": {},
   "outputs": [
    {
     "name": "stdout",
     "output_type": "stream",
     "text": [
      "/eodata/Sentinel-3/SRAL/SR_2_LAN/2017/08/10/S3A_SR_2_LAN____20170810T021859_20170810T022700_20170810T032119_0481_021_032______SVL_O_NR_002.SEN3/xfdumanifest.xml\n",
      "None\n"
     ]
    },
    {
     "ename": "RuntimeError",
     "evalue": "java.lang.NullPointerException: product",
     "output_type": "error",
     "traceback": [
      "\u001b[0;31m---------------------------------------------------------------------------\u001b[0m",
      "\u001b[0;31mRuntimeError\u001b[0m                              Traceback (most recent call last)",
      "\u001b[0;32m<ipython-input-1-28db630eb03e>\u001b[0m in \u001b[0;36m<module>\u001b[0;34m()\u001b[0m\n\u001b[1;32m     12\u001b[0m \u001b[0mprint\u001b[0m \u001b[0;34m(\u001b[0m\u001b[0mp\u001b[0m\u001b[0;34m)\u001b[0m\u001b[0;34m\u001b[0m\u001b[0m\n\u001b[1;32m     13\u001b[0m \u001b[0mop1\u001b[0m \u001b[0;34m=\u001b[0m \u001b[0mSubsetOp\u001b[0m\u001b[0;34m(\u001b[0m\u001b[0;34m)\u001b[0m\u001b[0;34m\u001b[0m\u001b[0m\n\u001b[0;32m---> 14\u001b[0;31m \u001b[0mop1\u001b[0m\u001b[0;34m.\u001b[0m\u001b[0msetSourceProduct\u001b[0m\u001b[0;34m(\u001b[0m\u001b[0mp\u001b[0m\u001b[0;34m)\u001b[0m\u001b[0;34m\u001b[0m\u001b[0m\n\u001b[0m",
      "\u001b[0;31mRuntimeError\u001b[0m: java.lang.NullPointerException: product"
     ]
    }
   ],
   "source": [
    "import snappy\n",
    "from snappy import ProductIO\n",
    "import numpy as np\n",
    "import sys\n",
    "\n",
    "file='/eodata/Sentinel-3/SRAL/SR_2_LAN/2017/08/10/S3A_SR_2_LAN____20170810T021859_20170810T022700_20170810T032119_0481_021_032______SVL_O_NR_002.SEN3/xfdumanifest.xml'\n",
    "SubsetOp = snappy.jpy.get_type('org.esa.snap.core.gpf.common.SubsetOp')\n",
    "\n",
    "p = ProductIO.readProduct(file) \n",
    "\n",
    "print (file)\n",
    "print (p)\n",
    "op1 = SubsetOp()\n",
    "op1.setSourceProduct(p)\n"
   ]
  },
  {
   "cell_type": "code",
   "execution_count": 2,
   "metadata": {},
   "outputs": [
    {
     "name": "stdout",
     "output_type": "stream",
     "text": [
      "waveform_20_c\n",
      "waveform_20_plrm_ku\n",
      "[Lorg.esa.snap.core.datamodel.MetadataElement;@1639f93a\n"
     ]
    }
   ],
   "source": [
    "import snappy\n",
    "import numpy as np\n",
    "import matplotlib.pyplot as plt\n",
    "\n",
    "# file='/eodata/Sentinel-1/SAR/GRD/2017/08/10/S1B_EW_GRDM_1SDH_20170810T032509_20170810T032604_006872_00C18A_C1C7.SAFE'\n",
    "\n",
    "\n",
    "# reader = snappy.ProductIO.getProductReader('Sen3')\n",
    "# product = reader.readProductNodes(file, None)\n",
    "\n",
    "reader = snappy.ProductIO.getProductReaderForInput(file)\n",
    "# print(reader)\n",
    "\n",
    "\n",
    "product = snappy.ProductIO.readProduct(file)\n",
    "for i in product.getBandNames():\n",
    "    print (i)\n",
    "metadata=product.getMetadataRoot()\n",
    "ee=metadata.getElements()\n",
    "print (ee)"
   ]
  },
  {
   "cell_type": "code",
   "execution_count": 3,
   "metadata": {},
   "outputs": [
    {
     "name": "stdout",
     "output_type": "stream",
     "text": [
      "\u001b[1mBANDS\u001b[0m\n"
     ]
    },
    {
     "ename": "AttributeError",
     "evalue": "'NoneType' object has no attribute 'getBandNames'",
     "output_type": "error",
     "traceback": [
      "\u001b[0;31m---------------------------------------------------------------------------\u001b[0m",
      "\u001b[0;31mAttributeError\u001b[0m                            Traceback (most recent call last)",
      "\u001b[0;32m<ipython-input-3-31058e7cf290>\u001b[0m in \u001b[0;36m<module>\u001b[0;34m()\u001b[0m\n\u001b[1;32m     22\u001b[0m \u001b[0;34m\u001b[0m\u001b[0m\n\u001b[1;32m     23\u001b[0m \u001b[0mprint\u001b[0m\u001b[0;34m(\u001b[0m\u001b[0mbcolors\u001b[0m\u001b[0;34m.\u001b[0m\u001b[0mHEADER\u001b[0m\u001b[0;34m+\u001b[0m\u001b[0;34m\"BANDS\"\u001b[0m\u001b[0;34m+\u001b[0m\u001b[0mbcolors\u001b[0m\u001b[0;34m.\u001b[0m\u001b[0mENDC\u001b[0m\u001b[0;34m)\u001b[0m\u001b[0;34m\u001b[0m\u001b[0m\n\u001b[0;32m---> 24\u001b[0;31m \u001b[0;32mfor\u001b[0m \u001b[0mi\u001b[0m \u001b[0;32min\u001b[0m \u001b[0mp\u001b[0m\u001b[0;34m.\u001b[0m\u001b[0mgetBandNames\u001b[0m\u001b[0;34m(\u001b[0m\u001b[0;34m)\u001b[0m\u001b[0;34m:\u001b[0m\u001b[0;34m\u001b[0m\u001b[0m\n\u001b[0m\u001b[1;32m     25\u001b[0m     \u001b[0mprint\u001b[0m\u001b[0;34m(\u001b[0m\u001b[0mi\u001b[0m\u001b[0;34m)\u001b[0m\u001b[0;34m\u001b[0m\u001b[0m\n\u001b[1;32m     26\u001b[0m \u001b[0;34m\u001b[0m\u001b[0m\n",
      "\u001b[0;31mAttributeError\u001b[0m: 'NoneType' object has no attribute 'getBandNames'"
     ]
    }
   ],
   "source": [
    "import snappy\n",
    "from collections import deque\n",
    "\n",
    "class bcolors:\n",
    "    HEADER = '\\033[1m'\n",
    "    BLUE = '\\033[93m'\n",
    "    ENDC = '\\033[0m'\n",
    "\n",
    "def walk(root):\n",
    "    elementy=root.getElements()\n",
    "    for i in elementy:\n",
    "        atr=i.getAttributes()\n",
    "        print (bcolors.HEADER+i.getName()+bcolors.ENDC)\n",
    "        for x in atr:\n",
    "            print(x.getName(),x.getData())\n",
    "        walk(i)\n",
    "\n",
    "file = '/eodata/Envisat/Meris/FRS/2012/04/08/MER_FRS_1PPEPA20120408_105857_000005063113_00267_52867_0978.N1'\n",
    "file='/eodata/Sentinel-3/SRAL/SR_2_LAN/2017/08/10/S3A_SR_2_LAN____20170810T021859_20170810T022700_20170810T032119_0481_021_032______SVL_O_NR_002.SEN3/xfdumanifest.xml'\n",
    "\n",
    "p = snappy.ProductIO.readProduct(file)\n",
    "\n",
    "print(bcolors.HEADER+\"BANDS\"+bcolors.ENDC)\n",
    "for i in p.getBandNames():\n",
    "    print(i)\n",
    "\n",
    "md = p.getMetadataRoot()\n",
    "walk(md)"
   ]
  },
  {
   "cell_type": "code",
   "execution_count": null,
   "metadata": {
    "collapsed": true
   },
   "outputs": [],
   "source": []
  }
 ],
 "metadata": {
  "kernelspec": {
   "display_name": "Python 3.4",
   "language": "python",
   "name": "python34"
  },
  "language_info": {
   "codemirror_mode": {
    "name": "ipython",
    "version": 3
   },
   "file_extension": ".py",
   "mimetype": "text/x-python",
   "name": "python",
   "nbconvert_exporter": "python",
   "pygments_lexer": "ipython3",
   "version": "3.4.5"
  }
 },
 "nbformat": 4,
 "nbformat_minor": 2
}
