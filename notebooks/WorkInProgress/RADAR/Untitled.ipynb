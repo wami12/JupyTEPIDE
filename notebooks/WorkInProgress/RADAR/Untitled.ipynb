{
 "cells": [
  {
   "cell_type": "markdown",
   "metadata": {},
   "source": [
    "Graph XML Format:\n",
    "  <graph id=\"someGraphId\">\n",
    "    <version>1.0</version>\n",
    "    <node id=\"someNodeId\">\n",
    "      <operator>Calibration</operator>\n",
    "      <sources>\n",
    "        <source>${source}</source>\n",
    "      </sources>\n",
    "      <parameters>\n",
    "        <sourceBands>string,string,string,...</sourceBands>\n",
    "        <auxFile>string</auxFile>\n",
    "        <externalAuxFile>file</externalAuxFile>\n",
    "        <outputImageInComplex>boolean</outputImageInComplex>\n",
    "        <outputImageScaleInDb>boolean</outputImageScaleInDb>\n",
    "        <createGammaBand>boolean</createGammaBand>\n",
    "        <createBetaBand>boolean</createBetaBand>\n",
    "        <selectedPolarisations>string,string,string,...</selectedPolarisations>\n",
    "        <outputSigmaBand>boolean</outputSigmaBand>\n",
    "        <outputGammaBand>boolean</outputGammaBand>\n",
    "        <outputBetaBand>boolean</outputBetaBand>\n",
    "      </parameters>\n",
    "    </node>\n",
    "  </graph>\n"
   ]
  },
  {
   "cell_type": "code",
   "execution_count": null,
   "metadata": {},
   "outputs": [],
   "source": [
    "from snappy import ProductIO, GPF, jpy\n",
    "file=\"/eodata/Sentinel-1/SAR/GRD/2015/12/26/S1A_IW_GRDH_1SDV_20151226T040951_20151226T041020_009208_00D451_7A29.SAFE\"\n",
    "# print(\"Reading image\")\n",
    "# product = snappy.ProductIO.readProduct(file)\n",
    "# VH = product.getBand('Amplitude_VH')\n",
    "# VV = product.getBand('Amplitude_VV')\n",
    "# m=snappy.Map(int)\n",
    "\n",
    "\n",
    "s=GPF.getDefaultInstance().getOperatorSpiRegistry().loadOperatorSpis()\n",
    "HashMap = jpy.get_type('java.util.HashMap')\n",
    "\n",
    "processed_files = [file]\n",
    "\n",
    "product_set=[]\n",
    "\n",
    "# for f in processed_files:\n",
    "#     product_set.append(ProductIO.readProduct(f))\n",
    "      \n",
    "#define the stack parameters\n",
    "params = HashMap()\n",
    "params.put('resamplingType', None)\n",
    "params.put('sourceProduct',file)\n",
    "params.put('initialOffsetMethod', 'Product Geolocation')\n",
    "params.put('extent', 'Master')\n",
    "\n",
    "#make the stack    \n",
    "create_stack = GPF.createProduct('Calibration', params, product_set)\n",
    "# print(GPF.getOperatorSpiRegistry())\n",
    "# print(create_stack)\n",
    "#write the stack\n",
    "# ProductIO.writeProduct(create_stack, 'C:\\\\create_stack', 'BEAM-DIMAP')"
   ]
  },
  {
   "cell_type": "code",
   "execution_count": null,
   "metadata": {
    "collapsed": true
   },
   "outputs": [],
   "source": []
  }
 ],
 "metadata": {
  "kernelspec": {
   "display_name": "Python 3.4",
   "language": "python",
   "name": "python34"
  },
  "language_info": {
   "codemirror_mode": {
    "name": "ipython",
    "version": 3
   },
   "file_extension": ".py",
   "mimetype": "text/x-python",
   "name": "python",
   "nbconvert_exporter": "python",
   "pygments_lexer": "ipython3",
   "version": "3.4.5"
  }
 },
 "nbformat": 4,
 "nbformat_minor": 2
}
