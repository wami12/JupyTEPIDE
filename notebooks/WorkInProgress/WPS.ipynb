{
 "cells": [
  {
   "cell_type": "markdown",
   "metadata": {
    "extensions": {
     "jupyter_dashboards": {
      "version": 1,
      "views": {
       "grid_default": {
        "col": 0,
        "height": 4,
        "hidden": false,
        "row": 0,
        "width": 12
       },
       "report_default": {}
      }
     }
    }
   },
   "source": [
    "# Running WPS from notebook using OWSlib\n",
    "Error at the end - OWSlib is complaining about UTF-8\n"
   ]
  },
  {
   "cell_type": "code",
   "execution_count": 1,
   "metadata": {
    "extensions": {
     "jupyter_dashboards": {
      "version": 1,
      "views": {
       "grid_default": {
        "hidden": true
       },
       "report_default": {}
      }
     }
    }
   },
   "outputs": [],
   "source": [
    "from owslib.wps import WebProcessingService, monitorExecution, printInputOutput\n",
    "from os import system\n",
    "import time\n",
    "from owslib.etree import etree"
   ]
  },
  {
   "cell_type": "code",
   "execution_count": null,
   "metadata": {
    "extensions": {
     "jupyter_dashboards": {
      "version": 1,
      "views": {
       "grid_default": {
        "hidden": true
       },
       "report_default": {}
      }
     }
    }
   },
   "outputs": [],
   "source": []
  },
  {
   "cell_type": "code",
   "execution_count": 2,
   "metadata": {
    "extensions": {
     "jupyter_dashboards": {
      "version": 1,
      "views": {
       "grid_default": {
        "hidden": true
       },
       "report_default": {}
      }
     }
    }
   },
   "outputs": [],
   "source": [
    "wps_url = \"http://localhost:8080/geoserver/wps\"\n",
    "# wps_url= \"http://earss1.ornl.gov:80/geoserver/wps\"\n",
    "# wps_url = \"http://localhost:8093/wps\"\n",
    "# wps_url = \"https://publicwiki.deltares.nl/display/OET/WPS\"\n",
    "wps = WebProcessingService(url=wps_url, verbose=False)"
   ]
  },
  {
   "cell_type": "code",
   "execution_count": 3,
   "metadata": {
    "extensions": {
     "jupyter_dashboards": {
      "version": 1,
      "views": {
       "grid_default": {
        "col": 0,
        "height": 4,
        "hidden": false,
        "row": 4,
        "width": 4
       },
       "report_default": {}
      }
     }
    }
   },
   "outputs": [
    {
     "name": "stdout",
     "output_type": "stream",
     "text": [
      "Prototype GeoServer WPS:1.0.0\n"
     ]
    }
   ],
   "source": [
    "print (wps.identification.title + ':' + wps.version)"
   ]
  },
  {
   "cell_type": "code",
   "execution_count": 4,
   "metadata": {
    "extensions": {
     "jupyter_dashboards": {
      "version": 1,
      "views": {
       "grid_default": {
        "col": 4,
        "height": 12,
        "hidden": false,
        "row": 4,
        "width": 4
       },
       "report_default": {}
      }
     }
    }
   },
   "outputs": [],
   "source": [
    "# for process in wps.processes:\n",
    "#     print ('%s : \\t %s' % (process.identifier, process.abstract))"
   ]
  },
  {
   "cell_type": "code",
   "execution_count": 41,
   "metadata": {
    "extensions": {
     "jupyter_dashboards": {
      "version": 1,
      "views": {
       "grid_default": {
        "col": 8,
        "height": 16,
        "hidden": false,
        "row": 4,
        "width": 4
       },
       "report_default": {}
      }
     }
    }
   },
   "outputs": [
    {
     "name": "stdout",
     "output_type": "stream",
     "text": [
      "Inputs\n",
      " identifier=geom, title=geom, abstract=Input geometry, data type=ComplexData\n",
      " Supported Value: mimeType=text/xml; subtype=gml/3.1.1, encoding=None, schema=None\n",
      " Supported Value: mimeType=text/xml; subtype=gml/2.1.2, encoding=None, schema=None\n",
      " Supported Value: mimeType=application/wkt, encoding=None, schema=None\n",
      " Supported Value: mimeType=application/json, encoding=None, schema=None\n",
      " Supported Value: mimeType=application/gml-3.1.1, encoding=None, schema=None\n",
      " Supported Value: mimeType=application/gml-2.1.2, encoding=None, schema=None\n",
      " Default Value: mimeType=text/xml; subtype=gml/3.1.1, encoding=None, schema=None \n",
      " minOccurs=1, maxOccurs=1\n",
      "\n",
      "\n",
      "Outputs\n",
      " identifier=result, title=result, abstract=None, data type=LiteralData\n",
      " Default Value: None \n",
      " reference=None, mimeType=None\n",
      "\n",
      "\n"
     ]
    }
   ],
   "source": [
    "p = wps.describeprocess(identifier='JTS:length')\n",
    "print(\"Inputs\")\n",
    "for input in p.dataInputs:\n",
    "   printInputOutput(input)\n",
    "   print ('\\n')\n",
    "print(\"Outputs\")\n",
    "for output in p.processOutputs:\n",
    "   printInputOutput(output)\n",
    "   print ('\\n')"
   ]
  },
  {
   "cell_type": "code",
   "execution_count": 33,
   "metadata": {},
   "outputs": [],
   "source": [
    "def wrapXML(proces,geom):\n",
    "    xml='<?xml version=\"1.0\" encoding=\"UTF-8\"?><wps:Execute version=\"1.0.0\" service=\"WPS\" xmlns:xsi=\"http://www.w3.org/2001/XMLSchema-instance\" xmlns=\"http://www.opengis.net/wps/1.0.0\" xmlns:wfs=\"http://www.opengis.net/wfs\" xmlns:wps=\"http://www.opengis.net/wps/1.0.0\" xmlns:ows=\"http://www.opengis.net/ows/1.1\" xmlns:gml=\"http://www.opengis.net/gml\" xmlns:ogc=\"http://www.opengis.net/ogc\" xmlns:wcs=\"http://www.opengis.net/wcs/1.1.1\" xmlns:xlink=\"http://www.w3.org/1999/xlink\" xsi:schemaLocation=\"http://www.opengis.net/wps/1.0.0 http://schemas.opengis.net/wps/1.0.0/wpsAll.xsd\">  <ows:Identifier>%s</ows:Identifier><wps:DataInputs><wps:Input><ows:Identifier>geom</ows:Identifier><wps:Data><wps:ComplexData mimeType=\"application/json\"><![CDATA[%s]]></wps:ComplexData></wps:Data></wps:Input></wps:DataInputs><wps:ResponseForm><wps:RawDataOutput><ows:Identifier>result</ows:Identifier></wps:RawDataOutput></wps:ResponseForm></wps:Execute>'%(proces,geom)\n",
    "    return xml.strip()"
   ]
  },
  {
   "cell_type": "code",
   "execution_count": 43,
   "metadata": {
    "extensions": {
     "jupyter_dashboards": {
      "version": 1,
      "views": {
       "grid_default": {
        "col": 0,
        "height": 7,
        "hidden": false,
        "row": 8,
        "width": 4
       },
       "report_default": {}
      }
     }
    }
   },
   "outputs": [
    {
     "name": "stdout",
     "output_type": "stream",
     "text": [
      "200 OK\n",
      "7.382799999999989\n"
     ]
    }
   ],
   "source": [
    "from osgeo import ogr\n",
    "import requests\n",
    "poly = ogr.Geometry(ogr.wkbLinearRing)\n",
    "polygon = [(-102.8184, 39.5273), (-102.8184, 37.418), (-101.2363, 37.418), (-101.2363, 39.5273), (-102.8184, 39.5273)]\n",
    "for i in polygon:    \n",
    "    poly.AddPoint(*i)\n",
    "\n",
    "p=poly.ExportToJson()\n",
    "dowyslania=wrapXML(\"JTS:length\",p)\n",
    "# ExportToWkt()\n",
    "\n",
    "\n",
    "r = requests.post(\"http://185.52.194.216:8080/geoserver/wps?JTS:numGeometries\", data=dowyslania)\n",
    "print(r.status_code, r.reason)\n",
    "print(r.text[:])"
   ]
  },
  {
   "cell_type": "code",
   "execution_count": 38,
   "metadata": {
    "extensions": {
     "jupyter_dashboards": {
      "version": 1,
      "views": {
       "grid_default": {
        "hidden": true
       },
       "report_default": {}
      }
     }
    }
   },
   "outputs": [
    {
     "name": "stdout",
     "output_type": "stream",
     "text": [
      "<Element {http://www.opengis.net/wps/1.0.0}Data at 0x7fb9ef757dc8>\n"
     ]
    }
   ],
   "source": [
    "from owslib.wps import GMLMultiPolygonFeatureCollection\n",
    "from owslib.wps import WebProcessingService, monitorExecution, printInputOutput\n",
    "from os import system\n",
    "import time\n",
    "from owslib.etree import etree\n",
    "wps_url = \"http://localhost:8080/geoserver/wps\"\n",
    "wps = WebProcessingService(url=wps_url, verbose=False)\n",
    "\n",
    "polygon = [(-102.8184, 39.5273), (-102.8184, 37.418), (-101.2363, 37.418), (-101.2363, 39.5273), (-102.8184, 39.5273)]\n",
    "featureCollection = GMLMultiPolygonFeatureCollection( [polygon] )\n",
    "print( featureCollection.getXml())\n",
    "    \n",
    "\n",
    "inputs1 = [ (\"geom\",featureCollection)]\n",
    "\n",
    "\n",
    "\n",
    "# execute = wps.execute(identifier='JTS:numGeometries', inputs=inputs1)"
   ]
  },
  {
   "cell_type": "code",
   "execution_count": null,
   "metadata": {},
   "outputs": [],
   "source": []
  }
 ],
 "metadata": {
  "extensions": {
   "jupyter_dashboards": {
    "activeView": "grid_default",
    "version": 1,
    "views": {
     "grid_default": {
      "cellMargin": 10,
      "defaultCellHeight": 20,
      "maxColumns": 12,
      "name": "grid",
      "type": "grid"
     },
     "report_default": {
      "name": "report",
      "type": "report"
     }
    }
   }
  },
  "kernelspec": {
   "display_name": "Python 3.6 root",
   "language": "python",
   "name": "root"
  },
  "language_info": {
   "codemirror_mode": {
    "name": "ipython",
    "version": 3
   },
   "file_extension": ".py",
   "mimetype": "text/x-python",
   "name": "python",
   "nbconvert_exporter": "python",
   "pygments_lexer": "ipython3",
   "version": "3.6.1"
  }
 },
 "nbformat": 4,
 "nbformat_minor": 2
}
