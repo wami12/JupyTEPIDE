{
 "cells": [
  {
   "cell_type": "markdown",
   "metadata": {},
   "source": [
    "# Inline magic to load IRKernel extension"
   ]
  },
  {
   "cell_type": "code",
   "execution_count": null,
   "metadata": {},
   "outputs": [],
   "source": [
    "%load_ext rpy2.ipython"
   ]
  },
  {
   "cell_type": "markdown",
   "metadata": {},
   "source": [
    "# Process image using R"
   ]
  },
  {
   "cell_type": "code",
   "execution_count": null,
   "metadata": {},
   "outputs": [],
   "source": [
    "%%R\n",
    "library(magick)\n",
    "im1 <- image_read('/eodata/Landsat-5/TM/L1T/2011/07/15/LS05_RMTI_TM__GTC_1P_20110715T093254_20110715T093322_145580_0190_0023_F030/LS05_RMTI_TM__GTC_1P_20110715T093254_20110715T093322_145580_0190_0023_F030.BP.PNG')\n",
    "kern <- matrix(0, ncol = 3, nrow = 3)\n",
    "kern[1, 2] <- 0.25\n",
    "kern[2, c(1, 3)] <- 0.25\n",
    "kern[3, 2] <- 0.25\n",
    "kern\n",
    "img_blurred <- image_convolve(im1, kern)\n",
    "compare<-image_compare(im1,img_blurred)\n",
    "image_write(compare, \"work/compare.png\")\n"
   ]
  },
  {
   "cell_type": "markdown",
   "metadata": {},
   "source": [
    "# Display inline"
   ]
  },
  {
   "cell_type": "code",
   "execution_count": null,
   "metadata": {},
   "outputs": [],
   "source": [
    "%%R\n",
    "grid::grid.raster(compare)"
   ]
  },
  {
   "cell_type": "markdown",
   "metadata": {},
   "source": [
    "# Display on map using Python"
   ]
  },
  {
   "cell_type": "code",
   "execution_count": null,
   "metadata": {},
   "outputs": [],
   "source": [
    "from jupytep.maps.leaflet.layer import ImageLayer\n",
    "layer=ImageLayer()\n",
    "box=layer.get_bbox('/eodata/Landsat-5/TM/L1T/2011/07/15/LS05_RMTI_TM__GTC_1P_20110715T093254_20110715T093322_145580_0190_0023_F030')\n",
    "print(box)\n",
    "layer.add_image_layer('../../../work/compare.png', box, 'Image compare')\n",
    "layer.show_layer()"
   ]
  },
  {
   "cell_type": "code",
   "execution_count": null,
   "metadata": {},
   "outputs": [],
   "source": []
  }
 ],
 "metadata": {
  "kernelspec": {
   "display_name": "Python [conda root]",
   "language": "python",
   "name": "conda-root-py"
  },
  "language_info": {
   "codemirror_mode": {
    "name": "ipython",
    "version": 3
   },
   "file_extension": ".py",
   "mimetype": "text/x-python",
   "name": "python",
   "nbconvert_exporter": "python",
   "pygments_lexer": "ipython3",
   "version": "3.6.6"
  },
  "latex_envs": {
   "LaTeX_envs_menu_present": true,
   "autoclose": false,
   "autocomplete": true,
   "bibliofile": "biblio.bib",
   "cite_by": "apalike",
   "current_citInitial": 1,
   "eqLabelWithNumbers": true,
   "eqNumInitial": 1,
   "hotkeys": {
    "equation": "Ctrl-E",
    "itemize": "Ctrl-I"
   },
   "labels_anchors": false,
   "latex_user_defs": false,
   "report_style_numbering": false,
   "user_envs_cfg": false
  }
 },
 "nbformat": 4,
 "nbformat_minor": 2
}
