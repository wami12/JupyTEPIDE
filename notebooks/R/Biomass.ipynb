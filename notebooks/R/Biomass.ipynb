{
 "cells": [
  {
   "cell_type": "code",
   "execution_count": 4,
   "metadata": {},
   "outputs": [],
   "source": [
    "library(sebkc)\n",
    "# Identify the climatic input data on \n",
    "latitude=11.18 #in decimal degrees\n",
    "Rs= 452 #Average shortwave radiation over the growing period (cal-2day-1)\n",
    "Tday = 26.9 #\tAverage day time difference (oC) over the growing period\n",
    "T24 =25.3 #Average 24 hour mean temperature over the growing period\n",
    "# Gather crop Information\n",
    "crop=\"maize\"\n",
    "plantdate=\"2015-05-1\" #Start date\n",
    "harvestdate=\"2015-08-29\" #end date 120 days\n",
    "HI=0.4 #Harvest index for maize\n",
    "adaptability=3 #crop climate adaptability group III\n",
    "LAI = 4 #Leaf Area Index\n",
    "pointmod=biomass(Tday,T24,Rs,latitude,longitude=NULL,HI,\n",
    "plantdate,harvestdate,c30=0.0108,adaptability=3,LAI=5,crop=NULL)"
   ]
  },
  {
   "cell_type": "code",
   "execution_count": 7,
   "metadata": {},
   "outputs": [
    {
     "data": {
      "text/html": [
       "<dl>\n",
       "\t<dt>$biomass</dt>\n",
       "\t\t<dd>24.5570226473811</dd>\n",
       "\t<dt>$yield</dt>\n",
       "\t\t<dd>9.82280905895244</dd>\n",
       "</dl>\n"
      ],
      "text/latex": [
       "\\begin{description}\n",
       "\\item[\\$biomass] 24.5570226473811\n",
       "\\item[\\$yield] 9.82280905895244\n",
       "\\end{description}\n"
      ],
      "text/markdown": [
       "$biomass\n",
       ":   24.5570226473811\n",
       "$yield\n",
       ":   9.82280905895244\n",
       "\n",
       "\n"
      ],
      "text/plain": [
       "$biomass\n",
       "[1] 24.55702\n",
       "\n",
       "$yield\n",
       "[1] 9.822809\n"
      ]
     },
     "metadata": {},
     "output_type": "display_data"
    }
   ],
   "source": [
    "pointmod"
   ]
  },
  {
   "cell_type": "code",
   "execution_count": 8,
   "metadata": {},
   "outputs": [
    {
     "name": "stderr",
     "output_type": "stream",
     "text": [
      "Warning message in scan(file = file, what = what, sep = sep, quote = quote, dec = dec, :\n",
      "“embedded nul(s) found in input”"
     ]
    },
    {
     "ename": "ERROR",
     "evalue": "Error in .rasterObjectFromFile(x, band = band, objecttype = \"RasterLayer\", : Cannot create RasterLayer object from this file; perhaps you need to install rgdal first\n",
     "output_type": "error",
     "traceback": [
      "Error in .rasterObjectFromFile(x, band = band, objecttype = \"RasterLayer\", : Cannot create RasterLayer object from this file; perhaps you need to install rgdal first\nTraceback:\n",
      "1. landsat578(data = folder, welev = 362)",
      "2. landsat578.default(data = folder, welev = 362)",
      "3. sebkcstack(data, clip = clip)",
      "4. sebkcstack.default(data, clip = clip)",
      "5. raster(paste(folder, grep(\"_B1.\", imagefiles, value = TRUE)[1], \n .     sep = \"/\"))",
      "6. raster(paste(folder, grep(\"_B1.\", imagefiles, value = TRUE)[1], \n .     sep = \"/\"))",
      "7. .local(x, ...)",
      "8. .rasterObjectFromFile(x, band = band, objecttype = \"RasterLayer\", \n .     ...)",
      "9. stop(\"Cannot create RasterLayer object from this file; perhaps you need to install rgdal first\")"
     ]
    }
   ],
   "source": [
    "folder=system.file(\"extdata\",\"stack\",package=\"sebkc\")\n",
    "modauto=landsat578(data=folder, welev=362)\n",
    "Tday=modauto$Ts-273.15 #temperature in degree celcius\n",
    "LAI=modauto$LAI\n",
    "latitude=seq(7.544,7.590,0.001) #for interpolation\n",
    "longitude=seq(-1.211,-1.187,0.001) #for interpolation\n",
    "latitude=latitude[1:length(longitude)] #to make sure they are of the same length\n",
    "spatialmodint=biomass(Tday,T24,Rs,latitude,longitude=longitude,HI,\n",
    "plantdate,harvestdate,c30=0.0108,adaptability=3,LAI=LAI,crop=NULL)\n",
    "# Rs, T24, and HI are interpolated\n",
    "plot(spatialmodint$yield)\n",
    "############## Spatial Estimation  ###########################\n",
    "Rs= 452\n",
    "T24 =25.3\n",
    "HI=0.4 \n",
    "spatialmod=biomass(Tday,T24,Rs,latitude,longitude=longitude,HI,\n",
    "plantdate,harvestdate,c30=0.0108,adaptability=3,\n",
    "LAI=LAI,crop=NULL)\n",
    "plot(spatialmod$yield)\n"
   ]
  },
  {
   "cell_type": "code",
   "execution_count": 9,
   "metadata": {},
   "outputs": [
    {
     "ename": "ERROR",
     "evalue": "Error in library(rgdal): there is no package called ‘rgdal’\n",
     "output_type": "error",
     "traceback": [
      "Error in library(rgdal): there is no package called ‘rgdal’\nTraceback:\n",
      "1. library(rgdal)",
      "2. stop(txt, domain = NA)"
     ]
    }
   ],
   "source": [
    "library(rgdal)"
   ]
  }
 ],
 "metadata": {
  "kernelspec": {
   "display_name": "R",
   "language": "R",
   "name": "ir"
  },
  "language_info": {
   "codemirror_mode": "r",
   "file_extension": ".r",
   "mimetype": "text/x-r-source",
   "name": "R",
   "pygments_lexer": "r",
   "version": "3.4.1"
  },
  "latex_envs": {
   "LaTeX_envs_menu_present": true,
   "autoclose": false,
   "autocomplete": true,
   "bibliofile": "biblio.bib",
   "cite_by": "apalike",
   "current_citInitial": 1,
   "eqLabelWithNumbers": true,
   "eqNumInitial": 1,
   "hotkeys": {
    "equation": "Ctrl-E",
    "itemize": "Ctrl-I"
   },
   "labels_anchors": false,
   "latex_user_defs": false,
   "report_style_numbering": false,
   "user_envs_cfg": false
  }
 },
 "nbformat": 4,
 "nbformat_minor": 2
}
