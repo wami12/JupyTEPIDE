{
 "cells": [
  {
   "cell_type": "code",
   "execution_count": 2,
   "metadata": {},
   "outputs": [],
   "source": [
    "import sys\n",
    "\n",
    "from snappy import GPF\n",
    "from snappy import HashMap\n",
    "from snappy import ProductIO\n",
    "from snappy import jpy\n",
    "from osgeo import gdal\n",
    "\n",
    "import numpy as np\n",
    "import matplotlib.pyplot as plt\n",
    "import matplotlib"
   ]
  },
  {
   "cell_type": "code",
   "execution_count": 4,
   "metadata": {},
   "outputs": [
    {
     "name": "stdout",
     "output_type": "stream",
     "text": [
      "Reading...\n",
      "Product: MER_FRS_1PPEPA20120408_105857_000005063113_00267_52867_0978.N1, 4481 x 11521 pixels, MERIS Full Resolution Geolocated and Calibrated TOA Radiance\n",
      "Bands:   ['radiance_1', 'radiance_2', 'radiance_3', 'radiance_4', 'radiance_5', 'radiance_6', 'radiance_7', 'radiance_8', 'radiance_9', 'radiance_10', 'radiance_11', 'radiance_12', 'radiance_13', 'radiance_14', 'radiance_15', 'l1_flags', 'detector_index']\n"
     ]
    }
   ],
   "source": [
    "file = '/eodata/Envisat/Meris/FRS/2012/04/08/MER_FRS_1PPEPA20120408_105857_000005063113_00267_52867_0978.N1'\n",
    "\n",
    "print(\"Reading...\")\n",
    "product = ProductIO.readProduct(file)\n",
    "width = product.getSceneRasterWidth()\n",
    "height = product.getSceneRasterHeight()\n",
    "name = product.getName()\n",
    "description = product.getDescription()\n",
    "band_names = product.getBandNames()\n",
    "\n",
    "print(\"Product: %s, %d x %d pixels, %s\" % (name, width, height, description))\n",
    "print(\"Bands:   %s\" % (list(band_names)))"
   ]
  },
  {
   "cell_type": "code",
   "execution_count": 5,
   "metadata": {},
   "outputs": [],
   "source": [
    "GPF.getDefaultInstance().getOperatorSpiRegistry().loadOperatorSpis()\n",
    "\n",
    "BandDescriptor = jpy.get_type('org.esa.snap.core.gpf.common.BandMathsOp$BandDescriptor')\n",
    "\n",
    "targetBand1 = BandDescriptor()\n",
    "targetBand1.name = 'band_1'\n",
    "targetBand1.type = 'float32'\n",
    "targetBand1.expression = '(radiance_10 - radiance_7) / (radiance_10 + radiance_7)'\n",
    "\n",
    "targetBand2 = BandDescriptor()\n",
    "targetBand2.name = 'band_2'\n",
    "targetBand2.type = 'float32'\n",
    "targetBand2.expression = '(radiance_9 - radiance_6) / (radiance_9 + radiance_6)'\n",
    "\n",
    "targetBands = jpy.array('org.esa.snap.core.gpf.common.BandMathsOp$BandDescriptor', 2)\n",
    "targetBands[0] = targetBand1\n",
    "targetBands[1] = targetBand2"
   ]
  },
  {
   "cell_type": "code",
   "execution_count": 6,
   "metadata": {},
   "outputs": [
    {
     "name": "stdout",
     "output_type": "stream",
     "text": [
      "Writing...\n",
      "Done.\n"
     ]
    }
   ],
   "source": [
    "parameters = HashMap()\n",
    "parameters.put('targetBands', targetBands)\n",
    "\n",
    "result = GPF.createProduct('BandMaths', parameters, product)\n",
    "\n",
    "print(\"Writing...\")\n",
    "\n",
    "ProductIO.writeProduct(result, 'snappy_bmaths_output', 'GeoTIFF')\n",
    "# ProductIO.writeProduct(result, 'snappy_bmaths_output.dim', 'BEAM-DIMAP') \n",
    "result.closeIO()\n",
    "\n",
    "print(\"Done.\")"
   ]
  },
  {
   "cell_type": "code",
   "execution_count": 7,
   "metadata": {},
   "outputs": [
    {
     "data": {
      "text/plain": [
       "<osgeo.gdal.Dataset; proxy of <Swig Object of type 'GDALDatasetShadow *' at 0x7f42df75fea0> >"
      ]
     },
     "execution_count": 7,
     "metadata": {},
     "output_type": "execute_result"
    }
   ],
   "source": [
    "options_list = ['-ot Byte', '-of JPEG', '-b 1', '-scale'] \n",
    "options_string = \" \".join(options_list)\n",
    "\n",
    "gdal.Translate('snappy_bmaths_output.jpg', 'snappy_bmaths_output.tif', options=options_string)"
   ]
  },
  {
   "cell_type": "code",
   "execution_count": 8,
   "metadata": {},
   "outputs": [
    {
     "name": "stdout",
     "output_type": "stream",
     "text": [
      "org.esa.snap.core.datamodel.Product[name=MER_FRS_1PPEPA20120408_105857_000005063113_00267_52867_0978.N1]\n",
      "63.239086\n",
      "[[63.239086,-15.790602],[30.949018,12.908287]]\n"
     ]
    },
    {
     "data": {
      "text/html": [
       "<script type=\"text/javascript\">Jupytepide.map_addImageLayer(\"snappy_bmaths_output.jpg\",[[63.239086,-15.790602],[30.949018,12.908287]],'Snappy-bmaths',{opacity:'0.8'});</script>"
      ],
      "text/plain": [
       "<IPython.core.display.HTML object>"
      ]
     },
     "metadata": {},
     "output_type": "display_data"
    }
   ],
   "source": [
    "layer=ImageLayer()\n",
    "box=layer.getbb(file)\n",
    "print(box)\n",
    "layer.addImageLayer('snappy_bmaths_output.jpg', box, 'Snappy-bmaths')\n",
    "layer.showLayer()"
   ]
  },
  {
   "cell_type": "code",
   "execution_count": null,
   "metadata": {},
   "outputs": [],
   "source": []
  }
 ],
 "metadata": {
  "kernelspec": {
   "display_name": "Python [default]",
   "language": "python",
   "name": "python3"
  },
  "language_info": {
   "codemirror_mode": {
    "name": "ipython",
    "version": 3
   },
   "file_extension": ".py",
   "mimetype": "text/x-python",
   "name": "python",
   "nbconvert_exporter": "python",
   "pygments_lexer": "ipython3",
   "version": "3.6.5"
  },
  "latex_envs": {
   "LaTeX_envs_menu_present": true,
   "autoclose": false,
   "autocomplete": true,
   "bibliofile": "biblio.bib",
   "cite_by": "apalike",
   "current_citInitial": 1,
   "eqLabelWithNumbers": true,
   "eqNumInitial": 1,
   "hotkeys": {
    "equation": "Ctrl-E",
    "itemize": "Ctrl-I"
   },
   "labels_anchors": false,
   "latex_user_defs": false,
   "report_style_numbering": false,
   "user_envs_cfg": false
  }
 },
 "nbformat": 4,
 "nbformat_minor": 2
}
