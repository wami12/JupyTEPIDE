{
 "cells": [
  {
   "cell_type": "markdown",
   "metadata": {},
   "source": [
    "# Simple usage of a set of MPI engines"
   ]
  },
  {
   "cell_type": "markdown",
   "metadata": {},
   "source": [
    "This example assumes you've started a cluster of N engines (4 in this example) as part\n",
    "of an MPI world.  \n",
    "\n",
    "Our documentation describes [how to create an MPI profile](https://ipyparallel.readthedocs.io/en/stable/process.html#using-ipcluster-in-mpiexec-mpirun-mode)\n",
    "and explains [basic MPI usage of the IPython cluster](https://ipyparallel.readthedocs.io/en/stable/mpi.html).\n",
    "\n",
    "\n",
    "For the simplest possible way to start 4 engines that belong to the same MPI world, \n",
    "you can run this in a terminal:\n",
    "\n",
    "<pre>\n",
    "ipcluster start --engines=MPI -n 4\n",
    "</pre>\n",
    "\n",
    "or start an MPI cluster from the cluster tab if you have one configured.\n",
    "\n",
    "Once the cluster is running, we can connect to it and open a view into it:"
   ]
  },
  {
   "cell_type": "code",
   "execution_count": 1,
   "metadata": {},
   "outputs": [
    {
     "name": "stdout",
     "output_type": "stream",
     "text": [
      "Waiting for connection file: ~/.ipython/profile_default/security/ipcontroller-client.json\n"
     ]
    },
    {
     "ename": "KeyboardInterrupt",
     "evalue": "",
     "output_type": "error",
     "traceback": [
      "\u001b[0;31m---------------------------------------------------------------------------\u001b[0m",
      "\u001b[0;31mKeyboardInterrupt\u001b[0m                         Traceback (most recent call last)",
      "\u001b[0;32m<ipython-input-1-1fdb57f9e36c>\u001b[0m in \u001b[0;36m<module>\u001b[0;34m()\u001b[0m\n\u001b[1;32m      1\u001b[0m \u001b[0;32mimport\u001b[0m \u001b[0mipyparallel\u001b[0m \u001b[0;32mas\u001b[0m \u001b[0mipp\u001b[0m\u001b[0;34m\u001b[0m\u001b[0m\n\u001b[0;32m----> 2\u001b[0;31m \u001b[0mrc\u001b[0m \u001b[0;34m=\u001b[0m \u001b[0mipp\u001b[0m\u001b[0;34m.\u001b[0m\u001b[0mClient\u001b[0m\u001b[0;34m(\u001b[0m\u001b[0;34m)\u001b[0m\u001b[0;34m\u001b[0m\u001b[0m\n\u001b[0m\u001b[1;32m      3\u001b[0m \u001b[0mview\u001b[0m \u001b[0;34m=\u001b[0m \u001b[0mrc\u001b[0m\u001b[0;34m[\u001b[0m\u001b[0;34m:\u001b[0m\u001b[0;34m]\u001b[0m\u001b[0;34m\u001b[0m\u001b[0m\n",
      "\u001b[0;32m/opt/conda/lib/python3.6/site-packages/ipyparallel/client/client.py\u001b[0m in \u001b[0;36m__init__\u001b[0;34m(self, url_file, profile, profile_dir, ipython_dir, context, debug, sshserver, sshkey, password, paramiko, timeout, cluster_id, **extra_args)\u001b[0m\n\u001b[1;32m    386\u001b[0m                     \u001b[0mwaiting_time\u001b[0m \u001b[0;34m=\u001b[0m \u001b[0;36m0.\u001b[0m\u001b[0;34m\u001b[0m\u001b[0m\n\u001b[1;32m    387\u001b[0m                     \u001b[0;32mwhile\u001b[0m \u001b[0mwaiting_time\u001b[0m \u001b[0;34m<\u001b[0m \u001b[0mtimeout\u001b[0m\u001b[0;34m:\u001b[0m\u001b[0;34m\u001b[0m\u001b[0m\n\u001b[0;32m--> 388\u001b[0;31m                         \u001b[0mtime\u001b[0m\u001b[0;34m.\u001b[0m\u001b[0msleep\u001b[0m\u001b[0;34m(\u001b[0m\u001b[0mmin\u001b[0m\u001b[0;34m(\u001b[0m\u001b[0mtimeout\u001b[0m\u001b[0;34m-\u001b[0m\u001b[0mwaiting_time\u001b[0m\u001b[0;34m,\u001b[0m \u001b[0;36m1\u001b[0m\u001b[0;34m)\u001b[0m\u001b[0;34m)\u001b[0m\u001b[0;34m\u001b[0m\u001b[0m\n\u001b[0m\u001b[1;32m    389\u001b[0m                         \u001b[0mwaiting_time\u001b[0m \u001b[0;34m+=\u001b[0m \u001b[0;36m1\u001b[0m\u001b[0;34m\u001b[0m\u001b[0m\n\u001b[1;32m    390\u001b[0m                         \u001b[0;32mif\u001b[0m \u001b[0mos\u001b[0m\u001b[0;34m.\u001b[0m\u001b[0mpath\u001b[0m\u001b[0;34m.\u001b[0m\u001b[0mexists\u001b[0m\u001b[0;34m(\u001b[0m\u001b[0murl_file\u001b[0m\u001b[0;34m)\u001b[0m\u001b[0;34m:\u001b[0m\u001b[0;34m\u001b[0m\u001b[0m\n",
      "\u001b[0;31mKeyboardInterrupt\u001b[0m: "
     ]
    }
   ],
   "source": [
    "import ipyparallel as ipp\n",
    "rc = ipp.Client()\n",
    "view = rc[:]"
   ]
  },
  {
   "cell_type": "markdown",
   "metadata": {},
   "source": [
    "Let's define a simple function that gets the MPI rank from each engine."
   ]
  },
  {
   "cell_type": "code",
   "execution_count": 7,
   "metadata": {},
   "outputs": [],
   "source": [
    "@view.remote(block=True)\n",
    "def mpi_rank():\n",
    "    from mpi4py import MPI\n",
    "    comm = MPI.COMM_WORLD\n",
    "    return comm.Get_rank()"
   ]
  },
  {
   "cell_type": "code",
   "execution_count": 8,
   "metadata": {},
   "outputs": [
    {
     "data": {
      "text/plain": [
       "[0, 0, 0, 0]"
      ]
     },
     "execution_count": 8,
     "metadata": {},
     "output_type": "execute_result"
    }
   ],
   "source": [
    "mpi_rank()"
   ]
  },
  {
   "cell_type": "markdown",
   "metadata": {},
   "source": [
    "To get a mapping of IPython IDs and MPI rank (these do not always match),\n",
    "you can use the get_dict method on AsyncResults."
   ]
  },
  {
   "cell_type": "code",
   "execution_count": 9,
   "metadata": {},
   "outputs": [
    {
     "data": {
      "text/plain": [
       "{0: 0, 1: 0, 2: 0, 3: 0}"
      ]
     },
     "execution_count": 9,
     "metadata": {},
     "output_type": "execute_result"
    }
   ],
   "source": [
    "mpi_rank.block = False\n",
    "ar = mpi_rank()\n",
    "ar.get_dict()"
   ]
  },
  {
   "cell_type": "markdown",
   "metadata": {},
   "source": [
    "With %%px cell magic, the next cell will actually execute *entirely on each engine*:"
   ]
  },
  {
   "cell_type": "code",
   "execution_count": 10,
   "metadata": {},
   "outputs": [
    {
     "data": {
      "text/plain": [
       "{'data': 1, 'rank': 0}"
      ]
     },
     "metadata": {
      "after": [],
      "completed": "2018-06-26T20:40:17.240746",
      "data": {},
      "engine_id": 0,
      "engine_uuid": "5ba88182-0482823bc9599c33fc51f202",
      "error": null,
      "execute_input": "from mpi4py import MPI\n\ncomm = MPI.COMM_WORLD\nsize = comm.Get_size()\nrank = comm.Get_rank()\n\nif rank == 0:\n   data = [(i+1)**2 for i in range(size)]\nelse:\n   data = None\ndata = comm.scatter(data, root=0)\n\nassert data == (rank+1)**2, 'data=%s, rank=%s' % (data, rank)\n{\n    'data': data,\n    'rank': rank,\n}",
      "execute_result": {
       "data": {
        "text/plain": "{'data': 1, 'rank': 0}"
       },
       "execution_count": 2,
       "metadata": {}
      },
      "follow": [],
      "msg_id": "637ca7a0-ead59322b1591808b8672f15",
      "outputs": [],
      "received": "2018-06-26T20:40:17.244443",
      "started": "2018-06-26T20:40:17.194611",
      "status": "ok",
      "stderr": "",
      "stdout": "",
      "submitted": "2018-06-26T20:40:17.188919"
     },
     "output_type": "display_data"
    },
    {
     "data": {
      "text/plain": [
       "{'data': 1, 'rank': 0}"
      ]
     },
     "metadata": {
      "after": [],
      "completed": "2018-06-26T20:40:17.217579",
      "data": {},
      "engine_id": 1,
      "engine_uuid": "41123b42-2e8e45e89fe0361bbaa8640e",
      "error": null,
      "execute_input": "from mpi4py import MPI\n\ncomm = MPI.COMM_WORLD\nsize = comm.Get_size()\nrank = comm.Get_rank()\n\nif rank == 0:\n   data = [(i+1)**2 for i in range(size)]\nelse:\n   data = None\ndata = comm.scatter(data, root=0)\n\nassert data == (rank+1)**2, 'data=%s, rank=%s' % (data, rank)\n{\n    'data': data,\n    'rank': rank,\n}",
      "execute_result": {
       "data": {
        "text/plain": "{'data': 1, 'rank': 0}"
       },
       "execution_count": 2,
       "metadata": {}
      },
      "follow": [],
      "msg_id": "380f654b-9b05b97dfde26868ebc77b99",
      "outputs": [],
      "received": "2018-06-26T20:40:17.226393",
      "started": "2018-06-26T20:40:17.195538",
      "status": "ok",
      "stderr": "",
      "stdout": "",
      "submitted": "2018-06-26T20:40:17.189785"
     },
     "output_type": "display_data"
    },
    {
     "data": {
      "text/plain": [
       "{'data': 1, 'rank': 0}"
      ]
     },
     "metadata": {
      "after": [],
      "completed": "2018-06-26T20:40:17.250420",
      "data": {},
      "engine_id": 2,
      "engine_uuid": "c9e697d4-c5aa50da5c1d6553d1af9ec4",
      "error": null,
      "execute_input": "from mpi4py import MPI\n\ncomm = MPI.COMM_WORLD\nsize = comm.Get_size()\nrank = comm.Get_rank()\n\nif rank == 0:\n   data = [(i+1)**2 for i in range(size)]\nelse:\n   data = None\ndata = comm.scatter(data, root=0)\n\nassert data == (rank+1)**2, 'data=%s, rank=%s' % (data, rank)\n{\n    'data': data,\n    'rank': rank,\n}",
      "execute_result": {
       "data": {
        "text/plain": "{'data': 1, 'rank': 0}"
       },
       "execution_count": 2,
       "metadata": {}
      },
      "follow": [],
      "msg_id": "a0a3192c-e7c1843f3d463c9173fe12fc",
      "outputs": [],
      "received": "2018-06-26T20:40:17.254699",
      "started": "2018-06-26T20:40:17.195426",
      "status": "ok",
      "stderr": "",
      "stdout": "",
      "submitted": "2018-06-26T20:40:17.191447"
     },
     "output_type": "display_data"
    },
    {
     "data": {
      "text/plain": [
       "{'data': 1, 'rank': 0}"
      ]
     },
     "metadata": {
      "after": [],
      "completed": "2018-06-26T20:40:17.236412",
      "data": {},
      "engine_id": 3,
      "engine_uuid": "391a09fc-b5c2110a8a04e79593109896",
      "error": null,
      "execute_input": "from mpi4py import MPI\n\ncomm = MPI.COMM_WORLD\nsize = comm.Get_size()\nrank = comm.Get_rank()\n\nif rank == 0:\n   data = [(i+1)**2 for i in range(size)]\nelse:\n   data = None\ndata = comm.scatter(data, root=0)\n\nassert data == (rank+1)**2, 'data=%s, rank=%s' % (data, rank)\n{\n    'data': data,\n    'rank': rank,\n}",
      "execute_result": {
       "data": {
        "text/plain": "{'data': 1, 'rank': 0}"
       },
       "execution_count": 2,
       "metadata": {}
      },
      "follow": [],
      "msg_id": "4ce93b56-cba949a3183069fd4103deee",
      "outputs": [],
      "received": "2018-06-26T20:40:17.241938",
      "started": "2018-06-26T20:40:17.206442",
      "status": "ok",
      "stderr": "",
      "stdout": "",
      "submitted": "2018-06-26T20:40:17.191891"
     },
     "output_type": "display_data"
    }
   ],
   "source": [
    "%%px\n",
    "from mpi4py import MPI\n",
    "\n",
    "comm = MPI.COMM_WORLD\n",
    "size = comm.Get_size()\n",
    "rank = comm.Get_rank()\n",
    "\n",
    "if rank == 0:\n",
    "   data = [(i+1)**2 for i in range(size)]\n",
    "else:\n",
    "   data = None\n",
    "data = comm.scatter(data, root=0)\n",
    "\n",
    "assert data == (rank+1)**2, 'data=%s, rank=%s' % (data, rank)\n",
    "{\n",
    "    'data': data,\n",
    "    'rank': rank,\n",
    "}"
   ]
  },
  {
   "cell_type": "code",
   "execution_count": null,
   "metadata": {},
   "outputs": [],
   "source": []
  },
  {
   "cell_type": "code",
   "execution_count": null,
   "metadata": {},
   "outputs": [],
   "source": []
  }
 ],
 "metadata": {
  "kernelspec": {
   "display_name": "Python [conda root]",
   "language": "python",
   "name": "conda-root-py"
  },
  "language_info": {
   "codemirror_mode": {
    "name": "ipython",
    "version": 3
   },
   "file_extension": ".py",
   "mimetype": "text/x-python",
   "name": "python",
   "nbconvert_exporter": "python",
   "pygments_lexer": "ipython3",
   "version": "3.6.5"
  },
  "latex_envs": {
   "LaTeX_envs_menu_present": true,
   "autoclose": false,
   "autocomplete": true,
   "bibliofile": "biblio.bib",
   "cite_by": "apalike",
   "current_citInitial": 1,
   "eqLabelWithNumbers": true,
   "eqNumInitial": 1,
   "hotkeys": {
    "equation": "Ctrl-E",
    "itemize": "Ctrl-I"
   },
   "labels_anchors": false,
   "latex_user_defs": false,
   "report_style_numbering": false,
   "user_envs_cfg": false
  }
 },
 "nbformat": 4,
 "nbformat_minor": 1
}
