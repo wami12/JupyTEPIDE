{
 "cells": [
  {
   "cell_type": "code",
   "execution_count": null,
   "metadata": {},
   "outputs": [],
   "source": [
    "import sys\n",
    "import numpy\n",
    "import snappy\n",
    "from snappy import ProductIO\n",
    "from snappy import Product\n",
    "from snappy import Band\n",
    "from PIL import Image\n",
    "from jupytep.common.io import *\n",
    "from jupytep.maps.leaflet.layer import ImageLayer"
   ]
  },
  {
   "cell_type": "code",
   "execution_count": null,
   "metadata": {},
   "outputs": [],
   "source": [
    "jpy = snappy.jpy\n",
    "\n",
    "# More Java type definitions required for image generation\n",
    "Color = jpy.get_type('java.awt.Color')\n",
    "ColorPoint = jpy.get_type('org.esa.snap.core.datamodel.ColorPaletteDef$Point')\n",
    "ColorPaletteDef = jpy.get_type('org.esa.snap.core.datamodel.ColorPaletteDef')\n",
    "ImageInfo = jpy.get_type('org.esa.snap.core.datamodel.ImageInfo')\n",
    "ImageManager = jpy.get_type('org.esa.snap.core.image.ImageManager')\n",
    "JAI = jpy.get_type('javax.media.jai.JAI')\n",
    "\n",
    "# Disable JAI native MediaLib extensions \n",
    "System = jpy.get_type('java.lang.System')\n",
    "System.setProperty('com.sun.media.jai.disableMediaLib', 'true')"
   ]
  },
  {
   "cell_type": "code",
   "execution_count": null,
   "metadata": {},
   "outputs": [],
   "source": [
    "file = '/eodata/Sentinel-2/MSI/L1C/2018/05/21/S2B_MSIL1C_20180521T100029_N0206_R122_T33UXT_20180521T120149.SAFE'\n",
    "product = ProductIO.readProduct(file)\n",
    "band = product.getBand('B2')\n",
    "print(band)"
   ]
  },
  {
   "cell_type": "code",
   "execution_count": null,
   "metadata": {},
   "outputs": [],
   "source": [
    "def write_image(band, points, filename, format):\n",
    "    cpd = ColorPaletteDef(points)\n",
    "    ii = ImageInfo(cpd)\n",
    "    band.setImageInfo(ii)\n",
    "    im = ImageManager.getInstance().createColoredBandImage([band], band.getImageInfo(), 0)\n",
    "    JAI.create(\"filestore\", im, filename, format)"
   ]
  },
  {
   "cell_type": "code",
   "execution_count": null,
   "metadata": {},
   "outputs": [],
   "source": [
    "points = [ColorPoint(0.05, Color.YELLOW), \n",
    "          ColorPoint(0.10, Color.RED), \n",
    "          ColorPoint(0.15, Color.BLUE)]\n",
    "output_file = get_work_dir() + 'snappy_colored_band.png'\n",
    "write_image(band, points, output_file, 'PNG')"
   ]
  },
  {
   "cell_type": "code",
   "execution_count": null,
   "metadata": {},
   "outputs": [],
   "source": [
    "im = Image.open(output_file)\n",
    "nx, ny = im.size\n",
    "im2 = im.resize((int(nx*0.2), int(ny*0.2)), Image.BICUBIC)\n",
    "output_file_res = get_work_dir() + \"snappy_colored_band_res.png\"\n",
    "im2.save(output_file_res)"
   ]
  },
  {
   "cell_type": "code",
   "execution_count": null,
   "metadata": {},
   "outputs": [],
   "source": [
    "layer=ImageLayer()\n",
    "box=layer.get_bbox(file)\n",
    "print(box)\n",
    "png_file_res = \"../../../work/snappy_colored_band_res.png\"\n",
    "layer.add_image_layer(png_file_res, box, 'S2_B2_color')\n",
    "layer.show_layer()"
   ]
  },
  {
   "cell_type": "code",
   "execution_count": null,
   "metadata": {},
   "outputs": [],
   "source": []
  }
 ],
 "metadata": {
  "kernelspec": {
   "display_name": "Python [default]",
   "language": "python",
   "name": "python3"
  },
  "language_info": {
   "codemirror_mode": {
    "name": "ipython",
    "version": 3
   },
   "file_extension": ".py",
   "mimetype": "text/x-python",
   "name": "python",
   "nbconvert_exporter": "python",
   "pygments_lexer": "ipython3",
   "version": "3.6.6"
  },
  "latex_envs": {
   "LaTeX_envs_menu_present": true,
   "autoclose": false,
   "autocomplete": true,
   "bibliofile": "biblio.bib",
   "cite_by": "apalike",
   "current_citInitial": 1,
   "eqLabelWithNumbers": true,
   "eqNumInitial": 1,
   "hotkeys": {
    "equation": "Ctrl-E",
    "itemize": "Ctrl-I"
   },
   "labels_anchors": false,
   "latex_user_defs": false,
   "report_style_numbering": false,
   "user_envs_cfg": false
  }
 },
 "nbformat": 4,
 "nbformat_minor": 2
}
