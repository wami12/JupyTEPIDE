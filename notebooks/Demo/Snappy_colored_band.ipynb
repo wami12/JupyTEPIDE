{
 "cells": [
  {
   "cell_type": "code",
   "execution_count": 6,
   "metadata": {},
   "outputs": [],
   "source": [
    "import sys\n",
    "import numpy\n",
    "import snappy\n",
    "from snappy import ProductIO\n",
    "from snappy import Product\n",
    "from snappy import Band\n",
    "from PIL import Image"
   ]
  },
  {
   "cell_type": "code",
   "execution_count": 7,
   "metadata": {},
   "outputs": [
    {
     "data": {
      "text/plain": [
       "'true'"
      ]
     },
     "execution_count": 7,
     "metadata": {},
     "output_type": "execute_result"
    }
   ],
   "source": [
    "jpy = snappy.jpy\n",
    "\n",
    "# More Java type definitions required for image generation\n",
    "Color = jpy.get_type('java.awt.Color')\n",
    "ColorPoint = jpy.get_type('org.esa.snap.core.datamodel.ColorPaletteDef$Point')\n",
    "ColorPaletteDef = jpy.get_type('org.esa.snap.core.datamodel.ColorPaletteDef')\n",
    "ImageInfo = jpy.get_type('org.esa.snap.core.datamodel.ImageInfo')\n",
    "ImageManager = jpy.get_type('org.esa.snap.core.image.ImageManager')\n",
    "JAI = jpy.get_type('javax.media.jai.JAI')\n",
    "\n",
    "# Disable JAI native MediaLib extensions \n",
    "System = jpy.get_type('java.lang.System')\n",
    "System.setProperty('com.sun.media.jai.disableMediaLib', 'true')"
   ]
  },
  {
   "cell_type": "code",
   "execution_count": 8,
   "metadata": {},
   "outputs": [
    {
     "name": "stdout",
     "output_type": "stream",
     "text": [
      "org.esa.snap.core.datamodel.Band[B2,uint16,10980,10980,1,490.0,130.0,0.0]\n"
     ]
    }
   ],
   "source": [
    "file = '/home/jovyan/shared/eodata/Sentinel-2/MSI/L1C/2018/05/21/S2B_MSIL1C_20180521T100029_N0206_R122_T33UXT_20180521T120149.SAFE'\n",
    "product = ProductIO.readProduct(file)\n",
    "band = product.getBand('B2')\n",
    "print(band)"
   ]
  },
  {
   "cell_type": "code",
   "execution_count": 9,
   "metadata": {},
   "outputs": [],
   "source": [
    "def write_image(band, points, filename, format):\n",
    "    cpd = ColorPaletteDef(points)\n",
    "    ii = ImageInfo(cpd)\n",
    "    band.setImageInfo(ii)\n",
    "    im = ImageManager.getInstance().createColoredBandImage([band], band.getImageInfo(), 0)\n",
    "    JAI.create(\"filestore\", im, filename, format)"
   ]
  },
  {
   "cell_type": "code",
   "execution_count": 10,
   "metadata": {},
   "outputs": [],
   "source": [
    "points = [ColorPoint(0.05, Color.YELLOW), \n",
    "          ColorPoint(0.10, Color.RED), \n",
    "          ColorPoint(0.15, Color.BLUE)]\n",
    "\n",
    "write_image(band, points, 'snappy_colored_band.png', 'PNG')"
   ]
  },
  {
   "cell_type": "code",
   "execution_count": 11,
   "metadata": {},
   "outputs": [
    {
     "name": "stderr",
     "output_type": "stream",
     "text": [
      "/opt/conda/lib/python3.6/site-packages/PIL/Image.py:2546: DecompressionBombWarning: Image size (120560400 pixels) exceeds limit of 89478485 pixels, could be decompression bomb DOS attack.\n",
      "  DecompressionBombWarning)\n"
     ]
    }
   ],
   "source": [
    "im = Image.open(\"snappy_colored_band.png\")\n",
    "nx, ny = im.size\n",
    "im2 = im.resize((int(nx*0.2), int(ny*0.2)), Image.BICUBIC)\n",
    "im2.save(\"snappy_colored_band_res.png\")"
   ]
  },
  {
   "cell_type": "code",
   "execution_count": 12,
   "metadata": {},
   "outputs": [
    {
     "data": {
      "text/html": [
       "<script type=\"text/javascript\">Jupytepide.map_addImageLayer(\"snappy_colored_band_res.png\",[[51.324523,18.077758],[52.341355,16.436121]],'S2_B2_color',{opacity:'0.8'});</script>"
      ],
      "text/plain": [
       "<IPython.core.display.HTML object>"
      ]
     },
     "metadata": {},
     "output_type": "display_data"
    }
   ],
   "source": [
    "layer=ImageLayer()\n",
    "box=layer.getbb(file)\n",
    "layer.addImageLayer('snappy_colored_band_res.png', box, 'S2_B2_color')\n",
    "layer.showLayer()"
   ]
  },
  {
   "cell_type": "code",
   "execution_count": null,
   "metadata": {},
   "outputs": [],
   "source": []
  }
 ],
 "metadata": {
  "kernelspec": {
   "display_name": "Python [default]",
   "language": "python",
   "name": "python3"
  },
  "language_info": {
   "codemirror_mode": {
    "name": "ipython",
    "version": 3
   },
   "file_extension": ".py",
   "mimetype": "text/x-python",
   "name": "python",
   "nbconvert_exporter": "python",
   "pygments_lexer": "ipython3",
   "version": "3.6.5"
  },
  "latex_envs": {
   "LaTeX_envs_menu_present": true,
   "autoclose": false,
   "autocomplete": true,
   "bibliofile": "biblio.bib",
   "cite_by": "apalike",
   "current_citInitial": 1,
   "eqLabelWithNumbers": true,
   "eqNumInitial": 1,
   "hotkeys": {
    "equation": "Ctrl-E",
    "itemize": "Ctrl-I"
   },
   "labels_anchors": false,
   "latex_user_defs": false,
   "report_style_numbering": false,
   "user_envs_cfg": false
  }
 },
 "nbformat": 4,
 "nbformat_minor": 2
}
