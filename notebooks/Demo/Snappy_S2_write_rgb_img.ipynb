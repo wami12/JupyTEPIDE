{
 "cells": [
  {
   "cell_type": "code",
   "execution_count": null,
   "metadata": {},
   "outputs": [],
   "source": [
    "import sys\n",
    "import snappy\n",
    "from snappy import ProductIO, GPF, ProductUtils, ProgressMonitor\n",
    "import numpy\n",
    "from osgeo import gdal\n",
    "from PIL import Image\n",
    "from jupytep.common.io import *\n",
    "from jupytep.maps.leaflet.layer import ImageLayer\n",
    "from jupytep.maps.mapnik.renders import RenderMap\n",
    "from jupytep.maps.geoserver.loader import *\n",
    "from jupytep.maps.content import *"
   ]
  },
  {
   "cell_type": "code",
   "execution_count": null,
   "metadata": {},
   "outputs": [],
   "source": [
    "jpy = snappy.jpy\n",
    "\n",
    "# More Java type definitions required for image generation\n",
    "Color = jpy.get_type('java.awt.Color')\n",
    "ColorPoint = jpy.get_type('org.esa.snap.core.datamodel.ColorPaletteDef$Point')\n",
    "ColorPaletteDef = jpy.get_type('org.esa.snap.core.datamodel.ColorPaletteDef')\n",
    "ImageInfo = jpy.get_type('org.esa.snap.core.datamodel.ImageInfo')\n",
    "ImageLegend = jpy.get_type('org.esa.snap.core.datamodel.ImageLegend')\n",
    "ImageManager = jpy.get_type('org.esa.snap.core.image.ImageManager')\n",
    "JAI = jpy.get_type('javax.media.jai.JAI')\n",
    "RenderedImage = jpy.get_type('java.awt.image.RenderedImage')\n",
    "\n",
    "# Disable JAI native MediaLib extensions \n",
    "System = jpy.get_type('java.lang.System')\n",
    "System.setProperty('com.sun.media.jai.disableMediaLib', 'true')"
   ]
  },
  {
   "cell_type": "code",
   "execution_count": null,
   "metadata": {},
   "outputs": [],
   "source": [
    "def write_rgb_image(bands, filename, format):\n",
    "    image_info = ProductUtils.createImageInfo(bands, True, ProgressMonitor.NULL)\n",
    "    im = ImageManager.getInstance().createColoredBandImage(bands, image_info, 0)\n",
    "    JAI.create(\"filestore\", im, filename, format)"
   ]
  },
  {
   "cell_type": "code",
   "execution_count": null,
   "metadata": {},
   "outputs": [],
   "source": [
    "file = '/eodata/Sentinel-2/MSI/L1C/2018/05/21/S2B_MSIL1C_20180521T100029_N0206_R122_T33UXT_20180521T120149.SAFE'\n",
    "product = ProductIO.readProduct(file)"
   ]
  },
  {
   "cell_type": "code",
   "execution_count": null,
   "metadata": {},
   "outputs": [],
   "source": [
    "red = product.getBand('B4')\n",
    "green = product.getBand('B3')\n",
    "blue = product.getBand('B2')\n",
    "\n",
    "output_file = get_work_dir() + 'snappy_write_S2_rgb.png'\n",
    "image_format = 'PNG'\n",
    "write_rgb_image([red, green, blue], output_file, image_format)"
   ]
  },
  {
   "cell_type": "code",
   "execution_count": null,
   "metadata": {},
   "outputs": [],
   "source": [
    "im = Image.open(output_file)\n",
    "nx, ny = im.size\n",
    "im2 = im.resize((int(nx*0.2), int(ny*0.2)), Image.BICUBIC)\n",
    "output_file_rgb_res = get_work_dir() + 'snappy_write_S2_rgb_res.png'\n",
    "im2.save(output_file_rgb_res)"
   ]
  },
  {
   "cell_type": "code",
   "execution_count": null,
   "metadata": {},
   "outputs": [],
   "source": [
    "layer=ImageLayer()\n",
    "box=layer.get_bbox(file)\n",
    "print(box)\n",
    "layer.add_image_layer(\"../../../work/snappy_write_S2_rgb_res.png\", box, 'S2_RGB_RES')\n",
    "layer.show_layer()"
   ]
  }
 ],
 "metadata": {
  "kernelspec": {
   "display_name": "Python [default]",
   "language": "python",
   "name": "python3"
  },
  "language_info": {
   "codemirror_mode": {
    "name": "ipython",
    "version": 3
   },
   "file_extension": ".py",
   "mimetype": "text/x-python",
   "name": "python",
   "nbconvert_exporter": "python",
   "pygments_lexer": "ipython3",
   "version": "3.6.6"
  },
  "latex_envs": {
   "LaTeX_envs_menu_present": true,
   "autoclose": false,
   "autocomplete": true,
   "bibliofile": "biblio.bib",
   "cite_by": "apalike",
   "current_citInitial": 1,
   "eqLabelWithNumbers": true,
   "eqNumInitial": 1,
   "hotkeys": {
    "equation": "Ctrl-E",
    "itemize": "Ctrl-I"
   },
   "labels_anchors": false,
   "latex_user_defs": false,
   "report_style_numbering": false,
   "user_envs_cfg": false
  }
 },
 "nbformat": 4,
 "nbformat_minor": 2
}
