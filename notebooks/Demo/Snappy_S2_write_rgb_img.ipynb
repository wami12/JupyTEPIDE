{
 "cells": [
  {
   "cell_type": "code",
   "execution_count": 2,
   "metadata": {},
   "outputs": [],
   "source": [
    "import snappy\n",
    "import sys\n",
    "from snappy import (ProductIO, ProductUtils, ProgressMonitor)\n",
    "from PIL import Image"
   ]
  },
  {
   "cell_type": "code",
   "execution_count": 3,
   "metadata": {},
   "outputs": [
    {
     "data": {
      "text/plain": [
       "'true'"
      ]
     },
     "execution_count": 3,
     "metadata": {},
     "output_type": "execute_result"
    }
   ],
   "source": [
    "jpy = snappy.jpy\n",
    "\n",
    "# More Java type definitions required for image generation\n",
    "Color = jpy.get_type('java.awt.Color')\n",
    "ColorPoint = jpy.get_type('org.esa.snap.core.datamodel.ColorPaletteDef$Point')\n",
    "ColorPaletteDef = jpy.get_type('org.esa.snap.core.datamodel.ColorPaletteDef')\n",
    "ImageInfo = jpy.get_type('org.esa.snap.core.datamodel.ImageInfo')\n",
    "ImageLegend = jpy.get_type('org.esa.snap.core.datamodel.ImageLegend')\n",
    "ImageManager = jpy.get_type('org.esa.snap.core.image.ImageManager')\n",
    "JAI = jpy.get_type('javax.media.jai.JAI')\n",
    "RenderedImage = jpy.get_type('java.awt.image.RenderedImage')\n",
    "\n",
    "# Disable JAI native MediaLib extensions \n",
    "System = jpy.get_type('java.lang.System')\n",
    "System.setProperty('com.sun.media.jai.disableMediaLib', 'true')"
   ]
  },
  {
   "cell_type": "code",
   "execution_count": 4,
   "metadata": {},
   "outputs": [],
   "source": [
    "def write_rgb_image(bands, filename, format):\n",
    "    image_info = ProductUtils.createImageInfo(bands, True, ProgressMonitor.NULL)\n",
    "    im = ImageManager.getInstance().createColoredBandImage(bands, image_info, 0)\n",
    "    JAI.create(\"filestore\", im, filename, format)"
   ]
  },
  {
   "cell_type": "code",
   "execution_count": 5,
   "metadata": {},
   "outputs": [],
   "source": [
    "file = '/home/jovyan/shared/eodata/Sentinel-2/MSI/L1C/2018/05/21/S2B_MSIL1C_20180521T100029_N0206_R122_T33UXT_20180521T120149.SAFE'\n",
    "product = ProductIO.readProduct(file)"
   ]
  },
  {
   "cell_type": "code",
   "execution_count": 6,
   "metadata": {},
   "outputs": [],
   "source": [
    "red = product.getBand('B4')\n",
    "green = product.getBand('B3')\n",
    "blue = product.getBand('B2')\n",
    "\n",
    "image_format = 'PNG'\n",
    "write_rgb_image([red, green, blue], 'snappy_write_S2_rgb.png', image_format)"
   ]
  },
  {
   "cell_type": "code",
   "execution_count": 7,
   "metadata": {},
   "outputs": [
    {
     "name": "stderr",
     "output_type": "stream",
     "text": [
      "/opt/conda/lib/python3.6/site-packages/PIL/Image.py:2546: DecompressionBombWarning: Image size (120560400 pixels) exceeds limit of 89478485 pixels, could be decompression bomb DOS attack.\n",
      "  DecompressionBombWarning)\n"
     ]
    }
   ],
   "source": [
    "im = Image.open(\"snappy_write_S2_rgb.png\")\n",
    "nx, ny = im.size\n",
    "im2 = im.resize((int(nx*0.2), int(ny*0.2)), Image.BICUBIC)\n",
    "im2.save(\"snappy_write_S2_rgb_res.png\")"
   ]
  },
  {
   "cell_type": "code",
   "execution_count": 8,
   "metadata": {},
   "outputs": [
    {
     "data": {
      "text/html": [
       "<script type=\"text/javascript\">Jupytepide.map_addImageLayer(\"snappy_write_S2_rgb_res.png\",[[51.324523,18.077758],[52.341355,16.436121]],'S2_RGB',{opacity:'0.8'});</script>"
      ],
      "text/plain": [
       "<IPython.core.display.HTML object>"
      ]
     },
     "metadata": {},
     "output_type": "display_data"
    }
   ],
   "source": [
    "layer=ImageLayer()\n",
    "box=layer.getbb(file)\n",
    "layer.addImageLayer('snappy_write_S2_rgb_res.png', box, 'S2_RGB')\n",
    "layer.showLayer()"
   ]
  },
  {
   "cell_type": "code",
   "execution_count": null,
   "metadata": {},
   "outputs": [],
   "source": []
  }
 ],
 "metadata": {
  "kernelspec": {
   "display_name": "Python [default]",
   "language": "python",
   "name": "python3"
  },
  "language_info": {
   "codemirror_mode": {
    "name": "ipython",
    "version": 3
   },
   "file_extension": ".py",
   "mimetype": "text/x-python",
   "name": "python",
   "nbconvert_exporter": "python",
   "pygments_lexer": "ipython3",
   "version": "3.6.5"
  },
  "latex_envs": {
   "LaTeX_envs_menu_present": true,
   "autoclose": false,
   "autocomplete": true,
   "bibliofile": "biblio.bib",
   "cite_by": "apalike",
   "current_citInitial": 1,
   "eqLabelWithNumbers": true,
   "eqNumInitial": 1,
   "hotkeys": {
    "equation": "Ctrl-E",
    "itemize": "Ctrl-I"
   },
   "labels_anchors": false,
   "latex_user_defs": false,
   "report_style_numbering": false,
   "user_envs_cfg": false
  }
 },
 "nbformat": 4,
 "nbformat_minor": 2
}
