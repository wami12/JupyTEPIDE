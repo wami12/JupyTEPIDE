{
 "cells": [
  {
   "cell_type": "code",
   "execution_count": 3,
   "metadata": {},
   "outputs": [],
   "source": [
    "import snappy\n",
    "from snappy import ProductIO, GPF\n",
    "import numpy\n",
    "from osgeo import gdal\n",
    "from jupytep.common.io import *\n",
    "from jupytep.maps.leaflet.layer import ImageLayer\n",
    "from jupytep.maps.mapnik.renders import RenderMap\n",
    "from jupytep.maps.geoserver.loader import *\n",
    "from jupytep.maps.content import *"
   ]
  },
  {
   "cell_type": "code",
   "execution_count": 4,
   "metadata": {},
   "outputs": [
    {
     "name": "stdout",
     "output_type": "stream",
     "text": [
      "org.esa.s2tbx.dataio.s2.l1c.Sentinel2L1CProductReader[input=org.esa.s2tbx.dataio.VirtualPath@7ef41ca2]\n"
     ]
    }
   ],
   "source": [
    "source_path = '/eodata/Sentinel-2/MSI/L1C/2018/05/21/S2B_MSIL1C_20180521T100029_N0206_R122_T33UXT_20180521T120149.SAFE'\n",
    "source_product = ProductIO.readProduct(source_path)\n",
    "print(source_product.getProductReader())"
   ]
  },
  {
   "cell_type": "code",
   "execution_count": 5,
   "metadata": {},
   "outputs": [
    {
     "name": "stdout",
     "output_type": "stream",
     "text": [
      "Source Product: S2B_MSIL1C_20180521T100029_N0206_R122_T33UXT_20180521T120149, 10980 x 10980 pixels, None\n",
      "Source Bands:   ['B1', 'B2', 'B3', 'B4', 'B5', 'B6', 'B7', 'B8', 'B8A', 'B9', 'B10', 'B11', 'B12', 'view_zenith_mean', 'view_azimuth_mean', 'sun_zenith', 'sun_azimuth', 'view_zenith_B1', 'view_azimuth_B1', 'view_zenith_B2', 'view_azimuth_B2', 'view_zenith_B3', 'view_azimuth_B3', 'view_zenith_B4', 'view_azimuth_B4', 'view_zenith_B5', 'view_azimuth_B5', 'view_zenith_B6', 'view_azimuth_B6', 'view_zenith_B7', 'view_azimuth_B7', 'view_zenith_B8', 'view_azimuth_B8', 'view_zenith_B8A', 'view_azimuth_B8A', 'view_zenith_B9', 'view_azimuth_B9', 'view_zenith_B10', 'view_azimuth_B10', 'view_zenith_B11', 'view_azimuth_B11', 'view_zenith_B12', 'view_azimuth_B12']\n"
     ]
    }
   ],
   "source": [
    "target_dir = get_work_dir()\n",
    "width = source_product.getSceneRasterWidth()\n",
    "height = source_product.getSceneRasterHeight()\n",
    "\n",
    "name = source_product.getName()\n",
    "type = snappy.ProductData.TYPE_INT32\n",
    "description = source_product.getDescription()\n",
    "band_names = source_product.getBandNames()\n",
    "\n",
    "print(\"Source Product: %s, %d x %d pixels, %s\" % (name, width, height, description))\n",
    "print(\"Source Bands:   %s\" % (list(band_names)))\n",
    "\n",
    "target = snappy.Product(source_product.getProductType(), source_product.getProductType(), width, height)\n",
    "snappy.ProductUtils.copyProductNodes(source_product, target)"
   ]
  },
  {
   "cell_type": "code",
   "execution_count": 6,
   "metadata": {},
   "outputs": [
    {
     "name": "stdout",
     "output_type": "stream",
     "text": [
      "org.esa.snap.core.datamodel.Band[B4,uint16,10980,10980,3,665.0,90.0,0.0]\n",
      "org.esa.snap.core.datamodel.Band[_Enhanced,int32,10980,10980,-1,0.0,0.0,0.0]\n",
      "Target Product: S2B_MSIL1C_20180521T100029_N0206_R122_T33UXT_20180521T120149_Enhanced, 10980 x 10980 pixels, None\n",
      "True\n",
      "Done.\n"
     ]
    }
   ],
   "source": [
    "b = source_product.getBand('B4')\n",
    "print(b)\n",
    "\n",
    "target_band = snappy.Band('_Enhanced', type, width, height)\n",
    "print(target_band)\n",
    "snappy.ProductUtils.copyRasterDataNodeProperties(b, target_band)\n",
    "target.addBand(target_band)\n",
    "\n",
    "# target_band = self.target.addBand('Enhanced_VV', snappy.ProductData.TYPE_INT32)\n",
    "\n",
    "target_band.setNoDataValue(numpy.nan)\n",
    "target_band.setNoDataValueUsed(True)\n",
    "\n",
    "r = numpy.zeros(width, numpy.int32)\n",
    "\n",
    "target_data = get_work_dir() + name+'_Enhanced.dim'\n",
    "target.setProductWriter(snappy.ProductIO.getProductWriter('BEAM-DIMAP'))\n",
    "target.writeHeader(target_data)\n",
    "\n",
    "print(\"Target Product: %s, %d x %d pixels, %s\" % (target.getName(), target.getSceneRasterWidth(), target.getSceneRasterHeight(), target.getDescription()))\n",
    "print(target.containsBand('_Enhanced'))\n",
    "target_band.ensureRasterData()\n",
    "\n",
    "# snappy.ProductUtils.copyGeoCoding(self.source, self.target)\n",
    "for y in range(height):\n",
    "    b.readPixels(0, y, width, 1, r)\n",
    "    target_band.setPixels(0, y, width, 1, r)\n",
    "\n",
    "target_tif = target_dir + \"Snappy_8BitStretch\"\n",
    "# snappy.ProductIO.writeProduct(self.target, self.target_dir+'test.dim', 'BEAM-DIMAP')\n",
    "snappy.ProductIO.writeProduct(target, target_tif, 'GeoTIFF')\n",
    "target.closeIO()\n",
    "target_jpg = target_tif + \".jpg\"\n",
    "target_tif = target_tif + \".tif\"\n",
    "print('Done.')"
   ]
  },
  {
   "cell_type": "code",
   "execution_count": 7,
   "metadata": {},
   "outputs": [
    {
     "name": "stdout",
     "output_type": "stream",
     "text": [
      "http://jupytepide-geoserver:8080/geoserver/rest/imports\n",
      "CURL: http://jupytepide-geoserver:8080/geoserver/rest/imports/21/tasks\n",
      "Load tiff id: 0 - DONE\n",
      "Finish import for ID: 21 \n"
     ]
    },
    {
     "data": {
      "text/html": [
       "<script type=\"text/javascript\">Jupytepide.map_addWmsLayer(\"https://try.jupytepide.ga/geoserver/demo/wms\",{layers:'demo:Snappy_8BitStretch',format:'image/png',transparent:'true'},\"Snappy_8BitStretch\");</script>"
      ],
      "text/plain": [
       "<IPython.core.display.HTML object>"
      ]
     },
     "metadata": {},
     "output_type": "display_data"
    }
   ],
   "source": [
    "load_geotif(target_tif)\n",
    "show_on_map(target_tif)"
   ]
  }
 ],
 "metadata": {
  "kernelspec": {
   "display_name": "Python [default]",
   "language": "python",
   "name": "python3"
  },
  "language_info": {
   "codemirror_mode": {
    "name": "ipython",
    "version": 3
   },
   "file_extension": ".py",
   "mimetype": "text/x-python",
   "name": "python",
   "nbconvert_exporter": "python",
   "pygments_lexer": "ipython3",
   "version": "3.6.6"
  },
  "latex_envs": {
   "LaTeX_envs_menu_present": true,
   "autoclose": false,
   "autocomplete": true,
   "bibliofile": "biblio.bib",
   "cite_by": "apalike",
   "current_citInitial": 1,
   "eqLabelWithNumbers": true,
   "eqNumInitial": 1,
   "hotkeys": {
    "equation": "Ctrl-E",
    "itemize": "Ctrl-I"
   },
   "labels_anchors": false,
   "latex_user_defs": false,
   "report_style_numbering": false,
   "user_envs_cfg": false
  }
 },
 "nbformat": 4,
 "nbformat_minor": 2
}
