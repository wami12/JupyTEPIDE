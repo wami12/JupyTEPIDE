{
 "cells": [
  {
   "cell_type": "markdown",
   "metadata": {},
   "source": [
    "# Calculate NDVI using snappy and numpy\n",
    "## Import libraries"
   ]
  },
  {
   "cell_type": "code",
   "execution_count": 1,
   "metadata": {},
   "outputs": [],
   "source": [
    "import snappy\n",
    "import numpy as np\n",
    "import matplotlib.pyplot as plt"
   ]
  },
  {
   "cell_type": "markdown",
   "metadata": {},
   "source": [
    "## Use snappy product reader to open a file"
   ]
  },
  {
   "cell_type": "code",
   "execution_count": 2,
   "metadata": {},
   "outputs": [],
   "source": [
    "infile = '/eodata/Envisat/Meris/FRS/2012/04/08/MER_FRS_1PPEPA20120408_105857_000005063113_00267_52867_0978.N1'\n",
    "reader = snappy.ProductIO.getProductReaderForInput(infile)\n",
    "product = snappy.ProductIO.readProduct(infile)"
   ]
  },
  {
   "cell_type": "markdown",
   "metadata": {},
   "source": [
    "## Store bands of the infile as numpy arrays"
   ]
  },
  {
   "cell_type": "code",
   "execution_count": 3,
   "metadata": {},
   "outputs": [
    {
     "name": "stdout",
     "output_type": "stream",
     "text": [
      "Reading red band\n",
      "4481 11521\n",
      "Reading near infra-red band\n",
      "4481 11521\n"
     ]
    }
   ],
   "source": [
    "print(\"Reading red band\")\n",
    "red = product.getBand('radiance_7')\n",
    "w = red.getRasterWidth()\n",
    "h = red.getRasterHeight()\n",
    "print(w, h)\n",
    "red_data = np.zeros(w * h, np.float32)\n",
    "red.readPixels(0, 0, w, h, red_data)\n",
    "red_data.shape = h, w\n",
    "\n",
    "print(\"Reading near infra-red band\")\n",
    "nir = product.getBand('radiance_13')\n",
    "w = red.getRasterWidth()\n",
    "h = red.getRasterHeight()\n",
    "print(w, h)\n",
    "nir_data = np.zeros(w * h, np.float32)\n",
    "nir.readPixels(0, 0, w, h, nir_data)\n",
    "product.dispose()\n",
    "nir_data.shape = h, w"
   ]
  },
  {
   "cell_type": "markdown",
   "metadata": {},
   "source": [
    "## Calculate NDVI"
   ]
  },
  {
   "cell_type": "code",
   "execution_count": null,
   "metadata": {},
   "outputs": [],
   "source": [
    "ndvi = (nir_data - red_data) / (nir_data + red_data)"
   ]
  },
  {
   "cell_type": "markdown",
   "metadata": {},
   "source": [
    "## Display results"
   ]
  },
  {
   "cell_type": "code",
   "execution_count": null,
   "metadata": {},
   "outputs": [],
   "source": [
    "fig, (ax1, ax2, ax3) = plt.subplots(1, 3)\n",
    "ax1.imshow(nir_data)\n",
    "ax2.imshow(red_data)\n",
    "ax3.imshow(ndvi)\n",
    "ax1.set_title('near infra-red')\n",
    "ax2.set_title('red')\n",
    "ax3.set_title('NDVI')\n",
    "plt.show()"
   ]
  }
 ],
 "metadata": {
  "kernelspec": {
   "display_name": "Python [conda root]",
   "language": "python",
   "name": "conda-root-py"
  },
  "language_info": {
   "codemirror_mode": {
    "name": "ipython",
    "version": 3
   },
   "file_extension": ".py",
   "mimetype": "text/x-python",
   "name": "python",
   "nbconvert_exporter": "python",
   "pygments_lexer": "ipython3",
   "version": "3.6.5"
  },
  "latex_envs": {
   "LaTeX_envs_menu_present": true,
   "autoclose": false,
   "autocomplete": true,
   "bibliofile": "biblio.bib",
   "cite_by": "apalike",
   "current_citInitial": 1,
   "eqLabelWithNumbers": true,
   "eqNumInitial": 1,
   "hotkeys": {
    "equation": "Ctrl-E",
    "itemize": "Ctrl-I"
   },
   "labels_anchors": false,
   "latex_user_defs": false,
   "report_style_numbering": false,
   "user_envs_cfg": false
  }
 },
 "nbformat": 4,
 "nbformat_minor": 1
}
