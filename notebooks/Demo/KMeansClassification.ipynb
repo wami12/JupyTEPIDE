{
 "cells": [
  {
   "cell_type": "markdown",
   "metadata": {},
   "source": [
    "# Import libraries"
   ]
  },
  {
   "cell_type": "code",
   "execution_count": 1,
   "metadata": {},
   "outputs": [],
   "source": [
    "import sys\n",
    "import os\n",
    "import otbApplication"
   ]
  },
  {
   "cell_type": "markdown",
   "metadata": {},
   "source": [
    "# Prepare OTB application"
   ]
  },
  {
   "cell_type": "code",
   "execution_count": 4,
   "metadata": {},
   "outputs": [
    {
     "name": "stdout",
     "output_type": "stream",
     "text": [
      "/eodata/Landsat-5/TM/L1T/2011/07/17/LS05_RKSE_TM__GTC_1P_20110717T092055_20110717T092124_145609_0188_0024_75AC\n"
     ]
    }
   ],
   "source": [
    "KMeansClassification = otbApplication.Registry.CreateApplication(\"KMeansClassification\")\n",
    "%store -r eo_data_path\n",
    "print(eo_data_path)\n",
    "file_path = str(eo_data_path) + '/LS05_RKSE_TM__GTC_1P_20110717T092055_20110717T092124_145609_0188_0024_75AC.TIFF/LT51880242011198ESA00_B4.TIF'\n",
    "KMeansClassification.SetParameterString(\"in\", file_path)\n",
    "KMeansClassification.SetParameterInt(\"ts\", 1000)\n",
    "KMeansClassification.SetParameterInt(\"nc\", 5)\n",
    "KMeansClassification.SetParameterInt(\"maxit\", 1000)\n",
    "KMeansClassification.SetParameterString(\"out\", \"ClassificationFilterOutput.tif\")\n",
    "KMeansClassification.SetParameterOutputImagePixelType(\"out\", 1)"
   ]
  },
  {
   "cell_type": "markdown",
   "metadata": {},
   "source": [
    "# Run"
   ]
  },
  {
   "cell_type": "code",
   "execution_count": 3,
   "metadata": {},
   "outputs": [
    {
     "data": {
      "text/plain": [
       "0"
      ]
     },
     "execution_count": 3,
     "metadata": {},
     "output_type": "execute_result"
    }
   ],
   "source": [
    "KMeansClassification.ExecuteAndWriteOutput()"
   ]
  },
  {
   "cell_type": "code",
   "execution_count": 5,
   "metadata": {},
   "outputs": [],
   "source": [
    "%%python3\n",
    "from osgeo import gdal\n",
    "\n",
    "options_list = [\n",
    "    '-ot Byte',\n",
    "    '-of JPEG',\n",
    "    '-b 1',\n",
    "    '-scale'\n",
    "] \n",
    "options_string = \" \".join(options_list)\n",
    "\n",
    "gdal.Translate('ClassificationFilterOutput.jpg',\n",
    "               'ClassificationFilterOutput.tif',\n",
    "               options=options_string)"
   ]
  },
  {
   "cell_type": "code",
   "execution_count": 6,
   "metadata": {},
   "outputs": [
    {
     "name": "stdout",
     "output_type": "stream",
     "text": [
      "[[50.694500,22.240600],[52.670700,18.883500]]\n"
     ]
    },
    {
     "data": {
      "text/html": [
       "<script type=\"text/javascript\">Jupytepide.map_addImageLayer(\"ClassificationFilterOutput.jpg\",[[50.694500,22.240600],[52.670700,18.883500]],'KMeansClass4',{opacity:'0.8'});</script>"
      ],
      "text/plain": [
       "<IPython.core.display.HTML object>"
      ]
     },
     "metadata": {},
     "output_type": "display_data"
    }
   ],
   "source": [
    "layer=ImageLayer()\n",
    "box=layer.getbb(eo_data_path)\n",
    "print(box)\n",
    "layer.addImageLayer('ClassificationFilterOutput.jpg', box, 'KMeansClass4')\n",
    "layer.showLayer()"
   ]
  },
  {
   "cell_type": "code",
   "execution_count": null,
   "metadata": {},
   "outputs": [],
   "source": []
  }
 ],
 "metadata": {
  "kernelspec": {
   "display_name": "Python 2",
   "language": "python",
   "name": "python2"
  },
  "language_info": {
   "codemirror_mode": {
    "name": "ipython",
    "version": 2
   },
   "file_extension": ".py",
   "mimetype": "text/x-python",
   "name": "python",
   "nbconvert_exporter": "python",
   "pygments_lexer": "ipython2",
   "version": "2.7.15"
  },
  "latex_envs": {
   "LaTeX_envs_menu_present": true,
   "autoclose": false,
   "autocomplete": true,
   "bibliofile": "biblio.bib",
   "cite_by": "apalike",
   "current_citInitial": 1,
   "eqLabelWithNumbers": true,
   "eqNumInitial": 1,
   "hotkeys": {
    "equation": "Ctrl-E",
    "itemize": "Ctrl-I"
   },
   "labels_anchors": false,
   "latex_user_defs": false,
   "report_style_numbering": false,
   "user_envs_cfg": false
  }
 },
 "nbformat": 4,
 "nbformat_minor": 1
}
