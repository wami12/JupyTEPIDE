{
 "cells": [
  {
   "cell_type": "markdown",
   "metadata": {},
   "source": [
    "# Import libraries"
   ]
  },
  {
   "cell_type": "code",
   "execution_count": null,
   "metadata": {},
   "outputs": [],
   "source": [
    "import sys\n",
    "import os\n",
    "import otbApplication"
   ]
  },
  {
   "cell_type": "code",
   "execution_count": null,
   "metadata": {},
   "outputs": [],
   "source": [
    "eo_data_path = \"/eodata/Landsat-5/TM/L1T/2011/07/17/LS05_RKSE_TM__GTC_1P_20110717T092055_20110717T092124_145609_0188_0024_75AC\"\n",
    "%store eo_data_path"
   ]
  },
  {
   "cell_type": "markdown",
   "metadata": {},
   "source": [
    "# Prepare OTB application"
   ]
  },
  {
   "cell_type": "code",
   "execution_count": null,
   "metadata": {},
   "outputs": [],
   "source": [
    "KMeansClassification = otbApplication.Registry.CreateApplication(\"KMeansClassification\")\n",
    "%store -r eo_data_path\n",
    "file_path = str(eo_data_path) + '/LS05_RKSE_TM__GTC_1P_20110717T092055_20110717T092124_145609_0188_0024_75AC.TIFF/LT51880242011198ESA00_B4.TIF'\n",
    "output_file = get_work_dir() + \"ClassificationFilterOutput.tif\"\n",
    "\n",
    "KMeansClassification.SetParameterString(\"in\", file_path)\n",
    "KMeansClassification.SetParameterInt(\"ts\", 1000)\n",
    "KMeansClassification.SetParameterInt(\"nc\", 5)\n",
    "KMeansClassification.SetParameterInt(\"maxit\", 1000)\n",
    "KMeansClassification.SetParameterString(\"out\", output_file)\n",
    "KMeansClassification.SetParameterOutputImagePixelType(\"out\", 1)"
   ]
  },
  {
   "cell_type": "markdown",
   "metadata": {},
   "source": [
    "# Run"
   ]
  },
  {
   "cell_type": "code",
   "execution_count": null,
   "metadata": {},
   "outputs": [],
   "source": [
    "KMeansClassification.ExecuteAndWriteOutput()"
   ]
  },
  {
   "cell_type": "code",
   "execution_count": null,
   "metadata": {},
   "outputs": [],
   "source": [
    "%%python3\n",
    "import os, sys\n",
    "def add_paths():\n",
    "    module_path = os.path.abspath(os.path.join('/opt/var/JupyTEPIDE/sdk'))\n",
    "    if module_path not in sys.path:\n",
    "        sys.path.append(module_path)\n",
    "add_paths()\n",
    "\n",
    "from osgeo import gdal\n",
    "from jupytep.common.io import get_work_dir\n",
    "\n",
    "options_list = [\n",
    "    '-ot Byte',\n",
    "    '-of JPEG',\n",
    "    '-b 1',\n",
    "    '-scale'\n",
    "] \n",
    "options_string = \" \".join(options_list)\n",
    "\n",
    "file_tiff = get_work_dir() + \"ClassificationFilterOutput.tif\"\n",
    "file_jpg = get_work_dir() + \"ClassificationFilterOutput.jpg\"\n",
    "\n",
    "gdal.Translate(file_jpg,\n",
    "               file_tiff,\n",
    "               options=options_string)"
   ]
  },
  {
   "cell_type": "code",
   "execution_count": null,
   "metadata": {},
   "outputs": [],
   "source": [
    "from jupytep.maps.leaflet.layer import ImageLayer \n",
    "layer=ImageLayer()\n",
    "box=layer.get_bbox(eo_data_path)\n",
    "print(box)\n",
    "file_jpg = \"../../../work/ClassificationFilterOutput.jpg\"\n",
    "layer.add_image_layer(file_jpg, box, 'KMeansClass')\n",
    "layer.show_layer()"
   ]
  },
  {
   "cell_type": "code",
   "execution_count": null,
   "metadata": {},
   "outputs": [],
   "source": []
  }
 ],
 "metadata": {
  "kernelspec": {
   "display_name": "Python 2",
   "language": "python",
   "name": "python2"
  },
  "language_info": {
   "codemirror_mode": {
    "name": "ipython",
    "version": 2
   },
   "file_extension": ".py",
   "mimetype": "text/x-python",
   "name": "python",
   "nbconvert_exporter": "python",
   "pygments_lexer": "ipython2",
   "version": "2.7.15"
  },
  "latex_envs": {
   "LaTeX_envs_menu_present": true,
   "autoclose": false,
   "autocomplete": true,
   "bibliofile": "biblio.bib",
   "cite_by": "apalike",
   "current_citInitial": 1,
   "eqLabelWithNumbers": true,
   "eqNumInitial": 1,
   "hotkeys": {
    "equation": "Ctrl-E",
    "itemize": "Ctrl-I"
   },
   "labels_anchors": false,
   "latex_user_defs": false,
   "report_style_numbering": false,
   "user_envs_cfg": false
  }
 },
 "nbformat": 4,
 "nbformat_minor": 1
}
