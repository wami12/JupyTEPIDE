{
 "cells": [
  {
   "cell_type": "markdown",
   "metadata": {},
   "source": [
    "# Calculate SAVI using snappy\n",
    "## Import libraries"
   ]
  },
  {
   "cell_type": "code",
   "execution_count": 1,
   "metadata": {},
   "outputs": [],
   "source": [
    "import numpy\n",
    "from snappy import Product, ProductData, ProductIO, ProductUtils, FlagCoding\n",
    "from jupytep.common.io import *"
   ]
  },
  {
   "cell_type": "markdown",
   "metadata": {},
   "source": [
    "## Read product"
   ]
  },
  {
   "cell_type": "code",
   "execution_count": 2,
   "metadata": {},
   "outputs": [
    {
     "name": "stdout",
     "output_type": "stream",
     "text": [
      "Reading...\n",
      "Product:     S2A_MSIL1C_20170913T024941_N0205_R046_T49MHM_20170913T024944, None\n",
      "Raster size: 10980 x 10980 pixels\n",
      "Start time:  13-SEP-2017 02:49:41.026000\n",
      "End time:    13-SEP-2017 02:49:41.026000\n",
      "Bands:       ['B1', 'B2', 'B3', 'B4', 'B5', 'B6', 'B7', 'B8', 'B8A', 'B9', 'B10', 'B11', 'B12', 'view_zenith_mean', 'view_azimuth_mean', 'sun_zenith', 'sun_azimuth', 'view_zenith_B1', 'view_azimuth_B1', 'view_zenith_B2', 'view_azimuth_B2', 'view_zenith_B3', 'view_azimuth_B3', 'view_zenith_B4', 'view_azimuth_B4', 'view_zenith_B5', 'view_azimuth_B5', 'view_zenith_B6', 'view_azimuth_B6', 'view_zenith_B7', 'view_azimuth_B7', 'view_zenith_B8', 'view_azimuth_B8', 'view_zenith_B8A', 'view_azimuth_B8A', 'view_zenith_B9', 'view_azimuth_B9', 'view_zenith_B10', 'view_azimuth_B10', 'view_zenith_B11', 'view_azimuth_B11', 'view_zenith_B12', 'view_azimuth_B12']\n"
     ]
    }
   ],
   "source": [
    "# file = '/eodata/Sentinel-2/MSI/L1C/2017/09/14/S2A_MSIL1C_20170914T033531_N0205_R061_T51VUJ_20170914T033641.SAFE'\n",
    "file = '/eodata/Sentinel-2/MSI/L1C/2017/09/13/S2A_MSIL1C_20170913T024941_N0205_R046_T49MHM_20170913T024944.SAFE/'\n",
    "L=0.5\n",
    "\n",
    "print(\"Reading...\")\n",
    "product = ProductIO.readProduct(file)\n",
    "width = product.getSceneRasterWidth()\n",
    "height = product.getSceneRasterHeight()\n",
    "name = product.getName()\n",
    "description = product.getDescription()\n",
    "band_names = product.getBandNames()\n",
    "\n",
    "print(\"Product:     %s, %s\" % (name, description))\n",
    "print(\"Raster size: %d x %d pixels\" % (width, height))\n",
    "print(\"Start time:  \" + str(product.getStartTime()))\n",
    "print(\"End time:    \" + str(product.getEndTime()))\n",
    "print(\"Bands:       %s\" % (list(band_names)))\n",
    "\n",
    "\n",
    "b7 = product.getBand('B4')\n",
    "b10 = product.getBand('B8')"
   ]
  },
  {
   "cell_type": "markdown",
   "metadata": {},
   "source": [
    "## Calculate SAVI and write product"
   ]
  },
  {
   "cell_type": "code",
   "execution_count": 3,
   "metadata": {},
   "outputs": [
    {
     "name": "stdout",
     "output_type": "stream",
     "text": [
      "Writing...\n",
      "Done.\n"
     ]
    }
   ],
   "source": [
    "saviProduct = Product('savi', 'savi', width, height)\n",
    "saviBand = saviProduct.addBand('savi', ProductData.TYPE_FLOAT32)\n",
    "saviFlagsBand = saviProduct.addBand('savi_flags', ProductData.TYPE_UINT8)\n",
    "writer = ProductIO.getProductWriter('BEAM-DIMAP')\n",
    "\n",
    "ProductUtils.copyGeoCoding(product, saviProduct)\n",
    "\n",
    "saviFlagCoding = FlagCoding('savi_flags')\n",
    "saviFlagCoding.addFlag(\"savi_LOW\", 1, \"savi below 0\")\n",
    "saviFlagCoding.addFlag(\"savi_HIGH\", 2, \"savi above 1\")\n",
    "group = saviProduct.getFlagCodingGroup()\n",
    "group.add(saviFlagCoding)\n",
    "\n",
    "saviFlagsBand.setSampleCoding(saviFlagCoding)\n",
    "\n",
    "output_file = get_work_dir() + 'snappy_savi_output.dim'\n",
    "saviProduct.setProductWriter(writer)\n",
    "saviProduct.writeHeader(output_file)\n",
    "\n",
    "r7 = numpy.zeros(width, dtype=numpy.float32)\n",
    "r10 = numpy.zeros(width, dtype=numpy.float32)\n",
    "\n",
    "print(\"Writing...\")\n",
    "\n",
    "for y in range(height):\n",
    "    #print(\"processing line \", y, \" of \", height)\n",
    "    r7 = b7.readPixels(0, y, width, 1, r7)\n",
    "    r10 = b10.readPixels(0, y, width, 1, r10)\n",
    "    savi = (r10 - r7) / (r10 + r7+L)\n",
    "    saviBand.writePixels(0, y, width, 1, savi)\n",
    "    saviLow = savi < 0.0\n",
    "    saviHigh = savi > 1.0\n",
    "    saviFlags = numpy.array(saviLow + 2 * saviHigh, dtype=numpy.int32)\n",
    "    saviFlagsBand.writePixels(0, y, width, 1, saviFlags)\n",
    "\n",
    "saviProduct.closeIO()\n",
    "\n",
    "print(\"Done.\")"
   ]
  },
  {
   "cell_type": "code",
   "execution_count": null,
   "metadata": {},
   "outputs": [],
   "source": []
  }
 ],
 "metadata": {
  "kernelspec": {
   "display_name": "Python [default]",
   "language": "python",
   "name": "python3"
  },
  "language_info": {
   "codemirror_mode": {
    "name": "ipython",
    "version": 3
   },
   "file_extension": ".py",
   "mimetype": "text/x-python",
   "name": "python",
   "nbconvert_exporter": "python",
   "pygments_lexer": "ipython3",
   "version": "3.6.6"
  },
  "latex_envs": {
   "LaTeX_envs_menu_present": true,
   "autoclose": false,
   "autocomplete": true,
   "bibliofile": "biblio.bib",
   "cite_by": "apalike",
   "current_citInitial": 1,
   "eqLabelWithNumbers": true,
   "eqNumInitial": 1,
   "hotkeys": {
    "equation": "Ctrl-E",
    "itemize": "Ctrl-I"
   },
   "labels_anchors": false,
   "latex_user_defs": false,
   "report_style_numbering": false,
   "user_envs_cfg": false
  }
 },
 "nbformat": 4,
 "nbformat_minor": 1
}
