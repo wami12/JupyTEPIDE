{
 "cells": [
  {
   "cell_type": "code",
   "execution_count": 1,
   "metadata": {},
   "outputs": [],
   "source": [
    "import snappy\n",
    "import sys\n",
    "from snappy import (ProductIO, ProductUtils, ProgressMonitor)\n",
    "import snappy\n",
    "from snappy import ProductIO, GPF\n",
    "import numpy\n",
    "from PIL import Image\n",
    "from osgeo import gdal\n",
    "from jupytep.common.io import *\n",
    "from jupytep.maps.leaflet.layer import ImageLayer\n",
    "from jupytep.maps.mapnik.renders import RenderMap\n",
    "from jupytep.maps.geoserver.loader import *\n",
    "from jupytep.maps.content import *"
   ]
  },
  {
   "cell_type": "code",
   "execution_count": 2,
   "metadata": {},
   "outputs": [
    {
     "data": {
      "text/plain": [
       "'true'"
      ]
     },
     "execution_count": 2,
     "metadata": {},
     "output_type": "execute_result"
    }
   ],
   "source": [
    "jpy = snappy.jpy\n",
    "\n",
    "# More Java type definitions required for image generation\n",
    "Color = jpy.get_type('java.awt.Color')\n",
    "ColorPoint = jpy.get_type('org.esa.snap.core.datamodel.ColorPaletteDef$Point')\n",
    "ColorPaletteDef = jpy.get_type('org.esa.snap.core.datamodel.ColorPaletteDef')\n",
    "ImageInfo = jpy.get_type('org.esa.snap.core.datamodel.ImageInfo')\n",
    "ImageLegend = jpy.get_type('org.esa.snap.core.datamodel.ImageLegend')\n",
    "ImageManager = jpy.get_type('org.esa.snap.core.image.ImageManager')\n",
    "JAI = jpy.get_type('javax.media.jai.JAI')\n",
    "RenderedImage = jpy.get_type('java.awt.image.RenderedImage')\n",
    "\n",
    "# Disable JAI native MediaLib extensions \n",
    "System = jpy.get_type('java.lang.System')\n",
    "System.setProperty('com.sun.media.jai.disableMediaLib', 'true')"
   ]
  },
  {
   "cell_type": "code",
   "execution_count": 3,
   "metadata": {},
   "outputs": [],
   "source": [
    "def write_image(band, filename, format):\n",
    "    im = ImageManager.getInstance().createColoredBandImage([band], band.getImageInfo(), 0)\n",
    "    JAI.create(\"filestore\", im, filename, format)\n",
    "\n",
    "def write_rgb_image(bands, filename, format):\n",
    "    image_info = ProductUtils.createImageInfo(bands, True, ProgressMonitor.NULL)\n",
    "    im = ImageManager.getInstance().createColoredBandImage(bands, image_info, 0)\n",
    "    JAI.create(\"filestore\", im, filename, format)"
   ]
  },
  {
   "cell_type": "code",
   "execution_count": 2,
   "metadata": {},
   "outputs": [
    {
     "name": "stdout",
     "output_type": "stream",
     "text": [
      "org.esa.snap.core.datamodel.Band[radiance_13,uint16,4481,11585,12,864.87604,20.047,953.5812]\n"
     ]
    }
   ],
   "source": [
    "file = '/eodata/Envisat/Meris/FRS/2011/09/25/MER_FRS_1PPEPA20110925_090423_000005093107_00036_50050_5197.N1'\n",
    "\n",
    "product = ProductIO.readProduct(file)\n",
    "band = product.getBand('radiance_13')\n",
    "print(band)"
   ]
  },
  {
   "cell_type": "code",
   "execution_count": 5,
   "metadata": {},
   "outputs": [],
   "source": [
    "# The colour palette assigned to pixel values 0, 50, 100 in the band's geophysical units\n",
    "points = [ColorPoint(0.0, Color.YELLOW), \n",
    "          ColorPoint(50.0, Color.RED), \n",
    "          ColorPoint(100.0, Color.BLUE)]\n",
    "cpd = ColorPaletteDef(points)\n",
    "ii = ImageInfo(cpd)\n",
    "band.setImageInfo(ii)\n",
    "\n",
    "output_file = get_work_dir() + 'snappy_write_image.png'\n",
    "image_format = 'PNG'\n",
    "write_image(band, output_file, image_format)"
   ]
  },
  {
   "cell_type": "code",
   "execution_count": 6,
   "metadata": {},
   "outputs": [
    {
     "data": {
      "text/plain": [
       "javax.media.jai.RenderedOp(objectRef=0x4916810)"
      ]
     },
     "execution_count": 6,
     "metadata": {},
     "output_type": "execute_result"
    }
   ],
   "source": [
    "legend = ImageLegend(band.getImageInfo(), band)\n",
    "legend.setHeaderText(band.getName())\n",
    "legend_image = legend.createImage()\n",
    "\n",
    "# This cast is need because otherwise jpy can't evaluate which method to call\n",
    "# This is considered as an issue of jpy (https://github.com/bcdev/jpy/issues/89)\n",
    "rendered_legend_image = jpy.cast(legend_image, RenderedImage)\n",
    "legend_file =  get_work_dir() + 'snappy_write_image_legend.png'\n",
    "JAI.create(\"filestore\", rendered_legend_image, legend_file, image_format)"
   ]
  },
  {
   "cell_type": "code",
   "execution_count": 7,
   "metadata": {},
   "outputs": [],
   "source": [
    "red = product.getBand('radiance_7')\n",
    "green = product.getBand('radiance_5')\n",
    "blue = product.getBand('radiance_3')\n",
    "\n",
    "output_file_rgb = get_work_dir() + 'snappy_write_image_rgb.png'\n",
    "write_rgb_image([red, green, blue], output_file_rgb, image_format)"
   ]
  },
  {
   "cell_type": "code",
   "execution_count": 10,
   "metadata": {},
   "outputs": [],
   "source": [
    "im = Image.open(output_file_rgb)\n",
    "nx, ny = im.size\n",
    "im2 = im.resize((int(nx*0.2), int(ny*0.2)), Image.BICUBIC)\n",
    "output_file_rgb_res = get_work_dir() + 'snappy_write_image_rgb_res.png'\n",
    "im2.save(\"snappy_write_image_rgb_res.png\")"
   ]
  },
  {
   "cell_type": "code",
   "execution_count": 4,
   "metadata": {},
   "outputs": [
    {
     "name": "stdout",
     "output_type": "stream",
     "text": [
      "org.esa.snap.core.datamodel.Product[name=MER_FRS_1PPEPA20110925_090423_000005093107_00036_50050_5197.N1]\n",
      "63.320927999999995\n",
      "[[63.320928,12.590843],[30.865323,41.405445]]\n"
     ]
    },
    {
     "data": {
      "text/html": [
       "<script type=\"text/javascript\">Jupytepide.map_addImageLayer(\"/home/jovyan/work/../../../work/snappy_write_image_rgb_res.png\",[[63.320928,12.590843],[30.865323,41.405445]],'S2_B2',{opacity:'0.8'});</script>"
      ],
      "text/plain": [
       "<IPython.core.display.HTML object>"
      ]
     },
     "metadata": {},
     "output_type": "display_data"
    }
   ],
   "source": [
    "layer=ImageLayer()\n",
    "box=layer.get_bbox(file)\n",
    "print(box)\n",
    "png_file_rgb_res = get_work_dir() + '../../../work/snappy_write_image_rgb_res.png'\n",
    "layer.add_image_layer(png_file_rgb_res, box, 'S2_B2')\n",
    "layer.show_layer()"
   ]
  },
  {
   "cell_type": "code",
   "execution_count": null,
   "metadata": {},
   "outputs": [],
   "source": []
  }
 ],
 "metadata": {
  "kernelspec": {
   "display_name": "Python [default]",
   "language": "python",
   "name": "python3"
  },
  "language_info": {
   "codemirror_mode": {
    "name": "ipython",
    "version": 3
   },
   "file_extension": ".py",
   "mimetype": "text/x-python",
   "name": "python",
   "nbconvert_exporter": "python",
   "pygments_lexer": "ipython3",
   "version": "3.6.6"
  },
  "latex_envs": {
   "LaTeX_envs_menu_present": true,
   "autoclose": false,
   "autocomplete": true,
   "bibliofile": "biblio.bib",
   "cite_by": "apalike",
   "current_citInitial": 1,
   "eqLabelWithNumbers": true,
   "eqNumInitial": 1,
   "hotkeys": {
    "equation": "Ctrl-E",
    "itemize": "Ctrl-I"
   },
   "labels_anchors": false,
   "latex_user_defs": false,
   "report_style_numbering": false,
   "user_envs_cfg": false
  }
 },
 "nbformat": 4,
 "nbformat_minor": 2
}
