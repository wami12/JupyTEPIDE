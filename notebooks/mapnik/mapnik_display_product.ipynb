{
 "cells": [
  {
   "cell_type": "markdown",
   "metadata": {
    "collapsed": true
   },
   "source": [
    "# Example of using mapnik to display product or processing result"
   ]
  },
  {
   "cell_type": "code",
   "execution_count": 4,
   "metadata": {},
   "outputs": [],
   "source": [
    "import mapnik\n",
    "\n",
    "class Mapnik:\n",
    "    @staticmethod\n",
    "    def generate_thumb(infile, resolution, outfile=\"mapnik_tmp.png\"):\n",
    "        symb = mapnik.RasterSymbolizer()\n",
    "        rule = mapnik.Rule()\n",
    "        rule.symbols.append(symb)\n",
    "        style = mapnik.Style()\n",
    "        style.rules.append(rule)\n",
    "        layer = mapnik.Layer(\"mapLayer\")\n",
    "        layer.datasource = mapnik.Gdal(file=infile)\n",
    "        layer.styles.append(\"mapStyle\")\n",
    "        width, height = resolution\n",
    "        mapnikmap = mapnik.Map(width, height)\n",
    "        mapnikmap.append_style(\"mapStyle\", style)\n",
    "        mapnikmap.layers.append(layer)\n",
    "        mapnikmap.zoom_all()\n",
    "        mapnik.render_to_file(mapnikmap, outfile)"
   ]
  },
  {
   "cell_type": "markdown",
   "metadata": {},
   "source": [
    "## Select file to display"
   ]
  },
  {
   "cell_type": "code",
   "execution_count": 22,
   "metadata": {},
   "outputs": [],
   "source": [
    "product='/eodata-demo/Landsat-5/TM/L1G/1984/04/06/LS05_RFUI_TM__GEO_1P_19840406T105359_19840406T105428_000524_0207_0018_654F'\n",
    "file='/eodata-demo/Landsat-5/TM/L1G/1984/04/06/LS05_RFUI_TM__GEO_1P_19840406T105359_19840406T105428_000524_0207_0018_654F/LS05_RFUI_TM__GEO_1P_19840406T105359_19840406T105428_000524_0207_0018_654F.TIFF/LT52070181984097ESA00_B1.TIF'"
   ]
  },
  {
   "cell_type": "markdown",
   "metadata": {},
   "source": [
    "## Create smaller image to display on Leaflet\n",
    "Use function: Mapnik.generate_thumb(infile,(resolutionx,resolutiony),outfile=\"mapnik_tmp.png\")"
   ]
  },
  {
   "cell_type": "code",
   "execution_count": 9,
   "metadata": {},
   "outputs": [],
   "source": [
    "Mapnik.generate_thumb(file,(800,600))"
   ]
  },
  {
   "cell_type": "markdown",
   "metadata": {},
   "source": [
    "## Show on Leaflet"
   ]
  },
  {
   "cell_type": "code",
   "execution_count": 23,
   "metadata": {},
   "outputs": [
    {
     "name": "stdout",
     "output_type": "stream",
     "text": [
      "[[59.043800,-2.071110],[61.114800,-6.222750]]\n"
     ]
    },
    {
     "data": {
      "text/html": [
       "<script type=\"text/javascript\">Jupytepide.map_addImageLayer(\"mapnik_tmp.png\",[[59.043800,-2.071110],[61.114800,-6.222750]],'Layer_name',{opacity:'0.8'});</script>"
      ],
      "text/plain": [
       "<IPython.core.display.HTML object>"
      ]
     },
     "metadata": {},
     "output_type": "display_data"
    }
   ],
   "source": [
    "layer=ImageLayer()\n",
    "box=layer.getbb(product)\n",
    "print box\n",
    "layer.addImageLayer('mapnik_tmp.png', box, 'Layer_name')\n",
    "layer.showLayer()"
   ]
  }
 ],
 "metadata": {
  "kernelspec": {
   "display_name": "Python [conda env:python27]",
   "language": "python",
   "name": "conda-env-python27-py"
  },
  "language_info": {
   "codemirror_mode": {
    "name": "ipython",
    "version": 2
   },
   "file_extension": ".py",
   "mimetype": "text/x-python",
   "name": "python",
   "nbconvert_exporter": "python",
   "pygments_lexer": "ipython2",
   "version": "2.7.14"
  },
  "latex_envs": {
   "LaTeX_envs_menu_present": true,
   "autoclose": false,
   "autocomplete": true,
   "bibliofile": "biblio.bib",
   "cite_by": "apalike",
   "current_citInitial": 1,
   "eqLabelWithNumbers": true,
   "eqNumInitial": 1,
   "hotkeys": {
    "equation": "Ctrl-E",
    "itemize": "Ctrl-I"
   },
   "labels_anchors": false,
   "latex_user_defs": false,
   "report_style_numbering": false,
   "user_envs_cfg": false
  }
 },
 "nbformat": 4,
 "nbformat_minor": 1
}
