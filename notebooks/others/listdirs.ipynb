{
 "cells": [
  {
   "cell_type": "markdown",
   "metadata": {
    "extensions": {
     "jupyter_dashboards": {
      "version": 1.0,
      "views": {
       "grid_default": {},
       "report_default": {
        "hidden": false
       }
      }
     }
    }
   },
   "source": [
    "# Select product"
   ]
  },
  {
   "cell_type": "code",
   "execution_count": 1,
   "metadata": {
    "extensions": {
     "jupyter_dashboards": {
      "version": 1.0,
      "views": {
       "grid_default": {
        "col": 0.0,
        "height": 16.0,
        "hidden": false,
        "row": 0.0,
        "width": 4.0
       },
       "report_default": {
        "hidden": false
       }
      }
     }
    },
    "scrolled": true
   },
   "outputs": [
    {
     "data": {},
     "metadata": {},
     "output_type": "display_data"
    }
   ],
   "source": [
    "import ipywidgets as widgets\n",
    "from ipywidgets import DatePicker\n",
    "from IPython.display import display\n",
    "from os.path import join, isdir, isfile\n",
    "from os import listdir,walk\n",
    "\n",
    "path=['/eodata','','','','','','','','','','','','']\n",
    "\n",
    "def getN1Corners(path):\n",
    "    import subprocess    \n",
    "    return [float(x) for x in str(subprocess.Popen(['/opt/scripts/forN1.py',path],stdout=subprocess.PIPE).communicate()[0]).split(\";\")[1:-1]]\n",
    "\n",
    "def saveN1image(path):\n",
    "    import subprocess    \n",
    "    subprocess.Popen(['/opt/scripts/saveN1.py',path],stdout=subprocess.PIPE).communicate()\n",
    "    \n",
    "\n",
    "\n",
    "label=widgets.Label(value=path[0])\n",
    "plotButton=widgets.Button(description=\"Show preview\")\n",
    "x=widgets.Dropdown(\n",
    "    options=['None','Envisat','Landsat-5','Landsat-7','Landsat-8','Sentinel-1','Sentinel-2','Sentinel-3'],\n",
    "    description='Mission:',\n",
    "    value='None',\n",
    "    disabled=False,\n",
    ")\n",
    "y=widgets.Dropdown(\n",
    "    options=['None'],\n",
    "    description='Instrument:',\n",
    "    disabled=False,\n",
    ")\n",
    "processingMode=widgets.Dropdown(\n",
    "    options=['None'],\n",
    "    description='Processing Mode:',\n",
    "    disabled=False,\n",
    ")\n",
    "\n",
    "year=widgets.Dropdown(\n",
    "    options=['None'],\n",
    "    description='Year:',\n",
    "    disabled=False,\n",
    ")\n",
    "\n",
    "month=widgets.Dropdown(\n",
    "    options=['None'],\n",
    "    description='Month:',\n",
    "    disabled=False,\n",
    ")\n",
    "\n",
    "day=widgets.Dropdown(\n",
    "    options=['None'],\n",
    "    description='Days:',\n",
    "    disabled=False,\n",
    ")\n",
    "\n",
    "productName=widgets.Dropdown(\n",
    "    options=['None'],\n",
    "    description='Product name:',\n",
    "    disabled=False,\n",
    ")\n",
    "\n",
    "files=widgets.Dropdown(\n",
    "    options=['None'],\n",
    "    description='Files:',\n",
    "    disabled=False,\n",
    ")\n",
    "\n",
    "pp=widgets.Image(\n",
    "    width=300,\n",
    "    height=300,\n",
    ")\n",
    "\n",
    "def joinPath(i):\n",
    "    global path\n",
    "    return join(*path[:i+1])\n",
    "    \n",
    "def getMetadata(filename):\n",
    "    with open(filename,'r') as f:\n",
    "        data=f.readlines()\n",
    "        f.close()\n",
    "   \n",
    "    \n",
    "def fieldChange(*args): \n",
    "    global path\n",
    "    if args[0]['owner'].description=='Mission:':\n",
    "        path[1]=x.value\n",
    "        inpath=joinPath(1)\n",
    "        dirs=sorted(listdir(inpath))\n",
    "        dirs=[x for x in dirs if isdir(join(inpath,x))]                \n",
    "        y.options=['']\n",
    "        y.options=dirs\n",
    "    elif args[0]['owner'].description=='Instrument:':\n",
    "        path[2]=y.value\n",
    "        inpath=joinPath(2)\n",
    "        dirs=sorted(listdir(inpath))\n",
    "        dirs=[x for x in dirs if isdir(join(inpath,x))]                         \n",
    "        processingMode.options=['']\n",
    "        processingMode.options=dirs        \n",
    "    elif args[0]['owner'].description=='Processing Mode:':\n",
    "        path[3]=processingMode.value\n",
    "        inpath=joinPath(3)\n",
    "        dirs=sorted(listdir(inpath))\n",
    "        dirs=[x for x in dirs if isdir(join(inpath,x))]        \n",
    "        year.options=['']\n",
    "        year.options=dirs\n",
    "    elif args[0]['owner'].description=='Year:':\n",
    "        path[4]=year.value\n",
    "        inpath=joinPath(4)\n",
    "        dirs=sorted(listdir(inpath))\n",
    "        dirs=[x for x in dirs if isdir(join(inpath,x))]        \n",
    "        month.options=['']\n",
    "        month.options=dirs\n",
    "    elif args[0]['owner'].description=='Month:':\n",
    "        path[5]=month.value\n",
    "        inpath=joinPath(5)\n",
    "        dirs=sorted(listdir(inpath))\n",
    "        dirs=[x for x in dirs if isdir(join(inpath,x))]        \n",
    "        day.options=['']\n",
    "        day.options=dirs\n",
    "    elif args[0]['owner'].description=='Days:':\n",
    "        path[6]=day.value\n",
    "        inpath=joinPath(6)\n",
    "        dirs=sorted(listdir(inpath))\n",
    "        dirs1=[x for x in dirs if isdir(join(inpath,x))]                \n",
    "        if len(dirs1)==0:\n",
    "            f=[x for x in dirs if isfile(join(inpath,x))]             \n",
    "            files.options=['']\n",
    "            files.options=f\n",
    "            productName.options=['']\n",
    "        else:\n",
    "            productName.options=['']\n",
    "            files.options=['']\n",
    "            productName.options=['']\n",
    "            productName.options=dirs1\n",
    "    elif args[0]['owner'].description=='Product name:':        \n",
    "        path[7]=productName.value       \n",
    "        inpath=joinPath(7)        \n",
    "        dirs=sorted(listdir(inpath))        \n",
    "        f=[x for x in dirs if join(inpath,x)] \n",
    "        files.options=['']\n",
    "        files.options=f\n",
    "        label.value=join(*path)\n",
    "        \n",
    "    \n",
    "def get_path(*args):\n",
    "    global path\n",
    "   \n",
    "    label.value=join(*path)\n",
    "    \n",
    "        \n",
    "\n",
    "   \n",
    "\n",
    "def drawPicture(*args):    \n",
    "    pass\n",
    "        \n",
    "    \n",
    "\n",
    "def on_button_clicked(b):\n",
    "    global path\n",
    "    global plotButton\n",
    "    plotButton.disabled=True\n",
    "    if len(files.value)!=0 and files.value.lower().endswith('jpg'):        \n",
    "        with open(join(*path,files.value),'rb') as f:\n",
    "            image = f.read()\n",
    "            pp.value=image    \n",
    "            pp.format='jpg'  \n",
    "    elif len(files.value)!=0 and files.value.lower().endswith('n1'):        \n",
    "        sciezka=(join(join(*path),files.value))\n",
    "        saveN1image(sciezka)\n",
    "        with open('/opt/tmp/'+sciezka.replace('/','_')+'.jpg','rb') as f:\n",
    "            image = f.read()\n",
    "            pp.value=image    \n",
    "            pp.format='jpg'\n",
    "    plotButton.disabled=False\n",
    "        \n",
    "        \n",
    "\n",
    "\n",
    "\n",
    "with open('Globe.png','rb') as f:\n",
    "            image = f.read()\n",
    "            pp.value=image    \n",
    "            pp.format='png'\n",
    "    \n",
    "x.observe(fieldChange,names='value')\n",
    "y.observe(fieldChange,names='value')\n",
    "processingMode.observe(fieldChange,names='value')\n",
    "year.observe(fieldChange,names='value')\n",
    "month.observe(fieldChange,names='value')\n",
    "day.observe(fieldChange,names='value')\n",
    "productName.observe(fieldChange,names='value')\n",
    "plotButton.on_click(on_button_clicked)\n",
    "    \n",
    "    \n",
    "widgets.VBox([widgets.HBox([x,y,processingMode]),widgets.HBox([year,month,day]),widgets.HBox([productName,files,plotButton]),pp])\n"
   ]
  },
  {
   "cell_type": "markdown",
   "metadata": {
    "extensions": {
     "jupyter_dashboards": {
      "version": 1.0,
      "views": {
       "grid_default": {},
       "report_default": {
        "hidden": false
       }
      }
     }
    }
   },
   "source": [
    "# Show on map\n",
    "Run the cell below to show selected product boundary on map."
   ]
  },
  {
   "cell_type": "code",
   "execution_count": 2,
   "metadata": {
    "extensions": {
     "jupyter_dashboards": {
      "version": 1.0,
      "views": {
       "grid_default": {
        "hidden": true
       },
       "report_default": {
        "hidden": false
       }
      }
     }
    }
   },
   "outputs": [
    {
     "data": {},
     "metadata": {},
     "output_type": "display_data"
    }
   ],
   "source": [
    "\n",
    "sciezka=(join(join(*path),files.value))\n",
    "\n",
    "from ipyleaflet import (\n",
    "    Map,\n",
    "    Marker,\n",
    "    TileLayer, ImageOverlay,\n",
    "    Polyline, Polygon, Rectangle, Circle, CircleMarker,\n",
    "    GeoJSON,\n",
    "    DrawControl\n",
    ")\n",
    "\n",
    "\n",
    "import json\n",
    "znalazlem=False\n",
    "if files.value.lower().endswith(\"n1\"):\n",
    "    znalazlem=True    \n",
    "    ul_lon, ul_lat, ur_lon, ur_lat, ll_lon, ll_lat, lr_lon, lr_lat =getN1Corners(sciezka)\n",
    "else:    \n",
    "    for dirname,subdirlist,filelist in walk(label.value):\n",
    "        pliki=[x for x in filelist if x.lower().endswith('mtl.txt')]\n",
    "        if pliki:\n",
    "            plik=pliki[0]\n",
    "            plik=join(dirname,plik)\n",
    "            znalazlem=True\n",
    "            with open(plik,'r') as f:\n",
    "                for line in f:\n",
    "                    if 'CORNER_UL_LAT_PRODUCT' in line:\n",
    "                        ul_lat=float(line.split('=')[1].strip())\n",
    "                    if 'CORNER_UL_LON_PRODUCT' in line:\n",
    "                        ul_lon=float(line.split('=')[1].strip())\n",
    "                    if 'CORNER_UR_LAT_PRODUCT' in line:\n",
    "                        ur_lat=float(line.split('=')[1].strip())\n",
    "                    if 'CORNER_UR_LON_PRODUCT' in line:\n",
    "                        ur_lon=float(line.split('=')[1].strip())\n",
    "                    if 'CORNER_LL_LAT_PRODUCT' in line:\n",
    "                        ll_lat=float(line.split('=')[1].strip())\n",
    "                    if 'CORNER_LL_LON_PRODUCT' in line:\n",
    "                        ll_lon=float(line.split('=')[1].strip())\n",
    "                    if 'CORNER_LR_LAT_PRODUCT' in line:\n",
    "                        lr_lat=float(line.split('=')[1].strip())\n",
    "                    if 'CORNER_LR_LON_PRODUCT' in line:\n",
    "                        lr_lon=float(line.split('=')[1].strip())\n",
    "                f.close()\n",
    "if znalazlem:\n",
    "    sson={ \"type\": \"FeatureCollection\",\n",
    "        \"features\": [      \n",
    "          { \"type\": \"Feature\",\n",
    "             \"geometry\": {\n",
    "               \"type\": \"Polygon\",\n",
    "               \"coordinates\": [\n",
    "                 [ [ul_lon, ul_lat], [ur_lon, ur_lat], [lr_lon, lr_lat],\n",
    "                   [ll_lon, ll_lat], [ul_lon, ul_lat] ]\n",
    "                 ]\n",
    "             },\n",
    "             \"properties\": { }\n",
    "             }\n",
    "           ]\n",
    "         }\n",
    "\n",
    "\n",
    "    sson=json.loads(json.dumps(sson))\n",
    "    for feature in sson['features']:\n",
    "        feature['properties']['style'] = {\n",
    "            'color': 'green',\n",
    "            'weight': 4,\n",
    "            'fillColor': 'red',\n",
    "            'fillOpacity': 0.3\n",
    "        }\n",
    "    g=GeoJSON(data=sson,hover_style={'fillColor': 'red'})\n",
    "\n",
    "\n",
    "    center = [(ul_lat+ur_lat+lr_lat+ll_lat)/4,(ul_lon+ur_lon+lr_lon+ll_lon)/4]\n",
    "    zoom=5\n",
    "\n",
    "    m = Map(center=center,zoom=zoom)\n",
    "    m.add_layer(g)\n",
    "else:\n",
    "    m=Map()\n",
    "m"
   ]
  },
  {
   "cell_type": "code",
   "execution_count": 4,
   "metadata": {
    "extensions": {
     "jupyter_dashboards": {
      "version": 1.0,
      "views": {
       "grid_default": {},
       "report_default": {
        "hidden": true
       }
      }
     }
    }
   },
   "outputs": [
    {
     "data": {
      "text/plain": [
       "'3.6.1 |Anaconda 4.4.0 (64-bit)| (default, May 11 2017, 13:09:58) \\n[GCC 4.4.7 20120313 (Red Hat 4.4.7-1)]'"
      ]
     },
     "execution_count": 4,
     "metadata": {},
     "output_type": "execute_result"
    }
   ],
   "source": [
    "import sys\n",
    "sys.version"
   ]
  },
  {
   "cell_type": "code",
   "execution_count": 7,
   "metadata": {
    "extensions": {
     "jupyter_dashboards": {
      "version": 1.0,
      "views": {
       "grid_default": {},
       "report_default": {
        "hidden": true
       }
      }
     }
    }
   },
   "outputs": [
    {
     "name": "stdout",
     "output_type": "stream",
     "text": [
      "2.7.12 (default, Nov 19 2016, 06:48:10) \n",
      "[GCC 5.4.0 20160609]\n"
     ]
    }
   ],
   "source": [
    "%%python2\n",
    "import sys\n",
    "print sys.version"
   ]
  },
  {
   "cell_type": "code",
   "execution_count": null,
   "metadata": {
    "collapsed": true
   },
   "outputs": [],
   "source": []
  }
 ],
 "metadata": {
  "extensions": {
   "jupyter_dashboards": {
    "activeView": "report_default",
    "version": 1.0,
    "views": {
     "grid_default": {
      "cellMargin": 10.0,
      "defaultCellHeight": 20.0,
      "maxColumns": 12.0,
      "name": "grid",
      "type": "grid"
     },
     "report_default": {
      "name": "report",
      "type": "report"
     }
    }
   }
  },
  "kernelspec": {
   "display_name": "Python 3",
   "language": "python",
   "name": "python3"
  },
  "language_info": {
   "codemirror_mode": {
    "name": "ipython",
    "version": 3
   },
   "file_extension": ".py",
   "mimetype": "text/x-python",
   "name": "python",
   "nbconvert_exporter": "python",
   "pygments_lexer": "ipython3",
   "version": "3.6.1"
  }
 },
 "nbformat": 4,
 "nbformat_minor": 2
}
