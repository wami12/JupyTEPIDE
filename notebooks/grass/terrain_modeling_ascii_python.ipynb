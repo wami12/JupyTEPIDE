{
 "cells": [
  {
   "cell_type": "markdown",
   "metadata": {},
   "source": [
    "## Geomorphometry I: Terrain Modeling (data in ASCII files)\n",
    "\n",
    "\n",
    "Resources: [\n",
    "\n",
    "\n",
    "Download the ASCI (x,y,z) lidar bare earth data\n",
    "[lid_be_pts.txt](data/lid_be_pts.txt)\n",
    "Download the ASCI (x,y,z) lidar multiple return data\n",
    "[lid_mr_pts.txt](data/lid_mr_pts.txt)\n",
    "\n",
    "\n",
    "### Start GRASS GIS\n",
    "Start GRASS - click on GRASS icon or type"
   ]
  },
  {
   "cell_type": "code",
   "execution_count": null,
   "metadata": {},
   "outputs": [],
   "source": [
    "# This is a quick introduction into Jupyter Notebook.\n",
    "# Python code can be executed like this:\n",
    "a = 6\n",
    "b = 7\n",
    "c = a * b\n",
    "print \"Answer is\", c\n",
    "# Python code can be mixed with command line code (Bash).\n",
    "# It is enough just to prefix the command line with an exclamation mark:\n",
    "!echo \"Answer is $c\"\n",
    "# Use Shift+Enter to execute this cell. The result is below."
   ]
  },
  {
   "cell_type": "code",
   "execution_count": null,
   "metadata": {},
   "outputs": [],
   "source": [
    "# a proper directory is already set, download files\n",
    "import urllib\n",
    "urllib.urlretrieve(\"http://ncsu-geoforall-lab.github.io/geospatial-modeling-course/grass/data/lid_be_pts.txt\", \"lid_be_pts.txt\")\n",
    "urllib.urlretrieve(\"http://ncsu-geoforall-lab.github.io/geospatial-modeling-course/grass/data/lid_mr_pts.txt\", \"lid_mr_pts.txt\")\n",
    "urllib.urlretrieve(\"http://ncsu-geoforall-lab.github.io/geospatial-modeling-course/grass/data/lid_be_pts.txt\", \"lid_be_pts.txt\")"
   ]
  },
  {
   "cell_type": "code",
   "execution_count": null,
   "metadata": {},
   "outputs": [],
   "source": [
    "import os\n",
    "import sys\n",
    "import subprocess\n",
    "from IPython.display import Image\n",
    "\n",
    "# create GRASS GIS runtime environment\n",
    "gisbase = subprocess.check_output([\"grass\", \"--config\", \"path\"]).strip()\n",
    "os.environ['GISBASE'] = gisbase\n",
    "sys.path.append(os.path.join(gisbase, \"etc\", \"python\"))\n",
    "\n",
    "# do GRASS GIS imports\n",
    "import grass.script as gs\n",
    "import grass.script.setup as gsetup\n",
    "\n",
    "# set GRASS GIS session data\n",
    "rcfile = gsetup.init(gisbase, \"/home/jovyan/grassdata\", \"nc_spm_08_grass7\", \"user1\")"
   ]
  },
  {
   "cell_type": "code",
   "execution_count": null,
   "metadata": {},
   "outputs": [],
   "source": [
    "# default font displays\n",
    "os.environ['GRASS_FONT'] = 'sans'\n",
    "# overwrite existing maps\n",
    "os.environ['GRASS_OVERWRITE'] = '1'\n",
    "gs.set_raise_on_error(True)\n",
    "gs.set_capture_stderr(True)"
   ]
  },
  {
   "cell_type": "code",
   "execution_count": null,
   "metadata": {},
   "outputs": [],
   "source": [
    "# set display modules to render into a file (named map.png by default)\n",
    "os.environ['GRASS_RENDER_IMMEDIATE'] = 'cairo'\n",
    "os.environ['GRASS_RENDER_FILE_READ'] = 'TRUE'\n",
    "os.environ['GRASS_LEGEND_FILE'] = 'legend.txt'"
   ]
  },
  {
   "cell_type": "markdown",
   "metadata": {},
   "source": [
    "In startup pannel set GIS Data Directory to path to datasets,\n",
    "for example on MS Windows, `C:\\Users\\myname\\grassdata`.\n",
    "For Project location select nc_spm_08_grass7 (North Carolina, State Plane, meters) and\n",
    "for Accessible mapset create a new mapset (called e.g. HW_terrain_modeling).\n",
    "Click Start GRASS.\n",
    "\n",
    "\n",
    "Change working directory:\n",
    "_Settings_ > _GRASS working environment_ > _Change working directory_ > select/create any directory\n",
    "or type `cd` (stands for change directory) into the GUI\n",
    "_Console_ and hit Enter:"
   ]
  },
  {
   "cell_type": "code",
   "execution_count": null,
   "metadata": {},
   "outputs": [],
   "source": []
  },
  {
   "cell_type": "markdown",
   "metadata": {},
   "source": [
    "Download all files (see above)\n",
    "to the selected directory. Now you can use the commands from the assignment requiring the file\n",
    "without the need to specify the full path to the file.\n",
    "\n",
    "\n",
    "### Bare earth data\n",
    "\n",
    "Analyze bare earth and multiple return lidar data properties.\n",
    "First, download the ASCI (x,y,z) lidar data\n",
    "[lid_be_pts.txt](data/lid_be_pts.txt)\n",
    "and then compute a raster map representing number of points\n",
    "per 2m and 6m grid cell to assess the point density.\n",
    "If you are unsure about the current working directory and where your\n",
    "text file with point is, run _r.in.xyz_ from GUI\n",
    "to find the path to the external lid_be_pts.txt.\n",
    "Do not forget to zoom to computational region\n",
    "to check its extent and see the resulting data.\n",
    "You can use horizontal legends by resizing legend into wide short\n",
    "rectangle or by using at=6,10,2,30 in the command line.\n",
    "You can resize the _Map Display_ to create white space above\n",
    "and below the raster map image."
   ]
  },
  {
   "cell_type": "code",
   "execution_count": null,
   "metadata": {},
   "outputs": [],
   "source": [
    "gs.parse_command('g.region', region=\"rural_1m\", res=\"2\", flags='pg')\n",
    "gs.run_command('r.in.xyz', input=\"lid_be_pts.txt\", output=\"lid_be_binn2m\", method=\"n\")\n",
    "gs.run_command('r.in.xyz', input=\"lid_mr_pts.txt\", output=\"lid_mr_binn2m\", method=\"n\")\n",
    "gs.run_command('d.erase')\n",
    "gs.run_command('d.rast', map=\"lid_mr_binn2m\")\n",
    "gs.run_command('d.legend', raster=\"lid_mr_binn2m\", at=\"2,20,2,5\")\n",
    "Image(filename=\"map.png\")\n",
    "print gs.read_command('r.report', map=\"lid_mr_binn2m\", unit=\"p\")\n",
    "gs.parse_command('r.univar', map=\"lid_mr_binn2m\", flags='g')\n",
    "gs.run_command('d.rast', map=\"lid_be_binn2m\")\n",
    "gs.run_command('d.legend', raster=\"lid_be_binn2m\", at=\"2,20,2,5\")\n",
    "print gs.read_command('r.report', map=\"lid_be_binn2m\", unit=\"p\")\n",
    "gs.parse_command('r.univar', map=\"lid_be_binn2m\", flags='g')\n",
    "Image(filename=\"map.png\")"
   ]
  },
  {
   "cell_type": "markdown",
   "metadata": {},
   "source": [
    "### Range of coordinates at lower resolution\n",
    "\n",
    "\n",
    "Patch and overlay planimetry to see that there are\n",
    "no points in areas with buildings:"
   ]
  },
  {
   "cell_type": "code",
   "execution_count": null,
   "metadata": {},
   "outputs": [],
   "source": [
    "gs.run_command('v.patch', input=\"P079214,P079215,P079218,P079219\", out=\"planimetry_rural\")\n",
    "gs.run_command('d.vect', map=\"planimetry_rural\")\n",
    "Image(filename=\"map.png\")"
   ]
  },
  {
   "cell_type": "markdown",
   "metadata": {},
   "source": [
    "Decrease resolution and try the above steps with\n",
    "the _r.in.xyz_ module again.\n",
    "Again, run it from GUI, define full path, or manage your current\n",
    "working directory."
   ]
  },
  {
   "cell_type": "code",
   "execution_count": null,
   "metadata": {},
   "outputs": [],
   "source": [
    "gs.parse_command('g.region', region=\"rural_1m\", res=\"6\", flags='apg')\n",
    "gs.run_command('r.in.xyz', input=\"lid_be_pts.txt\", out=\"lid_be_binn6m\", meth=\"n\")\n",
    "gs.run_command('d.erase')\n",
    "gs.run_command('d.rast', map=\"lid_be_binn6m\")\n",
    "gs.run_command('d.legend', raster=\"lid_be_binn6m\", at=\"2,20,2,5\")\n",
    "Image(filename=\"map.png\")\n",
    "print gs.read_command('r.report', map=\"lid_be_binn6m\", unit=\"p\")\n",
    "gs.parse_command('r.univar', map=\"lid_be_binn6m\", flags='g')\n",
    "Image(filename=\"map.png\")"
   ]
  },
  {
   "cell_type": "markdown",
   "metadata": {},
   "source": [
    "Compute a raster map representing mean elevation for each 6m cell.\n",
    "It will still have a few holes."
   ]
  },
  {
   "cell_type": "code",
   "execution_count": null,
   "metadata": {},
   "outputs": [],
   "source": [
    "gs.run_command('r.in.xyz', input=\"lid_be_pts.txt\", out=\"lid_be_binmean6m\", meth=\"mean\")\n",
    "gs.run_command('r.colors', map=\"lid_be_binmean6m\", color=\"elevation\")\n",
    "gs.run_command('d.rast', map=\"lid_be_binmean6m\")\n",
    "gs.run_command('d.legend', raster=\"lid_be_binmean6m\", at=\"2,40,2,5\")\n",
    "gs.run_command('r.in.xyz', input=\"lid_mr_pts.txt\", out=\"lid_mr_binmean6m\", meth=\"mean\")\n",
    "gs.run_command('r.colors', map=\"lid_mr_binmean6m\", co=\"elevation\")\n",
    "gs.run_command('d.rast', map=\"lid_mr_binmean6m\")\n",
    "gs.run_command('d.legend', raster=\"lid_mr_binmean6m\", at=\"2,40,2,5\")\n",
    "Image(filename=\"map.png\")"
   ]
  },
  {
   "cell_type": "markdown",
   "metadata": {},
   "source": [
    "Compute range:"
   ]
  },
  {
   "cell_type": "code",
   "execution_count": null,
   "metadata": {},
   "outputs": [],
   "source": [
    "gs.run_command('r.in.xyz', input=\"lid_be_pts.txt\", out=\"lid_be_binrange6m\", meth=\"range\")\n",
    "gs.run_command('r.in.xyz', input=\"lid_mr_pts.txt\", out=\"lid_mr_binrange6m\", meth=\"range\")\n",
    "gs.run_command('d.erase')\n",
    "gs.run_command('d.rast', map=\"lid_be_binrange6m\")\n",
    "gs.run_command('d.legend', raster=\"lid_be_binrange6m\", at=\"2,40,2,5\")\n",
    "gs.run_command('d.rast', map=\"lid_mr_binrange6m\")\n",
    "gs.run_command('d.legend', raster=\"lid_mr_binrange6m\", at=\"2,40,2,5\")\n",
    "Image(filename=\"map.png\")"
   ]
  },
  {
   "cell_type": "markdown",
   "metadata": {},
   "source": [
    "Identify the features that are associated with large range values.\n",
    "Display with vector data."
   ]
  },
  {
   "cell_type": "code",
   "execution_count": null,
   "metadata": {},
   "outputs": [],
   "source": [
    "gs.run_command('d.vect', map=\"planimetry_rural\")\n",
    "gs.run_command('d.vect', map=\"lakes\", type=\"boundary\", co=\"violet\")\n",
    "gs.run_command('d.vect', map=\"streams\", co=\"blue\")\n",
    "Image(filename=\"map.png\")"
   ]
  },
  {
   "cell_type": "markdown",
   "metadata": {},
   "source": [
    "Display only the high values of range (0.5-20m) overlayed over orthophoto.\n",
    "What landcover is associated with large range in multiple return data?\n",
    "\n",
    "\n",
    "Which landscape features may be lost at 6m resolution?"
   ]
  },
  {
   "cell_type": "code",
   "execution_count": null,
   "metadata": {},
   "outputs": [],
   "source": [
    "gs.parse_command('g.region', region=\"rural_1m\", flags='pg')"
   ]
  },
  {
   "cell_type": "markdown",
   "metadata": {},
   "source": [
    "Do not forget to zoom/set the display to computational region\n",
    "to display only selected interval of values in GUI.\n",
    "Add raster > Required tab, select lid_be_binrange6m\n",
    "In Selection tab, set List of values to be displayed to 0.5-20."
   ]
  },
  {
   "cell_type": "code",
   "execution_count": null,
   "metadata": {},
   "outputs": [],
   "source": [
    "gs.run_command('d.erase')\n",
    "gs.run_command('d.rast', map=\"ortho_2001_t792_1m\")\n",
    "gs.run_command('d.rast', map=\"lid_be_binrange6m\", val=\"0.5-20.\")\n",
    "gs.run_command('d.erase')\n",
    "gs.run_command('d.rast', map=\"ortho_2001_t792_1m\")\n",
    "gs.run_command('d.rast', map=\"lid_mr_binrange6m\", val=\"0.5-20.\")\n",
    "Image(filename=\"map.png\")"
   ]
  },
  {
   "cell_type": "markdown",
   "metadata": {},
   "source": [
    "### Interpolation\n",
    "\n",
    "\n",
    "We now know how dense the data are and what is the range within cell.\n",
    "If we need 1m resolution DEM for our application\n",
    "this analysis tells us that we need to interpolate.\n",
    "\n",
    "Import the ascii lidar data as vector points.\n",
    "Import only points in the rural area without building a table (-t flag in tab Points),\n",
    "number of column used as z is 3 (third column),\n",
    "and using z-coordinate for elevation (Tab Optional, Create 3D vector map).\n",
    "We assume that the txt file is in your current working directory."
   ]
  },
  {
   "cell_type": "code",
   "execution_count": null,
   "metadata": {},
   "outputs": [],
   "source": [
    "gs.parse_command('g.region', region=\"rural_1m\", flags='pg')\n",
    "gs.run_command('v.in.ascii', input=\"lid_be_pts.txt\", out=\"elev_lid_bepts\", z=\"3\", flags='ztr')"
   ]
  },
  {
   "cell_type": "markdown",
   "metadata": {},
   "source": [
    "Display bare ground and multiple return points over orthophoto:"
   ]
  },
  {
   "cell_type": "code",
   "execution_count": null,
   "metadata": {},
   "outputs": [],
   "source": [
    "gs.run_command('d.erase')\n",
    "gs.run_command('d.rast', map=\"ortho_2001_t792_1m\")\n",
    "Image(filename=\"map.png\")"
   ]
  },
  {
   "cell_type": "markdown",
   "metadata": {},
   "source": [
    "Display our imported points:"
   ]
  },
  {
   "cell_type": "code",
   "execution_count": null,
   "metadata": {},
   "outputs": [],
   "source": [
    "gs.run_command('d.vect', map=\"elev_lid_bepts\", size=\"2\", col=\"red\")\n",
    "Image(filename=\"map.png\")"
   ]
  },
  {
   "cell_type": "markdown",
   "metadata": {},
   "source": [
    "Display points available in the data set\n",
    "(elev_lid_bepts and elev_lid792_bepts should be identical):"
   ]
  },
  {
   "cell_type": "code",
   "execution_count": null,
   "metadata": {},
   "outputs": [],
   "source": [
    "gs.run_command('d.vect', map=\"elev_lidrural_mrpts\", size=\"4\", col=\"0:100:0\")\n",
    "gs.run_command('d.vect', map=\"elev_lid792_bepts\", size=\"2\", col=\"yellow\")\n",
    "Image(filename=\"map.png\")"
   ]
  },
  {
   "cell_type": "markdown",
   "metadata": {},
   "source": [
    "Extract first return to get points for DSM.\n",
    "Interpolate DEM and DSM (more about interpolation in the interpolation assignment).\n",
    "We use default parameters except for number of points used for\n",
    "segmentation and interpolation - segmax and npmin\n",
    "and higher tension for multiple return data:"
   ]
  },
  {
   "cell_type": "code",
   "execution_count": null,
   "metadata": {},
   "outputs": [],
   "source": [
    "gs.parse_command('g.region', region=\"rural_1m\", flags='pg')\n",
    "gs.run_command('v.extract', input=\"elev_lidrural_mrpts\", out=\"elev_lidrur_first\", type=\"point\", where=\"Return=1\")\n",
    "gs.run_command('v.surf.rst', input=\"elev_lid792_bepts\", elevation=\"elev_lidrural_1m\", npmin=\"120\", segmax=\"25\")\n",
    "gs.run_command('v.surf.rst', input=\"elev_lidrur_first\", elevation=\"elev_lidrurfirst_1m\", npmin=\"120\", segmax=\"25\", tension=\"100\", smooth=\"0.5\")\n",
    "gs.run_command('d.erase')\n",
    "gs.run_command('d.rast', map=\"elev_lidrural_1m\")\n",
    "gs.run_command('d.rast', map=\"elev_lidrurfirst_1m\")\n",
    "Image(filename=\"map.png\")"
   ]
  },
  {
   "cell_type": "markdown",
   "metadata": {},
   "source": [
    "Remove all layers except for elev_lidrural_1m and elev_lidrurfirst_1m and\n",
    "switch to 3D view with cutting planes to compare the bare earth and terrain surface.\n",
    "Make sure fine resolution is set to 1 for all surfaces.\n",
    "Assign each surface constant color, add constant plane z=90 for reference.\n",
    "Create crossections using cutting plane,\n",
    "shade the crossection using the color by bottom surface option.\n",
    "Save image for report.\n",
    "If you don't remember this, see screen capture video for\n",
    "[GRASS GIS 3D view](https://youtu.be/xo_jJHgtbR4).\n",
    "\n",
    "\n",
    "### Multiple returns\n",
    "\n",
    "\n",
    "Find out where we have multiple returns:"
   ]
  },
  {
   "cell_type": "code",
   "execution_count": null,
   "metadata": {},
   "outputs": [],
   "source": [
    "gs.parse_command('g.region', region=\"rural_1m\", flags='pg')\n",
    "gs.run_command('d.erase')\n",
    "gs.run_command('d.rast', map=\"ortho_2001_t792_1m\")\n",
    "Image(filename=\"map.png\")"
   ]
  },
  {
   "cell_type": "markdown",
   "metadata": {},
   "source": [
    "Condition for subset in GUI:\n",
    "Add vector > Selection > type return=1 into WHERE condition of SQL statement.\n",
    "You need to add the points 4 times to create a map that will have\n",
    "all sets of returns."
   ]
  },
  {
   "cell_type": "code",
   "execution_count": null,
   "metadata": {},
   "outputs": [],
   "source": [
    "gs.run_command('d.vect', map=\"elev_lidrural_mrpts\", where=\"return=1\", col=\"red\", size=\"2\")\n",
    "gs.run_command('d.vect', map=\"elev_lidrural_mrpts\", where=\"return=2\", col=\"green\", size=\"3\")\n",
    "gs.run_command('d.vect', map=\"elev_lidrural_mrpts\", where=\"return=3\", col=\"blue\")\n",
    "gs.run_command('d.vect', map=\"elev_lidrural_mrpts\", where=\"return=4\", col=\"yellow\")\n",
    "Image(filename=\"map.png\")"
   ]
  },
  {
   "cell_type": "markdown",
   "metadata": {},
   "source": [
    "Can you guess what is in the area that does not have any 1st return points?"
   ]
  },
  {
   "cell_type": "code",
   "execution_count": null,
   "metadata": {},
   "outputs": [],
   "source": [
    "# end the GRASS session\n",
    "os.remove(rcfile)"
   ]
  }
 ],
 "metadata": {
  "kernelspec": {
   "display_name": "Python 2",
   "language": "python",
   "name": "python2"
  }
 },
 "nbformat": 4,
 "nbformat_minor": 0
}
