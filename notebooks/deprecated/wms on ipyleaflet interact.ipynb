{
 "cells": [
  {
   "cell_type": "code",
   "execution_count": 24,
   "metadata": {
    "extensions": {
     "jupyter_dashboards": {
      "version": 1.0,
      "views": {
       "grid_default": {
        "col": 0.0,
        "height": 29.0,
        "hidden": false,
        "row": 0.0,
        "width": null
       },
       "report_default": {}
      }
     }
    }
   },
   "outputs": [
    {
     "data": {},
     "metadata": {},
     "output_type": "display_data"
    },
    {
     "data": {},
     "metadata": {},
     "output_type": "display_data"
    }
   ],
   "source": [
    "from IPython.display import clear_output, Javascript, display\n",
    "from nbformat import current\n",
    "\n",
    "import io\n",
    "import os, fnmatch\n",
    "from datetime import datetime\n",
    "import urllib.request\n",
    "from urllib.parse import quote\n",
    "from pprint import pprint\n",
    "import json\n",
    "import subprocess\n",
    "\n",
    "import ipywidgets as widgets\n",
    "from ipywidgets import Layout, Box, HBox,DatePicker,interact\n",
    "\n",
    "\n",
    "\n",
    "html_metadata=widgets.HTML(\n",
    "    value=\"\"\n",
    ")\n",
    "from ipyleaflet import TileLayer\n",
    "from ipyleaflet import (\n",
    "    Map,\n",
    "    Marker,\n",
    "    TileLayer, ImageOverlay,\n",
    "    Polyline, Polygon, Rectangle, Circle, CircleMarker,\n",
    "    GeoJSON,\n",
    "    DrawControl,\n",
    ")\n",
    "\n",
    "# slider = widgets.slider(4)\n",
    "\n",
    "t=TileLayer()\n",
    "t.url='https://server.arcgisonline.com/ArcGIS/rest/services/World_Imagery/MapServer/tile/{z}/{y}/{x}'\n",
    "t.opacity=0.6\n",
    "m=Map(zoom=1)\n",
    "\n",
    "wkt=''\n",
    "layers=[]\n",
    "lop=[]\n",
    "m.add_layer(t)\n",
    "\n",
    "\n",
    "def h(opacity):    \n",
    "    m.remove_layer(t) \n",
    "    t.opacity=opacity/100\n",
    "    m.add_layer(t)    \n",
    "    \n",
    "\n",
    "interact(h, opacity=(0,100));\n",
    "\n",
    "\n",
    "\n",
    "m"
   ]
  },
  {
   "cell_type": "code",
   "execution_count": null,
   "metadata": {
    "collapsed": true
   },
   "outputs": [],
   "source": [
    "pr="
   ]
  }
 ],
 "metadata": {
  "extensions": {
   "jupyter_dashboards": {
    "activeView": "grid_default",
    "version": 1.0,
    "views": {
     "grid_default": {
      "cellMargin": 10.0,
      "defaultCellHeight": 20.0,
      "maxColumns": 12.0,
      "name": "grid",
      "type": "grid"
     },
     "report_default": {
      "name": "report",
      "type": "report"
     }
    }
   }
  },
  "kernelspec": {
   "display_name": "Python 3",
   "language": "python",
   "name": "python3"
  },
  "language_info": {
   "codemirror_mode": {
    "name": "ipython",
    "version": 3
   },
   "file_extension": ".py",
   "mimetype": "text/x-python",
   "name": "python",
   "nbconvert_exporter": "python",
   "pygments_lexer": "ipython3",
   "version": "3.6.1"
  }
 },
 "nbformat": 4,
 "nbformat_minor": 2
}
