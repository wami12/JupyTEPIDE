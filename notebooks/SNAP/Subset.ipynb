{
 "cells": [
  {
   "cell_type": "code",
   "execution_count": 2,
   "metadata": {},
   "outputs": [
    {
     "name": "stdout",
     "output_type": "stream",
     "text": [
      "Reading...\n"
     ]
    },
    {
     "ename": "RuntimeError",
     "evalue": "org.esa.snap.core.gpf.OperatorException: Source product 'S1A_IW_SLC__1SDV_20171221T050000_20171221T050027_019796_021AC2_6395' contains rasters of different sizes and can not be processed.\nPlease consider resampling it so that all rasters have the same size.",
     "output_type": "error",
     "traceback": [
      "\u001b[0;31m---------------------------------------------------------------------------\u001b[0m",
      "\u001b[0;31mRuntimeError\u001b[0m                              Traceback (most recent call last)",
      "\u001b[0;32m<ipython-input-2-c308a343b673>\u001b[0m in \u001b[0;36m<module>\u001b[0;34m()\u001b[0m\n\u001b[1;32m     18\u001b[0m \u001b[0mop\u001b[0m\u001b[0;34m.\u001b[0m\u001b[0msetGeoRegion\u001b[0m\u001b[0;34m(\u001b[0m\u001b[0mgeom\u001b[0m\u001b[0;34m)\u001b[0m\u001b[0;34m\u001b[0m\u001b[0m\n\u001b[1;32m     19\u001b[0m \u001b[0;34m\u001b[0m\u001b[0m\n\u001b[0;32m---> 20\u001b[0;31m \u001b[0msub_product\u001b[0m \u001b[0;34m=\u001b[0m \u001b[0mop\u001b[0m\u001b[0;34m.\u001b[0m\u001b[0mgetTargetProduct\u001b[0m\u001b[0;34m(\u001b[0m\u001b[0;34m)\u001b[0m\u001b[0;34m\u001b[0m\u001b[0m\n\u001b[0m\u001b[1;32m     21\u001b[0m \u001b[0;34m\u001b[0m\u001b[0m\n\u001b[1;32m     22\u001b[0m \u001b[0mprint\u001b[0m\u001b[0;34m(\u001b[0m\u001b[0;34m\"Writing...\"\u001b[0m\u001b[0;34m)\u001b[0m\u001b[0;34m\u001b[0m\u001b[0m\n",
      "\u001b[0;31mRuntimeError\u001b[0m: org.esa.snap.core.gpf.OperatorException: Source product 'S1A_IW_SLC__1SDV_20171221T050000_20171221T050027_019796_021AC2_6395' contains rasters of different sizes and can not be processed.\nPlease consider resampling it so that all rasters have the same size."
     ]
    }
   ],
   "source": [
    "import sys\n",
    "import snappy\n",
    "from snappy import ProductIO, WKTReader\n",
    "\n",
    "SubsetOp = snappy.jpy.get_type('org.esa.snap.core.gpf.common.SubsetOp')\n",
    "\n",
    "wkt=\"Polygon ((19.34918642603852845 54.13373295104185701, 19.353248309736653 54.28170157147351915, 19.53197119245411528 54.2724172658778059, 19.52268688685840203 54.12386837634640813, 19.34918642603852845 54.13373295104185701))\"\n",
    "\n",
    "geom = WKTReader().read(wkt)\n",
    "\n",
    "filename1 = \"/eodata/Sentinel-1/SAR/SLC/2017/12/21/S1A_IW_SLC__1SDV_20171221T050000_20171221T050027_019796_021AC2_6395.SAFE\"\n",
    "\n",
    "print(\"Reading...\")\n",
    "product = ProductIO.readProduct(filename1)\n",
    "\n",
    "op = SubsetOp()\n",
    "op.setSourceProduct(product)\n",
    "op.setGeoRegion(geom)\n",
    "\n",
    "sub_product = op.getTargetProduct()\n",
    "\n",
    "print(\"Writing...\")\n",
    "ProductIO.writeProduct(sub_product, \"/opt/subset1.dim\", \"BEAM-DIMAP\")\n",
    "\n",
    "print(\"Done.\")"
   ]
  },
  {
   "cell_type": "code",
   "execution_count": null,
   "metadata": {},
   "outputs": [],
   "source": []
  }
 ],
 "metadata": {
  "kernelspec": {
   "display_name": "Python [default]",
   "language": "python",
   "name": "python3"
  },
  "language_info": {
   "codemirror_mode": {
    "name": "ipython",
    "version": 3
   },
   "file_extension": ".py",
   "mimetype": "text/x-python",
   "name": "python",
   "nbconvert_exporter": "python",
   "pygments_lexer": "ipython3",
   "version": "3.6.5"
  },
  "latex_envs": {
   "LaTeX_envs_menu_present": true,
   "autoclose": false,
   "autocomplete": true,
   "bibliofile": "biblio.bib",
   "cite_by": "apalike",
   "current_citInitial": 1,
   "eqLabelWithNumbers": true,
   "eqNumInitial": 1,
   "hotkeys": {
    "equation": "Ctrl-E",
    "itemize": "Ctrl-I"
   },
   "labels_anchors": false,
   "latex_user_defs": false,
   "report_style_numbering": false,
   "user_envs_cfg": false
  }
 },
 "nbformat": 4,
 "nbformat_minor": 2
}
