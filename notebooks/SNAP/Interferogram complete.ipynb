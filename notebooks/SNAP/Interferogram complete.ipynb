{
 "cells": [
  {
   "cell_type": "markdown",
   "metadata": {},
   "source": [
    "# Sentinel Radiometric Terrain Correction\n",
    "\n",
    "This notebook i based on the snappy_topsar_insar_share.py by Alaska Satellite Facility.\n",
    "## Imports"
   ]
  },
  {
   "cell_type": "code",
   "execution_count": 3,
   "metadata": {},
   "outputs": [],
   "source": [
    "from snappy import GPF\n",
    "from snappy import ProductIO\n",
    "from snappy import HashMap\n",
    "import matplotlib.pyplot as plt\n",
    "import matplotlib\n",
    "matplotlib.rcParams['figure.figsize'] = (20,10)\n",
    "\n",
    "from time import *"
   ]
  },
  {
   "cell_type": "markdown",
   "metadata": {},
   "source": [
    "## Preparation of variables"
   ]
  },
  {
   "cell_type": "code",
   "execution_count": 5,
   "metadata": {},
   "outputs": [],
   "source": [
    "\n",
    "iDebug = True\n",
    "iWriteEachStep = False\n",
    "\n",
    "GPF.getDefaultInstance().getOperatorSpiRegistry().loadOperatorSpis()\n",
    "prods = []\n",
    "file1 = \"\"\n",
    "file2 = \"\"\n",
    "strFile1 = \"\"\n",
    "strFile2 = \"\"\n",
    "strInSAR = \"\"\n",
    "target1 = \"\"\n",
    "target2 = \"\"\n",
    "targetTOPSplit1 = \"\"\n",
    "targetTOPSplit2 = \"\"\n",
    "targetbackGeo = \"\"\n",
    "targetInterferogram = \"\"\n",
    "targetTOPSARDeburst = \"\"\n",
    "\n",
    "\n"
   ]
  },
  {
   "cell_type": "markdown",
   "metadata": {},
   "source": [
    "## Definition of functions"
   ]
  },
  {
   "cell_type": "code",
   "execution_count": 6,
   "metadata": {},
   "outputs": [],
   "source": [
    "def readFiles(filename1, filename2):\n",
    "    global file1\n",
    "    global file2\n",
    "    global strFile1\n",
    "    global strFile2\n",
    "    global strInSAR\n",
    "\n",
    "    # get my 2 files\n",
    "    if iDebug: print (filename1)\n",
    "    if iDebug: print (filename2)\n",
    "    \n",
    "    file1 = ProductIO.readProduct(filename1)\n",
    "    if iDebug: print (\"Read file: \" + file1.getName())\n",
    "    strFile1 = file1.getName()\n",
    "    file2 = ProductIO.readProduct(filename2)\n",
    "    if iDebug: print (\"Read file: \" + file2.getName() + ('\\n'))\n",
    "    strFile2 = file2.getName()\n",
    "\n",
    "    # InSAR Stack name: grab the leading common bits, and remove the dates et al\n",
    "    strFind = \"20\"\n",
    "    strInSAR = file1.getName()\n",
    "    i = file1.getName().find(strFind)\n",
    "    if i: strInSAR = file1.getName()[:i]\n",
    "    if iDebug: print (strInSAR)\n",
    "\n",
    "\n",
    "def writeFiles(target, filename, strStep):\n",
    "    ofile = \"/opt/\"+filename + strStep\n",
    "    if iDebug: print (ofile)\n",
    "    if target:\n",
    "        ProductIO.writeProduct(target, ofile, 'BEAM-DIMAP')   # TO DO:  allow other types here: BEAM-DIMAP, GeoTIFF-BigTIFF, HDF5\n",
    "    else:\n",
    "        print (\"writeFiles Error: No target given\")\n",
    "\n",
    "\n",
    "def tOPSARSplit():\n",
    "    ### TOPSAR-Split\n",
    "    global file1\n",
    "    global file2\n",
    "    global targetTOPSplit1\n",
    "    global targetTOPSplit2\n",
    "\n",
    "    parameters = \"\"\n",
    "    parameters = HashMap()\n",
    "    parameters.put('subswath', 'IW1')\n",
    "    parameters.put('selectedPolarisations', 'VV')\n",
    "    if iDebug: print (\"Entering: TOPSAR-Split\")\n",
    "\n",
    "    targetTOPSplit1 = GPF.createProduct(\"TOPSAR-Split\", parameters, file1)\n",
    "\n",
    "    targetTOPSplit2 = GPF.createProduct(\"TOPSAR-Split\", parameters, file2)\n",
    "    if iDebug: print (\"TOPSAR-Split working\")\n",
    "\n",
    "\n",
    "def applyOrbitFile():\n",
    "    global targetTOPSplit1\n",
    "    global targetTOPSplit2\n",
    "    global target1\n",
    "    global target2\n",
    "    global prods\n",
    "\n",
    "    if iDebug: print (\"Entering: ApplyOrbit\")\n",
    "\n",
    "    parameters = HashMap()\n",
    "    parameters.put(\"Orbit State Vectors\", \"Sentinel Precise (Auto Download)\")\n",
    "    parameters.put(\"Polynomial Degree\", 3)\n",
    "    target1 = GPF.createProduct(\"Apply-Orbit-File\", parameters, targetTOPSplit1)\n",
    "    if iDebug: print (\"ApplyOrbit working: 1\")\n",
    "\n",
    "\n",
    "    target2 = GPF.createProduct(\"Apply-Orbit-File\", parameters, targetTOPSplit2)\n",
    "    if iDebug: print (\"ApplyOrbit working: 2\")\n",
    "    prods.append(target2)\n",
    "    prods.append(target1)\n",
    "    if iDebug: print (\"Added files in reverse order\") \n",
    "\n",
    "\n",
    "def backGeocoding():\n",
    "    ### backGeocoding\n",
    "    global prods\n",
    "    global targetbackGeo\n",
    "\n",
    "\n",
    "    parameters = \"\"\n",
    "    parameters = HashMap()\n",
    "    parameters.put(\"Digital Elevation Model\", \"SRTM 3Sec (Auto Download)\")\n",
    "    parameters.put(\"DEM Resampling Method\", \"BICUBIC_INTERPOLATION\")\n",
    "    parameters.put(\"Resampling Type\", \"BISINC_5_POINT_INTERPOLATION\")\n",
    "    parameters.put(\"Mask out areas with no elevation\", True)\n",
    "    parameters.put(\"Output Deramp and Demod Phase\", False)\n",
    "\n",
    "    if iDebug:\n",
    "        for u in prods:\n",
    "            print (u)\n",
    "\n",
    "    targetbackGeo = GPF.createProduct(\"Back-Geocoding\", parameters, prods)\n",
    "    if iDebug: print (\"Back-Geocoding working\")\n",
    "\n",
    "\n",
    "def interferogram():\n",
    "    ### Interferogram\n",
    "    # print GPF.getDefaultInstance().getOperatorSpiRegistry().getOperatorSpi('Interferogram')\n",
    "    # Interferogram = jpy.get_type('org.esa.s1tbx.insar.gpf.CreateInterferogramOp')\n",
    "    global targetbackGeo\n",
    "    global targetInterferogram\n",
    "\n",
    "    if iDebug: print (\"Entering: Interferogram\")\n",
    "\n",
    "    parameters = \"\"\n",
    "    parameters = HashMap()\n",
    "    parameters.put(\"Subtract flat-earth phase\", True)\n",
    "    parameters.put(\"Degree of \\\"Flat Earth\\\" polynomial\", 5)\n",
    "    parameters.put(\"Number of \\\"Flat Earth\\\" estimation points\", 501)\n",
    "    parameters.put(\"Orbit interpolation degree\", 3)\n",
    "    parameters.put(\"Include coherence estimation\", True)\n",
    "    parameters.put(\"Square Pixel\", False)\n",
    "    parameters.put(\"Independent Window Sizes\", False)   \n",
    "    parameters.put(\"Coherence Azimuth Window Size\", 10)\n",
    "    parameters.put(\"Coherence Range Window Size\", 10)\n",
    "    targetInterferogram = GPF.createProduct(\"Interferogram\", parameters, targetbackGeo)\n",
    "    if iDebug: print (\"Interferogram working\")\n",
    "\n",
    "\n",
    "def tOPSARDeburst():\n",
    "    ### TOPSAR-Deburst\n",
    "    global targetInterferogram\n",
    "    global targetTOPSARDeburst\n",
    "\n",
    "    if iDebug: print (\"Entering: TOPSARDeburst\")\n",
    "\n",
    "    parameters = HashMap()\n",
    "    parameters.put(\"Polarisations\", \"VV\")\n",
    "    targetTOPSARDeburst = GPF.createProduct(\"TOPSAR-Deburst\", parameters, targetInterferogram)\n",
    "    if iDebug: print (\"TOPSARDeburst working\")\n",
    "\n",
    "def plotBand(product, band, vmin, vmax):\n",
    "     \n",
    "    band = product.getBand(band)\n",
    "\n",
    "    w = band.getRasterWidth()\n",
    "    h = band.getRasterHeight()\n",
    "\n",
    "    band_data = np.zeros(w * h, np.float32)\n",
    "    band.readPixels(0, 0, w, h, band_data)\n",
    "\n",
    "    band_data.shape = h, w\n",
    "\n",
    "    width = 12\n",
    "    height = 12\n",
    "    plt.figure(figsize=(width, height))\n",
    "    imgplot = plt.imshow(band_data, cmap=plt.cm.binary, vmin=vmin, vmax=vmax)\n",
    "    \n",
    "    return imgplot \n",
    "\n",
    "def DestinationThread() :\n",
    "    while True :\n",
    "        f, args = q.get()\n",
    "        f(*args)"
   ]
  },
  {
   "cell_type": "markdown",
   "metadata": {},
   "source": [
    "## Start processing"
   ]
  },
  {
   "cell_type": "code",
   "execution_count": 7,
   "metadata": {},
   "outputs": [
    {
     "name": "stdout",
     "output_type": "stream",
     "text": [
      "Snappy TOPSAR InSAR: start\n",
      "/eodata/Sentinel-1/SAR/SLC/2017/12/21/S1A_IW_SLC__1SDV_20171221T050000_20171221T050027_019796_021AC2_6395.SAFE\n",
      "/eodata/Sentinel-1/SAR/SLC/2018/08/21/S1A_IW_SLC__1SDV_20180821T163602_20180821T163629_023347_028A1C_F4EC.SAFE\n",
      "Read file: S1A_IW_SLC__1SDV_20171221T050000_20171221T050027_019796_021AC2_6395\n",
      "Read file: S1A_IW_SLC__1SDV_20180821T163602_20180821T163629_023347_028A1C_F4EC\n",
      "\n",
      "S1A_IW_SLC__1SDV_\n"
     ]
    }
   ],
   "source": [
    "# NOTE:  add them in date order, oldest to newest\n",
    "filename1 = \"/eodata/Sentinel-1/SAR/SLC/2017/12/21/S1A_IW_SLC__1SDV_20171221T050000_20171221T050027_019796_021AC2_6395.SAFE\"\n",
    "filename2 = \"/eodata/Sentinel-1/SAR/SLC/2018/08/21/S1A_IW_SLC__1SDV_20180821T163602_20180821T163629_023347_028A1C_F4EC.SAFE\"\n",
    "\n",
    "print (\"Snappy TOPSAR InSAR: start\")\n",
    "\n",
    "### Read in the files\n",
    "\n",
    "readFiles(filename1, filename2)\n"
   ]
  },
  {
   "cell_type": "code",
   "execution_count": 8,
   "metadata": {},
   "outputs": [
    {
     "name": "stdout",
     "output_type": "stream",
     "text": [
      "Entering: TOPSAR-Split\n",
      "TOPSAR-Split working\n"
     ]
    }
   ],
   "source": [
    "### tOPSAR-Split step\n",
    "tOPSARSplit()\n",
    "\n",
    "if iWriteEachStep: \n",
    "    writeFiles(targetTOPSplit1, strFile1, \"_tOPSARSplit\")\n",
    "    writeFiles(targetTOPSplit2, strFile2, \"_tOPSARSplit\")\n",
    "    \n"
   ]
  },
  {
   "cell_type": "code",
   "execution_count": 9,
   "metadata": {},
   "outputs": [
    {
     "name": "stdout",
     "output_type": "stream",
     "text": [
      "Entering: ApplyOrbit\n",
      "ApplyOrbit working: 1\n",
      "ApplyOrbit working: 2\n",
      "Added files in reverse order\n"
     ]
    }
   ],
   "source": [
    "### ApplyOrbitFile step\n",
    "applyOrbitFile()\n",
    "\n",
    "if iWriteEachStep: \n",
    "    writeFiles(target1, strFile1, \"_AppOrb\")    \n",
    "    writeFiles(target2, strFile2, \"_AppOrb\")    "
   ]
  },
  {
   "cell_type": "code",
   "execution_count": 10,
   "metadata": {},
   "outputs": [
    {
     "name": "stdout",
     "output_type": "stream",
     "text": [
      "org.esa.snap.core.datamodel.Product[name=S1A_IW_SLC__1SDV_20180821T163602_20180821T163629_023347_028A1C_F4EC_Orb]\n",
      "org.esa.snap.core.datamodel.Product[name=S1A_IW_SLC__1SDV_20171221T050000_20171221T050027_019796_021AC2_6395_Orb]\n",
      "Back-Geocoding working\n"
     ]
    }
   ],
   "source": [
    "### backGeocoding step\n",
    "backGeocoding()\n",
    "if iWriteEachStep:\n",
    "    writeFiles(targetbackGeo, strInSAR, \"_CFCoReg\")    "
   ]
  },
  {
   "cell_type": "code",
   "execution_count": 11,
   "metadata": {},
   "outputs": [
    {
     "name": "stdout",
     "output_type": "stream",
     "text": [
      "Entering: Interferogram\n",
      "Interferogram working\n"
     ]
    }
   ],
   "source": [
    "### Interferogram step\n",
    "interferogram()\n",
    "\n",
    "if iWriteEachStep:\n",
    "    writeFiles(targetInterferogram, strInSAR, \"_Interf\")    "
   ]
  },
  {
   "cell_type": "code",
   "execution_count": 12,
   "metadata": {},
   "outputs": [
    {
     "name": "stdout",
     "output_type": "stream",
     "text": [
      "Entering: TOPSARDeburst\n",
      "TOPSARDeburst working\n",
      "/opt/S1A_IW_SLC__1SDV_result\n"
     ]
    },
    {
     "ename": "RuntimeError",
     "evalue": "java.io.IOException: failed to create data output directory: /opt/S1A_IW_SLC__1SDV_result.data",
     "output_type": "error",
     "traceback": [
      "\u001b[0;31m---------------------------------------------------------------------------\u001b[0m",
      "\u001b[0;31mRuntimeError\u001b[0m                              Traceback (most recent call last)",
      "\u001b[0;32m<ipython-input-12-cb39d5e4cf06>\u001b[0m in \u001b[0;36m<module>\u001b[0;34m()\u001b[0m\n\u001b[1;32m      4\u001b[0m \u001b[0mtOPSARDeburst\u001b[0m\u001b[0;34m(\u001b[0m\u001b[0;34m)\u001b[0m\u001b[0;34m\u001b[0m\u001b[0m\n\u001b[1;32m      5\u001b[0m \u001b[0;34m\u001b[0m\u001b[0m\n\u001b[0;32m----> 6\u001b[0;31m \u001b[0mwriteFiles\u001b[0m\u001b[0;34m(\u001b[0m\u001b[0mtargetTOPSARDeburst\u001b[0m\u001b[0;34m,\u001b[0m \u001b[0mstrInSAR\u001b[0m\u001b[0;34m,\u001b[0m \u001b[0;34m\"result\"\u001b[0m\u001b[0;34m)\u001b[0m\u001b[0;34m\u001b[0m\u001b[0m\n\u001b[0m\u001b[1;32m      7\u001b[0m \u001b[0;34m\u001b[0m\u001b[0m\n\u001b[1;32m      8\u001b[0m \u001b[0mprint\u001b[0m \u001b[0;34m(\u001b[0m\u001b[0;34m\"Snappy TOPSAR InSAR: end\"\u001b[0m\u001b[0;34m)\u001b[0m\u001b[0;34m\u001b[0m\u001b[0m\n",
      "\u001b[0;32m<ipython-input-6-f8108eeecd5e>\u001b[0m in \u001b[0;36mwriteFiles\u001b[0;34m(target, filename, strStep)\u001b[0m\n\u001b[1;32m     29\u001b[0m     \u001b[0;32mif\u001b[0m \u001b[0miDebug\u001b[0m\u001b[0;34m:\u001b[0m \u001b[0mprint\u001b[0m \u001b[0;34m(\u001b[0m\u001b[0mofile\u001b[0m\u001b[0;34m)\u001b[0m\u001b[0;34m\u001b[0m\u001b[0m\n\u001b[1;32m     30\u001b[0m     \u001b[0;32mif\u001b[0m \u001b[0mtarget\u001b[0m\u001b[0;34m:\u001b[0m\u001b[0;34m\u001b[0m\u001b[0m\n\u001b[0;32m---> 31\u001b[0;31m         \u001b[0mProductIO\u001b[0m\u001b[0;34m.\u001b[0m\u001b[0mwriteProduct\u001b[0m\u001b[0;34m(\u001b[0m\u001b[0mtarget\u001b[0m\u001b[0;34m,\u001b[0m \u001b[0mofile\u001b[0m\u001b[0;34m,\u001b[0m \u001b[0;34m'BEAM-DIMAP'\u001b[0m\u001b[0;34m)\u001b[0m   \u001b[0;31m# TO DO:  allow other types here: BEAM-DIMAP, GeoTIFF-BigTIFF, HDF5\u001b[0m\u001b[0;34m\u001b[0m\u001b[0m\n\u001b[0m\u001b[1;32m     32\u001b[0m     \u001b[0;32melse\u001b[0m\u001b[0;34m:\u001b[0m\u001b[0;34m\u001b[0m\u001b[0m\n\u001b[1;32m     33\u001b[0m         \u001b[0mprint\u001b[0m \u001b[0;34m(\u001b[0m\u001b[0;34m\"writeFiles Error: No target given\"\u001b[0m\u001b[0;34m)\u001b[0m\u001b[0;34m\u001b[0m\u001b[0m\n",
      "\u001b[0;31mRuntimeError\u001b[0m: java.io.IOException: failed to create data output directory: /opt/S1A_IW_SLC__1SDV_result.data"
     ]
    }
   ],
   "source": [
    "\n",
    "\n",
    "### TOPSARDeburst step  (LAST step so naming this _InSAR)\n",
    "tOPSARDeburst()\n",
    "\n",
    "writeFiles(targetTOPSARDeburst, strInSAR, \"result\")\n",
    "\n",
    "print (\"Snappy TOPSAR InSAR: end\")\n",
    "\n"
   ]
  }
 ],
 "metadata": {
  "kernelspec": {
   "display_name": "Python [default]",
   "language": "python",
   "name": "python3"
  },
  "language_info": {
   "codemirror_mode": {
    "name": "ipython",
    "version": 3
   },
   "file_extension": ".py",
   "mimetype": "text/x-python",
   "name": "python",
   "nbconvert_exporter": "python",
   "pygments_lexer": "ipython3",
   "version": "3.6.5"
  },
  "latex_envs": {
   "LaTeX_envs_menu_present": true,
   "autoclose": false,
   "autocomplete": true,
   "bibliofile": "biblio.bib",
   "cite_by": "apalike",
   "current_citInitial": 1,
   "eqLabelWithNumbers": true,
   "eqNumInitial": 1,
   "hotkeys": {
    "equation": "Ctrl-E",
    "itemize": "Ctrl-I"
   },
   "labels_anchors": false,
   "latex_user_defs": false,
   "report_style_numbering": false,
   "user_envs_cfg": false
  }
 },
 "nbformat": 4,
 "nbformat_minor": 2
}
