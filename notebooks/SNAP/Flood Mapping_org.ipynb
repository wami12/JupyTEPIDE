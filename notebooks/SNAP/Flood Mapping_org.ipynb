{
 "cells": [
  {
   "cell_type": "code",
   "execution_count": 1,
   "metadata": {},
   "outputs": [],
   "source": [
    "import snappy\n",
    "from snappy import HashMap\n",
    "from snappy import ProductIO\n",
    "import numpy as np\n",
    "import matplotlib.pyplot as plt\n",
    "import matplotlib\n",
    "matplotlib.rcParams['figure.figsize'] = (20,10)"
   ]
  },
  {
   "cell_type": "markdown",
   "metadata": {},
   "source": [
    "# Data preparation"
   ]
  },
  {
   "cell_type": "code",
   "execution_count": 2,
   "metadata": {},
   "outputs": [
    {
     "name": "stdout",
     "output_type": "stream",
     "text": [
      "org.esa.snap.core.datamodel.Product[name=S1A_IW_GRDH_1SSV_20150904T114747_20150904T114812_007565_00A772_B9FD]\n",
      "Amplitude_VV\n",
      "Intensity_VV\n"
     ]
    }
   ],
   "source": [
    "infile = '/eodata/Sentinel-1/SAR/GRD/2015/09/04/S1A_IW_GRDH_1SSV_20150904T114747_20150904T114812_007565_00A772_B9FD.SAFE'\n",
    "reader = snappy.ProductIO.getProductReaderForInput(infile)\n",
    "product = snappy.ProductIO.readProduct(infile)\n",
    "print(product)\n",
    "for i in product.getBandNames():\n",
    "    print(i)"
   ]
  },
  {
   "cell_type": "markdown",
   "metadata": {},
   "source": [
    "# Calibration"
   ]
  },
  {
   "cell_type": "markdown",
   "metadata": {},
   "source": [
    "## Subset selection"
   ]
  },
  {
   "cell_type": "code",
   "execution_count": 3,
   "metadata": {},
   "outputs": [],
   "source": [
    "polarization='VV'\n",
    "parameters = HashMap() \n",
    "parameters.put('outputSigmaBand', True) \n",
    "parameters.put('sourceBands', 'Intensity_VV') \n",
    "parameters.put('selectedPolarisations', polarization) \n",
    "parameters.put('outputImageScaleInDb', False)  \n",
    "\n",
    "calib = \"calibrate_\" + polarization \n",
    "target_0 = snappy.GPF.createProduct(\"Calibration\", parameters, product) \n",
    "ProductIO.writeProduct(target_0, calib, 'BEAM-DIMAP')\n",
    "        \n",
    "calibration = ProductIO.readProduct(calib + \".dim\")    \n",
    "WKTReader = snappy.jpy.get_type('com.vividsolutions.jts.io.WKTReader')\n",
    "\n",
    "wkt = \"POLYGON((93.4961 24.7281, 94.0121 24.7281, 94.0121 24.4109, 93.4961 24.4109, 93.4961 24.7281))\"\n",
    "geom = WKTReader().read(wkt)\n",
    "\n",
    "parameters = HashMap()\n",
    "parameters.put('geoRegion', geom)\n",
    "parameters.put('outputImageScaleInDb', False)\n",
    "\n",
    "subset = \"subset_\" + polarization\n",
    "target_1 = snappy.GPF.createProduct(\"Subset\", parameters, calibration)\n",
    "ProductIO.writeProduct(target_1, subset, 'BEAM-DIMAP')"
   ]
  },
  {
   "cell_type": "markdown",
   "metadata": {},
   "source": [
    "## Terrain correction"
   ]
  },
  {
   "cell_type": "code",
   "execution_count": 4,
   "metadata": {},
   "outputs": [],
   "source": [
    "parameters = HashMap()     \n",
    "parameters.put('demResamplingMethod', 'NEAREST_NEIGHBOUR') \n",
    "parameters.put('imgResamplingMethod', 'NEAREST_NEIGHBOUR') \n",
    "parameters.put('demName', 'SRTM 3Sec') \n",
    "parameters.put('pixelSpacingInMeter', 10.0) \n",
    "parameters.put('sourceBands', 'Sigma0_' + polarization)\n",
    " \n",
    "terrain = \"corrected_\" + polarization \n",
    "target_2 = snappy.GPF.createProduct(\"Terrain-Correction\", parameters, target_1) \n",
    "ProductIO.writeProduct(target_2, terrain, 'GeoTIFF')"
   ]
  },
  {
   "cell_type": "markdown",
   "metadata": {},
   "source": [
    "# Speckle filtering"
   ]
  },
  {
   "cell_type": "code",
   "execution_count": 5,
   "metadata": {},
   "outputs": [],
   "source": [
    "parameters = HashMap()\n",
    "\n",
    "filterSizeX='5'\n",
    "filterSizeY='5'\n",
    "\n",
    "parameters.put('sourceBands', 'Sigma0_' + polarization)\n",
    "parameters.put('filter', 'Lee')\n",
    "parameters.put('filterSizeX', filterSizeX)\n",
    "parameters.put('filterSizeY', filterSizeY)\n",
    "parameters.put('dampingFactor', '2')\n",
    "parameters.put('estimateENL', 'true')\n",
    "parameters.put('enl', '1.0')\n",
    "parameters.put('numLooksStr', '1')\n",
    "parameters.put('targetWindowSizeStr', '3x3')\n",
    "parameters.put('sigmaStr', '0.9')\n",
    "parameters.put('anSize', '50')\n",
    "\n",
    "speckle_filter = snappy.GPF.createProduct('Speckle-Filter', parameters, target_2)\n"
   ]
  },
  {
   "cell_type": "markdown",
   "metadata": {},
   "source": [
    "# Histogram"
   ]
  },
  {
   "cell_type": "code",
   "execution_count": 6,
   "metadata": {},
   "outputs": [
    {
     "name": "stdout",
     "output_type": "stream",
     "text": [
      "7221 5450\n",
      "39354450\n"
     ]
    }
   ],
   "source": [
    "s0=speckle_filter.getBand('Sigma0_VV')\n",
    "w=s0.getRasterWidth()\n",
    "h=s0.getRasterHeight()\n",
    "print (w,h)\n",
    "s0_data = np.zeros(w * h, np.float32)\n",
    "s0.readPixels(0, 0, w, h, s0_data)\n",
    "print (len(s0_data))"
   ]
  },
  {
   "cell_type": "code",
   "execution_count": 7,
   "metadata": {
    "scrolled": true
   },
   "outputs": [
    {
     "name": "stderr",
     "output_type": "stream",
     "text": [
      "/opt/conda/lib/python3.6/site-packages/numpy/lib/function_base.py:812: RuntimeWarning: invalid value encountered in true_divide\n",
      "  return n/db/n.sum(), bins\n"
     ]
    },
    {
     "data": {
      "image/png": "[encoded data removed]",
      "text/plain": [
       "<Figure size 432x288 with 1 Axes>"
      ]
     },
     "metadata": {},
     "output_type": "display_data"
    }
   ],
   "source": [
    "plt.hist(s0_data,bins=np.logspace(np.log10(0.0001),np.log10(1.0),1000),density=True,facecolor='g', alpha=0.75)\n",
    "plt.show()"
   ]
  },
  {
   "cell_type": "markdown",
   "metadata": {},
   "source": [
    "# Binarization"
   ]
  },
  {
   "cell_type": "code",
   "execution_count": 8,
   "metadata": {},
   "outputs": [
    {
     "name": "stdout",
     "output_type": "stream",
     "text": [
      "Product: corrected_VV_Spk, 7221 x 5450 pixels, None\n",
      "Bands:   ['Sigma0_VV']\n",
      "Writing...\n",
      "Done.\n"
     ]
    }
   ],
   "source": [
    "width = speckle_filter.getSceneRasterWidth()\n",
    "height = speckle_filter.getSceneRasterHeight()\n",
    "name = speckle_filter.getName()\n",
    "description = speckle_filter.getDescription()\n",
    "band_names = speckle_filter.getBandNames()\n",
    "\n",
    "print(\"Product: %s, %d x %d pixels, %s\" % (name, width, height, description))\n",
    "print(\"Bands:   %s\" % (list(band_names)))\n",
    "\n",
    "snappy.GPF.getDefaultInstance().getOperatorSpiRegistry().loadOperatorSpis()\n",
    "BandDescriptor = snappy.jpy.get_type('org.esa.snap.core.gpf.common.BandMathsOp$BandDescriptor')\n",
    "targetBand1 = BandDescriptor()\n",
    "targetBand1.name = 'band_1'\n",
    "targetBand1.type = 'float32'\n",
    "targetBand1.expression = '(Sigma0_VV<0.03)'\n",
    "targetBands = snappy.jpy.array('org.esa.snap.core.gpf.common.BandMathsOp$BandDescriptor', 1)\n",
    "targetBands[0] = targetBand1\n",
    "\n",
    "parameters = HashMap()\n",
    "parameters.put('targetBands', targetBands)\n",
    "result = snappy.GPF.createProduct('BandMaths', parameters, speckle_filter)\n",
    "print(\"Writing...\")\n",
    "\n",
    "ProductIO.writeProduct(result, 'snappy_bmaths_output.dim', 'BEAM-DIMAP')\n",
    "\n",
    "print(\"Done.\")"
   ]
  },
  {
   "cell_type": "code",
   "execution_count": 9,
   "metadata": {},
   "outputs": [
    {
     "data": {
      "text/plain": [
       "<matplotlib.image.AxesImage at 0x7fb708766898>"
      ]
     },
     "execution_count": 9,
     "metadata": {},
     "output_type": "execute_result"
    },
    {
     "data": {
      "image/png": "[encoded data removed]",
      "text/plain": [
       "<Figure size 864x864 with 1 Axes>"
      ]
     },
     "metadata": {},
     "output_type": "display_data"
    }
   ],
   "source": [
    "%matplotlib inline\n",
    "\n",
    "def plotBand(product, band, vmin, vmax):\n",
    "     \n",
    "    band = product.getBand(band)\n",
    "\n",
    "    w = band.getRasterWidth()\n",
    "    h = band.getRasterHeight()\n",
    "\n",
    "    band_data = np.zeros(w * h, np.float32)\n",
    "    band.readPixels(0, 0, w, h, band_data)\n",
    "\n",
    "    band_data.shape = h, w\n",
    "\n",
    "    width = 12\n",
    "    height = 12\n",
    "    plt.figure(figsize=(width, height))\n",
    "    imgplot = plt.imshow(band_data, cmap=plt.cm.binary, vmin=vmin, vmax=vmax)\n",
    "    \n",
    "    return imgplot \n",
    "\n",
    "plotBand(result, 'band_1' , 0, 0.3)"
   ]
  },
  {
   "cell_type": "code",
   "execution_count": null,
   "metadata": {},
   "outputs": [],
   "source": []
  }
 ],
 "metadata": {
  "kernelspec": {
   "display_name": "Python [default]",
   "language": "python",
   "name": "python3"
  },
  "language_info": {
   "codemirror_mode": {
    "name": "ipython",
    "version": 3
   },
   "file_extension": ".py",
   "mimetype": "text/x-python",
   "name": "python",
   "nbconvert_exporter": "python",
   "pygments_lexer": "ipython3",
   "version": "3.6.6"
  },
  "latex_envs": {
   "LaTeX_envs_menu_present": true,
   "autoclose": false,
   "autocomplete": true,
   "bibliofile": "biblio.bib",
   "cite_by": "apalike",
   "current_citInitial": 1,
   "eqLabelWithNumbers": true,
   "eqNumInitial": 1,
   "hotkeys": {
    "equation": "Ctrl-E",
    "itemize": "Ctrl-I"
   },
   "labels_anchors": false,
   "latex_user_defs": false,
   "report_style_numbering": false,
   "user_envs_cfg": false
  }
 },
 "nbformat": 4,
 "nbformat_minor": 2
}
