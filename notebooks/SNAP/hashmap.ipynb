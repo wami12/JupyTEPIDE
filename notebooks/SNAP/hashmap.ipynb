{
 "cells": [
  {
   "cell_type": "code",
   "execution_count": 36,
   "metadata": {},
   "outputs": [],
   "source": [
    "from snappy import ProductIO, GPF, jpy\n",
    "class pyHashMap(dict):\n",
    "    \"\"\"\n",
    "    Dictionary that can return Java HashMap object and mimics some HashMap behaviour\n",
    "    \"\"\"\n",
    "\n",
    "    def __init__(self, *args, **kwargs):        \n",
    "        self.dict = dict(*args, **kwargs)\n",
    "        HashMap = jpy.get_type('java.util.HashMap')        \n",
    "        self.params=HashMap()\n",
    "\n",
    "\n",
    "    def __setitem__(self, key, val):\n",
    "        \"\"\"\n",
    "        Add key/value pair\n",
    "        \"\"\"\n",
    "        dict.__setitem__(self, key, val)\n",
    "        self.params.put(key,val)\n",
    "    \n",
    "    def clear(self):\n",
    "        \"\"\"\n",
    "        Clear map\n",
    "        \"\"\"\n",
    "        self.dict={}\n",
    "        self.params.clear()\n",
    "    \n",
    "    def containsKey(self,key):\n",
    "        \"\"\"\n",
    "        True if key is in map keys false otherwise\n",
    "        \"\"\"\n",
    "        if key in self.keys():            \n",
    "            return True\n",
    "        else:\n",
    "            return False\n",
    "    \n",
    "    def containsValue(self,value):\n",
    "        \"\"\"\n",
    "        True if value is in map values false otherwise\n",
    "        \"\"\"\n",
    "        if value in self.values():            \n",
    "            return True\n",
    "        else:\n",
    "            return False\n",
    "    \n",
    "    def remove(self,key):\n",
    "        \"\"\"\n",
    "        removes an item\n",
    "        \"\"\"\n",
    "        try:\n",
    "            del self[key]\n",
    "            self.params.remove(key)\n",
    "        except KeyError:\n",
    "            print(\"Key\",key,\"not found\")\n",
    "    \n",
    "    def giveHashMap(self):\n",
    "        \"\"\"\n",
    "        returns hashMap\n",
    "        \"\"\"\n",
    "        return self.params"
   ]
  },
  {
   "cell_type": "code",
   "execution_count": 41,
   "metadata": {},
   "outputs": [
    {
     "name": "stdout",
     "output_type": "stream",
     "text": [
      "Python dict:  {'3': 4, 'foo': 'bar', '5': 6} \n",
      "Java HashMap:  {3=4, 5=6, foo=bar}\n"
     ]
    }
   ],
   "source": [
    "a=pyHashMap()\n",
    "a['3']=4\n",
    "a['5']=6\n",
    "a['foo']='bar'\n",
    "print(\"Python dict: \",a,\"\\nJava HashMap: \",a.giveHashMap())"
   ]
  },
  {
   "cell_type": "code",
   "execution_count": null,
   "metadata": {
    "collapsed": true
   },
   "outputs": [],
   "source": []
  }
 ],
 "metadata": {
  "kernelspec": {
   "display_name": "Python 3.4",
   "language": "python",
   "name": "python34"
  },
  "language_info": {
   "codemirror_mode": {
    "name": "ipython",
    "version": 3
   },
   "file_extension": ".py",
   "mimetype": "text/x-python",
   "name": "python",
   "nbconvert_exporter": "python",
   "pygments_lexer": "ipython3",
   "version": "3.4.5"
  }
 },
 "nbformat": 4,
 "nbformat_minor": 2
}
