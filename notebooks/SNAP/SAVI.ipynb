{
 "cells": [
  {
   "cell_type": "markdown",
   "metadata": {},
   "source": [
    "# Calculate SAVI using snappy\n",
    "## Import libraries"
   ]
  },
  {
   "cell_type": "code",
   "execution_count": null,
   "metadata": {},
   "outputs": [],
   "source": [
    "import numpy\n",
    "from snappy import Product, ProductData, ProductIO, ProductUtils, FlagCoding"
   ]
  },
  {
   "cell_type": "markdown",
   "metadata": {},
   "source": [
    "## Read product"
   ]
  },
  {
   "cell_type": "code",
   "execution_count": null,
   "metadata": {},
   "outputs": [],
   "source": [
    "file = '/eodata/Sentinel-2/MSI/L1C/2017/09/14/S2A_MSIL1C_20170914T033531_N0205_R061_T51VUJ_20170914T033641.SAFE'\n",
    "\n",
    "L=0.5\n",
    "\n",
    "print(\"Reading...\")\n",
    "product = ProductIO.readProduct(file)\n",
    "width = product.getSceneRasterWidth()\n",
    "height = product.getSceneRasterHeight()\n",
    "name = product.getName()\n",
    "description = product.getDescription()\n",
    "band_names = product.getBandNames()\n",
    "\n",
    "print(\"Product:     %s, %s\" % (name, description))\n",
    "print(\"Raster size: %d x %d pixels\" % (width, height))\n",
    "print(\"Start time:  \" + str(product.getStartTime()))\n",
    "print(\"End time:    \" + str(product.getEndTime()))\n",
    "print(\"Bands:       %s\" % (list(band_names)))\n",
    "\n",
    "\n",
    "b7 = product.getBand('B4')\n",
    "b10 = product.getBand('B8')"
   ]
  },
  {
   "cell_type": "markdown",
   "metadata": {},
   "source": [
    "## Calculate SAVI and write product"
   ]
  },
  {
   "cell_type": "code",
   "execution_count": null,
   "metadata": {},
   "outputs": [],
   "source": [
    "saviProduct = Product('savi', 'savi', width, height)\n",
    "saviBand = saviProduct.addBand('savi', ProductData.TYPE_FLOAT32)\n",
    "saviFlagsBand = saviProduct.addBand('savi_flags', ProductData.TYPE_UINT8)\n",
    "writer = ProductIO.getProductWriter('BEAM-DIMAP')\n",
    "\n",
    "ProductUtils.copyGeoCoding(product, saviProduct)\n",
    "\n",
    "saviFlagCoding = FlagCoding('savi_flags')\n",
    "saviFlagCoding.addFlag(\"savi_LOW\", 1, \"savi below 0\")\n",
    "saviFlagCoding.addFlag(\"savi_HIGH\", 2, \"savi above 1\")\n",
    "group = saviProduct.getFlagCodingGroup()\n",
    "group.add(saviFlagCoding)\n",
    "\n",
    "saviFlagsBand.setSampleCoding(saviFlagCoding)\n",
    "\n",
    "saviProduct.setProductWriter(writer)\n",
    "saviProduct.writeHeader('snappy_savi_output.dim')\n",
    "\n",
    "r7 = numpy.zeros(width, dtype=numpy.float32)\n",
    "r10 = numpy.zeros(width, dtype=numpy.float32)\n",
    "\n",
    "print(\"Writing...\")\n",
    "\n",
    "for y in range(height):\n",
    "    print(\"processing line \", y, \" of \", height)\n",
    "    r7 = b7.readPixels(0, y, width, 1, r7)\n",
    "    r10 = b10.readPixels(0, y, width, 1, r10)\n",
    "    savi = (r10 - r7) / (r10 + r7+L)\n",
    "    saviBand.writePixels(0, y, width, 1, savi)\n",
    "    saviLow = savi < 0.0\n",
    "    saviHigh = savi > 1.0\n",
    "    saviFlags = numpy.array(saviLow + 2 * saviHigh, dtype=numpy.int32)\n",
    "    saviFlagsBand.writePixels(0, y, width, 1, saviFlags)\n",
    "\n",
    "saviProduct.closeIO()\n",
    "\n",
    "print(\"Done.\")"
   ]
  }
 ],
 "metadata": {
  "kernelspec": {
   "display_name": "Python 3.4",
   "language": "python",
   "name": "python34"
  },
  "language_info": {
   "codemirror_mode": {
    "name": "ipython",
    "version": 3.0
   },
   "file_extension": ".py",
   "mimetype": "text/x-python",
   "name": "python",
   "nbconvert_exporter": "python",
   "pygments_lexer": "ipython3",
   "version": "3.4.5"
  }
 },
 "nbformat": 4,
 "nbformat_minor": 0
}