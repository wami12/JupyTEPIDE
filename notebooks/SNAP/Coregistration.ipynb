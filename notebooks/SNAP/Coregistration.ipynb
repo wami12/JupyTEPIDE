{
 "cells": [
  {
   "cell_type": "code",
   "execution_count": 10,
   "metadata": {},
   "outputs": [],
   "source": [
    "from snappy import GPF\n",
    "from snappy import HashMap\n",
    "from snappy import jpy\n",
    "from snappy import ProductIO"
   ]
  },
  {
   "cell_type": "markdown",
   "metadata": {},
   "source": [
    "# Product Set Reader"
   ]
  },
  {
   "cell_type": "code",
   "execution_count": 22,
   "metadata": {},
   "outputs": [],
   "source": [
    "f1 = '/eodata/Sentinel-1/SAR/SLC/2018/08/11/S1A_IW_SLC__1SDV_20180811T161938_20180811T162005_023201_028566_9AE9.SAFE'\n",
    "f2 = '/eodata/Sentinel-1/SAR/SLC/2018/03/25/S1A_IW_SLC__1SDV_20180325T162742_20180325T162809_021174_024667_DFFD.SAFE'\n",
    "\n",
    "processed_files = [f1, f2]\n",
    "product_set = []\n",
    "\n",
    "for f in processed_files:\n",
    "    product_set.append(ProductIO.readProduct(f))"
   ]
  },
  {
   "cell_type": "markdown",
   "metadata": {},
   "source": [
    "# TOPSAR-Split"
   ]
  },
  {
   "cell_type": "code",
   "execution_count": 25,
   "metadata": {},
   "outputs": [],
   "source": [
    "params = HashMap()\n",
    "params.put('subswath', 'IW1')\n",
    "splitted = []\n",
    "for f in processed_files:\n",
    "    splitted.append(GPF.createProduct('TOPSAR-Split', params, product))"
   ]
  },
  {
   "cell_type": "markdown",
   "metadata": {},
   "source": [
    "# Apply orbit files"
   ]
  },
  {
   "cell_type": "code",
   "execution_count": 27,
   "metadata": {},
   "outputs": [],
   "source": [
    "params = HashMap()\n",
    "orbit = []\n",
    "for product in product_set:\n",
    "    orbit.append(GPF.createProduct(\"Apply-Orbit-File\", params, splitted))"
   ]
  },
  {
   "cell_type": "markdown",
   "metadata": {},
   "source": [
    "# Back geocoding"
   ]
  },
  {
   "cell_type": "code",
   "execution_count": 30,
   "metadata": {},
   "outputs": [
    {
     "data": {
      "text/plain": [
       "org.esa.snap.core.datamodel.Product(objectRef=0x4a41b68)"
      ]
     },
     "execution_count": 30,
     "metadata": {},
     "output_type": "execute_result"
    }
   ],
   "source": [
    "params = HashMap()\n",
    "params.put('demResamplingMethod', 'BILINEAR_INTERPOLATION')\n",
    "params.put('resamplingType', 'BILINEAR_INTERPOLATION')\n",
    "params.put('maskOutAreaWithoutElevation', True)\n",
    "params.put('outputDerampDemodPhase', True)\n",
    "GPF.createProduct('Back-Geocoding', parameters, orbit)"
   ]
  }
 ],
 "metadata": {
  "kernelspec": {
   "display_name": "Python [default]",
   "language": "python",
   "name": "python3"
  },
  "language_info": {
   "codemirror_mode": {
    "name": "ipython",
    "version": 3
   },
   "file_extension": ".py",
   "mimetype": "text/x-python",
   "name": "python",
   "nbconvert_exporter": "python",
   "pygments_lexer": "ipython3",
   "version": "3.6.5"
  },
  "latex_envs": {
   "LaTeX_envs_menu_present": true,
   "autoclose": false,
   "autocomplete": true,
   "bibliofile": "biblio.bib",
   "cite_by": "apalike",
   "current_citInitial": 1,
   "eqLabelWithNumbers": true,
   "eqNumInitial": 1,
   "hotkeys": {
    "equation": "Ctrl-E",
    "itemize": "Ctrl-I"
   },
   "labels_anchors": false,
   "latex_user_defs": false,
   "report_style_numbering": false,
   "user_envs_cfg": false
  }
 },
 "nbformat": 4,
 "nbformat_minor": 2
}
