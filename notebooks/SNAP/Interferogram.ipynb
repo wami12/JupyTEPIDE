{
 "cells": [
  {
   "cell_type": "code",
   "execution_count": 3,
   "metadata": {},
   "outputs": [],
   "source": [
    "from snappy import GPF\n",
    "from snappy import ProductIO\n",
    "from snappy import HashMap\n",
    "GPF.getDefaultInstance().getOperatorSpiRegistry().loadOperatorSpis()"
   ]
  },
  {
   "cell_type": "markdown",
   "metadata": {},
   "source": [
    "# Data preparation"
   ]
  },
  {
   "cell_type": "code",
   "execution_count": 4,
   "metadata": {},
   "outputs": [],
   "source": [
    "infile = 'coregisteredstack.beam'\n",
    "reader = snappy.ProductIO.getProductReaderForInput(infile)\n",
    "product = snappy.ProductIO.readProduct(infile)"
   ]
  },
  {
   "cell_type": "code",
   "execution_count": null,
   "metadata": {},
   "outputs": [],
   "source": [
    "# Processing"
   ]
  },
  {
   "cell_type": "code",
   "execution_count": 5,
   "metadata": {},
   "outputs": [
    {
     "ename": "RuntimeError",
     "evalue": "org.esa.snap.core.gpf.OperatorException: Input should be a coregistered stack.",
     "output_type": "error",
     "traceback": [
      "\u001b[0;31m---------------------------------------------------------------------------\u001b[0m",
      "\u001b[0;31mRuntimeError\u001b[0m                              Traceback (most recent call last)",
      "\u001b[0;32m<ipython-input-5-bae41e53c688>\u001b[0m in \u001b[0;36m<module>\u001b[0;34m()\u001b[0m\n\u001b[1;32m      9\u001b[0m \u001b[0mparameters\u001b[0m\u001b[0;34m.\u001b[0m\u001b[0mput\u001b[0m\u001b[0;34m(\u001b[0m\u001b[0;34m\"Coherence Azimuth Window Size\"\u001b[0m\u001b[0;34m,\u001b[0m \u001b[0;36m10\u001b[0m\u001b[0;34m)\u001b[0m\u001b[0;34m\u001b[0m\u001b[0m\n\u001b[1;32m     10\u001b[0m \u001b[0mparameters\u001b[0m\u001b[0;34m.\u001b[0m\u001b[0mput\u001b[0m\u001b[0;34m(\u001b[0m\u001b[0;34m\"Coherence Range Window Size\"\u001b[0m\u001b[0;34m,\u001b[0m \u001b[0;36m10\u001b[0m\u001b[0;34m)\u001b[0m\u001b[0;34m\u001b[0m\u001b[0m\n\u001b[0;32m---> 11\u001b[0;31m \u001b[0mtargetInterferogram\u001b[0m \u001b[0;34m=\u001b[0m \u001b[0mGPF\u001b[0m\u001b[0;34m.\u001b[0m\u001b[0mcreateProduct\u001b[0m\u001b[0;34m(\u001b[0m\u001b[0;34m\"Interferogram\"\u001b[0m\u001b[0;34m,\u001b[0m \u001b[0mparameters\u001b[0m\u001b[0;34m,\u001b[0m \u001b[0mproduct\u001b[0m\u001b[0;34m)\u001b[0m\u001b[0;34m\u001b[0m\u001b[0m\n\u001b[0m",
      "\u001b[0;31mRuntimeError\u001b[0m: org.esa.snap.core.gpf.OperatorException: Input should be a coregistered stack."
     ]
    }
   ],
   "source": [
    "parameters = HashMap()\n",
    "parameters.put(\"Subtract flat-earth phase\", True)\n",
    "parameters.put(\"Degree of \\\"Flat Earth\\\" polynomial\", 5)\n",
    "parameters.put(\"Number of \\\"Flat Earth\\\" estimation points\", 501)\n",
    "parameters.put(\"Orbit interpolation degree\", 3)\n",
    "parameters.put(\"Include coherence estimation\", True)\n",
    "parameters.put(\"Square Pixel\", False)\n",
    "parameters.put(\"Independent Window Sizes\", False)   \n",
    "parameters.put(\"Coherence Azimuth Window Size\", 10)\n",
    "parameters.put(\"Coherence Range Window Size\", 10)\n",
    "targetInterferogram = GPF.createProduct(\"Interferogram\", parameters, coregisteredstack)"
   ]
  }
 ],
 "metadata": {
  "kernelspec": {
   "display_name": "Python [default]",
   "language": "python",
   "name": "python3"
  },
  "language_info": {
   "codemirror_mode": {
    "name": "ipython",
    "version": 3
   },
   "file_extension": ".py",
   "mimetype": "text/x-python",
   "name": "python",
   "nbconvert_exporter": "python",
   "pygments_lexer": "ipython3",
   "version": "3.6.5"
  },
  "latex_envs": {
   "LaTeX_envs_menu_present": true,
   "autoclose": false,
   "autocomplete": true,
   "bibliofile": "biblio.bib",
   "cite_by": "apalike",
   "current_citInitial": 1,
   "eqLabelWithNumbers": true,
   "eqNumInitial": 1,
   "hotkeys": {
    "equation": "Ctrl-E",
    "itemize": "Ctrl-I"
   },
   "labels_anchors": false,
   "latex_user_defs": false,
   "report_style_numbering": false,
   "user_envs_cfg": false
  }
 },
 "nbformat": 4,
 "nbformat_minor": 2
}
