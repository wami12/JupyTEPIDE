{
 "cells": [
  {
   "cell_type": "markdown",
   "metadata": {},
   "source": [
    "## NDVI calculation based on snappy examples"
   ]
  },
  {
   "cell_type": "markdown",
   "metadata": {},
   "source": [
    "## Import libraries"
   ]
  },
  {
   "cell_type": "code",
   "execution_count": null,
   "metadata": {},
   "outputs": [],
   "source": [
    "import numpy\n",
    "from snappy import Product, ProductData, ProductIO, ProductUtils, FlagCoding"
   ]
  },
  {
   "cell_type": "markdown",
   "metadata": {},
   "source": [
    "## Read and display file info"
   ]
  },
  {
   "cell_type": "code",
   "execution_count": null,
   "metadata": {},
   "outputs": [],
   "source": [
    "infile = '/eodata/Envisat/Meris/FRS/2012/04/08/MER_FRS_1PPEPA20120408_105857_000005063113_00267_52867_0978.N1'\n",
    "\n",
    "print(\"Reading...\")\n",
    "product = ProductIO.readProduct(infile)\n",
    "width = product.getSceneRasterWidth()\n",
    "height = product.getSceneRasterHeight()\n",
    "name = product.getName()\n",
    "description = product.getDescription()\n",
    "band_names = product.getBandNames()\n",
    "print(\"Product:     %s, %s\" % (name, description))\n",
    "print(\"Raster size: %d x %d pixels\" % (width, height))\n",
    "print(\"Start time:  \" + str(product.getStartTime()))\n",
    "print(\"End time:    \" + str(product.getEndTime()))\n",
    "print(\"Bands:       %s\" % (list(band_names)))"
   ]
  },
  {
   "cell_type": "markdown",
   "metadata": {},
   "source": [
    "## Read bands "
   ]
  },
  {
   "cell_type": "code",
   "execution_count": null,
   "metadata": {},
   "outputs": [],
   "source": [
    "b7 = product.getBand('radiance_7')\n",
    "b10 = product.getBand('radiance_10')"
   ]
  },
  {
   "cell_type": "markdown",
   "metadata": {},
   "source": [
    "## Prepare and write output product"
   ]
  },
  {
   "cell_type": "code",
   "execution_count": null,
   "metadata": {},
   "outputs": [],
   "source": [
    "ndviProduct = Product('NDVI', 'NDVI', width, height)\n",
    "ndviBand = ndviProduct.addBand('ndvi', ProductData.TYPE_FLOAT32)\n",
    "ndviFlagsBand = ndviProduct.addBand('ndvi_flags', ProductData.TYPE_UINT8)\n",
    "writer = ProductIO.getProductWriter('BEAM-DIMAP')\n",
    "\n",
    "ProductUtils.copyGeoCoding(product, ndviProduct)\n",
    "\n",
    "ndviFlagCoding = FlagCoding('ndvi_flags')\n",
    "ndviFlagCoding.addFlag(\"NDVI_LOW\", 1, \"NDVI below 0\")\n",
    "ndviFlagCoding.addFlag(\"NDVI_HIGH\", 2, \"NDVI above 1\")\n",
    "group = ndviProduct.getFlagCodingGroup()\n",
    "group.add(ndviFlagCoding)\n",
    "\n",
    "ndviFlagsBand.setSampleCoding(ndviFlagCoding)\n",
    "\n",
    "ndviProduct.setProductWriter(writer)\n",
    "ndviProduct.writeHeader('snappy_ndvi_output.dim')\n",
    "\n",
    "r7 = numpy.zeros(width, dtype=numpy.float32)\n",
    "r10 = numpy.zeros(width, dtype=numpy.float32)\n",
    "\n",
    "print(\"Writing...\")\n",
    "\n",
    "for y in range(height):\n",
    "    print(\"processing line \", y, \" of \", height)\n",
    "    r7 = b7.readPixels(0, y, width, 1, r7)\n",
    "    r10 = b10.readPixels(0, y, width, 1, r10)\n",
    "\n",
    "    ndvi = (r10 - r7) / (r10 + r7)\n",
    "    ndviBand.writePixels(0, y, width, 1, ndvi)\n",
    "    ndviLow = ndvi < 0.0\n",
    "    ndviHigh = ndvi > 1.0\n",
    "    ndviFlags = numpy.array(ndviLow + 2 * ndviHigh, dtype=numpy.int32)\n",
    "    ndviFlagsBand.writePixels(0, y, width, 1, ndviFlags)\n",
    "\n",
    "ndviProduct.closeIO()\n",
    "\n",
    "print(\"Done.\")"
   ]
  }
 ],
 "metadata": {
  "kernelspec": {
   "display_name": "Python 3.4",
   "language": "python",
   "name": "python34"
  },
  "language_info": {
   "codemirror_mode": {
    "name": "ipython",
    "version": 3.0
   },
   "file_extension": ".py",
   "mimetype": "text/x-python",
   "name": "python",
   "nbconvert_exporter": "python",
   "pygments_lexer": "ipython3",
   "version": "3.4.5"
  }
 },
 "nbformat": 4,
 "nbformat_minor": 0
}