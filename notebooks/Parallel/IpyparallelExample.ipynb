{
 "cells": [
  {
   "cell_type": "markdown",
   "metadata": {},
   "source": [
    "#IPyParallel example notebook\n",
    "This notebok presents the application of ipyparallel for parallel computing. For the example dummy functions are used. Any processing can be parallelized on the basis of this notebook.\n"
   ]
  },
  {
   "cell_type": "markdown",
   "metadata": {},
   "source": [
    "## Imports"
   ]
  },
  {
   "cell_type": "code",
   "execution_count": null,
   "metadata": {},
   "outputs": [],
   "source": [
    "import numpy as np\n",
    "from ipyparallel import Client\n",
    "import time as t"
   ]
  },
  {
   "cell_type": "markdown",
   "metadata": {},
   "source": [
    "## Create list of clients for parallel use, properties ids contains id's of these Clients"
   ]
  },
  {
   "cell_type": "code",
   "execution_count": null,
   "metadata": {},
   "outputs": [],
   "source": [
    "cList = Client() "
   ]
  },
  {
   "cell_type": "markdown",
   "metadata": {},
   "source": [
    "## Prepare functions for processing\n",
    "Input parameters can not be modified thus its copy is created."
   ]
  },
  {
   "cell_type": "code",
   "execution_count": null,
   "metadata": {},
   "outputs": [],
   "source": [
    "def functionToDO(data):\n",
    "    data = data.copy()\n",
    "\n",
    "    for i in range(len(data)):\n",
    "        data[i] = data[i] ** 3\n",
    "    return data\n",
    "\n",
    "\n",
    "def functionSaveData(data, nameOfFile, potega):\n",
    "    file = open(nameOfFile, 'w')\n",
    "    for item in data:\n",
    "        res = 1;\n",
    "        licznik = item * potega\n",
    "        while licznik > 0:\n",
    "            res = res * licznik\n",
    "            licznik = licznik - 1\n",
    "\n",
    "        file.write(\"%s\\n\" % res)\n",
    "    file.close()\n",
    "    return 'ok'\n",
    "\n",
    "\n",
    "def functionSaveData2(nameOfFile):\n",
    "    file = open(nameOfFile, 'w')\n",
    "\n",
    "    licznik = 100\n",
    "    res = 1;\n",
    "    while licznik > 0:\n",
    "        res = res * licznik\n",
    "        licznik = licznik - 1\n",
    "        file.write(\"%s\\n\" % res)\n",
    "    file.close()\n",
    "    return 'ok'"
   ]
  },
  {
   "cell_type": "markdown",
   "metadata": {},
   "source": [
    "## Prepare dummy dataset"
   ]
  },
  {
   "cell_type": "code",
   "execution_count": null,
   "metadata": {},
   "outputs": [],
   "source": [
    "dataSet=[]\n",
    "for i in range(1,35):\n",
    "    dataSet.append(i)"
   ]
  },
  {
   "cell_type": "markdown",
   "metadata": {},
   "source": [
    "## Start the engine "
   ]
  },
  {
   "cell_type": "code",
   "execution_count": 96,
   "metadata": {},
   "outputs": [],
   "source": [
    "result=cList[0].apply_sync(functionToDO, dataSet)"
   ]
  },
  {
   "cell_type": "markdown",
   "metadata": {},
   "source": [
    "## Save to file using single engine"
   ]
  },
  {
   "cell_type": "code",
   "execution_count": 97,
   "metadata": {
    "collapsed": false
   },
   "outputs": [
    {
     "data": {
      "text/plain": [
       "'ok'"
      ]
     },
     "execution_count": 97,
     "metadata": {},
     "output_type": "execute_result"
    }
   ],
   "source": [
    "cList[0].apply_sync(functionSaveData, dataSet,'result.txt',3)"
   ]
  },
  {
   "cell_type": "markdown",
   "metadata": {},
   "source": [
    "## Prepare data for processing"
   ]
  },
  {
   "cell_type": "code",
   "execution_count": 98,
   "metadata": {},
   "outputs": [],
   "source": [
    "number_of_tasks=300\n",
    "_data=[]\n",
    "_powers=[]\n",
    "_filenames=[]\n",
    "for i in range(1, number_of_tasks + 1):\n",
    "    _data.append(dataSet)\n",
    "    _powers.append(i)\n",
    "    _filenames.append('result_' + str(i) + '.txt')\n"
   ]
  },
  {
   "cell_type": "markdown",
   "metadata": {},
   "source": [
    "## Save to file by multiple engines without waiting for execution end, no load balanced"
   ]
  },
  {
   "cell_type": "code",
   "execution_count": 99,
   "metadata": {},
   "outputs": [],
   "source": [
    "lview=cList[:]\n",
    "results1=parallel_result = lview.map(functionSaveData, _data, _filenames, _powers)    "
   ]
  },
  {
   "cell_type": "markdown",
   "metadata": {},
   "source": [
    "## Save to file by multiple engines without waiting for execution end, with load balanced"
   ]
  },
  {
   "cell_type": "code",
   "execution_count": 100,
   "metadata": {},
   "outputs": [],
   "source": [
    "lview = cList.load_balanced_view()\n",
    "result1=parallel_result = lview.map(functionSaveData, _data, _filenames, _powers)"
   ]
  },
  {
   "cell_type": "markdown",
   "metadata": {},
   "source": [
    "## Another dummy function"
   ]
  },
  {
   "cell_type": "code",
   "execution_count": null,
   "metadata": {},
   "outputs": [],
   "source": [
    "def wait(times):\n",
    "    import time\n",
    "    tic = time.time()\n",
    "    time.sleep(times)\n",
    "    return time.time()-tic"
   ]
  },
  {
   "cell_type": "markdown",
   "metadata": {},
   "source": [
    "## Synchronous function call"
   ]
  },
  {
   "cell_type": "code",
   "execution_count": 126,
   "metadata": {},
   "outputs": [
    {
     "data": {
      "text/plain": [
       "[1.0004768371582031,\n 1.0000030994415283,\n 1.0009777545928955,\n 1.0004770755767822]"
      ]
     },
     "execution_count": 126,
     "metadata": {},
     "output_type": "execute_result"
    }
   ],
   "source": [
    "dview = cList[:] \n",
    "dview.block=True\n",
    "dview['a'] = 5\n",
    "dview['b'] = 10\n",
    "dview['data']=dataSet\n",
    "\n",
    "delays=[1, 2, 3, 4]\n",
    "\n",
    "ar = dview.apply_async(wait, 1)\n",
    "ar.get()"
   ]
  },
  {
   "cell_type": "markdown",
   "metadata": {},
   "source": [
    "## Import numpy here and everywhere"
   ]
  },
  {
   "cell_type": "code",
   "execution_count": 128,
   "metadata": {
    "collapsed": false
   },
   "outputs": [
    {
     "name": "stdout",
     "output_type": "stream",
     "text": [
      "importing numpy on engine(s)\n"
     ]
    }
   ],
   "source": [
    "with cList[:].sync_imports():\n",
    "    import numpy"
   ]
  },
  {
   "cell_type": "markdown",
   "metadata": {},
   "source": [
    "## Example of using %px cell magic\n",
    "The %px magic executes a single Python command on the engines specified by the targets attribute of the DirectView instance"
   ]
  },
  {
   "cell_type": "code",
   "execution_count": 134,
   "metadata": {},
   "outputs": [],
   "source": [
    "%px a = numpy.random.rand(2,2)\n"
   ]
  },
  {
   "cell_type": "code",
   "execution_count": 136,
   "metadata": {},
   "outputs": [
    {
     "data": {
      "text/plain": [
       "\u001b[0;31mOut[0:8]: \u001b[0marray([ 0.43618706,  0.72317614])"
      ]
     },
     "execution_count": 0,
     "metadata": {},
     "output_type": "execute_result"
    },
    {
     "data": {
      "text/plain": [
       "\u001b[0;31mOut[1:8]: \u001b[0marray([ 0.84667598,  0.16517367])"
      ]
     },
     "execution_count": 0,
     "metadata": {},
     "output_type": "execute_result"
    },
    {
     "data": {
      "text/plain": [
       "\u001b[0;31mOut[2:8]: \u001b[0marray([ 0.75934655,  0.06421126])"
      ]
     },
     "execution_count": 0,
     "metadata": {},
     "output_type": "execute_result"
    },
    {
     "data": {
      "text/plain": [
       "\u001b[0;31mOut[3:8]: \u001b[0marray([-0.33629903,  0.91484145])"
      ]
     },
     "execution_count": 0,
     "metadata": {},
     "output_type": "execute_result"
    }
   ],
   "source": [
    "%px numpy.linalg.eigvals(a)\n"
   ]
  },
  {
   "cell_type": "code",
   "execution_count": 140,
   "metadata": {},
   "outputs": [
    {
     "name": "stdout",
     "output_type": "stream",
     "text": [
      "[stdout:0] hi\n[stdout:1] hi\n[stdout:2] hi\n[stdout:3] hi\n"
     ]
    }
   ],
   "source": [
    "%px print ('hi')"
   ]
  },
  {
   "cell_type": "code",
   "execution_count": 142,
   "metadata": {},
   "outputs": [
    {
     "name": "stdout",
     "output_type": "stream",
     "text": [
      "[stdout:0] Populating the interactive namespace from numpy and matplotlib\n[stdout:1] Populating the interactive namespace from numpy and matplotlib\n[stdout:2] Populating the interactive namespace from numpy and matplotlib\n[stdout:3] Populating the interactive namespace from numpy and matplotlib\n"
     ]
    }
   ],
   "source": [
    "%px %pylab inline"
   ]
  },
  {
   "cell_type": "code",
   "execution_count": null,
   "metadata": {},
   "outputs": [],
   "source": [
    "%px plot(rand(100))"
   ]
  }
 ],
 "metadata": {
  "kernelspec": {
   "display_name": "Python 2",
   "language": "python",
   "name": "python2"
  },
  "language_info": {
   "codemirror_mode": {
    "name": "ipython",
    "version": 2
   },
   "file_extension": ".py",
   "mimetype": "text/x-python",
   "name": "python",
   "nbconvert_exporter": "python",
   "pygments_lexer": "ipython2",
   "version": "2.7.6"
  }
 },
 "nbformat": 4,
 "nbformat_minor": 0
}
