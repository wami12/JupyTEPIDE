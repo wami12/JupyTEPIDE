{
 "cells": [
  {
   "cell_type": "markdown",
   "metadata": {
    "slideshow": {
     "slide_type": "slide"
    }
   },
   "source": [
    "# Start IPython cluster\n",
    "The cluster can be started from JupyTEP IDE main page. \n",
    "\n",
    "![Screenshot](clusters.png \"Starting IPython clusters\")"
   ]
  },
  {
   "cell_type": "markdown",
   "metadata": {
    "slideshow": {
     "slide_type": "slide"
    }
   },
   "source": [
    "# Imports\n",
    "Let's import required libraries to our notebook and to each engine."
   ]
  },
  {
   "cell_type": "code",
   "execution_count": 1,
   "metadata": {
    "slideshow": {
     "slide_type": "subslide"
    }
   },
   "outputs": [
    {
     "name": "stdout",
     "output_type": "stream",
     "text": [
      "importing snappy on engine(s)\n",
      "importing ProductIO from snappy on engine(s)\n",
      "importing ProgressMonitor from snappy on engine(s)\n",
      "importing jpy from snappy on engine(s)\n"
     ]
    }
   ],
   "source": [
    "import ipyparallel\n",
    "import snappy\n",
    "import matplotlib as plt\n",
    "\n",
    "rc=ipyparallel.Client()\n",
    "with rc[:].sync_imports():    \n",
    "    import snappy\n",
    "    from snappy import ProductIO\n",
    "    from snappy import ProgressMonitor\n",
    "    from snappy import jpy\n",
    "    \n",
    "lview = rc.load_balanced_view()"
   ]
  },
  {
   "cell_type": "markdown",
   "metadata": {
    "slideshow": {
     "slide_type": "slide"
    }
   },
   "source": [
    "# Define function for parallel processing\n",
    "We have to use @lview.parallel() decorator and then call the function using map method with iterable argument."
   ]
  },
  {
   "cell_type": "code",
   "execution_count": 3,
   "metadata": {
    "slideshow": {
     "slide_type": "subslide"
    }
   },
   "outputs": [
    {
     "data": {
      "text/plain": [
       "<AsyncMapResult: foo>"
      ]
     },
     "execution_count": 3,
     "metadata": {},
     "output_type": "execute_result"
    }
   ],
   "source": [
    "@lview.parallel()\n",
    "def foo(band):    \n",
    "    imageIO = jpy.get_type('javax.imageio.ImageIO') \n",
    "    File = jpy.get_type('java.io.File')\n",
    "    file = '/eodata/Sentinel-2/MSI/L1C/2018/05/21/S2B_MSIL1C_20180521T100029_N0206_R122_T33UXT_20180521T120149.SAFE'\n",
    "    p=ProductIO.readProduct(file)                \n",
    "    b=p.getBand(band)    \n",
    "    image=b.createColorIndexedImage(ProgressMonitor.NULL)    \n",
    "    name=File('shared/parallel/'+band+'.png')\n",
    "    return imageIO.write(image,'PNG',name)\n",
    "foo.map((\"B1\",\"B2\"))"
   ]
  },
  {
   "cell_type": "markdown",
   "metadata": {
    "slideshow": {
     "slide_type": "slide"
    }
   },
   "source": [
    "# Display results on map"
   ]
  },
  {
   "cell_type": "code",
   "execution_count": 4,
   "metadata": {
    "slideshow": {
     "slide_type": "fragment"
    }
   },
   "outputs": [
    {
     "name": "stdout",
     "output_type": "stream",
     "text": [
      "[[51.324523,18.077758],[52.341355,16.436121]]\n"
     ]
    },
    {
     "data": {
      "text/html": [
       "<script type=\"text/javascript\">Jupytepide.map_addImageLayer(\"B1.png\",[[51.324523,18.077758],[52.341355,16.436121]],'B1',{opacity:'0.8'});</script>"
      ],
      "text/plain": [
       "<IPython.core.display.HTML object>"
      ]
     },
     "metadata": {},
     "output_type": "display_data"
    },
    {
     "data": {
      "text/html": [
       "<script type=\"text/javascript\">Jupytepide.map_addImageLayer(\"B2.png\",[[51.324523,18.077758],[52.341355,16.436121]],'B2',{opacity:'0.8'});</script>"
      ],
      "text/plain": [
       "<IPython.core.display.HTML object>"
      ]
     },
     "metadata": {},
     "output_type": "display_data"
    }
   ],
   "source": [
    "layer1=ImageLayer()\n",
    "box=layer1.getbb('/eodata/Sentinel-2/MSI/L1C/2018/05/21/S2B_MSIL1C_20180521T100029_N0206_R122_T33UXT_20180521T120149.SAFE')\n",
    "print(box)\n",
    "layer1.addImageLayer(\"B1.png\", box, 'B1')\n",
    "layer1.showLayer()\n",
    "layer2=ImageLayer()\n",
    "layer2.addImageLayer(\"B2.png\", box, 'B2')\n",
    "layer2.showLayer()\n"
   ]
  },
  {
   "cell_type": "markdown",
   "metadata": {
    "slideshow": {
     "slide_type": "subslide"
    }
   },
   "source": [
    "# Reults on Leaflet \n",
    "\n",
    "![Screenshot](result.png \"Layers with result\")"
   ]
  }
 ],
 "metadata": {
  "celltoolbar": "Slideshow",
  "kernelspec": {
   "display_name": "Python [default]",
   "language": "python",
   "name": "python3"
  },
  "language_info": {
   "codemirror_mode": {
    "name": "ipython",
    "version": 3
   },
   "file_extension": ".py",
   "mimetype": "text/x-python",
   "name": "python",
   "nbconvert_exporter": "python",
   "pygments_lexer": "ipython3",
   "version": "3.6.5"
  },
  "latex_envs": {
   "LaTeX_envs_menu_present": true,
   "autoclose": false,
   "autocomplete": true,
   "bibliofile": "biblio.bib",
   "cite_by": "apalike",
   "current_citInitial": 1,
   "eqLabelWithNumbers": true,
   "eqNumInitial": 1,
   "hotkeys": {
    "equation": "Ctrl-E",
    "itemize": "Ctrl-I"
   },
   "labels_anchors": false,
   "latex_user_defs": false,
   "report_style_numbering": false,
   "user_envs_cfg": false
  }
 },
 "nbformat": 4,
 "nbformat_minor": 2
}
