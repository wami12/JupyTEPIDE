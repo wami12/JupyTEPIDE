{
 "cells": [
  {
   "cell_type": "code",
   "execution_count": null,
   "metadata": {},
   "outputs": [],
   "source": [
    "from __future__ import division\n",
    "import numpy as np\n",
    "from PIL import Image\n",
    "from bokeh.plotting import figure, show, output_file"
   ]
  },
  {
   "cell_type": "markdown",
   "metadata": {},
   "source": [
    "## Open image, and make sure it's RGB*A*"
   ]
  },
  {
   "cell_type": "code",
   "execution_count": null,
   "metadata": {},
   "outputs": [],
   "source": [
    "img = Image.open('sample_image.jpg').convert('RGBA')\n",
    "xdim, ydim = lena_img.size\n",
    "print(\"Dimensions: ({xdim}, {ydim})\".format(**locals()))"
   ]
  },
  {
   "cell_type": "markdown",
   "metadata": {},
   "source": [
    "## Create an array representation for the image `img`, and an 8-bit \"4 layer/RGBA\" version of it `view`."
   ]
  },
  {
   "cell_type": "code",
   "execution_count": null,
   "metadata": {},
   "outputs": [],
   "source": [
    "img = np.empty((ydim, xdim), dtype=np.uint32)\n",
    "view = img.view(dtype=np.uint8).reshape((ydim, xdim, 4))"
   ]
  },
  {
   "cell_type": "markdown",
   "metadata": {},
   "source": [
    "## Copy the RGBA image into view, flipping it so it comes right-side up with a lower-left origin"
   ]
  },
  {
   "cell_type": "code",
   "execution_count": null,
   "metadata": {},
   "outputs": [],
   "source": [
    "view[:,:,:] = np.flipud(np.asarray(lena_img))"
   ]
  },
  {
   "cell_type": "markdown",
   "metadata": {},
   "source": [
    "# Show image using bokeh\n",
    "## Import libraries"
   ]
  },
  {
   "cell_type": "markdown",
   "metadata": {},
   "source": [
    "## Display the 32-bit RGBA image"
   ]
  },
  {
   "cell_type": "code",
   "execution_count": null,
   "metadata": {},
   "outputs": [],
   "source": [
    "dim = max(xdim, ydim)\n",
    "fig = figure(title=\"Sample image\",\n",
    "             x_range=(0,dim), y_range=(0,dim),\n",
    "             # Specifying xdim/ydim isn't quire right :-(\n",
    "             # width=xdim, height=ydim,\n",
    "             )\n",
    "fig.image_rgba(image=[img], x=0, y=0, dw=xdim, dh=ydim)\n",
    "\n",
    "show(fig)  # open a browser\n"
   ]
  }
 ],
 "metadata": {
  "kernelspec": {
   "display_name": "Python 3.6 root",
   "language": "python",
   "name": "root"
  },
  "language_info": {
   "codemirror_mode": {
    "name": "ipython",
    "version": 3
   },
   "file_extension": ".py",
   "mimetype": "text/x-python",
   "name": "python",
   "nbconvert_exporter": "python",
   "pygments_lexer": "ipython3",
   "version": "3.6.1"
  }
 },
 "nbformat": 4,
 "nbformat_minor": 2
}
