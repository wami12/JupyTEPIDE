{
 "cells": [
  {
   "cell_type": "markdown",
   "metadata": {},
   "source": [
    "# Running WPS from notebook using OWSlib\n",
    "Error at the end - OWSlib is complaining about UTF-8\n"
   ]
  },
  {
   "cell_type": "code",
   "execution_count": 46,
   "metadata": {
    "collapsed": true
   },
   "outputs": [],
   "source": [
    "from owslib.wps import WebProcessingService, monitorExecution, printInputOutput\n",
    "from os import system\n",
    "import time\n",
    "from owslib.etree import etree"
   ]
  },
  {
   "cell_type": "code",
   "execution_count": 47,
   "metadata": {
    "collapsed": true
   },
   "outputs": [],
   "source": [
    "wps_url = \"http://localhost:8080/geoserver/wps\"\n",
    "#wps_url = \"http://localhost:8093/wps\"\n",
    "wps = WebProcessingService(url=wps_url, verbose=False)"
   ]
  },
  {
   "cell_type": "code",
   "execution_count": 61,
   "metadata": {},
   "outputs": [
    {
     "name": "stdout",
     "output_type": "stream",
     "text": [
      "Prototype GeoServer WPS:1.0.0\n"
     ]
    }
   ],
   "source": [
    "print (wps.identification.title + ':' + wps.version)"
   ]
  },
  {
   "cell_type": "code",
   "execution_count": 49,
   "metadata": {},
   "outputs": [
    {
     "name": "stdout",
     "output_type": "stream",
     "text": [
      "JTS:area : \t Returns the area of a geometry, in the units of the geometry. Assumes a Cartesian plane, so this process is only recommended for non-geographic CRSes.\n",
      "JTS:boundary : \t Returns a geometry boundary. For polygons, returns a linear ring or multi-linestring equal to the boundary of the polygon(s). For linestrings, returns a multipoint equal to the endpoints of the linestring. For points, returns an empty geometry collection.\n",
      "JTS:buffer : \t Returns a polygonal geometry representing the input geometry enlarged by a given distance around its exterior.\n",
      "JTS:centroid : \t Returns the geometric centroid of a geometry. Output is a single point.  The centroid point may be located outside the geometry.\n",
      "JTS:contains : \t Tests if no points of the second geometry lie in the exterior of the first geometry and at least one point of the interior of second geometry lies in the interior of first geometry.\n",
      "JTS:convexHull : \t Returns the smallest convex polygon that contains the entire input geometry.\n",
      "JTS:crosses : \t Tests if two geometries have some, but not all, interior points in common.\n",
      "JTS:densify : \t Returns a spatially equivalent geometry with vertices added to ensure line segments are no longer than a given distance.\n",
      "JTS:difference : \t Returns a geometry representing the points that are contained in a geometry but not contained in a second geometry. The result may be a heterogeneous geometry collection.\n",
      "JTS:dimension : \t Returns the largest dimension of a geometry or geometry collection: 0 for point, 1 for line, 2 for polygon.\n",
      "JTS:disjoint : \t Tests if two geometries do not have any points in common.\n",
      "JTS:distance : \t Returns the minimum distance between two geometries. Measurement is given in the input units, so geographic coordinates are not recommended.\n",
      "JTS:endPoint : \t Returns a point geometry equal to the final vertex of a LineString.\n",
      "JTS:envelope : \t Returns the smallest bounding box polygon that contains a geometry. For a point geometry, returns the same point.\n",
      "JTS:equalsExact : \t Tests if two geometries are identical on a vertex-by-vertex basis.\n",
      "JTS:equalsExactTolerance : \t Tests if two geometries are identical on a vertex-by-vertex basis, up to a vertex distance tolerance.\n",
      "JTS:exteriorRing : \t Returns the exterior ring of a polygonal geometry.\n",
      "JTS:geometryType : \t Returns the name of a geometry's type. Values are one of POINT, LINESTRING, POLYGON, MULTIPOINT, MULTILINESTRING, MULTIPOLYGON, GEOMETRYCOLLECTION.\n",
      "JTS:getGeometryN : \t Returns the geometry element at a given index in a geometry collection. Indexing starts at 0.\n",
      "JTS:getX : \t Returns the X value (first ordinate) for point geometries. For other geometry types returns the X value of the centroid.\n",
      "JTS:getY : \t Returns the Y value (second ordinate) for point geometries. For other geometry types returns the Y value of the centroid.\n",
      "JTS:interiorPoint : \t Returns a point that lies inside a geometry if possible, or that lies on its boundary.\n",
      "JTS:interiorRingN : \t Returns a linear ring from a polygon containing interior rings (holes) determined by a given index. First interior ring has index 0. If no interior rings, returns null.\n",
      "JTS:intersection : \t Returns a geometry representing the points that two geometries have in common.  The result may be a heterogeneous geometry collection. If no intersection, returns an empty geometry.\n",
      "JTS:intersects : \t Tests if two geometries intersect.\n",
      "JTS:isClosed : \t Tests if the initial vertex equals the final vertex in a linear geometry. Points and polygons always return True.\n",
      "JTS:isEmpty : \t Tests if a geometry contains no vertices.\n",
      "JTS:isRing : \t Tests if a geometry is both closed and simple.\n",
      "JTS:isSimple : \t Tests if a geometry is topologically simple. Points, polygons, closed line strings, and linear rings are always simple. Other geometries are considered simple if no two points are identical.\n",
      "JTS:isValid : \t Tests if a geometry is topologically valid.\n",
      "JTS:isWithinDistance : \t Tests if the minimum distance between two geometries is less than a tolerance value.\n",
      "JTS:length : \t Returns the total length of all line segments in a geometry. Measurement is given in the source units, so geographic coordinates are not recommended.\n",
      "JTS:numGeometries : \t Returns the total number of elements in a geometry collection. If not a geometry collection, returns 1. If empty, returns 0.\n",
      "JTS:numInteriorRing : \t Returns the total number of interior rings in a polygonal geometry. Points and lines return 0.\n",
      "JTS:numPoints : \t Returns the number of vertices in a given geometry.\n",
      "JTS:overlaps : \t Tests if two geometries share some but not all interior points. Points or lines will always return False.\n",
      "JTS:pointN : \t Returns a point geometry equal to the Nth vertex in a geometry as determined by a given index. First vertex has index 0.\n",
      "JTS:polygonize : \t Creates a set of polygons from linestrings delineating them.  The linestrings must be corrctly noded (i.e. touch only at endpoints).\n",
      "JTS:relate : \t Returns the DE-9IM intersection matrix string for the spatial relationship between the input geometries. The matrix string is in the form [II][IB][IE][BI][BB][BE][EI][EB][EE] where I=interior, B=boundary, and E=exterior. Matrix symbols are 2, 1, 0 or F.\n",
      "JTS:relatePattern : \t Tests if the spatial relationship between two geometries matches the given DE-9IM intersection matrix pattern. The pattern is given in the form [II][IB][IE][BI][BB][BE][EI][EB][EE] where I=interior, B=boundary, and E=exterior. Pattern symbols can be 2, 1, 0, F or *.\n",
      "JTS:reproject : \t Reprojects a given geometry into a supplied coordinate reference system.\n",
      "JTS:simplify : \t Returns a geometry that has been simplified (reduced in vertices) according to the Douglas-Peucker algorithm.\n",
      "JTS:splitPolygon : \t Splits a polygon by a linestring\n",
      "JTS:startPoint : \t Returns a point geometry equal to the first vertex of a LineString.\n",
      "JTS:symDifference : \t Returns a geometry representing the points contained in either one of two geometries but not in both. The result may be a heterogeneous geometry collection.\n",
      "JTS:touches : \t Tests if two geometries have at least one boundary point in common, but share no interior points.\n",
      "JTS:union : \t Returns a geometry representing all points contained in any of the geometries in a geometry collection.\n",
      "JTS:within : \t Tests if the first geometry is contained in the second geometry.\n",
      "geo:area : \t Returns the area of a geometry, in the units of the geometry. Assumes a Cartesian plane, so this process is only recommended for non-geographic CRSes.\n",
      "geo:boundary : \t Returns a geometry boundary. For polygons, returns a linear ring or multi-linestring equal to the boundary of the polygon(s). For linestrings, returns a multipoint equal to the endpoints of the linestring. For points, returns an empty geometry collection.\n",
      "geo:buffer : \t Returns a polygonal geometry representing the input geometry enlarged by a given distance around its exterior.\n",
      "geo:centroid : \t Returns the geometric centroid of a geometry. Output is a single point.  The centroid point may be located outside the geometry.\n",
      "geo:contains : \t Tests if no points of the second geometry lie in the exterior of the first geometry and at least one point of the interior of second geometry lies in the interior of first geometry.\n",
      "geo:convexHull : \t Returns the smallest convex polygon that contains the entire input geometry.\n",
      "geo:crosses : \t Tests if two geometries have some, but not all, interior points in common.\n",
      "geo:densify : \t Returns a spatially equivalent geometry with vertices added to ensure line segments are no longer than a given distance.\n",
      "geo:difference : \t Returns a geometry representing the points that are contained in a geometry but not contained in a second geometry. The result may be a heterogeneous geometry collection.\n",
      "geo:dimension : \t Returns the largest dimension of a geometry or geometry collection: 0 for point, 1 for line, 2 for polygon.\n",
      "geo:disjoint : \t Tests if two geometries do not have any points in common.\n",
      "geo:distance : \t Returns the minimum distance between two geometries. Measurement is given in the input units, so geographic coordinates are not recommended.\n",
      "geo:endPoint : \t Returns a point geometry equal to the final vertex of a LineString.\n",
      "geo:envelope : \t Returns the smallest bounding box polygon that contains a geometry. For a point geometry, returns the same point.\n",
      "geo:equalsExact : \t Tests if two geometries are identical on a vertex-by-vertex basis.\n",
      "geo:equalsExactTolerance : \t Tests if two geometries are identical on a vertex-by-vertex basis, up to a vertex distance tolerance.\n",
      "geo:exteriorRing : \t Returns the exterior ring of a polygonal geometry.\n",
      "geo:geometryType : \t Returns the name of a geometry's type. Values are one of POINT, LINESTRING, POLYGON, MULTIPOINT, MULTILINESTRING, MULTIPOLYGON, GEOMETRYCOLLECTION.\n",
      "geo:getGeometryN : \t Returns the geometry element at a given index in a geometry collection. Indexing starts at 0.\n",
      "geo:getX : \t Returns the X value (first ordinate) for point geometries. For other geometry types returns the X value of the centroid.\n",
      "geo:getY : \t Returns the Y value (second ordinate) for point geometries. For other geometry types returns the Y value of the centroid.\n",
      "geo:interiorPoint : \t Returns a point that lies inside a geometry if possible, or that lies on its boundary.\n",
      "geo:interiorRingN : \t Returns a linear ring from a polygon containing interior rings (holes) determined by a given index. First interior ring has index 0. If no interior rings, returns null.\n",
      "geo:intersection : \t Returns a geometry representing the points that two geometries have in common.  The result may be a heterogeneous geometry collection. If no intersection, returns an empty geometry.\n",
      "geo:intersects : \t Tests if two geometries intersect.\n",
      "geo:isClosed : \t Tests if the initial vertex equals the final vertex in a linear geometry. Points and polygons always return True.\n",
      "geo:isEmpty : \t Tests if a geometry contains no vertices.\n",
      "geo:isRing : \t Tests if a geometry is both closed and simple.\n",
      "geo:isSimple : \t Tests if a geometry is topologically simple. Points, polygons, closed line strings, and linear rings are always simple. Other geometries are considered simple if no two points are identical.\n",
      "geo:isValid : \t Tests if a geometry is topologically valid.\n",
      "geo:isWithinDistance : \t Tests if the minimum distance between two geometries is less than a tolerance value.\n",
      "geo:length : \t Returns the total length of all line segments in a geometry. Measurement is given in the source units, so geographic coordinates are not recommended.\n",
      "geo:numGeometries : \t Returns the total number of elements in a geometry collection. If not a geometry collection, returns 1. If empty, returns 0.\n",
      "geo:numInteriorRing : \t Returns the total number of interior rings in a polygonal geometry. Points and lines return 0.\n",
      "geo:numPoints : \t Returns the number of vertices in a given geometry.\n",
      "geo:overlaps : \t Tests if two geometries share some but not all interior points. Points or lines will always return False.\n",
      "geo:pointN : \t Returns a point geometry equal to the Nth vertex in a geometry as determined by a given index. First vertex has index 0.\n",
      "geo:polygonize : \t Creates a set of polygons from linestrings delineating them.  The linestrings must be corrctly noded (i.e. touch only at endpoints).\n",
      "geo:relate : \t Returns the DE-9IM intersection matrix string for the spatial relationship between the input geometries. The matrix string is in the form [II][IB][IE][BI][BB][BE][EI][EB][EE] where I=interior, B=boundary, and E=exterior. Matrix symbols are 2, 1, 0 or F.\n",
      "geo:relatePattern : \t Tests if the spatial relationship between two geometries matches the given DE-9IM intersection matrix pattern. The pattern is given in the form [II][IB][IE][BI][BB][BE][EI][EB][EE] where I=interior, B=boundary, and E=exterior. Pattern symbols can be 2, 1, 0, F or *.\n",
      "geo:reproject : \t Reprojects a given geometry into a supplied coordinate reference system.\n",
      "geo:simplify : \t Returns a geometry that has been simplified (reduced in vertices) according to the Douglas-Peucker algorithm.\n",
      "geo:splitPolygon : \t Splits a polygon by a linestring\n",
      "geo:startPoint : \t Returns a point geometry equal to the first vertex of a LineString.\n",
      "geo:symDifference : \t Returns a geometry representing the points contained in either one of two geometries but not in both. The result may be a heterogeneous geometry collection.\n",
      "geo:touches : \t Tests if two geometries have at least one boundary point in common, but share no interior points.\n",
      "geo:union : \t Returns a geometry representing all points contained in any of the geometries in a geometry collection.\n",
      "geo:within : \t Tests if the first geometry is contained in the second geometry.\n",
      "gs:AddCoverages : \t Returns a raster generated by pixel-by-pixel addition of two source rasters.  Source rasters must have the same bounding box and resolution.\n",
      "gs:Aggregate : \t Computes one or more aggregation functions on a feature attribute. Functions include Count, Average, Max, Median, Min, StdDev, and Sum.\n",
      "gs:AreaGrid : \t Computes a raster grid of given geographic extent with cell values equal to the area the cell represents on the surface of the earth.  Area is computed using the EckertIV projection.\n",
      "gs:BarnesSurface : \t Uses Barnes Analysis to compute an interpolated surface over a set of irregular data points.\n",
      "gs:Bounds : \t Computes the bounding box of the input features.\n",
      "gs:BufferFeatureCollection : \t Buffers features by a distance value supplied either as a parameter or by a feature attribute. Calculates buffers based on Cartesian distances.\n",
      "gs:Centroid : \t Computes the geometric centroids of features\n",
      "gs:Clip : \t Clips (crops) features to a given geometry\n",
      "gs:CollectGeometries : \t Collects the deafult geometries of the input features and combines them into a single geometry collection\n",
      "gs:Contour : \t Computes contour lines at specified intervals or levels for the values in a raster.\n",
      "gs:Count : \t Computes the number of features in a feature collection.\n",
      "gs:CropCoverage : \t Returns the portion of a raster bounded by a given geometry.\n",
      "gs:Feature : \t Converts a geometry into a feature collection.\n",
      "gs:GeorectifyCoverage : \t Georectifies a raster via Ground Control Points using gdal_warp\n",
      "gs:GetFullCoverage : \t Returns a raster from the catalog, with optional filtering\n",
      "gs:Grid : \t Generates a georeferenced regular grid of cells.  Output contains the attributes: cell - the cell polygon; id - a unique identifier; centerX and centerY - the ordinates of the cell center.\n",
      "gs:Heatmap : \t Computes a heatmap surface over a set of data points and outputs as a single-band raster.\n",
      "gs:Import : \t Imports a feature collection into the catalog\n",
      "gs:InclusionFeatureCollection : \t Returns a feature collection consisting of the features from the first collection which are spatially contained in at least one feature of the second collection.\n",
      "gs:IntersectionFeatureCollection : \t Spatial intersection of two feature collections, incuding combining attributes from both.\n",
      "gs:LRSGeocode : \t Extracts points at a given measure from LRS features\n",
      "gs:LRSMeasure : \t Computes the measure of a point along a feature (as feature with attribute lrs_measure). The point is measured along the nearest feature.\n",
      "gs:LRSSegment : \t Extracts segment between a given start and end measure from LRS features\n",
      "gs:MultiplyCoverages : \t Returns a raster generated by pixel-by-pixel multiplication of two source rasters.  Source rasters must have the same bounding box and resolution.\n",
      "gs:Nearest : \t Returns the feature in a given feature collection that has the smallest distance to a given point.\n",
      "gs:PagedUnique : \t Gets the list of unique values for the given featurecollection on a specified field, allows optional paging\n",
      "gs:PointBuffers : \t Returns a collection of circular buffer polygons with specified radii centered on a given point\n",
      "gs:PointStacker : \t Aggregates a collection of points over a grid into one point per grid cell.\n",
      "gs:PolygonExtraction : \t Extracts vector polygons from a raster, based on regions which are equal or in given ranges\n",
      "gs:Query : \t Queries a feature collection using an optional filter and an optional list of attributes to include.  Can also be used to convert feature collection format.\n",
      "gs:RangeLookup : \t Reclassifies a continous raster into integer values defined by a set of ranges\n",
      "gs:RasterAsPointCollection : \t Returns a collection of point features for the pixels of a raster.  The band values are provided as attributes.\n",
      "gs:RasterZonalStatistics : \t Computes statistics for the distribution of a certain quantity in a set of polygonal zones.\n",
      "gs:RectangularClip : \t Clips (crops) features to the specified rectangular extent\n",
      "gs:Reproject : \t Reprojects features into a supplied coordinate reference system.  Can also force a feature collection to have a given CRS.\n",
      "gs:ReprojectGeometry : \t Reprojects a given geometry into a supplied coordinate reference system.\n",
      "gs:ScaleCoverage : \t Returns a scaled and translated version of a given raster\n",
      "gs:Simplify : \t Simplifies feature geometry by reducing vertices using Douglas-Peucker simplification.\n",
      "gs:Snap : \t Returns the feature in a feature collection nearest to a given point.  Attributes for distance and bearing are added.\n",
      "gs:StoreCoverage : \t Stores a raster on the server.\n",
      "gs:StyleCoverage : \t Styles a raster using a given SLD and raster symbolizer.\n",
      "gs:Transform : \t Computes a new feature collection from the input one by renaming, deleting, and computing new attributes.  Attribute values are specified as ECQL expressions in the form name=expression.\n",
      "gs:UnionFeatureCollection : \t Returns single feature collection containing all features from two input feature collections.  The output attribute schema is a combination of the attributes from the inputs.  Attributes with same name but different types will be converted to strings.\n",
      "gs:Unique : \t Returns the unique values of a given attribute in a feature collection.\n",
      "gs:VectorZonalStatistics : \t Computes statistics for the distribution of a given attribute in a set of polygonal zones.  Input must be points.\n",
      "gt:VectorToRaster : \t Converts some or all of a feature collection to a raster grid, using an attribute to specify cell values.\n",
      "ras:AddCoverages : \t Returns a raster generated by pixel-by-pixel addition of two source rasters.  Source rasters must have the same bounding box and resolution.\n",
      "ras:Affine : \t Returns the result of an Affine transformation on the input raster.\n",
      "ras:AreaGrid : \t Computes a raster grid of given geographic extent with cell values equal to the area the cell represents on the surface of the earth.  Area is computed using the EckertIV projection.\n",
      "ras:BandMerge : \t Returns a raster generated by the merge of the input raster bands. Source rasters must have the same CRS.\n",
      "ras:BandSelect : \t Returns a raster generated by the selection of some bands from the input raster.\n",
      "ras:Contour : \t Computes contour lines at specified intervals or levels for the values in a raster.\n",
      "ras:CoverageClassStats : \t Calculates statistics from coverage values classified into bins/classes.\n",
      "ras:CropCoverage : \t Returns the portion of a raster bounded by a given geometry.\n",
      "ras:MultiplyCoverages : \t Returns a raster generated by pixel-by-pixel multiplication of two source rasters.  Source rasters must have the same bounding box and resolution.\n",
      "ras:NormalizeCoverage : \t Normalizes a coverage by dividing values by the max value\n",
      "ras:PolygonExtraction : \t Extracts vector polygons from a raster, based on regions which are equal or in given ranges\n",
      "ras:RangeLookup : \t Reclassifies a continous raster into integer values defined by a set of ranges\n",
      "ras:RasterAsPointCollection : \t Returns a collection of point features for the pixels of a raster.  The band values are provided as attributes.\n",
      "ras:RasterZonalStatistics : \t Computes statistics for the distribution of a certain quantity in a set of polygonal zones.\n",
      "ras:ScaleCoverage : \t Returns a scaled and translated version of a given raster\n",
      "ras:StyleCoverage : \t Styles a raster using a given SLD and raster symbolizer.\n",
      "ras:TransparencyFill : \t Fill transparent pixels\n",
      "vec:Aggregate : \t Computes one or more aggregation functions on a feature attribute. Functions include Count, Average, Max, Median, Min, StdDev, and Sum.\n",
      "vec:BarnesSurface : \t Uses Barnes Analysis to compute an interpolated surface over a set of irregular data points.\n",
      "vec:Bounds : \t Computes the bounding box of the input features.\n",
      "vec:BufferFeatureCollection : \t Buffers features by a distance value supplied either as a parameter or by a feature attribute. Calculates buffers based on Cartesian distances.\n",
      "vec:Centroid : \t Computes the geometric centroids of features\n",
      "vec:Clip : \t Clips (crops) features to a given geometry\n",
      "vec:CollectGeometries : \t Collects the deafult geometries of the input features and combines them into a single geometry collection\n",
      "vec:Count : \t Computes the number of features in a feature collection.\n",
      "vec:Feature : \t Converts a geometry into a feature collection.\n",
      "vec:FeatureClassStats : \t Calculates statistics from feature values classified into bins/classes.\n",
      "vec:Grid : \t Generates a georeferenced regular grid of cells.  Output contains the attributes: cell - the cell polygon; id - a unique identifier; centerX and centerY - the ordinates of the cell center.\n",
      "vec:Heatmap : \t Computes a heatmap surface over a set of data points and outputs as a single-band raster.\n",
      "vec:InclusionFeatureCollection : \t Returns a feature collection consisting of the features from the first collection which are spatially contained in at least one feature of the second collection.\n",
      "vec:IntersectionFeatureCollection : \t Spatial intersection of two feature collections, incuding combining attributes from both.\n",
      "vec:LRSGeocode : \t Extracts points at a given measure from LRS features\n",
      "vec:LRSMeasure : \t Computes the measure of a point along a feature (as feature with attribute lrs_measure). The point is measured along the nearest feature.\n",
      "vec:LRSSegment : \t Extracts segment between a given start and end measure from LRS features\n",
      "vec:Nearest : \t Returns the feature in a given feature collection that has the smallest distance to a given point.\n",
      "vec:PointBuffers : \t Returns a collection of circular buffer polygons with specified radii centered on a given point\n",
      "vec:PointStacker : \t Aggregates a collection of points over a grid into one point per grid cell.\n",
      "vec:Query : \t Queries a feature collection using an optional filter and an optional list of attributes to include.  Can also be used to convert feature collection format.\n",
      "vec:RectangularClip : \t Clips (crops) features to the specified rectangular extent\n",
      "vec:Reproject : \t Reprojects features into a supplied coordinate reference system.  Can also force a feature collection to have a given CRS.\n",
      "vec:Simplify : \t Simplifies feature geometry by reducing vertices using Douglas-Peucker simplification.\n",
      "vec:Snap : \t Returns the feature in a feature collection nearest to a given point.  Attributes for distance and bearing are added.\n",
      "vec:Transform : \t Computes a new feature collection from the input one by renaming, deleting, and computing new attributes.  Attribute values are specified as ECQL expressions in the form name=expression.\n",
      "vec:UnionFeatureCollection : \t Returns single feature collection containing all features from two input feature collections.  The output attribute schema is a combination of the attributes from the inputs.  Attributes with same name but different types will be converted to strings.\n",
      "vec:Unique : \t Returns the unique values of a given attribute in a feature collection.\n",
      "vec:VectorToRaster : \t Converts some or all of a feature collection to a raster grid, using an attribute to specify cell values.\n",
      "vec:VectorZonalStatistics : \t Computes statistics for the distribution of a given attribute in a set of polygonal zones.  Input must be points.\n"
     ]
    }
   ],
   "source": [
    "for process in wps.processes:\n",
    "    print ('%s : \\t %s' % (process.identifier, process.abstract))"
   ]
  },
  {
   "cell_type": "code",
   "execution_count": 44,
   "metadata": {},
   "outputs": [
    {
     "name": "stdout",
     "output_type": "stream",
     "text": [
      " identifier=geom, title=geom, abstract=Input geometry, data type=ComplexData\n",
      " Supported Value: mimeType=text/xml; subtype=gml/3.1.1, encoding=None, schema=None\n",
      " Supported Value: mimeType=text/xml; subtype=gml/2.1.2, encoding=None, schema=None\n",
      " Supported Value: mimeType=application/wkt, encoding=None, schema=None\n",
      " Supported Value: mimeType=application/json, encoding=None, schema=None\n",
      " Supported Value: mimeType=application/gml-3.1.1, encoding=None, schema=None\n",
      " Supported Value: mimeType=application/gml-2.1.2, encoding=None, schema=None\n",
      " Default Value: mimeType=text/xml; subtype=gml/3.1.1, encoding=None, schema=None \n",
      " minOccurs=1, maxOccurs=1\n",
      "\n",
      "\n"
     ]
    }
   ],
   "source": [
    "p = wps.describeprocess(identifier='JTS:geometryType')\n",
    "for input in p.dataInputs:\n",
    "   printInputOutput(input)\n",
    "   print ('\\n')"
   ]
  },
  {
   "cell_type": "code",
   "execution_count": 38,
   "metadata": {
    "collapsed": true
   },
   "outputs": [],
   "source": [
    "wps.execute?"
   ]
  },
  {
   "cell_type": "code",
   "execution_count": 63,
   "metadata": {},
   "outputs": [
    {
     "name": "stdout",
     "output_type": "stream",
     "text": [
      "b'<wps100:Data xmlns:wps100=\"http://www.opengis.net/wps/1.0.0\"><wps100:ComplexData encoding=\"UTF-8\" mimeType=\"text/xml\" schema=\"http://schemas.opengis.net/gml/3.1.1/base/feature.xsd\"><gml311:featureMembers xmlns:gml311=\"http://www.opengis.net/gml\" xmlns:xsi=\"http://www.w3.org/2001/XMLSchema-instance\" xsi:schemaLocation=\"gov.usgs.cida.gdp.draw http://cida.usgs.gov/climate/derivative/xsd/draw.xsd\"><gml311:box gml311:id=\"box.1\"><gml311:the_geom><gml311:MultiPolygon srsDimension=\"2\" srsName=\"http://www.opengis.net/gml/srs/epsg.xml#4326\"><gml311:polygonMember><gml311:Polygon><gml311:exterior><gml311:LinearRing><gml311:posList>-102.8184 39.5273 -102.8184 37.418 -101.2363 37.418 -101.2363 39.5273 -102.8184 39.5273</gml311:posList></gml311:LinearRing></gml311:exterior></gml311:Polygon></gml311:polygonMember></gml311:MultiPolygon></gml311:the_geom><gml311:ID>0</gml311:ID></gml311:box></gml311:featureMembers></wps100:ComplexData></wps100:Data>'\n",
      "<class 'bytes'>\n",
      " owslib.wps.WPSException : {'code': 'NoApplicableCode', 'locator': None, 'text': 'Unsupported encoding UTF-8'}\n",
      "False\n",
      "0.5864465236663818 seconds\n",
      "ProcessFailed\n"
     ]
    }
   ],
   "source": [
    "from owslib.wps import GMLMultiPolygonFeatureCollection \n",
    "polygon = [(-102.8184, 39.5273), (-102.8184, 37.418), (-101.2363, 37.418), (-101.2363, 39.5273), (-102.8184, 39.5273)]\n",
    "featureCollection = GMLMultiPolygonFeatureCollection( [polygon] )\n",
    "\n",
    "x=etree.tostringlist(featureCollection.getXml())\n",
    "for i in x:\n",
    "    print(i)\n",
    "\n",
    "featureCollection\n",
    "start_time = time.time()\n",
    "a=b\"JTS:boundary\"\n",
    "print(type(a))\n",
    "execute = wps.execute(identifier=a, inputs=[(\"geom\",featureCollection)])\n",
    "\n",
    "monitorExecution(execute, sleepSecs=1)\n",
    "print(execute.verbose)\n",
    "print (time.time() - start_time, \"seconds\")\n",
    "print (execute.getStatus())\n",
    "\n",
    "for o in execute.processOutputs:\n",
    "    print (o.reference)"
   ]
  },
  {
   "cell_type": "code",
   "execution_count": null,
   "metadata": {
    "collapsed": true
   },
   "outputs": [],
   "source": []
  }
 ],
 "metadata": {
  "kernelspec": {
   "display_name": "Python 3.6 root",
   "language": "python",
   "name": "root"
  },
  "language_info": {
   "codemirror_mode": {
    "name": "ipython",
    "version": 3
   },
   "file_extension": ".py",
   "mimetype": "text/x-python",
   "name": "python",
   "nbconvert_exporter": "python",
   "pygments_lexer": "ipython3",
   "version": "3.6.1"
  }
 },
 "nbformat": 4,
 "nbformat_minor": 2
}
