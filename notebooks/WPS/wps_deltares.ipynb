{
 "cells": [
  {
   "cell_type": "code",
   "execution_count": 6,
   "metadata": {},
   "outputs": [
    {
     "name": "stdout",
     "output_type": "stream",
     "text": [
      "constituents Lookup constituents based on their short name\n",
      "tidal_predict Tidal prediction tool\n",
      "IDT_simple Interactive Dredge Planning Tool\n",
      "hymos_doublemass Double Mass Plot\n",
      "hymos_timeseries_example Example timeseries\n",
      "gwdlr_get_river_profiles This process returns shape files with riverprofiles and locations from the gwdlr database\n",
      "addtwonumbers Addtwonumbers\n",
      "densitychart Densitychart\n",
      "oil_spill Oil_spill\n",
      "t_tide T_tide\n",
      "tide_analysis Tide_analysis\n",
      "tide_predict Tide_predict\n",
      "validateddshymosnetcdf Validateddshymosnetcdf\n"
     ]
    }
   ],
   "source": [
    "# import owslib wps part dealing with WebProcessingServices\n",
    "from owslib.wps import WebProcessingService,printInputOutput\n",
    " \n",
    "# define the URL of the WPS\n",
    "url = 'http://wps.openearth.nl/wps'\n",
    " \n",
    "# define the WPS\n",
    "wps = WebProcessingService(url, verbose=False, skip_caps=True)\n",
    "wps.getcapabilities()\n",
    "wps.identification.title\n",
    " \n",
    " \n",
    "wps.identification.abstract\n",
    " \n",
    "# find out which processes there area\n",
    "for process in wps.processes:\n",
    "    print (process.identifier, process.title)\n"
   ]
  },
  {
   "cell_type": "code",
   "execution_count": 7,
   "metadata": {},
   "outputs": [
    {
     "name": "stdout",
     "output_type": "stream",
     "text": [
      " identifier=volume, title=None, abstract=None, data type=//www.w3.org/TR/xmlschema-2/#float\n",
      " Any value allowed\n",
      " Default Value: None \n",
      " minOccurs=1, maxOccurs=1\n",
      "\n",
      "\n",
      " identifier=track, title=None, abstract=None, data type=ComplexData\n",
      " Supported Value: mimeType=application/json, encoding=None, schema=None\n",
      " Supported Value: mimeType=text/plain, encoding=None, schema=None\n",
      " Supported Value: mimeType=application/gml+xml, encoding=None, schema=None\n",
      " Default Value: mimeType=application/json, encoding=None, schema=None \n",
      " minOccurs=1, maxOccurs=1\n",
      "\n",
      "\n"
     ]
    }
   ],
   "source": [
    "p = wps.describeprocess(identifier='oil_spill')\n",
    "for input in p.dataInputs:\n",
    "   printInputOutput(input)\n",
    "   print ('\\n')"
   ]
  },
  {
   "cell_type": "code",
   "execution_count": null,
   "metadata": {
    "collapsed": true
   },
   "outputs": [],
   "source": []
  }
 ],
 "metadata": {
  "kernelspec": {
   "display_name": "Python 3",
   "language": "python",
   "name": "python3"
  },
  "language_info": {
   "codemirror_mode": {
    "name": "ipython",
    "version": 3
   },
   "file_extension": ".py",
   "mimetype": "text/x-python",
   "name": "python",
   "nbconvert_exporter": "python",
   "pygments_lexer": "ipython3",
   "version": "3.6.1"
  }
 },
 "nbformat": 4,
 "nbformat_minor": 2
}
