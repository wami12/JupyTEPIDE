{
 "cells": [
  {
   "cell_type": "code",
   "execution_count": null,
   "metadata": {
    "collapsed": true
   },
   "outputs": [],
   "source": [
    "from pywps import Process, LiteralInput, ComplexOutput, ComplexInput, Format\n",
    "from pywps.app.Common import Metadata\n",
    "from pywps.validator.mode import MODE\n",
    "from pywps.inout.formats import FORMATS\n",
    "\n",
    "\n",
    "class MyProcess(Process):\n",
    "    def __init__(self):\n",
    "        '''\n",
    "        Description of inputs and outputs goes here.\n",
    "        '''\n",
    "        inputs=[ComplexInput('layer','Layer',supported_formats=[Format('application/gml+xml')])]\n",
    "        outputs = [ComplexOutput('out','Referenced Output',supported_formats=[Format('application/gml+xml')])]\n",
    "        super(MyProcess, self).__init__(\n",
    "            self._handler,\n",
    "            identifier='identifier',\n",
    "            title='Process title',\n",
    "            abstract='Process Abstract',\n",
    "            inputs=inputs,\n",
    "            outputs=outputs,\n",
    "            store_supported=True,\n",
    "            status_supported=True\n",
    "        )\n",
    "        \n",
    "    def _handler(self, request,response):\n",
    "        '''\n",
    "        Processing goes here. For the information about handling inputs and outputs go to pyWPS web page        \n",
    "        '''\n",
    "        \n",
    "        pass\n",
    "        \n",
    "        \n",
    "        "
   ]
  }
 ],
 "metadata": {
  "kernelspec": {
   "display_name": "Python 2",
   "language": "python",
   "name": "python2"
  },
  "language_info": {
   "codemirror_mode": {
    "name": "ipython",
    "version": 2
   },
   "file_extension": ".py",
   "mimetype": "text/x-python",
   "name": "python",
   "nbconvert_exporter": "python",
   "pygments_lexer": "ipython2",
   "version": "2.7.6"
  }
 },
 "nbformat": 4,
 "nbformat_minor": 0
}
