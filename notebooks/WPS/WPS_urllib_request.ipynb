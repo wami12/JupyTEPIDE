{
 "cells": [
  {
   "cell_type": "markdown",
   "metadata": {},
   "source": [
    "# Simple WPS process using URLlib"
   ]
  },
  {
   "cell_type": "code",
   "execution_count": 15,
   "metadata": {
    "collapsed": true
   },
   "outputs": [],
   "source": [
    "import urllib.request\n",
    "from urllib.parse import quote, urlencode\n",
    "import pprint\n",
    "import re"
   ]
  },
  {
   "cell_type": "code",
   "execution_count": 40,
   "metadata": {},
   "outputs": [
    {
     "name": "stdout",
     "output_type": "stream",
     "text": [
      "100.0\n"
     ]
    }
   ],
   "source": [
    "data=urlencode({'service':'WPS',\n",
    "                'version':'1.1.0',\n",
    "                'request':'execute',\n",
    "                'identifier':'JTS:area',\n",
    "                'datainputs':'geom=POLYGON ((0 0, 10 0, 10 10, 0 10, 0 0))'})\n",
    "request=\"185.52.194.216:8080/geoserver/wps?\"+data\n",
    "request=\"http://\"+quote(request,safe=\"%/:=&?~#+!$,;'@()*[]\")    \n",
    "with urllib.request.urlopen(request) as response:\n",
    "        h=response.read()\n",
    "xx=re.search('LiteralData>(.*)</wps:LiteralData>',str(h),re.DOTALL)\n",
    "print(xx.group(1))"
   ]
  },
  {
   "cell_type": "code",
   "execution_count": null,
   "metadata": {
    "collapsed": true
   },
   "outputs": [],
   "source": []
  }
 ],
 "metadata": {
  "kernelspec": {
   "display_name": "Python 3.6 root",
   "language": "python",
   "name": "root"
  },
  "language_info": {
   "codemirror_mode": {
    "name": "ipython",
    "version": 3
   },
   "file_extension": ".py",
   "mimetype": "text/x-python",
   "name": "python",
   "nbconvert_exporter": "python",
   "pygments_lexer": "ipython3",
   "version": "3.6.1"
  }
 },
 "nbformat": 4,
 "nbformat_minor": 2
}
