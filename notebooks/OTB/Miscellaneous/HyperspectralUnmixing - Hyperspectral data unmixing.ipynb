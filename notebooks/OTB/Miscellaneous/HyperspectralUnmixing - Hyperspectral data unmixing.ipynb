{
 "cells": [
  {
   "cell_type": "markdown",
   "metadata": {
    "collapsed": true
   },
   "source": [
    "# HyperspectralUnmixing - Hyperspectral data unmixing\n",
    "Estimate abundance maps from an hyperspectral image and a set of endmembers."
   ]
  },
  {
   "cell_type": "code",
   "execution_count": null,
   "metadata": {},
   "outputs": [],
   "source": [
    "import sys\n",
    "import os \n",
    "import otbApplication"
   ]
  },
  {
   "cell_type": "markdown",
   "metadata": {},
   "source": [
    "#Processing"
   ]
  },
  {
   "cell_type": "code",
   "execution_count": null,
   "metadata": {},
   "outputs": [],
   "source": [
    "file_1 = \"\"\n",
    "file_2 = \"\"\n",
    "HyperspectralUnmixing = otbApplication.Registry.CreateApplication(\"HyperspectralUnmixing\")\n",
    "HyperspectralUnmixing.SetParameterString(\"in\", file_1)\n",
    "HyperspectralUnmixing.SetParameterString(\"ie\", file_2)\n",
    "HyperspectralUnmixing.SetParameterString(\"out\", \"HyperspectralUnmixing.tif\")\n",
    "HyperspectralUnmixing.SetParameterOutputImagePixelType(\"out\", 7)\n",
    "HyperspectralUnmixing.SetParameterString(\"ua\",\"ucls\")\n",
    "\n",
    "HyperspectralUnmixing.ExecuteAndWriteOutput()"
   ]
  }
 ],
 "metadata": {
  "kernelspec": {
   "display_name": "Python 2",
   "language": "python",
   "name": "python2"
  },
  "language_info": {
   "codemirror_mode": {
    "name": "ipython",
    "version": 2.0
   },
   "file_extension": ".py",
   "mimetype": "text/x-python",
   "name": "python",
   "nbconvert_exporter": "python",
   "pygments_lexer": "ipython2",
   "version": "2.7.6"
  }
 },
 "nbformat": 4,
 "nbformat_minor": 0
}