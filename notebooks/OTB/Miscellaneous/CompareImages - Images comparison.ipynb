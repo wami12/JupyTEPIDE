{
 "cells": [
  {
   "cell_type": "markdown",
   "metadata": {
    "collapsed": true
   },
   "source": [
    "# CompareImages - Images comparison\n",
    "Estimator between 2 images."
   ]
  },
  {
   "cell_type": "code",
   "execution_count": null,
   "metadata": {},
   "outputs": [],
   "source": [
    "import sys\n",
    "import os \n",
    "import otbApplication"
   ]
  },
  {
   "cell_type": "markdown",
   "metadata": {},
   "source": [
    "#Processing"
   ]
  },
  {
   "cell_type": "code",
   "execution_count": null,
   "metadata": {},
   "outputs": [],
   "source": [
    "file_1 = \"\"\n",
    "file_2 = \"\"\n",
    "CompareImages = otbApplication.Registry.CreateApplication(\"CompareImages\")\n",
    "CompareImages.SetParameterString(\"ref.in\", file_1)\n",
    "CompareImages.SetParameterInt(\"ref.channel\", 1)\n",
    "CompareImages.SetParameterString(\"meas.in\", file_2)\n",
    "CompareImages.SetParameterInt(\"meas.channel\", 2)\n",
    "CompareImages.SetParameterInt(\"roi.startx\", 20)\n",
    "CompareImages.SetParameterInt(\"roi.starty\", 30)\n",
    "CompareImages.SetParameterInt(\"roi.sizex\", 150)\n",
    "CompareImages.SetParameterInt(\"roi.sizey\", 200)\n",
    "CompareImages.ExecuteAndWriteOutput()"
   ]
  }
 ],
 "metadata": {
  "kernelspec": {
   "display_name": "Python 2",
   "language": "python",
   "name": "python2"
  },
  "language_info": {
   "codemirror_mode": {
    "name": "ipython",
    "version": 2.0
   },
   "file_extension": ".py",
   "mimetype": "text/x-python",
   "name": "python",
   "nbconvert_exporter": "python",
   "pygments_lexer": "ipython2",
   "version": "2.7.6"
  }
 },
 "nbformat": 4,
 "nbformat_minor": 0
}