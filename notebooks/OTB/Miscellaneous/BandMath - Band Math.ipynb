{
 "cells": [
  {
   "cell_type": "markdown",
   "metadata": {
    "collapsed": true
   },
   "source": [
    "# BandMath - Band Math\n",
    "Outputs a monoband image which is the result of a mathematical operation on several multi-band images."
   ]
  },
  {
   "cell_type": "code",
   "execution_count": null,
   "metadata": {},
   "outputs": [],
   "source": [
    "import sys\n",
    "import os \n",
    "import otbApplication"
   ]
  },
  {
   "cell_type": "markdown",
   "metadata": {},
   "source": [
    "#Processing"
   ]
  },
  {
   "cell_type": "code",
   "execution_count": null,
   "metadata": {},
   "outputs": [],
   "source": [
    "file_1 = \"\"\n",
    "file_2 = \"\"\n",
    "\n",
    "BandMath = otbApplication.Registry.CreateApplication(\"BandMath\")\n",
    "BandMath.SetParameterStringList(\"il\", [file_1, file_2])\n",
    "BandMath.SetParameterString(\"out\", \"apTvUtBandMathOutput.tif\")\n",
    "BandMath.SetParameterString(\"exp\", \"'cos( im1b1 ) > cos( im2b1 ) ? im3b1 : im3b2'\")\n",
    "BandMath.ExecuteAndWriteOutput()"
   ]
  }
 ],
 "metadata": {
  "kernelspec": {
   "display_name": "Python 2",
   "language": "python",
   "name": "python2"
  },
  "language_info": {
   "codemirror_mode": {
    "name": "ipython",
    "version": 2.0
   },
   "file_extension": ".py",
   "mimetype": "text/x-python",
   "name": "python",
   "nbconvert_exporter": "python",
   "pygments_lexer": "ipython2",
   "version": "2.7.6"
  }
 },
 "nbformat": 4,
 "nbformat_minor": 0
}