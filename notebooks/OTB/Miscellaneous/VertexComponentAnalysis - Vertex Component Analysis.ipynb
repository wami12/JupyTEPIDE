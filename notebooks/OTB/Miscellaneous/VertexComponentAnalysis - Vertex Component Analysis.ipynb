{
 "cells": [
  {
   "cell_type": "markdown",
   "metadata": {
    "collapsed": true
   },
   "source": [
    "# VertexComponentAnalysis - Vertex Component Analysis\n",
    "Given a set of mixed spectral vectors, estimatereference substances also known as endmembers using the VertexComponent Analysis algorithm."
   ]
  },
  {
   "cell_type": "code",
   "execution_count": null,
   "metadata": {},
   "outputs": [],
   "source": [
    "import sys\n",
    "import os \n",
    "import otbApplication"
   ]
  },
  {
   "cell_type": "markdown",
   "metadata": {},
   "source": [
    "#Processing"
   ]
  },
  {
   "cell_type": "code",
   "execution_count": null,
   "metadata": {},
   "outputs": [],
   "source": [
    "file_1 = \"\"\n",
    "VertexComponentAnalysis = otbApplication.Registry.CreateApplication(\"VertexComponentAnalysis\")\n",
    "VertexComponentAnalysis.SetParameterString(\"in\", file_1)\n",
    "VertexComponentAnalysis.SetParameterInt(\"ne\", 5)\n",
    "VertexComponentAnalysis.SetParameterString(\"outendm\", \"VertexComponentAnalysis.tif\")\n",
    "VertexComponentAnalysis.SetParameterOutputImagePixelType(\"outendm\", 7)\n",
    "\n",
    "VertexComponentAnalysis.ExecuteAndWriteOutput()"
   ]
  }
 ],
 "metadata": {
  "kernelspec": {
   "display_name": "Python 2",
   "language": "python",
   "name": "python2"
  },
  "language_info": {
   "codemirror_mode": {
    "name": "ipython",
    "version": 2.0
   },
   "file_extension": ".py",
   "mimetype": "text/x-python",
   "name": "python",
   "nbconvert_exporter": "python",
   "pygments_lexer": "ipython2",
   "version": "2.7.6"
  }
 },
 "nbformat": 4,
 "nbformat_minor": 0
}