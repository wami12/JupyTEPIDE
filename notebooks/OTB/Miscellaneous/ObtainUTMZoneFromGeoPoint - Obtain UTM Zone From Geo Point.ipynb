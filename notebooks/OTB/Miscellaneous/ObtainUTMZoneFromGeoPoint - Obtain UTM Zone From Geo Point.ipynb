{
 "cells": [
  {
   "cell_type": "markdown",
   "metadata": {
    "collapsed": true
   },
   "source": [
    "# ObtainUTMZoneFromGeoPoint - Obtain UTM Zone From Geo Point\n",
    "UTM zone determination from a geographic point.\n"
   ]
  },
  {
   "cell_type": "code",
   "execution_count": null,
   "metadata": {},
   "outputs": [],
   "source": [
    "import sys\n",
    "import os \n",
    "import otbApplication"
   ]
  },
  {
   "cell_type": "markdown",
   "metadata": {},
   "source": [
    "#Processing"
   ]
  },
  {
   "cell_type": "code",
   "execution_count": null,
   "metadata": {},
   "outputs": [],
   "source": [
    "ObtainUTMZoneFromGeoPoint = otbApplication.Registry.CreateApplication(\"ObtainUTMZoneFromGeoPoint\")\n",
    "ObtainUTMZoneFromGeoPoint.SetParameterFloat(\"lat\", 10.0)\n",
    "ObtainUTMZoneFromGeoPoint.SetParameterFloat(\"lon\", 124.0)\n",
    "\n",
    "ObtainUTMZoneFromGeoPoint.ExecuteAndWriteOutput()"
   ]
  }
 ],
 "metadata": {
  "kernelspec": {
   "display_name": "Python 2",
   "language": "python",
   "name": "python2"
  },
  "language_info": {
   "codemirror_mode": {
    "name": "ipython",
    "version": 2.0
   },
   "file_extension": ".py",
   "mimetype": "text/x-python",
   "name": "python",
   "nbconvert_exporter": "python",
   "pygments_lexer": "ipython2",
   "version": "2.7.6"
  }
 },
 "nbformat": 4,
 "nbformat_minor": 0
}