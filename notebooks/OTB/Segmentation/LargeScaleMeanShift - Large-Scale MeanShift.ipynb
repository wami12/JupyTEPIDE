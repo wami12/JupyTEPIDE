{
 "cells": [
  {
   "cell_type": "markdown",
   "metadata": {
    "collapsed": true
   },
   "source": [
    "# LargeScaleMeanShift - Large-Scale MeanShift\n",
    "Large-scale segmentation using MeanShift"
   ]
  },
  {
   "cell_type": "code",
   "execution_count": null,
   "metadata": {},
   "outputs": [],
   "source": [
    "import sys\n",
    "import os \n",
    "import otbApplication"
   ]
  },
  {
   "cell_type": "markdown",
   "metadata": {},
   "source": [
    "#Processing"
   ]
  },
  {
   "cell_type": "code",
   "execution_count": null,
   "metadata": {},
   "outputs": [],
   "source": [
    "file_1 = \"\"\n",
    "\n",
    "LargeScaleMeanShift = otbApplication.Registry.CreateApplication(\"LargeScaleMeanShift\")\n",
    "LargeScaleMeanShift.SetParameterString(\"in\", file_1)\n",
    "LargeScaleMeanShift.SetParameterInt(\"spatialr\", 4)\n",
    "LargeScaleMeanShift.SetParameterFloat(\"ranger\", 80)\n",
    "LargeScaleMeanShift.SetParameterInt(\"minsize\", 16)\n",
    "LargeScaleMeanShift.SetParameterString(\"mode.vector.out\", \"regions.shp\")\n",
    "\n",
    "LargeScaleMeanShift.ExecuteAndWriteOutput()"
   ]
  }
 ],
 "metadata": {
  "kernelspec": {
   "display_name": "Python 2",
   "language": "python",
   "name": "python2"
  },
  "language_info": {
   "codemirror_mode": {
    "name": "ipython",
    "version": 2.0
   },
   "file_extension": ".py",
   "mimetype": "text/x-python",
   "name": "python",
   "nbconvert_exporter": "python",
   "pygments_lexer": "ipython2",
   "version": "2.7.6"
  }
 },
 "nbformat": 4,
 "nbformat_minor": 0
}