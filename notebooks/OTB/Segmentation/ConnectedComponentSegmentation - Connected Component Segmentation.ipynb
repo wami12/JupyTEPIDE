{
 "cells": [
  {
   "cell_type": "markdown",
   "metadata": {
    "collapsed": true
   },
   "source": [
    "#ConnectedComponentSegmentation - Connected Component Segmentation\n",
    "Connected component segmentation and object based image filtering of the input image according to user-defined criterions."
   ]
  },
  {
   "cell_type": "code",
   "execution_count": null,
   "metadata": {},
   "outputs": [],
   "source": [
    "import sys\n",
    "import os \n",
    "import otbApplication"
   ]
  },
  {
   "cell_type": "markdown",
   "metadata": {},
   "source": [
    "#Processing"
   ]
  },
  {
   "cell_type": "code",
   "execution_count": null,
   "metadata": {},
   "outputs": [],
   "source": [
    "file_1 = \"\"\n",
    "ConnectedComponentSegmentation = otbApplication.Registry.CreateApplication(\"ConnectedComponentSegmentation\")\n",
    "ConnectedComponentSegmentation.SetParameterString(\"in\", file_1)\n",
    "ConnectedComponentSegmentation.SetParameterString(\"mask\", \"((b1>80)*intensity>95)\")\n",
    "ConnectedComponentSegmentation.SetParameterString(\"expr\", \"distance<10\")\n",
    "ConnectedComponentSegmentation.SetParameterInt(\"minsize\", 15)\n",
    "ConnectedComponentSegmentation.SetParameterString(\"obia\", \"SHAPE_Elongation>8\")\n",
    "ConnectedComponentSegmentation.SetParameterString(\"out\", \"ConnectedComponentSegmentation.shp\")\n",
    "\n",
    "ConnectedComponentSegmentation.ExecuteAndWriteOutput()"
   ]
  }
 ],
 "metadata": {
  "kernelspec": {
   "display_name": "Python 2",
   "language": "python",
   "name": "python2"
  },
  "language_info": {
   "codemirror_mode": {
    "name": "ipython",
    "version": 2.0
   },
   "file_extension": ".py",
   "mimetype": "text/x-python",
   "name": "python",
   "nbconvert_exporter": "python",
   "pygments_lexer": "ipython2",
   "version": "2.7.6"
  }
 },
 "nbformat": 4,
 "nbformat_minor": 0
}