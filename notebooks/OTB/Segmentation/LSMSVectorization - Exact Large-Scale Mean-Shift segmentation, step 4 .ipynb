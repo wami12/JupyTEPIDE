{
 "cells": [
  {
   "cell_type": "markdown",
   "metadata": {
    "collapsed": true
   },
   "source": [
    "# LSMSVectorization - Exact Large-Scale Mean-Shift segmentation, step 4\n",
    "This application performs the fourth step of the exact Large-Scale Mean-Shift segmentation workflow [1]."
   ]
  },
  {
   "cell_type": "code",
   "execution_count": null,
   "metadata": {},
   "outputs": [],
   "source": [
    "import sys\n",
    "import os \n",
    "import otbApplication"
   ]
  },
  {
   "cell_type": "markdown",
   "metadata": {},
   "source": [
    "#Processing"
   ]
  },
  {
   "cell_type": "code",
   "execution_count": null,
   "metadata": {},
   "outputs": [],
   "source": [
    "file_1 = \"\"\n",
    "file_2 = \"\"\n",
    "LSMSVectorization = otbApplication.Registry.CreateApplication(\"LSMSVectorization\")\n",
    "LSMSVectorization.SetParameterString(\"in\", file_1)\n",
    "LSMSVectorization.SetParameterString(\"inseg\", file_2)\n",
    "LSMSVectorization.SetParameterString(\"out\", \"vector.shp\")\n",
    "LSMSVectorization.SetParameterInt(\"tilesizex\", 256)\n",
    "LSMSVectorization.SetParameterInt(\"tilesizey\", 256)\n",
    "\n",
    "LSMSVectorization.ExecuteAndWriteOutput()"
   ]
  }
 ],
 "metadata": {
  "kernelspec": {
   "display_name": "Python 2",
   "language": "python",
   "name": "python2"
  },
  "language_info": {
   "codemirror_mode": {
    "name": "ipython",
    "version": 2.0
   },
   "file_extension": ".py",
   "mimetype": "text/x-python",
   "name": "python",
   "nbconvert_exporter": "python",
   "pygments_lexer": "ipython2",
   "version": "2.7.6"
  }
 },
 "nbformat": 4,
 "nbformat_minor": 0
}