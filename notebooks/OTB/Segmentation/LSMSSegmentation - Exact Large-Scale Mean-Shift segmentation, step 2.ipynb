{
 "cells": [
  {
   "cell_type": "markdown",
   "metadata": {
    "collapsed": true
   },
   "source": [
    "# LSMSSegmentation - Exact Large-Scale Mean-Shift segmentation, step 2\n",
    "This application performs the second step of the exact Large-Scale Mean-Shift segmentation workflow (LSMS) [1]."
   ]
  },
  {
   "cell_type": "code",
   "execution_count": null,
   "metadata": {},
   "outputs": [],
   "source": [
    "import sys\n",
    "import os \n",
    "import otbApplication"
   ]
  },
  {
   "cell_type": "markdown",
   "metadata": {},
   "source": [
    "#Processing"
   ]
  },
  {
   "cell_type": "code",
   "execution_count": null,
   "metadata": {},
   "outputs": [],
   "source": [
    "file_1 = \"\"\n",
    "file_2 = \"\"\n",
    "LSMSSegmentation = otbApplication.Registry.CreateApplication(\"LSMSSegmentation\")\n",
    "LSMSSegmentation.SetParameterString(\"in\", file_1)\n",
    "LSMSSegmentation.SetParameterString(\"inpos\", file_2)\n",
    "LSMSSegmentation.SetParameterString(\"out\", \"segmentation.tif\")\n",
    "LSMSSegmentation.SetParameterFloat(\"spatialr\", 5)\n",
    "LSMSSegmentation.SetParameterFloat(\"ranger\", 15)\n",
    "LSMSSegmentation.SetParameterInt(\"minsize\", 0)\n",
    "LSMSSegmentation.SetParameterInt(\"tilesizex\", 256)\n",
    "LSMSSegmentation.SetParameterInt(\"tilesizey\", 256)\n",
    "\n",
    "LSMSSegmentation.ExecuteAndWriteOutput()"
   ]
  }
 ],
 "metadata": {
  "kernelspec": {
   "display_name": "Python 2",
   "language": "python",
   "name": "python2"
  },
  "language_info": {
   "codemirror_mode": {
    "name": "ipython",
    "version": 2.0
   },
   "file_extension": ".py",
   "mimetype": "text/x-python",
   "name": "python",
   "nbconvert_exporter": "python",
   "pygments_lexer": "ipython2",
   "version": "2.7.6"
  }
 },
 "nbformat": 4,
 "nbformat_minor": 0
}