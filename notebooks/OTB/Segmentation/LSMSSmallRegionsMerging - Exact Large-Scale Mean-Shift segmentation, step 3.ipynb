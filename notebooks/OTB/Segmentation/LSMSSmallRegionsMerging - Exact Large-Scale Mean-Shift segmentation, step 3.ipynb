{
 "cells": [
  {
   "cell_type": "markdown",
   "metadata": {
    "collapsed": true
   },
   "source": [
    "# LSMSSmallRegionsMerging - Exact Large-Scale Mean-Shift segmentation, step 3\n",
    "This application performs the third (optional) step of the exact Large-Scale Mean-Shift segmentation workflow [1]"
   ]
  },
  {
   "cell_type": "code",
   "execution_count": null,
   "metadata": {},
   "outputs": [],
   "source": [
    "import sys\n",
    "import os \n",
    "import otbApplication"
   ]
  },
  {
   "cell_type": "markdown",
   "metadata": {},
   "source": [
    "#Processing"
   ]
  },
  {
   "cell_type": "code",
   "execution_count": null,
   "metadata": {},
   "outputs": [],
   "source": [
    "file_1 = \"\"\n",
    "file_2 = \"\"\n",
    "LSMSSmallRegionsMerging = otbApplication.Registry.CreateApplication(\"LSMSSmallRegionsMerging\")\n",
    "LSMSSmallRegionsMerging.SetParameterString(\"in\", file_1)\n",
    "LSMSSmallRegionsMerging.SetParameterString(\"inseg\", file_2)\n",
    "LSMSSmallRegionsMerging.SetParameterString(\"out\", \"merged.tif\")\n",
    "LSMSSmallRegionsMerging.SetParameterInt(\"minsize\", 20)\n",
    "LSMSSmallRegionsMerging.SetParameterInt(\"tilesizex\", 256)\n",
    "LSMSSmallRegionsMerging.SetParameterInt(\"tilesizey\", 256)\n",
    "\n",
    "LSMSSmallRegionsMerging.ExecuteAndWriteOutput()"
   ]
  }
 ],
 "metadata": {
  "kernelspec": {
   "display_name": "Python 2",
   "language": "python",
   "name": "python2"
  },
  "language_info": {
   "codemirror_mode": {
    "name": "ipython",
    "version": 2.0
   },
   "file_extension": ".py",
   "mimetype": "text/x-python",
   "name": "python",
   "nbconvert_exporter": "python",
   "pygments_lexer": "ipython2",
   "version": "2.7.6"
  }
 },
 "nbformat": 4,
 "nbformat_minor": 0
}