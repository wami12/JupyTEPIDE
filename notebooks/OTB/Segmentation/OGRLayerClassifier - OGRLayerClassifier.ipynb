{
 "cells": [
  {
   "cell_type": "markdown",
   "metadata": {
    "collapsed": true
   },
   "source": [
    "# OGRLayerClassifier - OGRLayerClassifier\n",
    "Classify an OGR layer based on a machine learning model and a list of features to consider."
   ]
  },
  {
   "cell_type": "code",
   "execution_count": null,
   "metadata": {},
   "outputs": [],
   "source": [
    "import sys\n",
    "import os \n",
    "import otbApplication"
   ]
  },
  {
   "cell_type": "markdown",
   "metadata": {},
   "source": [
    "#Processing"
   ]
  },
  {
   "cell_type": "code",
   "execution_count": null,
   "metadata": {},
   "outputs": [],
   "source": [
    "file_1 = \"\"\n",
    "file_2 = \"\"\n",
    "OGRLayerClassifier = otbApplication.Registry.CreateApplication(\"OGRLayerClassifier\")\n",
    "OGRLayerClassifier.SetParameterString(\"inshp\", file_1)\n",
    "OGRLayerClassifier.SetParameterString(\"instats\", file_2)\n",
    "OGRLayerClassifier.SetParameterString(\"insvm\", \"svmModel.svm\")\n",
    "\n",
    "OGRLayerClassifier.ExecuteAndWriteOutput()"
   ]
  }
 ],
 "metadata": {
  "kernelspec": {
   "display_name": "Python 2",
   "language": "python",
   "name": "python2"
  },
  "language_info": {
   "codemirror_mode": {
    "name": "ipython",
    "version": 2.0
   },
   "file_extension": ".py",
   "mimetype": "text/x-python",
   "name": "python",
   "nbconvert_exporter": "python",
   "pygments_lexer": "ipython2",
   "version": "2.7.6"
  }
 },
 "nbformat": 4,
 "nbformat_minor": 0
}