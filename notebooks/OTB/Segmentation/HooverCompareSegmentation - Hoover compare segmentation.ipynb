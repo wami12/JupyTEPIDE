{
 "cells": [
  {
   "cell_type": "markdown",
   "metadata": {
    "collapsed": true
   },
   "source": [
    "# HooverCompareSegmentation - Hoover compare segmentation\n",
    "Compare two segmentations with Hoover metrics"
   ]
  },
  {
   "cell_type": "code",
   "execution_count": null,
   "metadata": {},
   "outputs": [],
   "source": [
    "import sys\n",
    "import os \n",
    "import otbApplication"
   ]
  },
  {
   "cell_type": "markdown",
   "metadata": {},
   "source": [
    "#Processing"
   ]
  },
  {
   "cell_type": "code",
   "execution_count": null,
   "metadata": {},
   "outputs": [],
   "source": [
    "file_1 = \"\"\n",
    "file_2 = \"\"\n",
    "HooverCompareSegmentation = otbApplication.Registry.CreateApplication(\"HooverCompareSegmentation\")\n",
    "HooverCompareSegmentation.SetParameterString(\"ingt\", file_1)\n",
    "HooverCompareSegmentation.SetParameterString(\"inms\", file_2)\n",
    "HooverCompareSegmentation.SetParameterString(\"outgt\", \"maur_colored_GT.tif\")\n",
    "HooverCompareSegmentation.SetParameterOutputImagePixelType(\"outgt\", 1)\n",
    "HooverCompareSegmentation.ExecuteAndWriteOutput()"
   ]
  }
 ],
 "metadata": {
  "kernelspec": {
   "display_name": "Python 2",
   "language": "python",
   "name": "python2"
  },
  "language_info": {
   "codemirror_mode": {
    "name": "ipython",
    "version": 2.0
   },
   "file_extension": ".py",
   "mimetype": "text/x-python",
   "name": "python",
   "nbconvert_exporter": "python",
   "pygments_lexer": "ipython2",
   "version": "2.7.6"
  }
 },
 "nbformat": 4,
 "nbformat_minor": 0
}