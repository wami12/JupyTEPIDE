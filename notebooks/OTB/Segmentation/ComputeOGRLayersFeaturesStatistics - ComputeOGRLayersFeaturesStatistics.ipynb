{
 "cells": [
  {
   "cell_type": "markdown",
   "metadata": {
    "collapsed": true
   },
   "source": [
    "# ComputeOGRLayersFeaturesStatistics - ComputeOGRLayersFeaturesStatistics\n",
    "Compute statistics of the features in a set of OGR Layers"
   ]
  },
  {
   "cell_type": "code",
   "execution_count": null,
   "metadata": {},
   "outputs": [],
   "source": [
    "import sys\n",
    "import os \n",
    "import otbApplication"
   ]
  },
  {
   "cell_type": "markdown",
   "metadata": {},
   "source": [
    "#Processing"
   ]
  },
  {
   "cell_type": "code",
   "execution_count": null,
   "metadata": {},
   "outputs": [],
   "source": [
    "file_1 = \"\"\n",
    "ComputeOGRLayersFeaturesStatistics = otbApplication.Registry.CreateApplication(\"ComputeOGRLayersFeaturesStatistics\")\n",
    "ComputeOGRLayersFeaturesStatistics.SetParameterString(\"inshp\", file_1)\n",
    "ComputeOGRLayersFeaturesStatistics.SetParameterString(\"outstats\", \"results.xml\")\n",
    "\n",
    "ComputeOGRLayersFeaturesStatistics.ExecuteAndWriteOutput()"
   ]
  }
 ],
 "metadata": {
  "kernelspec": {
   "display_name": "Python 2",
   "language": "python",
   "name": "python2"
  },
  "language_info": {
   "codemirror_mode": {
    "name": "ipython",
    "version": 2.0
   },
   "file_extension": ".py",
   "mimetype": "text/x-python",
   "name": "python",
   "nbconvert_exporter": "python",
   "pygments_lexer": "ipython2",
   "version": "2.7.6"
  }
 },
 "nbformat": 4,
 "nbformat_minor": 0
}