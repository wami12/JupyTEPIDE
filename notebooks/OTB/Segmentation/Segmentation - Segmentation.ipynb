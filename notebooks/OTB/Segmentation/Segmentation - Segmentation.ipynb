{
 "cells": [
  {
   "cell_type": "markdown",
   "metadata": {
    "collapsed": true
   },
   "source": [
    "# Segmentation - Segmentation\n",
    "Performs segmentation of an image, and output either a raster or a vector file. In vector mode, large input datasets are supported."
   ]
  },
  {
   "cell_type": "code",
   "execution_count": null,
   "metadata": {},
   "outputs": [],
   "source": [
    "import sys\n",
    "import os \n",
    "import otbApplication"
   ]
  },
  {
   "cell_type": "markdown",
   "metadata": {},
   "source": [
    "#Processing"
   ]
  },
  {
   "cell_type": "code",
   "execution_count": null,
   "metadata": {},
   "outputs": [],
   "source": [
    "file_1 = \"\"\n",
    "\n",
    "Segmentation = otbApplication.Registry.CreateApplication(\"Segmentation\")\n",
    "Segmentation.SetParameterString(\"in\", file_1)\n",
    "Segmentation.SetParameterString(\"mode\",\"vector\")\n",
    "Segmentation.SetParameterString(\"mode.vector.out\", \"SegmentationVector.sqlite\")\n",
    "Segmentation.SetParameterString(\"filter\",\"watershed\")\n",
    "\n",
    "Segmentation.ExecuteAndWriteOutput()"
   ]
  }
 ],
 "metadata": {
  "kernelspec": {
   "display_name": "Python 2",
   "language": "python",
   "name": "python2"
  },
  "language_info": {
   "codemirror_mode": {
    "name": "ipython",
    "version": 2.0
   },
   "file_extension": ".py",
   "mimetype": "text/x-python",
   "name": "python",
   "nbconvert_exporter": "python",
   "pygments_lexer": "ipython2",
   "version": "2.7.6"
  }
 },
 "nbformat": 4,
 "nbformat_minor": 0
}