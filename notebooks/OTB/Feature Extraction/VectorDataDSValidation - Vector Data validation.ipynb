{
 "cells": [
  {
   "cell_type": "markdown",
   "metadata": {
    "collapsed": true
   },
   "source": [
    "# VectorDataDSValidation - Vector Data validation\n",
    "Vector data validation based on the fusion of features using Dempster-Shafer evidence theory framework."
   ]
  },
  {
   "cell_type": "code",
   "execution_count": null,
   "metadata": {},
   "outputs": [],
   "source": [
    "import sys\n",
    "import os \n",
    "import otbApplication"
   ]
  },
  {
   "cell_type": "markdown",
   "metadata": {},
   "source": [
    "#Processing"
   ]
  },
  {
   "cell_type": "code",
   "execution_count": null,
   "metadata": {},
   "outputs": [],
   "source": [
    "file_1 = \"\"\n",
    "file_2 = \"\"\n",
    "VectorDataDSValidation = otbApplication.Registry.CreateApplication(\"VectorDataDSValidation\")\n",
    "VectorDataDSValidation.SetParameterString(\"in\", file_1)\n",
    "VectorDataDSValidation.SetParameterStringList(\"belsup\", ['cdbTvComputePolylineFeatureFromImage_LI_NOBUIL_gt.shp'])\n",
    "VectorDataDSValidation.SetParameterString(\"descmod\", file_2)\n",
    "VectorDataDSValidation.SetParameterString(\"out\", \"VectorDataDSValidation.shp\")\n",
    "\n",
    "VectorDataDSValidation.ExecuteAndWriteOutput()"
   ]
  }
 ],
 "metadata": {
  "kernelspec": {
   "display_name": "Python 2",
   "language": "python",
   "name": "python2"
  },
  "language_info": {
   "codemirror_mode": {
    "name": "ipython",
    "version": 2.0
   },
   "file_extension": ".py",
   "mimetype": "text/x-python",
   "name": "python",
   "nbconvert_exporter": "python",
   "pygments_lexer": "ipython2",
   "version": "2.7.6"
  }
 },
 "nbformat": 4,
 "nbformat_minor": 0
}