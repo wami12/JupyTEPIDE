{
 "cells": [
  {
   "cell_type": "markdown",
   "metadata": {
    "collapsed": true
   },
   "source": [
    "# MorphologicalProfilesAnalysis - Morphological Profiles Analysis\n",
    "Performs morphological profiles analysis on an input image channel."
   ]
  },
  {
   "cell_type": "code",
   "execution_count": null,
   "metadata": {},
   "outputs": [],
   "source": [
    "import sys\n",
    "import os \n",
    "import otbApplication"
   ]
  },
  {
   "cell_type": "markdown",
   "metadata": {},
   "source": [
    "#Processing"
   ]
  },
  {
   "cell_type": "code",
   "execution_count": null,
   "metadata": {},
   "outputs": [],
   "source": [
    "file_1 = \"\"\n",
    "MorphologicalProfilesAnalysis = otbApplication.Registry.CreateApplication(\"MorphologicalProfilesAnalysis\")\n",
    "MorphologicalProfilesAnalysis.SetParameterString(\"in\", file_1)\n",
    "MorphologicalProfilesAnalysis.SetParameterInt(\"channel\", 1)\n",
    "MorphologicalProfilesAnalysis.SetParameterString(\"structype\",\"ball\")\n",
    "MorphologicalProfilesAnalysis.SetParameterString(\"profile\",\"classification\")\n",
    "MorphologicalProfilesAnalysis.SetParameterInt(\"size\", 5)\n",
    "MorphologicalProfilesAnalysis.SetParameterInt(\"radius\", 1)\n",
    "MorphologicalProfilesAnalysis.SetParameterInt(\"step\", 1)\n",
    "MorphologicalProfilesAnalysis.SetParameterFloat(\"profile.classification.sigma\", 1)\n",
    "MorphologicalProfilesAnalysis.SetParameterString(\"out\", \"output.tif\")\n",
    "\n",
    "MorphologicalProfilesAnalysis.ExecuteAndWriteOutput()"
   ]
  }
 ],
 "metadata": {
  "kernelspec": {
   "display_name": "Python 2",
   "language": "python",
   "name": "python2"
  },
  "language_info": {
   "codemirror_mode": {
    "name": "ipython",
    "version": 2.0
   },
   "file_extension": ".py",
   "mimetype": "text/x-python",
   "name": "python",
   "nbconvert_exporter": "python",
   "pygments_lexer": "ipython2",
   "version": "2.7.6"
  }
 },
 "nbformat": 4,
 "nbformat_minor": 0
}