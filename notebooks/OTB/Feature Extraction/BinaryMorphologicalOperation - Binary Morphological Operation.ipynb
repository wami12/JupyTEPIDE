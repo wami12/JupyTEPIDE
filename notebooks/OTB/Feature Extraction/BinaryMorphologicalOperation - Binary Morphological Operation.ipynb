{
 "cells": [
  {
   "cell_type": "markdown",
   "metadata": {
    "collapsed": true
   },
   "source": [
    "# BinaryMorphologicalOperation - Binary Morphological Operation\n",
    "Performs morphological operations on an input image channel"
   ]
  },
  {
   "cell_type": "code",
   "execution_count": null,
   "metadata": {},
   "outputs": [],
   "source": [
    "import sys\n",
    "import os \n",
    "import otbApplication"
   ]
  },
  {
   "cell_type": "markdown",
   "metadata": {},
   "source": [
    "#Processing"
   ]
  },
  {
   "cell_type": "code",
   "execution_count": null,
   "metadata": {},
   "outputs": [],
   "source": [
    "file_1 = \"\"\n",
    "\n",
    "\n",
    "BinaryMorphologicalOperation = otbApplication.Registry.CreateApplication(\"BinaryMorphologicalOperation\")\n",
    "BinaryMorphologicalOperation.SetParameterString(\"in\", file_1)\n",
    "BinaryMorphologicalOperation.SetParameterString(\"out\", \"opened.tif\")\n",
    "BinaryMorphologicalOperation.SetParameterInt(\"channel\", 1)\n",
    "BinaryMorphologicalOperation.SetParameterInt(\"structype.ball.xradius\", 5)\n",
    "BinaryMorphologicalOperation.SetParameterInt(\"structype.ball.yradius\", 5)\n",
    "BinaryMorphologicalOperation.SetParameterString(\"filter\",\"erode\")\n",
    "BinaryMorphologicalOperation.ExecuteAndWriteOutput()"
   ]
  }
 ],
 "metadata": {
  "kernelspec": {
   "display_name": "Python 2",
   "language": "python",
   "name": "python2"
  },
  "language_info": {
   "codemirror_mode": {
    "name": "ipython",
    "version": 2.0
   },
   "file_extension": ".py",
   "mimetype": "text/x-python",
   "name": "python",
   "nbconvert_exporter": "python",
   "pygments_lexer": "ipython2",
   "version": "2.7.6"
  }
 },
 "nbformat": 4,
 "nbformat_minor": 0
}