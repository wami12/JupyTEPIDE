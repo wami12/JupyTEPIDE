{
 "cells": [
  {
   "cell_type": "markdown",
   "metadata": {
    "collapsed": true
   },
   "source": [
    "# SFSTextureExtraction - SFS Texture Extraction\n",
    "Computes Structural Feature Set textures on every pixel of the input image selected channel"
   ]
  },
  {
   "cell_type": "code",
   "execution_count": null,
   "metadata": {},
   "outputs": [],
   "source": [
    "import sys\n",
    "import os \n",
    "import otbApplication"
   ]
  },
  {
   "cell_type": "markdown",
   "metadata": {},
   "source": [
    "#Processing"
   ]
  },
  {
   "cell_type": "code",
   "execution_count": null,
   "metadata": {},
   "outputs": [],
   "source": [
    "file_1 = \"\"\n",
    "SFSTextureExtraction = otbApplication.Registry.CreateApplication(\"SFSTextureExtraction\")\n",
    "SFSTextureExtraction.SetParameterString(\"in\", file_1)\n",
    "SFSTextureExtraction.SetParameterInt(\"channel\", 1)\n",
    "SFSTextureExtraction.SetParameterFloat(\"parameters.spethre\", 50.0)\n",
    "SFSTextureExtraction.SetParameterInt(\"parameters.spathre\", 100)\n",
    "SFSTextureExtraction.SetParameterString(\"out\", \"SFSTextures.tif\")\n",
    "SFSTextureExtraction.ExecuteAndWriteOutput()"
   ]
  }
 ],
 "metadata": {
  "kernelspec": {
   "display_name": "Python 2",
   "language": "python",
   "name": "python2"
  },
  "language_info": {
   "codemirror_mode": {
    "name": "ipython",
    "version": 2.0
   },
   "file_extension": ".py",
   "mimetype": "text/x-python",
   "name": "python",
   "nbconvert_exporter": "python",
   "pygments_lexer": "ipython2",
   "version": "2.7.6"
  }
 },
 "nbformat": 4,
 "nbformat_minor": 0
}