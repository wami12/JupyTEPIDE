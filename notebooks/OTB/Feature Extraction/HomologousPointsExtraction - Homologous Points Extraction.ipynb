{
 "cells": [
  {
   "cell_type": "markdown",
   "metadata": {
    "collapsed": true
   },
   "source": [
    "# HomologousPointsExtraction - Homologous Points Extractionut image\n",
    "Compute homologous points between images using keypoints"
   ]
  },
  {
   "cell_type": "code",
   "execution_count": null,
   "metadata": {},
   "outputs": [],
   "source": [
    "import sys\n",
    "import os \n",
    "import otbApplication"
   ]
  },
  {
   "cell_type": "markdown",
   "metadata": {},
   "source": [
    "#Processing"
   ]
  },
  {
   "cell_type": "code",
   "execution_count": null,
   "metadata": {},
   "outputs": [],
   "source": [
    "file_1 = \"\"\n",
    "file_2 = \"\"\n",
    "HomologousPointsExtraction = otbApplication.Registry.CreateApplication(\"HomologousPointsExtraction\")\n",
    "HomologousPointsExtraction.SetParameterString(\"in1\", file_1)\n",
    "HomologousPointsExtraction.SetParameterString(\"in2\", file_2)\n",
    "HomologousPointsExtraction.SetParameterString(\"mode\",\"full\")\n",
    "HomologousPointsExtraction.SetParameterString(\"out\", \"homologous.txt\")\n",
    "\n",
    "HomologousPointsExtraction.ExecuteAndWriteOutput()"
   ]
  }
 ],
 "metadata": {
  "kernelspec": {
   "display_name": "Python 2",
   "language": "python",
   "name": "python2"
  },
  "language_info": {
   "codemirror_mode": {
    "name": "ipython",
    "version": 2.0
   },
   "file_extension": ".py",
   "mimetype": "text/x-python",
   "name": "python",
   "nbconvert_exporter": "python",
   "pygments_lexer": "ipython2",
   "version": "2.7.6"
  }
 },
 "nbformat": 4,
 "nbformat_minor": 0
}