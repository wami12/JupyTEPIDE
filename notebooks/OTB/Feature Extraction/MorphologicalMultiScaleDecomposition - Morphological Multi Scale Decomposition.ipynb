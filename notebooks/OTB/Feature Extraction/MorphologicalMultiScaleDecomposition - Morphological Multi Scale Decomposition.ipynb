{
 "cells": [
  {
   "cell_type": "markdown",
   "metadata": {
    "collapsed": true
   },
   "source": [
    "# MorphologicalMultiScaleDecomposition - Morphological Multi Scale Decomposition\n",
    "Perform a geodesic morphology based image analysis on an input image channel"
   ]
  },
  {
   "cell_type": "code",
   "execution_count": null,
   "metadata": {},
   "outputs": [],
   "source": [
    "import sys\n",
    "import os \n",
    "import otbApplication"
   ]
  },
  {
   "cell_type": "markdown",
   "metadata": {},
   "source": [
    "#Processing"
   ]
  },
  {
   "cell_type": "code",
   "execution_count": null,
   "metadata": {},
   "outputs": [],
   "source": [
    "file_1 = \"\"\n",
    "MorphologicalMultiScaleDecomposition = otbApplication.Registry.CreateApplication(\"MorphologicalMultiScaleDecomposition\")\n",
    "MorphologicalMultiScaleDecomposition.SetParameterString(\"in\", file_1)\n",
    "MorphologicalMultiScaleDecomposition.SetParameterString(\"structype\",\"ball\")\n",
    "MorphologicalMultiScaleDecomposition.SetParameterInt(\"channel\", 1)\n",
    "MorphologicalMultiScaleDecomposition.SetParameterInt(\"radius\", 2)\n",
    "MorphologicalMultiScaleDecomposition.SetParameterInt(\"levels\", 2)\n",
    "MorphologicalMultiScaleDecomposition.SetParameterInt(\"step\", 3)\n",
    "MorphologicalMultiScaleDecomposition.SetParameterString(\"outconvex\", \"convex.tif\")\n",
    "MorphologicalMultiScaleDecomposition.SetParameterString(\"outconcave\", \"concave.tif\")\n",
    "MorphologicalMultiScaleDecomposition.SetParameterString(\"outleveling\", \"leveling.tif\")\n",
    "\n",
    "MorphologicalMultiScaleDecomposition.ExecuteAndWriteOutput()"
   ]
  }
 ],
 "metadata": {
  "kernelspec": {
   "display_name": "Python 2",
   "language": "python",
   "name": "python2"
  },
  "language_info": {
   "codemirror_mode": {
    "name": "ipython",
    "version": 2.0
   },
   "file_extension": ".py",
   "mimetype": "text/x-python",
   "name": "python",
   "nbconvert_exporter": "python",
   "pygments_lexer": "ipython2",
   "version": "2.7.6"
  }
 },
 "nbformat": 4,
 "nbformat_minor": 0
}