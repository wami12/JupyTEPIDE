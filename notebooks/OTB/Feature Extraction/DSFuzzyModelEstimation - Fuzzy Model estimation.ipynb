{
 "cells": [
  {
   "cell_type": "markdown",
   "metadata": {
    "collapsed": true
   },
   "source": [
    "# EdgeExtraction - Edge Feature Extraction\n",
    "Estimate feature fuzzy model parameters using 2 vector data (ground truth samples and wrong samples)."
   ]
  },
  {
   "cell_type": "code",
   "execution_count": null,
   "metadata": {},
   "outputs": [],
   "source": [
    "import sys\n",
    "import os \n",
    "import otbApplication"
   ]
  },
  {
   "cell_type": "markdown",
   "metadata": {},
   "source": [
    "#Processing"
   ]
  },
  {
   "cell_type": "code",
   "execution_count": null,
   "metadata": {},
   "outputs": [],
   "source": [
    "file_1 = \"\"\n",
    "EdgeExtraction = otbApplication.Registry.CreateApplication(\"EdgeExtraction\")\n",
    "EdgeExtraction.SetParameterString(\"in\", file_1)\n",
    "EdgeExtraction.SetParameterInt(\"channel\", 1)\n",
    "EdgeExtraction.SetParameterString(\"out\", \"Edges.tif\")\n",
    "\n",
    "EdgeExtraction.ExecuteAndWriteOutput()"
   ]
  }
 ],
 "metadata": {
  "kernelspec": {
   "display_name": "Python 2",
   "language": "python",
   "name": "python2"
  },
  "language_info": {
   "codemirror_mode": {
    "name": "ipython",
    "version": 2.0
   },
   "file_extension": ".py",
   "mimetype": "text/x-python",
   "name": "python",
   "nbconvert_exporter": "python",
   "pygments_lexer": "ipython2",
   "version": "2.7.6"
  }
 },
 "nbformat": 4,
 "nbformat_minor": 0
}