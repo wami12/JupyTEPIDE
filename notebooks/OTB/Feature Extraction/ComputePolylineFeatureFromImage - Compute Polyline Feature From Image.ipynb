{
 "cells": [
  {
   "cell_type": "markdown",
   "metadata": {
    "collapsed": true
   },
   "source": [
    "# ComputePolylineFeatureFromImage - Compute Polyline Feature From Image\n",
    "This application compute for each studied polyline, contained in the input VectorData, the chosen descriptors."
   ]
  },
  {
   "cell_type": "code",
   "execution_count": null,
   "metadata": {},
   "outputs": [],
   "source": [
    "import sys\n",
    "import os \n",
    "import otbApplication"
   ]
  },
  {
   "cell_type": "markdown",
   "metadata": {},
   "source": [
    "#Processing"
   ]
  },
  {
   "cell_type": "code",
   "execution_count": null,
   "metadata": {},
   "outputs": [],
   "source": [
    "file_1 = \"\"\n",
    "file_2 = \"\"\n",
    "ComputePolylineFeatureFromImage = otbApplication.Registry.CreateApplication(\"ComputePolylineFeatureFromImage\")\n",
    "ComputePolylineFeatureFromImage.SetParameterString(\"in\", file_1)\n",
    "ComputePolylineFeatureFromImage.SetParameterString(\"vd\", file_2)\n",
    "ComputePolylineFeatureFromImage.SetParameterString(\"expr\", \"(b1 > 0.4)\")\n",
    "ComputePolylineFeatureFromImage.SetParameterString(\"field\", \"NONDVI\")\n",
    "ComputePolylineFeatureFromImage.SetParameterString(\"out\", \"PolylineFeatureFromImage_LI_NONDVI_gt.shp\")\n",
    "\n",
    "ComputePolylineFeatureFromImage.ExecuteAndWriteOutput()"
   ]
  }
 ],
 "metadata": {
  "kernelspec": {
   "display_name": "Python 2",
   "language": "python",
   "name": "python2"
  },
  "language_info": {
   "codemirror_mode": {
    "name": "ipython",
    "version": 2.0
   },
   "file_extension": ".py",
   "mimetype": "text/x-python",
   "name": "python",
   "nbconvert_exporter": "python",
   "pygments_lexer": "ipython2",
   "version": "2.7.6"
  }
 },
 "nbformat": 4,
 "nbformat_minor": 0
}