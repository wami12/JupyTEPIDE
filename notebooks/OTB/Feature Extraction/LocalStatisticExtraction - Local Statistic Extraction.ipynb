{
 "cells": [
  {
   "cell_type": "markdown",
   "metadata": {
    "collapsed": true
   },
   "source": [
    "#LocalStatisticExtraction - Local Statistic Extraction\n",
    "Computes local statistical moments on every pixel in the selected channel of the input image"
   ]
  },
  {
   "cell_type": "code",
   "execution_count": null,
   "metadata": {},
   "outputs": [],
   "source": [
    "import sys\n",
    "import os \n",
    "import otbApplication"
   ]
  },
  {
   "cell_type": "markdown",
   "metadata": {},
   "source": [
    "#Processing"
   ]
  },
  {
   "cell_type": "code",
   "execution_count": null,
   "metadata": {},
   "outputs": [],
   "source": [
    "file_1 = \"\"\n",
    "LocalStatisticExtraction = otbApplication.Registry.CreateApplication(\"LocalStatisticExtraction\")\n",
    "LocalStatisticExtraction.SetParameterString(\"in\", file_1)\n",
    "LocalStatisticExtraction.SetParameterInt(\"channel\", 1)\n",
    "LocalStatisticExtraction.SetParameterInt(\"radius\", 3)\n",
    "LocalStatisticExtraction.SetParameterString(\"out\", \"Statistics.tif\")\n",
    "\n",
    "LocalStatisticExtraction.ExecuteAndWriteOutput()"
   ]
  }
 ],
 "metadata": {
  "kernelspec": {
   "display_name": "Python 2",
   "language": "python",
   "name": "python2"
  },
  "language_info": {
   "codemirror_mode": {
    "name": "ipython",
    "version": 2.0
   },
   "file_extension": ".py",
   "mimetype": "text/x-python",
   "name": "python",
   "nbconvert_exporter": "python",
   "pygments_lexer": "ipython2",
   "version": "2.7.6"
  }
 },
 "nbformat": 4,
 "nbformat_minor": 0
}