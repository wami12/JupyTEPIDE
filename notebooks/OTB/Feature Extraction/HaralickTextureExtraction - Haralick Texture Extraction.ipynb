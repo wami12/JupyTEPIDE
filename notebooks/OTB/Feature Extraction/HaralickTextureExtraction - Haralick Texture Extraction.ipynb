{
 "cells": [
  {
   "cell_type": "markdown",
   "metadata": {
    "collapsed": true
   },
   "source": [
    "# HaralickTextureExtraction - Haralick Texture Extraction\n",
    "Computes Haralick textural features on the selected channel of the input image\n",
    "\n"
   ]
  },
  {
   "cell_type": "code",
   "execution_count": null,
   "metadata": {},
   "outputs": [],
   "source": [
    "import sys\n",
    "import os \n",
    "import otbApplication"
   ]
  },
  {
   "cell_type": "markdown",
   "metadata": {},
   "source": [
    "#Processing"
   ]
  },
  {
   "cell_type": "code",
   "execution_count": null,
   "metadata": {},
   "outputs": [],
   "source": [
    "file_1 = \"\"\n",
    "HaralickTextureExtraction = otbApplication.Registry.CreateApplication(\"HaralickTextureExtraction\")\n",
    "HaralickTextureExtraction.SetParameterString(\"in\", file_1)\n",
    "HaralickTextureExtraction.SetParameterInt(\"channel\", 2)\n",
    "HaralickTextureExtraction.SetParameterInt(\"parameters.xrad\", 3)\n",
    "HaralickTextureExtraction.SetParameterInt(\"parameters.yrad\", 3)\n",
    "HaralickTextureExtraction.SetParameterString(\"texture\",\"simple\")\n",
    "HaralickTextureExtraction.SetParameterString(\"out\", \"HaralickTextures.tif\")\n",
    "\n",
    "HaralickTextureExtraction.ExecuteAndWriteOutput()"
   ]
  }
 ],
 "metadata": {
  "kernelspec": {
   "display_name": "Python 2",
   "language": "python",
   "name": "python2"
  },
  "language_info": {
   "codemirror_mode": {
    "name": "ipython",
    "version": 2.0
   },
   "file_extension": ".py",
   "mimetype": "text/x-python",
   "name": "python",
   "nbconvert_exporter": "python",
   "pygments_lexer": "ipython2",
   "version": "2.7.6"
  }
 },
 "nbformat": 4,
 "nbformat_minor": 0
}