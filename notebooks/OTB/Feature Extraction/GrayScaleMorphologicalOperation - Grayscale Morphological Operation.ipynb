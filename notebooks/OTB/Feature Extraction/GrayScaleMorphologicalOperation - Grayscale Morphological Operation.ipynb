{
 "cells": [
  {
   "cell_type": "markdown",
   "metadata": {
    "collapsed": true
   },
   "source": [
    "# GrayScaleMorphologicalOperation - Grayscale Morphological Operation\n",
    "Performs morphological operations on a grayscale input image."
   ]
  },
  {
   "cell_type": "code",
   "execution_count": null,
   "metadata": {},
   "outputs": [],
   "source": [
    "import sys\n",
    "import os \n",
    "import otbApplication"
   ]
  },
  {
   "cell_type": "markdown",
   "metadata": {},
   "source": [
    "#Processing"
   ]
  },
  {
   "cell_type": "code",
   "execution_count": null,
   "metadata": {},
   "outputs": [],
   "source": [
    "file_1 = \"\"\n",
    "GrayScaleMorphologicalOperation = otbApplication.Registry.CreateApplication(\"GrayScaleMorphologicalOperation\")\n",
    "GrayScaleMorphologicalOperation.SetParameterString(\"in\", file_1)\n",
    "GrayScaleMorphologicalOperation.SetParameterString(\"out\", \"opened.tif\")\n",
    "GrayScaleMorphologicalOperation.SetParameterInt(\"channel\", 1)\n",
    "GrayScaleMorphologicalOperation.SetParameterInt(\"structype.ball.xradius\", 5)\n",
    "GrayScaleMorphologicalOperation.SetParameterInt(\"structype.ball.yradius\", 5)\n",
    "GrayScaleMorphologicalOperation.SetParameterString(\"filter\",\"erode\")\n",
    "\n",
    "GrayScaleMorphologicalOperation.ExecuteAndWriteOutput()"
   ]
  }
 ],
 "metadata": {
  "kernelspec": {
   "display_name": "Python 2",
   "language": "python",
   "name": "python2"
  },
  "language_info": {
   "codemirror_mode": {
    "name": "ipython",
    "version": 2.0
   },
   "file_extension": ".py",
   "mimetype": "text/x-python",
   "name": "python",
   "nbconvert_exporter": "python",
   "pygments_lexer": "ipython2",
   "version": "2.7.6"
  }
 },
 "nbformat": 4,
 "nbformat_minor": 0
}