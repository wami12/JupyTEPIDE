{
 "cells": [
  {
   "cell_type": "markdown",
   "metadata": {
    "collapsed": true
   },
   "source": [
    "# TileFusion - Image Tile Fusion\n",
    "Fusion of an image made of several tile files."
   ]
  },
  {
   "cell_type": "code",
   "execution_count": null,
   "metadata": {},
   "outputs": [],
   "source": [
    "import sys\n",
    "import os \n",
    "import otbApplication"
   ]
  },
  {
   "cell_type": "markdown",
   "metadata": {},
   "source": [
    "#Processing"
   ]
  },
  {
   "cell_type": "code",
   "execution_count": null,
   "metadata": {},
   "outputs": [],
   "source": [
    "file_1 = \"\"\n",
    "file_2 = \"\"\n",
    "file_3 = \"\"\n",
    "file_4 = \"\"\n",
    "\n",
    "TileFusion = otbApplication.Registry.CreateApplication(\"TileFusion\")\n",
    "TileFusion.SetParameterStringList(\"il\", [file_1, file_2, file_3, file_4])\n",
    "TileFusion.SetParameterInt(\"cols\", 2)\n",
    "TileFusion.SetParameterInt(\"rows\", 2)\n",
    "TileFusion.SetParameterString(\"out\", \"EntireImage.tif\")\n",
    "TileFusion.ExecuteAndWriteOutput()"
   ]
  }
 ],
 "metadata": {
  "kernelspec": {
   "display_name": "Python 2",
   "language": "python",
   "name": "python2"
  },
  "language_info": {
   "codemirror_mode": {
    "name": "ipython",
    "version": 2.0
   },
   "file_extension": ".py",
   "mimetype": "text/x-python",
   "name": "python",
   "nbconvert_exporter": "python",
   "pygments_lexer": "ipython2",
   "version": "2.7.6"
  }
 },
 "nbformat": 4,
 "nbformat_minor": 0
}