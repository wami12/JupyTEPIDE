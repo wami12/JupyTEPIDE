{
 "cells": [
  {
   "cell_type": "markdown",
   "metadata": {
    "collapsed": true
   },
   "source": [
    "# DownloadSRTMTiles - Download or list SRTM tiles related to a set of images\n",
    "Download or list SRTM tiles"
   ]
  },
  {
   "cell_type": "code",
   "execution_count": null,
   "metadata": {},
   "outputs": [],
   "source": [
    "import sys\n",
    "import os \n",
    "import otbApplication"
   ]
  },
  {
   "cell_type": "markdown",
   "metadata": {},
   "source": [
    "#Processing"
   ]
  },
  {
   "cell_type": "code",
   "execution_count": null,
   "metadata": {},
   "outputs": [],
   "source": [
    "file_1 = \"\"\n",
    "\n",
    "DownloadSRTMTiles = otbApplication.Registry.CreateApplication(\"DownloadSRTMTiles\")\n",
    "DownloadSRTMTiles.SetParameterStringList(\"il\", [file_1])\n",
    "DownloadSRTMTiles.SetParameterString(\"mode\",\"list\")\n",
    "DownloadSRTMTiles.SetParameterString(\"tiledir\", \"/home/user/srtm_dir/\")\n",
    "DownloadSRTMTiles.ExecuteAndWriteOutput()"
   ]
  }
 ],
 "metadata": {
  "kernelspec": {
   "display_name": "Python 2",
   "language": "python",
   "name": "python2"
  },
  "language_info": {
   "codemirror_mode": {
    "name": "ipython",
    "version": 2.0
   },
   "file_extension": ".py",
   "mimetype": "text/x-python",
   "name": "python",
   "nbconvert_exporter": "python",
   "pygments_lexer": "ipython2",
   "version": "2.7.6"
  }
 },
 "nbformat": 4,
 "nbformat_minor": 0
}