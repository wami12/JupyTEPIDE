{
 "cells": [
  {
   "cell_type": "markdown",
   "metadata": {
    "collapsed": true
   },
   "source": [
    "# MultiResolutionPyramid - Multi Resolution Pyramid\n",
    "Build a multi-resolution pyramid of the image."
   ]
  },
  {
   "cell_type": "code",
   "execution_count": null,
   "metadata": {},
   "outputs": [],
   "source": [
    "import sys\n",
    "import os \n",
    "import otbApplication"
   ]
  },
  {
   "cell_type": "markdown",
   "metadata": {},
   "source": [
    "#Processing"
   ]
  },
  {
   "cell_type": "code",
   "execution_count": null,
   "metadata": {},
   "outputs": [],
   "source": [
    "file_1 = \"\"\n",
    "\n",
    "MultiResolutionPyramid = otbApplication.Registry.CreateApplication(\"MultiResolutionPyramid\")\n",
    "MultiResolutionPyramid.SetParameterString(\"in\", file_1)\n",
    "MultiResolutionPyramid.SetParameterString(\"out\", \"multiResolutionImage.tif\")\n",
    "MultiResolutionPyramid.SetParameterInt(\"level\", 1)\n",
    "MultiResolutionPyramid.SetParameterInt(\"sfactor\", 2)\n",
    "MultiResolutionPyramid.SetParameterFloat(\"vfactor\", 0.6)\n",
    "MultiResolutionPyramid.EnableParameter(\"fast\")\n",
    "\n",
    "MultiResolutionPyramid.ExecuteAndWriteOutput()"
   ]
  }
 ],
 "metadata": {
  "kernelspec": {
   "display_name": "Python 2",
   "language": "python",
   "name": "python2"
  },
  "language_info": {
   "codemirror_mode": {
    "name": "ipython",
    "version": 2.0
   },
   "file_extension": ".py",
   "mimetype": "text/x-python",
   "name": "python",
   "nbconvert_exporter": "python",
   "pygments_lexer": "ipython2",
   "version": "2.7.6"
  }
 },
 "nbformat": 4,
 "nbformat_minor": 0
}