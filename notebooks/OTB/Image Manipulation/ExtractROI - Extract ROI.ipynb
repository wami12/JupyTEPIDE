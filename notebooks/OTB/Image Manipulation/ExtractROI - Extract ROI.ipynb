{
 "cells": [
  {
   "cell_type": "markdown",
   "metadata": {
    "collapsed": true
   },
   "source": [
    "# ExtractROI - Extract ROI\n",
    "Extract a ROI defined by the user."
   ]
  },
  {
   "cell_type": "code",
   "execution_count": null,
   "metadata": {},
   "outputs": [],
   "source": [
    "import sys\n",
    "import os \n",
    "import otbApplication"
   ]
  },
  {
   "cell_type": "markdown",
   "metadata": {},
   "source": [
    "#Processing"
   ]
  },
  {
   "cell_type": "code",
   "execution_count": null,
   "metadata": {},
   "outputs": [],
   "source": [
    "file_1 = \"\"\n",
    "\n",
    "ExtractROI = otbApplication.Registry.CreateApplication(\"ExtractROI\")\n",
    "ExtractROI.SetParameterString(\"in\", file_1)\n",
    "ExtractROI.SetParameterString(\"mode\",\"extent\")\n",
    "ExtractROI.SetParameterFloat(\"mode.extent.ulx\", 40)\n",
    "ExtractROI.SetParameterFloat(\"mode.extent.uly\", 40)\n",
    "ExtractROI.SetParameterFloat(\"mode.extent.lrx\", 150)\n",
    "ExtractROI.SetParameterFloat(\"mode.extent.lry\", 150)\n",
    "ExtractROI.SetParameterString(\"out\", \"ExtractROI.tif\")\n",
    "\n",
    "ExtractROI.ExecuteAndWriteOutput()"
   ]
  }
 ],
 "metadata": {
  "kernelspec": {
   "display_name": "Python 2",
   "language": "python",
   "name": "python2"
  },
  "language_info": {
   "codemirror_mode": {
    "name": "ipython",
    "version": 2.0
   },
   "file_extension": ".py",
   "mimetype": "text/x-python",
   "name": "python",
   "nbconvert_exporter": "python",
   "pygments_lexer": "ipython2",
   "version": "2.7.6"
  }
 },
 "nbformat": 4,
 "nbformat_minor": 0
}