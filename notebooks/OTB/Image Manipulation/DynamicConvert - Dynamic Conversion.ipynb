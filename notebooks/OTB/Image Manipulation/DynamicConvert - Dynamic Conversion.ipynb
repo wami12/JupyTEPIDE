{
 "cells": [
  {
   "cell_type": "markdown",
   "metadata": {
    "collapsed": true
   },
   "source": [
    "# DynamicConvert - Dynamic Conversion\n",
    "Change the pixel type and rescale the image’s dynamic"
   ]
  },
  {
   "cell_type": "code",
   "execution_count": null,
   "metadata": {},
   "outputs": [],
   "source": [
    "import sys\n",
    "import os \n",
    "import otbApplication"
   ]
  },
  {
   "cell_type": "markdown",
   "metadata": {},
   "source": [
    "#Processing"
   ]
  },
  {
   "cell_type": "code",
   "execution_count": null,
   "metadata": {},
   "outputs": [],
   "source": [
    "file_1 = \"\"\n",
    "\n",
    "DynamicConvert = otbApplication.Registry.CreateApplication(\"DynamicConvert\")\n",
    "DynamicConvert.SetParameterString(\"in\", file_1s)\n",
    "DynamicConvert.SetParameterString(\"out\", \"otbConvertWithScalingOutput.png\")\n",
    "DynamicConvert.SetParameterString(\"type\",\"linear\")\n",
    "DynamicConvert.SetParameterString(\"channels\",\"rgb\")\n",
    "DynamicConvert.SetParameterFloat(\"outmin\", 0)\n",
    "DynamicConvert.SetParameterFloat(\"outmax\", 255)\n",
    "\n",
    "DynamicConvert.ExecuteAndWriteOutput()"
   ]
  }
 ],
 "metadata": {
  "kernelspec": {
   "display_name": "Python 2",
   "language": "python",
   "name": "python2"
  },
  "language_info": {
   "codemirror_mode": {
    "name": "ipython",
    "version": 2.0
   },
   "file_extension": ".py",
   "mimetype": "text/x-python",
   "name": "python",
   "nbconvert_exporter": "python",
   "pygments_lexer": "ipython2",
   "version": "2.7.6"
  }
 },
 "nbformat": 4,
 "nbformat_minor": 0
}