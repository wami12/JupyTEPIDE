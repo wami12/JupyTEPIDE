{
 "cells": [
  {
   "cell_type": "markdown",
   "metadata": {
    "collapsed": true
   },
   "source": [
    "# ColorMapping - Color Mapping\n",
    "Maps an input label image to 8-bits RGB using look-up tables."
   ]
  },
  {
   "cell_type": "code",
   "execution_count": null,
   "metadata": {},
   "outputs": [],
   "source": [
    "import sys\n",
    "import os \n",
    "import otbApplication"
   ]
  },
  {
   "cell_type": "markdown",
   "metadata": {},
   "source": [
    "#Processing"
   ]
  },
  {
   "cell_type": "code",
   "execution_count": null,
   "metadata": {},
   "outputs": [],
   "source": [
    "file_1 = \"\"\n",
    "ColorMapping = otbApplication.Registry.CreateApplication(\"ColorMapping\")\n",
    "ColorMapping.SetParameterString(\"in\", file_1)\n",
    "ColorMapping.SetParameterString(\"method\",\"custom\")\n",
    "ColorMapping.SetParameterString(\"method.custom.lut\", \"ROI_QB_MUL_1_SVN_CLASS_MULTI_PNG_ColorTable.txt\")\n",
    "ColorMapping.SetParameterString(\"out\", \"Colorized_ROI_QB_MUL_1_SVN_CLASS_MULTI.tif\")\n",
    "ColorMapping.ExecuteAndWriteOutput()"
   ]
  }
 ],
 "metadata": {
  "kernelspec": {
   "display_name": "Python 2",
   "language": "python",
   "name": "python2"
  },
  "language_info": {
   "codemirror_mode": {
    "name": "ipython",
    "version": 2.0
   },
   "file_extension": ".py",
   "mimetype": "text/x-python",
   "name": "python",
   "nbconvert_exporter": "python",
   "pygments_lexer": "ipython2",
   "version": "2.7.6"
  }
 },
 "nbformat": 4,
 "nbformat_minor": 0
}