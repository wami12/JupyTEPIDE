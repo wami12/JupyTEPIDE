{
 "cells": [
  {
   "cell_type": "markdown",
   "metadata": {
    "collapsed": true
   },
   "source": [
    "# ManageNoData - No Data management\n",
    "Manage No-Data"
   ]
  },
  {
   "cell_type": "code",
   "execution_count": null,
   "metadata": {},
   "outputs": [],
   "source": [
    "import sys\n",
    "import os \n",
    "import otbApplication"
   ]
  },
  {
   "cell_type": "markdown",
   "metadata": {},
   "source": [
    "#Processing"
   ]
  },
  {
   "cell_type": "code",
   "execution_count": null,
   "metadata": {},
   "outputs": [],
   "source": [
    "file_1 = \"\"\n",
    "\n",
    "ManageNoData = otbApplication.Registry.CreateApplication(\"ManageNoData\")\n",
    "ManageNoData.SetParameterString(\"in\", file_1)\n",
    "ManageNoData.SetParameterString(\"out\", \"QB_Toulouse_Ortho_XS_nodatamask.tif\")\n",
    "ManageNoData.SetParameterOutputImagePixelType(\"out\", 1)\n",
    "ManageNoData.SetParameterFloat(\"mode.buildmask.inv\", 255)\n",
    "ManageNoData.SetParameterFloat(\"mode.buildmask.outv\", 0)\n",
    "\n",
    "ManageNoData.ExecuteAndWriteOutput()"
   ]
  }
 ],
 "metadata": {
  "kernelspec": {
   "display_name": "Python 2",
   "language": "python",
   "name": "python2"
  },
  "language_info": {
   "codemirror_mode": {
    "name": "ipython",
    "version": 2.0
   },
   "file_extension": ".py",
   "mimetype": "text/x-python",
   "name": "python",
   "nbconvert_exporter": "python",
   "pygments_lexer": "ipython2",
   "version": "2.7.6"
  }
 },
 "nbformat": 4,
 "nbformat_minor": 0
}