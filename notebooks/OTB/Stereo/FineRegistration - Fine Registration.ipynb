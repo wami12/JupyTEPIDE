{
 "cells": [
  {
   "cell_type": "markdown",
   "metadata": {
    "collapsed": true
   },
   "source": [
    "# FineRegistration - Fine Registrationv\n",
    "Estimate disparity map between two images."
   ]
  },
  {
   "cell_type": "code",
   "execution_count": null,
   "metadata": {},
   "outputs": [],
   "source": [
    "import sys\n",
    "import os \n",
    "import otbApplication"
   ]
  },
  {
   "cell_type": "markdown",
   "metadata": {},
   "source": [
    "#Processing"
   ]
  },
  {
   "cell_type": "code",
   "execution_count": null,
   "metadata": {},
   "outputs": [],
   "source": [
    "file_1 = \"\"\n",
    "file_2 = \"\"\n",
    "FineRegistration = otbApplication.Registry.CreateApplication(\"FineRegistration\")\n",
    "FineRegistration.SetParameterString(\"ref\", file_1)\n",
    "FineRegistration.SetParameterString(\"sec\", file_2)\n",
    "FineRegistration.SetParameterString(\"out\", \"FineRegistration.tif\")\n",
    "FineRegistration.SetParameterInt(\"erx\", 2)\n",
    "FineRegistration.SetParameterInt(\"ery\", 2)\n",
    "FineRegistration.SetParameterInt(\"mrx\", 3)\n",
    "FineRegistration.SetParameterInt(\"mry\", 3)\n",
    "\n",
    "FineRegistration.ExecuteAndWriteOutput()"
   ]
  }
 ],
 "metadata": {
  "kernelspec": {
   "display_name": "Python 2",
   "language": "python",
   "name": "python2"
  },
  "language_info": {
   "codemirror_mode": {
    "name": "ipython",
    "version": 2.0
   },
   "file_extension": ".py",
   "mimetype": "text/x-python",
   "name": "python",
   "nbconvert_exporter": "python",
   "pygments_lexer": "ipython2",
   "version": "2.7.6"
  }
 },
 "nbformat": 4,
 "nbformat_minor": 0
}