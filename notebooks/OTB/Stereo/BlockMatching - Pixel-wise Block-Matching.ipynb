{
 "cells": [
  {
   "cell_type": "markdown",
   "metadata": {
    "collapsed": true
   },
   "source": [
    "# BlockMatching - Pixel-wise Block-Matching\n",
    "Performs block-matching to estimate pixel-wise disparities between two images."
   ]
  },
  {
   "cell_type": "code",
   "execution_count": null,
   "metadata": {},
   "outputs": [],
   "source": [
    "import sys\n",
    "import os \n",
    "import otbApplication"
   ]
  },
  {
   "cell_type": "markdown",
   "metadata": {},
   "source": [
    "#Processing"
   ]
  },
  {
   "cell_type": "code",
   "execution_count": null,
   "metadata": {},
   "outputs": [],
   "source": [
    "file_1 = \"\"\n",
    "file_2 = \"\"\n",
    "BlockMatching = otbApplication.Registry.CreateApplication(\"BlockMatching\")\n",
    "BlockMatching.SetParameterString(\"io.inleft\", file_1)\n",
    "BlockMatching.SetParameterString(\"io.inright\", file_2)\n",
    "BlockMatching.SetParameterInt(\"bm.minhd\", -10)\n",
    "BlockMatching.SetParameterInt(\"bm.maxhd\", 10)\n",
    "BlockMatching.SetParameterFloat(\"mask.variancet\", 10)\n",
    "BlockMatching.SetParameterString(\"io.out\", \"MyDisparity.tif\")\n",
    "BlockMatching.ExecuteAndWriteOutput()"
   ]
  }
 ],
 "metadata": {
  "kernelspec": {
   "display_name": "Python 2",
   "language": "python",
   "name": "python2"
  },
  "language_info": {
   "codemirror_mode": {
    "name": "ipython",
    "version": 2.0
   },
   "file_extension": ".py",
   "mimetype": "text/x-python",
   "name": "python",
   "nbconvert_exporter": "python",
   "pygments_lexer": "ipython2",
   "version": "2.7.6"
  }
 },
 "nbformat": 4,
 "nbformat_minor": 0
}