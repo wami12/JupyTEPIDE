{
 "cells": [
  {
   "cell_type": "markdown",
   "metadata": {
    "collapsed": true
   },
   "source": [
    "# StereoRectificationGridGenerator - Stereo-rectification deformation grid generator\n",
    "Generates two deformation fields to resample in epipolar geometry, a pair of stereo images up to the sensor model precision"
   ]
  },
  {
   "cell_type": "code",
   "execution_count": null,
   "metadata": {},
   "outputs": [],
   "source": [
    "import sys\n",
    "import os \n",
    "import otbApplication"
   ]
  },
  {
   "cell_type": "markdown",
   "metadata": {},
   "source": [
    "#Processing"
   ]
  },
  {
   "cell_type": "code",
   "execution_count": null,
   "metadata": {},
   "outputs": [],
   "source": [
    "file_1 = \"\"\n",
    "file_2 = \"\"\n",
    "StereoRectificationGridGenerator = otbApplication.Registry.CreateApplication(\"StereoRectificationGridGenerator\")\n",
    "StereoRectificationGridGenerator.SetParameterString(\"io.inleft\", file_1)\n",
    "StereoRectificationGridGenerator.SetParameterString(\"io.inright\", file_2)\n",
    "StereoRectificationGridGenerator.SetParameterString(\"io.outleft\", \"wv2_xs_left_epi_field.tif\")\n",
    "StereoRectificationGridGenerator.SetParameterString(\"io.outright\", \"wv2_xs_right_epi_field.tif\")\n",
    "StereoRectificationGridGenerator.SetParameterFloat(\"epi.elevation.default\", 400)\n",
    "\n",
    "StereoRectificationGridGenerator.ExecuteAndWriteOutput()"
   ]
  }
 ],
 "metadata": {
  "kernelspec": {
   "display_name": "Python 2",
   "language": "python",
   "name": "python2"
  },
  "language_info": {
   "codemirror_mode": {
    "name": "ipython",
    "version": 2.0
   },
   "file_extension": ".py",
   "mimetype": "text/x-python",
   "name": "python",
   "nbconvert_exporter": "python",
   "pygments_lexer": "ipython2",
   "version": "2.7.6"
  }
 },
 "nbformat": 4,
 "nbformat_minor": 0
}