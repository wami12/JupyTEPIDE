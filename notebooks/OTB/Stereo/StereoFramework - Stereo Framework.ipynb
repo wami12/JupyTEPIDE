{
 "cells": [
  {
   "cell_type": "markdown",
   "metadata": {
    "collapsed": true
   },
   "source": [
    "# StereoFramework - Stereo Framework\n",
    "Compute the ground elevation based on one or multiple stereo pair(s)"
   ]
  },
  {
   "cell_type": "code",
   "execution_count": null,
   "metadata": {},
   "outputs": [],
   "source": [
    "import sys\n",
    "import os \n",
    "import otbApplication"
   ]
  },
  {
   "cell_type": "markdown",
   "metadata": {},
   "source": [
    "#Processing"
   ]
  },
  {
   "cell_type": "code",
   "execution_count": null,
   "metadata": {},
   "outputs": [],
   "source": [
    "file_1 = \"\"\n",
    "file_2 = \"\"\n",
    "StereoFramework = otbApplication.Registry.CreateApplication(\"StereoFramework\")\n",
    "StereoFramework.SetParameterStringList(\"input.il\", [file_1, file_2])\n",
    "StereoFramework.SetParameterFloat(\"elev.default\", 200)\n",
    "StereoFramework.SetParameterInt(\"stereorect.fwdgridstep\", 8)\n",
    "StereoFramework.SetParameterInt(\"stereorect.invgridssrate\", 4)\n",
    "StereoFramework.EnableParameter(\"postproc.med\")\n",
    "StereoFramework.SetParameterFloat(\"output.res\", 2.5)\n",
    "StereoFramework.SetParameterString(\"output.out\", \"dem.tif\")\n",
    "\n",
    "StereoFramework.ExecuteAndWriteOutput()"
   ]
  }
 ],
 "metadata": {
  "kernelspec": {
   "display_name": "Python 2",
   "language": "python",
   "name": "python2"
  },
  "language_info": {
   "codemirror_mode": {
    "name": "ipython",
    "version": 2.0
   },
   "file_extension": ".py",
   "mimetype": "text/x-python",
   "name": "python",
   "nbconvert_exporter": "python",
   "pygments_lexer": "ipython2",
   "version": "2.7.6"
  }
 },
 "nbformat": 4,
 "nbformat_minor": 0
}