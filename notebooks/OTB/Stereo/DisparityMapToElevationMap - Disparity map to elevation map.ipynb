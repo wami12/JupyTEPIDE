{
 "cells": [
  {
   "cell_type": "markdown",
   "metadata": {
    "collapsed": true
   },
   "source": [
    "# DisparityMapToElevationMap - Disparity map to elevation map\n",
    "Projects a disparity map into a regular elevation map."
   ]
  },
  {
   "cell_type": "code",
   "execution_count": null,
   "metadata": {},
   "outputs": [],
   "source": [
    "import sys\n",
    "import os \n",
    "import otbApplication"
   ]
  },
  {
   "cell_type": "markdown",
   "metadata": {},
   "source": [
    "#Processing"
   ]
  },
  {
   "cell_type": "code",
   "execution_count": null,
   "metadata": {},
   "outputs": [],
   "source": [
    "file_1 = \"\"\n",
    "file_2 = \"\"\n",
    "file_3 = \"\"\n",
    "file_4 = \"\"\n",
    "file_5 = \"\"\n",
    "DisparityMapToElevationMap = otbApplication.Registry.CreateApplication(\"DisparityMapToElevationMap\")\n",
    "DisparityMapToElevationMap.SetParameterString(\"io.in\", file_1)\n",
    "DisparityMapToElevationMap.SetParameterString(\"io.left\", file_2)\n",
    "DisparityMapToElevationMap.SetParameterString(\"io.right\", file_3)\n",
    "DisparityMapToElevationMap.SetParameterString(\"io.lgrid\", file_4)\n",
    "DisparityMapToElevationMap.SetParameterString(\"io.rgrid\", file_5)\n",
    "DisparityMapToElevationMap.SetParameterString(\"io.out\", \"dem.tif\")\n",
    "DisparityMapToElevationMap.ExecuteAndWriteOutput()"
   ]
  }
 ],
 "metadata": {
  "kernelspec": {
   "display_name": "Python 2",
   "language": "python",
   "name": "python2"
  },
  "language_info": {
   "codemirror_mode": {
    "name": "ipython",
    "version": 2.0
   },
   "file_extension": ".py",
   "mimetype": "text/x-python",
   "name": "python",
   "nbconvert_exporter": "python",
   "pygments_lexer": "ipython2",
   "version": "2.7.6"
  }
 },
 "nbformat": 4,
 "nbformat_minor": 0
}