{
 "cells": [
  {
   "cell_type": "markdown",
   "metadata": {
    "collapsed": true
   },
   "source": [
    "# ComputeModulusAndPhase - Compute Modulus And Phase\n",
    "This application computes the modulus and the phase of a complex SAR image."
   ]
  },
  {
   "cell_type": "code",
   "execution_count": null,
   "metadata": {},
   "outputs": [],
   "source": [
    "import sys\n",
    "import os \n",
    "import otbApplication"
   ]
  },
  {
   "cell_type": "markdown",
   "metadata": {},
   "source": [
    "#Processing"
   ]
  },
  {
   "cell_type": "code",
   "execution_count": null,
   "metadata": {},
   "outputs": [],
   "source": [
    "file_1 = \"\"\n",
    "file_2 = \"\"\n",
    "ComputeModulusAndPhase = otbApplication.Registry.CreateApplication(\"ComputeModulusAndPhase\")\n",
    "ComputeModulusAndPhase.SetParameterString(\"in\", file_1)\n",
    "ComputeModulusAndPhase.SetParameterString(\"modulus\", \"modulus.tif\")\n",
    "ComputeModulusAndPhase.SetParameterString(\"phase\", \"phase.tif\")\n",
    "\n",
    "ComputeModulusAndPhase.ExecuteAndWriteOutput()"
   ]
  }
 ],
 "metadata": {
  "kernelspec": {
   "display_name": "Python 2",
   "language": "python",
   "name": "python2"
  },
  "language_info": {
   "codemirror_mode": {
    "name": "ipython",
    "version": 2.0
   },
   "file_extension": ".py",
   "mimetype": "text/x-python",
   "name": "python",
   "nbconvert_exporter": "python",
   "pygments_lexer": "ipython2",
   "version": "2.7.6"
  }
 },
 "nbformat": 4,
 "nbformat_minor": 0
}