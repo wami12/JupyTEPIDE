{
 "cells": [
  {
   "cell_type": "markdown",
   "metadata": {
    "collapsed": true
   },
   "source": [
    "# SARDecompositions - SARDecompositions\n",
    "From one-band complex images (each one related to an element of the Sinclair matrix), returns the selected decomposition."
   ]
  },
  {
   "cell_type": "code",
   "execution_count": null,
   "metadata": {},
   "outputs": [],
   "source": [
    "import sys\n",
    "import os \n",
    "import otbApplication"
   ]
  },
  {
   "cell_type": "markdown",
   "metadata": {},
   "source": [
    "#Processing"
   ]
  },
  {
   "cell_type": "code",
   "execution_count": null,
   "metadata": {},
   "outputs": [],
   "source": [
    "file_1 = \"\"\n",
    "file_2 = \"\"\n",
    "file_3 = \"\"\n",
    "file_4 = \"\"\n",
    "SARDecompositions = otbApplication.Registry.CreateApplication(\"SARDecompositions\")\n",
    "SARDecompositions.SetParameterString(\"inhh\", file_1)\n",
    "SARDecompositions.SetParameterString(\"invh\", file_2)\n",
    "SARDecompositions.SetParameterString(\"invv\", file_3)\n",
    "SARDecompositions.SetParameterString(\"decomp\",file_4)\n",
    "SARDecompositions.SetParameterString(\"out\", \"HaA.tif\")\n",
    "\n",
    "SARDecompositions.ExecuteAndWriteOutput()"
   ]
  }
 ],
 "metadata": {
  "kernelspec": {
   "display_name": "Python 2",
   "language": "python",
   "name": "python2"
  },
  "language_info": {
   "codemirror_mode": {
    "name": "ipython",
    "version": 2.0
   },
   "file_extension": ".py",
   "mimetype": "text/x-python",
   "name": "python",
   "nbconvert_exporter": "python",
   "pygments_lexer": "ipython2",
   "version": "2.7.6"
  }
 },
 "nbformat": 4,
 "nbformat_minor": 0
}