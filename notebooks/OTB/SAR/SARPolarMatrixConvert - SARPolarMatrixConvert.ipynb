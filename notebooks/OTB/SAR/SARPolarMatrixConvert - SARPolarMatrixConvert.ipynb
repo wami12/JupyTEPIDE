{
 "cells": [
  {
   "cell_type": "markdown",
   "metadata": {
    "collapsed": true
   },
   "source": [
    "# SARPolarMatrixConvert - SARPolarMatrixConvert\n",
    "This applications allows converting classical polarimetric matrices to each other."
   ]
  },
  {
   "cell_type": "code",
   "execution_count": null,
   "metadata": {},
   "outputs": [],
   "source": [
    "import sys\n",
    "import os \n",
    "import otbApplication"
   ]
  },
  {
   "cell_type": "markdown",
   "metadata": {},
   "source": [
    "#Processing"
   ]
  },
  {
   "cell_type": "code",
   "execution_count": null,
   "metadata": {},
   "outputs": [],
   "source": [
    "file_1 = \"\"\n",
    "file_2 = \"\"\n",
    "file_3 = \"\"\n",
    "SARPolarMatrixConvert = otbApplication.Registry.CreateApplication(\"SARPolarMatrixConvert\")\n",
    "SARPolarMatrixConvert.SetParameterString(\"inhh\", file_1)\n",
    "SARPolarMatrixConvert.SetParameterString(\"invh\", file_2)\n",
    "SARPolarMatrixConvert.SetParameterString(\"invv\", file_3)\n",
    "SARPolarMatrixConvert.SetParameterString(\"conv\",\"msinclairtocoherency\")\n",
    "SARPolarMatrixConvert.SetParameterString(\"outc\", \"mcoherency.tif\")\n",
    "SARPolarMatrixConvert.ExecuteAndWriteOutput()"
   ]
  }
 ],
 "metadata": {
  "kernelspec": {
   "display_name": "Python 2",
   "language": "python",
   "name": "python2"
  },
  "language_info": {
   "codemirror_mode": {
    "name": "ipython",
    "version": 2.0
   },
   "file_extension": ".py",
   "mimetype": "text/x-python",
   "name": "python",
   "nbconvert_exporter": "python",
   "pygments_lexer": "ipython2",
   "version": "2.7.6"
  }
 },
 "nbformat": 4,
 "nbformat_minor": 0
}