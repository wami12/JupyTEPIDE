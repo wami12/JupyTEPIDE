{
 "cells": [
  {
   "cell_type": "markdown",
   "metadata": {
    "collapsed": true
   },
   "source": [
    "# SARPolarSynth - SARPolarSynth\n",
    "Gives, for each pixel, the power that would have been received by a SAR system with a basis different from the classical (H,V) one (polarimetric synthetis)."
   ]
  },
  {
   "cell_type": "code",
   "execution_count": null,
   "metadata": {},
   "outputs": [],
   "source": [
    "import sys\n",
    "import os \n",
    "import otbApplication"
   ]
  },
  {
   "cell_type": "markdown",
   "metadata": {},
   "source": [
    "#Processing"
   ]
  },
  {
   "cell_type": "code",
   "execution_count": null,
   "metadata": {},
   "outputs": [],
   "source": [
    "file_1 = \"\"\n",
    "SARPolarSynth = otbApplication.Registry.CreateApplication(\"SARPolarSynth\")\n",
    "SARPolarSynth.SetParameterString(\"in\", file_1)\n",
    "SARPolarSynth.SetParameterFloat(\"psii\", 15.)\n",
    "SARPolarSynth.SetParameterFloat(\"khii\", 5.)\n",
    "SARPolarSynth.SetParameterFloat(\"psir\", -25.)\n",
    "SARPolarSynth.SetParameterFloat(\"khir\", 10.)\n",
    "SARPolarSynth.SetParameterString(\"out\", \"newbasis.tif\")\n",
    "\n",
    "SARPolarSynth.ExecuteAndWriteOutput()"
   ]
  }
 ],
 "metadata": {
  "kernelspec": {
   "display_name": "Python 2",
   "language": "python",
   "name": "python2"
  },
  "language_info": {
   "codemirror_mode": {
    "name": "ipython",
    "version": 2.0
   },
   "file_extension": ".py",
   "mimetype": "text/x-python",
   "name": "python",
   "nbconvert_exporter": "python",
   "pygments_lexer": "ipython2",
   "version": "2.7.6"
  }
 },
 "nbformat": 4,
 "nbformat_minor": 0
}