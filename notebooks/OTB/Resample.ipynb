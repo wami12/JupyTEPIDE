{
 "cells": [
  {
   "cell_type": "markdown",
   "metadata": {},
   "source": [
    "# Import libraries"
   ]
  },
  {
   "cell_type": "code",
   "execution_count": 3,
   "metadata": {},
   "outputs": [],
   "source": [
    "import matplotlib.pyplot as plt\n",
    "from matplotlib import gridspec\n",
    "import sys\n",
    "import os\n",
    "import otbApplication\n"
   ]
  },
  {
   "cell_type": "code",
   "execution_count": 4,
   "metadata": {},
   "outputs": [
    {
     "data": {
      "text/plain": [
       "0"
      ]
     },
     "execution_count": 4,
     "metadata": {},
     "output_type": "execute_result"
    }
   ],
   "source": [
    "file='/eodata/Landsat-5/TM/L1G/1984/04/06/LS05_RFUI_TM__GEO_1P_19840406T105359_19840406T105428_000524_0207_0018_654F/LS05_RFUI_TM__GEO_1P_19840406T105359_19840406T105428_000524_0207_0018_654F.TIFF/LT52070181984097ESA00_B1.TIF'\n",
    "RigidTransformResample = otbApplication.Registry.CreateApplication(\"RigidTransformResample\")\n",
    "RigidTransformResample.SetParameterString(\"in\", file)\n",
    "RigidTransformResample.SetParameterString(\"out\", \"resampled.tif\")\n",
    "RigidTransformResample.SetParameterString(\"transform.type\",\"rotation\")\n",
    "RigidTransformResample.SetParameterFloat(\"transform.type.rotation.angle\", 20)\n",
    "RigidTransformResample.SetParameterFloat(\"transform.type.rotation.scalex\", 2.)\n",
    "RigidTransformResample.SetParameterFloat(\"transform.type.rotation.scaley\", 2.)\n",
    "RigidTransformResample.ExecuteAndWriteOutput()"
   ]
  }
 ],
 "metadata": {
  "kernelspec": {
   "display_name": "Python 2",
   "language": "python",
   "name": "python2"
  },
  "language_info": {
   "codemirror_mode": {
    "name": "ipython",
    "version": 2
   },
   "file_extension": ".py",
   "mimetype": "text/x-python",
   "name": "python",
   "nbconvert_exporter": "python",
   "pygments_lexer": "ipython2",
   "version": "2.7.12"
  }
 },
 "nbformat": 4,
 "nbformat_minor": 2
}
