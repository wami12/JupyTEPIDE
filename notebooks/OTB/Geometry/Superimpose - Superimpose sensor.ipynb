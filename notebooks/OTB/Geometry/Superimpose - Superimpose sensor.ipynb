{
 "cells": [
  {
   "cell_type": "markdown",
   "metadata": {
    "collapsed": true
   },
   "source": [
    "#Superimpose - Superimpose sensor\n",
    "Using available image metadata, project one image onto another one"
   ]
  },
  {
   "cell_type": "code",
   "execution_count": null,
   "metadata": {},
   "outputs": [],
   "source": [
    "import sys\n",
    "import os \n",
    "import otbApplication"
   ]
  },
  {
   "cell_type": "markdown",
   "metadata": {},
   "source": [
    "#Processing"
   ]
  },
  {
   "cell_type": "code",
   "execution_count": null,
   "metadata": {},
   "outputs": [],
   "source": [
    "file_1 = \"\"\n",
    "file_2 = \"\"\n",
    "Superimpose = otbApplication.Registry.CreateApplication(\"Superimpose\")\n",
    "Superimpose.SetParameterString(\"inr\", file_1)\n",
    "Superimpose.SetParameterString(\"inm\", file_2)\n",
    "Superimpose.SetParameterString(\"out\", \"SuperimposedXS_to_PAN.tif\")\n",
    "\n",
    "Superimpose.ExecuteAndWriteOutput()"
   ]
  }
 ],
 "metadata": {
  "kernelspec": {
   "display_name": "Python 2",
   "language": "python",
   "name": "python2"
  },
  "language_info": {
   "codemirror_mode": {
    "name": "ipython",
    "version": 2.0
   },
   "file_extension": ".py",
   "mimetype": "text/x-python",
   "name": "python",
   "nbconvert_exporter": "python",
   "pygments_lexer": "ipython2",
   "version": "2.7.6"
  }
 },
 "nbformat": 4,
 "nbformat_minor": 0
}