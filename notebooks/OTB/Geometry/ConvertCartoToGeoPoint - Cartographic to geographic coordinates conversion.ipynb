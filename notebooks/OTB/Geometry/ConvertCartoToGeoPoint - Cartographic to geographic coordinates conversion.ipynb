{
 "cells": [
  {
   "cell_type": "markdown",
   "metadata": {
    "collapsed": true
   },
   "source": [
    "#ConvertCartoToGeoPoint - Cartographic to geographic coordinates conversion\n",
    "Convert cartographic coordinates to geographic ones."
   ]
  },
  {
   "cell_type": "code",
   "execution_count": null,
   "metadata": {},
   "outputs": [],
   "source": [
    "import sys\n",
    "import os \n",
    "import otbApplication"
   ]
  },
  {
   "cell_type": "markdown",
   "metadata": {},
   "source": [
    "#Processing"
   ]
  },
  {
   "cell_type": "code",
   "execution_count": null,
   "metadata": {},
   "outputs": [],
   "source": [
    "file_1 = \"\"\n",
    "ConvertCartoToGeoPoint = otbApplication.Registry.CreateApplication(\"ConvertCartoToGeoPoint\")\n",
    "ConvertCartoToGeoPoint.SetParameterFloat(\"carto.x\", 367074.625)\n",
    "ConvertCartoToGeoPoint.SetParameterFloat(\"carto.y\", 4835740)\n",
    "ConvertCartoToGeoPoint.SetParameterString(\"mapproj\",\"utm\")\n",
    "ConvertCartoToGeoPoint.EnableParameter(\"mapproj.utm.northhem\")\n",
    "ConvertCartoToGeoPoint.SetParameterInt(\"mapproj.utm.zone\", 31)\n",
    "\n",
    "ConvertCartoToGeoPoint.ExecuteAndWriteOutput()"
   ]
  }
 ],
 "metadata": {
  "kernelspec": {
   "display_name": "Python 2",
   "language": "python",
   "name": "python2"
  },
  "language_info": {
   "codemirror_mode": {
    "name": "ipython",
    "version": 2.0
   },
   "file_extension": ".py",
   "mimetype": "text/x-python",
   "name": "python",
   "nbconvert_exporter": "python",
   "pygments_lexer": "ipython2",
   "version": "2.7.6"
  }
 },
 "nbformat": 4,
 "nbformat_minor": 0
}