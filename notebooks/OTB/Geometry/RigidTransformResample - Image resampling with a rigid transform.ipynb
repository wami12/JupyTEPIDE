{
 "cells": [
  {
   "cell_type": "markdown",
   "metadata": {
    "collapsed": true
   },
   "source": [
    "#RigidTransformResample - Image resampling with a rigid transform\n",
    "Resample an image with a rigid transform"
   ]
  },
  {
   "cell_type": "code",
   "execution_count": null,
   "metadata": {},
   "outputs": [],
   "source": [
    "import sys\n",
    "import os \n",
    "import otbApplication"
   ]
  },
  {
   "cell_type": "markdown",
   "metadata": {},
   "source": [
    "#Processing"
   ]
  },
  {
   "cell_type": "code",
   "execution_count": null,
   "metadata": {},
   "outputs": [],
   "source": [
    "file_1 = \"\"\n",
    "\n",
    "RigidTransformResample = otbApplication.Registry.CreateApplication(\"RigidTransformResample\")\n",
    "RigidTransformResample.SetParameterString(\"in\", file_1)\n",
    "RigidTransformResample.SetParameterString(\"out\", \"rigitTransformImage.tif\")\n",
    "RigidTransformResample.SetParameterString(\"transform.type\",\"rotation\")\n",
    "RigidTransformResample.SetParameterFloat(\"transform.type.rotation.angle\", 20)\n",
    "RigidTransformResample.SetParameterFloat(\"transform.type.rotation.scalex\", 2.)\n",
    "RigidTransformResample.SetParameterFloat(\"transform.type.rotation.scaley\", 2.)\n",
    "\n",
    "RigidTransformResample.ExecuteAndWriteOutput()"
   ]
  }
 ],
 "metadata": {
  "kernelspec": {
   "display_name": "Python 2",
   "language": "python",
   "name": "python2"
  },
  "language_info": {
   "codemirror_mode": {
    "name": "ipython",
    "version": 2.0
   },
   "file_extension": ".py",
   "mimetype": "text/x-python",
   "name": "python",
   "nbconvert_exporter": "python",
   "pygments_lexer": "ipython2",
   "version": "2.7.6"
  }
 },
 "nbformat": 4,
 "nbformat_minor": 0
}