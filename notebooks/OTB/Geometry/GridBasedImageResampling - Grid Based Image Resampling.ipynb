{
 "cells": [
  {
   "cell_type": "markdown",
   "metadata": {
    "collapsed": true
   },
   "source": [
    "#GridBasedImageResampling - Grid Based Image Resampling\n",
    "Resamples an image according to a resampling grid"
   ]
  },
  {
   "cell_type": "code",
   "execution_count": null,
   "metadata": {},
   "outputs": [],
   "source": [
    "import sys\n",
    "import os \n",
    "import otbApplication"
   ]
  },
  {
   "cell_type": "markdown",
   "metadata": {},
   "source": [
    "#Processing"
   ]
  },
  {
   "cell_type": "code",
   "execution_count": null,
   "metadata": {},
   "outputs": [],
   "source": [
    "file_1 = \"\"\n",
    "file_2 = \"\"\n",
    "GridBasedImageResampling = otbApplication.Registry.CreateApplication(\"GridBasedImageResampling\")\n",
    "GridBasedImageResampling.SetParameterString(\"io.in\", file_1)\n",
    "GridBasedImageResampling.SetParameterString(\"io.out\", \"ROI_IKO_PAN_LesHalles_sub_resampled.tif\")\n",
    "GridBasedImageResampling.SetParameterOutputImagePixelType(\"io.out\", 1)\n",
    "GridBasedImageResampling.SetParameterString(\"grid.in\", file_2)\n",
    "GridBasedImageResampling.SetParameterInt(\"out.sizex\", 256)\n",
    "GridBasedImageResampling.SetParameterInt(\"out.sizey\", 256)\n",
    "GridBasedImageResampling.SetParameterString(\"grid.type\",\"def\")\n",
    "\n",
    "GridBasedImageResampling.ExecuteAndWriteOutput()"
   ]
  }
 ],
 "metadata": {
  "kernelspec": {
   "display_name": "Python 2",
   "language": "python",
   "name": "python2"
  },
  "language_info": {
   "codemirror_mode": {
    "name": "ipython",
    "version": 2.0
   },
   "file_extension": ".py",
   "mimetype": "text/x-python",
   "name": "python",
   "nbconvert_exporter": "python",
   "pygments_lexer": "ipython2",
   "version": "2.7.6"
  }
 },
 "nbformat": 4,
 "nbformat_minor": 0
}