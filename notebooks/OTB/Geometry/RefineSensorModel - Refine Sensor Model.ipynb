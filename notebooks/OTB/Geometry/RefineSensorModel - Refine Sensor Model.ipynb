{
 "cells": [
  {
   "cell_type": "markdown",
   "metadata": {
    "collapsed": true
   },
   "source": [
    "#RefineSensorModel - Refine Sensor Model\n",
    "Perform least-square fit of a sensor model to a set of tie points"
   ]
  },
  {
   "cell_type": "code",
   "execution_count": null,
   "metadata": {},
   "outputs": [],
   "source": [
    "import sys\n",
    "import os \n",
    "import otbApplication"
   ]
  },
  {
   "cell_type": "markdown",
   "metadata": {},
   "source": [
    "#Processing"
   ]
  },
  {
   "cell_type": "code",
   "execution_count": null,
   "metadata": {},
   "outputs": [],
   "source": [
    "file_1 = \"\"\n",
    "file_2 = \"\"\n",
    "\n",
    "RefineSensorModel = otbApplication.Registry.CreateApplication(\"RefineSensorModel\")\n",
    "RefineSensorModel.SetParameterString(\"ingeom\", file_1)\n",
    "RefineSensorModel.SetParameterString(\"outgeom\", \"output.geom\")\n",
    "RefineSensorModel.SetParameterString(\"inpoints\", file_2)\n",
    "RefineSensorModel.SetParameterString(\"map\",\"epsg\")\n",
    "RefineSensorModel.SetParameterInt(\"map.epsg.code\", 32631)\n",
    "\n",
    "RefineSensorModel.ExecuteAndWriteOutput()"
   ]
  }
 ],
 "metadata": {
  "kernelspec": {
   "display_name": "Python 2",
   "language": "python",
   "name": "python2"
  },
  "language_info": {
   "codemirror_mode": {
    "name": "ipython",
    "version": 2.0
   },
   "file_extension": ".py",
   "mimetype": "text/x-python",
   "name": "python",
   "nbconvert_exporter": "python",
   "pygments_lexer": "ipython2",
   "version": "2.7.6"
  }
 },
 "nbformat": 4,
 "nbformat_minor": 0
}