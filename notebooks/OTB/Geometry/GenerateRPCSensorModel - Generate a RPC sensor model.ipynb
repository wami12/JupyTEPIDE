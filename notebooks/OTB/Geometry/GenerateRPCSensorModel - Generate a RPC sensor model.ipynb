{
 "cells": [
  {
   "cell_type": "markdown",
   "metadata": {
    "collapsed": true
   },
   "source": [
    "#GenerateRPCSensorModel - Generate a RPC sensor model\n",
    "Generate a RPC sensor model from a list of Ground Control Points."
   ]
  },
  {
   "cell_type": "code",
   "execution_count": null,
   "metadata": {},
   "outputs": [],
   "source": [
    "import sys\n",
    "import os \n",
    "import otbApplication"
   ]
  },
  {
   "cell_type": "markdown",
   "metadata": {},
   "source": [
    "#Processing"
   ]
  },
  {
   "cell_type": "code",
   "execution_count": null,
   "metadata": {},
   "outputs": [],
   "source": [
    "file_1 = \"\"\n",
    "GenerateRPCSensorModel = otbApplication.Registry.CreateApplication(\"GenerateRPCSensorModel\")\n",
    "GenerateRPCSensorModel.SetParameterString(\"outgeom\", \"output.geom\")\n",
    "GenerateRPCSensorModel.SetParameterString(\"inpoints\", file_1)\n",
    "GenerateRPCSensorModel.SetParameterString(\"map\",\"epsg\")\n",
    "GenerateRPCSensorModel.SetParameterInt(\"map.epsg.code\", 32631)\n",
    "\n",
    "GenerateRPCSensorModel.ExecuteAndWriteOutput()"
   ]
  }
 ],
 "metadata": {
  "kernelspec": {
   "display_name": "Python 2",
   "language": "python",
   "name": "python2"
  },
  "language_info": {
   "codemirror_mode": {
    "name": "ipython",
    "version": 2.0
   },
   "file_extension": ".py",
   "mimetype": "text/x-python",
   "name": "python",
   "nbconvert_exporter": "python",
   "pygments_lexer": "ipython2",
   "version": "2.7.6"
  }
 },
 "nbformat": 4,
 "nbformat_minor": 0
}