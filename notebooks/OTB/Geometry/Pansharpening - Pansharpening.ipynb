{
 "cells": [
  {
   "cell_type": "markdown",
   "metadata": {
    "collapsed": true
   },
   "source": [
    "#Pansharpening - Pansharpening\n",
    "Perform P+XS pansharpening"
   ]
  },
  {
   "cell_type": "code",
   "execution_count": null,
   "metadata": {},
   "outputs": [],
   "source": [
    "import sys\n",
    "import os \n",
    "import otbApplication"
   ]
  },
  {
   "cell_type": "markdown",
   "metadata": {},
   "source": [
    "#Processing"
   ]
  },
  {
   "cell_type": "code",
   "execution_count": null,
   "metadata": {},
   "outputs": [],
   "source": [
    "file_1 = \"\"\n",
    "file_2 = \"\"\n",
    "\n",
    "Pansharpening = otbApplication.Registry.CreateApplication(\"Pansharpening\")\n",
    "Pansharpening.SetParameterString(\"inp\", file_1)\n",
    "Pansharpening.SetParameterString(\"inxs\", file_2)\n",
    "Pansharpening.SetParameterString(\"out\", \"Pansharpening.tif\")\n",
    "Pansharpening.SetParameterOutputImagePixelType(\"out\", 3)\n",
    "Pansharpening.ExecuteAndWriteOutput()"
   ]
  }
 ],
 "metadata": {
  "kernelspec": {
   "display_name": "Python 2",
   "language": "python",
   "name": "python2"
  },
  "language_info": {
   "codemirror_mode": {
    "name": "ipython",
    "version": 2.0
   },
   "file_extension": ".py",
   "mimetype": "text/x-python",
   "name": "python",
   "nbconvert_exporter": "python",
   "pygments_lexer": "ipython2",
   "version": "2.7.6"
  }
 },
 "nbformat": 4,
 "nbformat_minor": 0
}