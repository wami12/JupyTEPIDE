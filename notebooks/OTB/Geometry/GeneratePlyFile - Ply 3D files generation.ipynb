{
 "cells": [
  {
   "cell_type": "markdown",
   "metadata": {
    "collapsed": true
   },
   "source": [
    "#GeneratePlyFile - Ply 3D files generation\n",
    "Generate a 3D Ply file from a DEM and a color image."
   ]
  },
  {
   "cell_type": "code",
   "execution_count": null,
   "metadata": {},
   "outputs": [],
   "source": [
    "import sys\n",
    "import os \n",
    "import otbApplication"
   ]
  },
  {
   "cell_type": "markdown",
   "metadata": {},
   "source": [
    "#Processing"
   ]
  },
  {
   "cell_type": "code",
   "execution_count": null,
   "metadata": {},
   "outputs": [],
   "source": [
    "file_1 = \"\"\n",
    "file_2 = \"\"\n",
    "GeneratePlyFile = otbApplication.Registry.CreateApplication(\"GeneratePlyFile\")\n",
    "GeneratePlyFile.SetParameterString(\"indem\", file_1)\n",
    "GeneratePlyFile.SetParameterString(\"out\", \"out.ply\")\n",
    "GeneratePlyFile.SetParameterString(\"incolor\", file_2)\n",
    "\n",
    "GeneratePlyFile.ExecuteAndWriteOutput()"
   ]
  }
 ],
 "metadata": {
  "kernelspec": {
   "display_name": "Python 2",
   "language": "python",
   "name": "python2"
  },
  "language_info": {
   "codemirror_mode": {
    "name": "ipython",
    "version": 2.0
   },
   "file_extension": ".py",
   "mimetype": "text/x-python",
   "name": "python",
   "nbconvert_exporter": "python",
   "pygments_lexer": "ipython2",
   "version": "2.7.6"
  }
 },
 "nbformat": 4,
 "nbformat_minor": 0
}