{
 "cells": [
  {
   "cell_type": "markdown",
   "metadata": {
    "collapsed": true
   },
   "source": [
    "# BundleToPerfectSensor - Bundle to perfect sensor\n",
    "Perform P+XS pansharpening"
   ]
  },
  {
   "cell_type": "code",
   "execution_count": null,
   "metadata": {},
   "outputs": [],
   "source": [
    "import sys\n",
    "import os \n",
    "import otbApplication"
   ]
  },
  {
   "cell_type": "markdown",
   "metadata": {},
   "source": [
    "#Processing"
   ]
  },
  {
   "cell_type": "code",
   "execution_count": null,
   "metadata": {},
   "outputs": [],
   "source": [
    "file_1 = \"\"\n",
    "file_2 = \"\"\n",
    "BundleToPerfectSensor = otbApplication.Registry.CreateApplication(\"BundleToPerfectSensor\")\n",
    "BundleToPerfectSensor.SetParameterString(\"inp\", file_1)\n",
    "\n",
    "BundleToPerfectSensor.SetParameterString(\"inxs\", file_2)\n",
    "\n",
    "BundleToPerfectSensor.SetParameterString(\"out\", \"BundleToPerfectSensor.png\")\n",
    "BundleToPerfectSensor.SetParameterOutputImagePixelType(\"out\", 1)\n",
    "\n",
    "BundleToPerfectSensor.ExecuteAndWriteOutput()"
   ]
  }
 ],
 "metadata": {
  "kernelspec": {
   "display_name": "Python 2",
   "language": "python",
   "name": "python2"
  },
  "language_info": {
   "codemirror_mode": {
    "name": "ipython",
    "version": 2.0
   },
   "file_extension": ".py",
   "mimetype": "text/x-python",
   "name": "python",
   "nbconvert_exporter": "python",
   "pygments_lexer": "ipython2",
   "version": "2.7.6"
  }
 },
 "nbformat": 4,
 "nbformat_minor": 0
}