{
 "cells": [
  {
   "cell_type": "markdown",
   "metadata": {
    "collapsed": true
   },
   "source": [
    "#ConvertSensorToGeoPoint - Convert Sensor Point To Geographic Point\n",
    "Sensor to geographic coordinates conversion."
   ]
  },
  {
   "cell_type": "code",
   "execution_count": null,
   "metadata": {},
   "outputs": [],
   "source": [
    "import sys\n",
    "import os \n",
    "import otbApplication"
   ]
  },
  {
   "cell_type": "markdown",
   "metadata": {},
   "source": [
    "#Processing"
   ]
  },
  {
   "cell_type": "code",
   "execution_count": null,
   "metadata": {},
   "outputs": [],
   "source": [
    "file_1 = \"\"\n",
    "ConvertSensorToGeoPoint = otbApplication.Registry.CreateApplication(\"ConvertSensorToGeoPoint\")\n",
    "ConvertSensorToGeoPoint.SetParameterString(\"in\", file_1)\n",
    "ConvertSensorToGeoPoint.SetParameterFloat(\"input.idx\", 200)\n",
    "ConvertSensorToGeoPoint.SetParameterFloat(\"input.idy\", 200)\n",
    "\n",
    "ConvertSensorToGeoPoint.ExecuteAndWriteOutput()"
   ]
  }
 ],
 "metadata": {
  "kernelspec": {
   "display_name": "Python 2",
   "language": "python",
   "name": "python2"
  },
  "language_info": {
   "codemirror_mode": {
    "name": "ipython",
    "version": 2.0
   },
   "file_extension": ".py",
   "mimetype": "text/x-python",
   "name": "python",
   "nbconvert_exporter": "python",
   "pygments_lexer": "ipython2",
   "version": "2.7.6"
  }
 },
 "nbformat": 4,
 "nbformat_minor": 0
}