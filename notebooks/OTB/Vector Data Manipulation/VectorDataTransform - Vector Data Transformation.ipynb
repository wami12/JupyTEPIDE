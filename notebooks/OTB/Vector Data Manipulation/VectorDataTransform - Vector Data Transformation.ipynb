{
 "cells": [
  {
   "cell_type": "markdown",
   "metadata": {
    "collapsed": true
   },
   "source": [
    "# VectorDataTransform - Vector Data Transformation\n",
    "Apply a transform to each vertex of the input VectorData"
   ]
  },
  {
   "cell_type": "code",
   "execution_count": null,
   "metadata": {},
   "outputs": [],
   "source": [
    "import sys\n",
    "import os \n",
    "import otbApplication"
   ]
  },
  {
   "cell_type": "markdown",
   "metadata": {},
   "source": [
    "#Processing"
   ]
  },
  {
   "cell_type": "code",
   "execution_count": null,
   "metadata": {},
   "outputs": [],
   "source": [
    "file_1 = \"\"\n",
    "file_2 = \"\"\n",
    "\n",
    "VectorDataTransform = otbApplication.Registry.CreateApplication(\"VectorDataTransform\")\n",
    "VectorDataTransform.SetParameterString(\"vd\", file_1)\n",
    "VectorDataTransform.SetParameterString(\"in\", file_2)\n",
    "VectorDataTransform.SetParameterString(\"out\", \"VectorDataTransform.shp\")\n",
    "VectorDataTransform.SetParameterFloat(\"transform.ro\", 5)\n",
    "VectorDataTransform.ExecuteAndWriteOutput()\n",
    "\n",
    "VectorDataSetField.ExecuteAndWriteOutput()"
   ]
  }
 ],
 "metadata": {
  "kernelspec": {
   "display_name": "Python 2",
   "language": "python",
   "name": "python2"
  },
  "language_info": {
   "codemirror_mode": {
    "name": "ipython",
    "version": 2.0
   },
   "file_extension": ".py",
   "mimetype": "text/x-python",
   "name": "python",
   "nbconvert_exporter": "python",
   "pygments_lexer": "ipython2",
   "version": "2.7.6"
  }
 },
 "nbformat": 4,
 "nbformat_minor": 0
}