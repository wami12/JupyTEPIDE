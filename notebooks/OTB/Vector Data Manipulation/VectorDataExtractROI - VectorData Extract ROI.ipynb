{
 "cells": [
  {
   "cell_type": "markdown",
   "metadata": {
    "collapsed": true
   },
   "source": [
    "# VectorDataExtractROI - VectorData Extract ROI\n",
    "Perform an extract ROI on the input vector data according to the input image extent"
   ]
  },
  {
   "cell_type": "code",
   "execution_count": null,
   "metadata": {},
   "outputs": [],
   "source": [
    "import sys\n",
    "import os \n",
    "import otbApplication"
   ]
  },
  {
   "cell_type": "markdown",
   "metadata": {},
   "source": [
    "#Processing"
   ]
  },
  {
   "cell_type": "code",
   "execution_count": null,
   "metadata": {},
   "outputs": [],
   "source": [
    "file_1 = \"\"\n",
    "file_2 = \"\"\n",
    "\n",
    "VectorDataExtractROI = otbApplication.Registry.CreateApplication(\"VectorDataExtractROI\")\n",
    "VectorDataExtractROI.SetParameterString(\"io.in\", file_1)\n",
    "VectorDataExtractROI.SetParameterString(\"io.vd\", file_2)\n",
    "VectorDataExtractROI.SetParameterString(\"io.out\", \"apTvUtVectorDataExtractROIApplicationTest.shp\")\n",
    "\n",
    "VectorDataExtractROI.ExecuteAndWriteOutput()"
   ]
  }
 ],
 "metadata": {
  "kernelspec": {
   "display_name": "Python 2",
   "language": "python",
   "name": "python2"
  },
  "language_info": {
   "codemirror_mode": {
    "name": "ipython",
    "version": 2.0
   },
   "file_extension": ".py",
   "mimetype": "text/x-python",
   "name": "python",
   "nbconvert_exporter": "python",
   "pygments_lexer": "ipython2",
   "version": "2.7.6"
  }
 },
 "nbformat": 4,
 "nbformat_minor": 0
}