{
 "cells": [
  {
   "cell_type": "markdown",
   "metadata": {
    "collapsed": true
   },
   "source": [
    "# VectorDataSetField - Vector data set field\n",
    "Set a field in vector data."
   ]
  },
  {
   "cell_type": "code",
   "execution_count": null,
   "metadata": {},
   "outputs": [],
   "source": [
    "import sys\n",
    "import os \n",
    "import otbApplication"
   ]
  },
  {
   "cell_type": "markdown",
   "metadata": {},
   "source": [
    "#Processing"
   ]
  },
  {
   "cell_type": "code",
   "execution_count": null,
   "metadata": {},
   "outputs": [],
   "source": [
    "file_1 = \"\"\n",
    "\n",
    "VectorDataSetField = otbApplication.Registry.CreateApplication(\"VectorDataSetField\")\n",
    "VectorDataSetField.SetParameterString(\"in\", file_1)\n",
    "VectorDataSetField.SetParameterString(\"out\", \"VectorDataSetField.shp\")\n",
    "VectorDataSetField.SetParameterString(\"fn\", \"Info\")\n",
    "VectorDataSetField.SetParameterString(\"fv\", \"Sample polygon\")\n",
    "\n",
    "VectorDataSetField.ExecuteAndWriteOutput()"
   ]
  }
 ],
 "metadata": {
  "kernelspec": {
   "display_name": "Python 2",
   "language": "python",
   "name": "python2"
  },
  "language_info": {
   "codemirror_mode": {
    "name": "ipython",
    "version": 2.0
   },
   "file_extension": ".py",
   "mimetype": "text/x-python",
   "name": "python",
   "nbconvert_exporter": "python",
   "pygments_lexer": "ipython2",
   "version": "2.7.6"
  }
 },
 "nbformat": 4,
 "nbformat_minor": 0
}