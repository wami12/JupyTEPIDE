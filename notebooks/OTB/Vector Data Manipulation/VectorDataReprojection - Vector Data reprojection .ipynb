{
 "cells": [
  {
   "cell_type": "markdown",
   "metadata": {
    "collapsed": true
   },
   "source": [
    "# VectorDataReprojection - Vector Data reprojection\n",
    "Reproject a vector data using support image projection reference, or a user specified map projection"
   ]
  },
  {
   "cell_type": "code",
   "execution_count": null,
   "metadata": {},
   "outputs": [],
   "source": [
    "import sys\n",
    "import os \n",
    "import otbApplication"
   ]
  },
  {
   "cell_type": "markdown",
   "metadata": {},
   "source": [
    "#Processing"
   ]
  },
  {
   "cell_type": "code",
   "execution_count": null,
   "metadata": {},
   "outputs": [],
   "source": [
    "file_1 = \"\"\n",
    "\n",
    "VectorDataReprojection = otbApplication.Registry.CreateApplication(\"VectorDataReprojection\")\n",
    "VectorDataReprojection.SetParameterString(\"in.vd\", file_1)\n",
    "VectorDataReprojection.SetParameterString(\"out.proj\",\"image\")\n",
    "VectorDataReprojection.SetParameterString(\"out.proj.image.in\", \"ROI_QB_MUL_1.tif\")\n",
    "VectorDataReprojection.SetParameterString(\"out.vd\", \"reprojected_vd.shp\")\n",
    "VectorDataReprojection.ExecuteAndWriteOutput()"
   ]
  }
 ],
 "metadata": {
  "kernelspec": {
   "display_name": "Python 2",
   "language": "python",
   "name": "python2"
  },
  "language_info": {
   "codemirror_mode": {
    "name": "ipython",
    "version": 2.0
   },
   "file_extension": ".py",
   "mimetype": "text/x-python",
   "name": "python",
   "nbconvert_exporter": "python",
   "pygments_lexer": "ipython2",
   "version": "2.7.6"
  }
 },
 "nbformat": 4,
 "nbformat_minor": 0
}