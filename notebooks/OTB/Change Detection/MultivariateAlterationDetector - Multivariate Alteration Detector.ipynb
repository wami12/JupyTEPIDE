{
 "cells": [
  {
   "cell_type": "markdown",
   "metadata": {
    "collapsed": true
   },
   "source": [
    "# MultivariateAlterationDetector - Multivariate Alteration Detector\n",
    "Change detection by Multivariate Alteration Detector (MAD) algorithm"
   ]
  },
  {
   "cell_type": "code",
   "execution_count": null,
   "metadata": {},
   "outputs": [],
   "source": [
    "import sys\n",
    "import os \n",
    "import otbApplication"
   ]
  },
  {
   "cell_type": "markdown",
   "metadata": {},
   "source": [
    "#Processing"
   ]
  },
  {
   "cell_type": "code",
   "execution_count": null,
   "metadata": {},
   "outputs": [],
   "source": [
    "file_1 = \"\"\n",
    "file_2 = \"\"\n",
    "MultivariateAlterationDetector = otbApplication.Registry.CreateApplication(\"MultivariateAlterationDetector\")\n",
    "\n",
    "MultivariateAlterationDetector.SetParameterString(\"in1\", file_1)\n",
    "MultivariateAlterationDetector.SetParameterString(\"in2\", file_2)\n",
    "MultivariateAlterationDetector.SetParameterString(\"out\", \"detectedChangeImage.tif\")\n",
    "MultivariateAlterationDetector.ExecuteAndWriteOutput()"
   ]
  }
 ],
 "metadata": {
  "kernelspec": {
   "display_name": "Python 2",
   "language": "python",
   "name": "python2"
  },
  "language_info": {
   "codemirror_mode": {
    "name": "ipython",
    "version": 2.0
   },
   "file_extension": ".py",
   "mimetype": "text/x-python",
   "name": "python",
   "nbconvert_exporter": "python",
   "pygments_lexer": "ipython2",
   "version": "2.7.6"
  }
 },
 "nbformat": 4,
 "nbformat_minor": 0
}