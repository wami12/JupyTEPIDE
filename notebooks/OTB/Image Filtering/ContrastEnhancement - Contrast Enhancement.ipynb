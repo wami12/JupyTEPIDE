{
 "cells": [
  {
   "cell_type": "markdown",
   "metadata": {
    "collapsed": true
   },
   "source": [
    "# ContrastEnhancement - Contrast Enhancement\n",
    "This application is the implementation of the histogram equalization algorithm. It can be used to enhance contrast in an image or to reduce the dynamic of the image without losing too much contrast. It offers several options as a no data value, a contrast limitation factor, a local version of the algorithm and also a mode to equalized the luminance of the image."
   ]
  },
  {
   "cell_type": "code",
   "execution_count": null,
   "metadata": {},
   "outputs": [],
   "source": [
    "import sys\n",
    "import os \n",
    "import otbApplication"
   ]
  },
  {
   "cell_type": "markdown",
   "metadata": {},
   "source": [
    "#Processing"
   ]
  },
  {
   "cell_type": "code",
   "execution_count": null,
   "metadata": {},
   "outputs": [],
   "source": [
    "file_1 = \"\"\n",
    "ContrastEnhancement = otbApplication.Registry.CreateApplication(\"ContrastEnhancement\")\n",
    "ContrastEnhancement.SetParameterString(\"in\", file_1)\n",
    "ContrastEnhancement.SetParameterString(\"out\", \"equalizedcouleurs.tif\")\n",
    "ContrastEnhancement.SetParameterOutputImagePixelType(\"out\", 6)\n",
    "ContrastEnhancement.SetParameterInt(\"bins\", 256)\n",
    "ContrastEnhancement.SetParameterInt(\"spatial.local.w\", 500)\n",
    "ContrastEnhancement.SetParameterInt(\"spatial.local.h\", 500)\n",
    "ContrastEnhancement.SetParameterString(\"mode\",\"lum\")\n",
    "ContrastEnhancement.ExecuteAndWriteOutput()"
   ]
  }
 ],
 "metadata": {
  "kernelspec": {
   "display_name": "Python 2",
   "language": "python",
   "name": "python2"
  },
  "language_info": {
   "codemirror_mode": {
    "name": "ipython",
    "version": 2.0
   },
   "file_extension": ".py",
   "mimetype": "text/x-python",
   "name": "python",
   "nbconvert_exporter": "python",
   "pygments_lexer": "ipython2",
   "version": "2.7.6"
  }
 },
 "nbformat": 4,
 "nbformat_minor": 0
}