{
 "cells": [
  {
   "cell_type": "markdown",
   "metadata": {
    "collapsed": true
   },
   "source": [
    "# MeanShiftSmoothing - MeanShift Smoothing\n",
    "This application smooths an image using the MeanShift algorithm."
   ]
  },
  {
   "cell_type": "code",
   "execution_count": null,
   "metadata": {},
   "outputs": [],
   "source": [
    "import sys\n",
    "import os \n",
    "import otbApplication"
   ]
  },
  {
   "cell_type": "markdown",
   "metadata": {},
   "source": [
    "#Processing"
   ]
  },
  {
   "cell_type": "code",
   "execution_count": null,
   "metadata": {},
   "outputs": [],
   "source": [
    "file_1 = \"\"\n",
    "MeanShiftSmoothing = otbApplication.Registry.CreateApplication(\"MeanShiftSmoothing\")\n",
    "MeanShiftSmoothing.SetParameterString(\"in\", file_1)\n",
    "MeanShiftSmoothing.SetParameterString(\"fout\", \"smooth.tif\")\n",
    "MeanShiftSmoothing.SetParameterString(\"foutpos\", \"position.tif\")\n",
    "MeanShiftSmoothing.SetParameterInt(\"spatialr\", 16)\n",
    "MeanShiftSmoothing.SetParameterFloat(\"ranger\", 16)\n",
    "MeanShiftSmoothing.SetParameterFloat(\"thres\", 0.1)\n",
    "MeanShiftSmoothing.SetParameterInt(\"maxiter\", 100)\n",
    "\n",
    "MeanShiftSmoothing.ExecuteAndWriteOutput()"
   ]
  }
 ],
 "metadata": {
  "kernelspec": {
   "display_name": "Python 2",
   "language": "python",
   "name": "python2"
  },
  "language_info": {
   "codemirror_mode": {
    "name": "ipython",
    "version": 2.0
   },
   "file_extension": ".py",
   "mimetype": "text/x-python",
   "name": "python",
   "nbconvert_exporter": "python",
   "pygments_lexer": "ipython2",
   "version": "2.7.6"
  }
 },
 "nbformat": 4,
 "nbformat_minor": 0
}