{
 "cells": [
  {
   "cell_type": "markdown",
   "metadata": {
    "collapsed": true
   },
   "source": [
    "# Import libraries"
   ]
  },
  {
   "cell_type": "code",
   "execution_count": 2,
   "metadata": {},
   "outputs": [],
   "source": [
    "import otbApplication"
   ]
  },
  {
   "cell_type": "markdown",
   "metadata": {},
   "source": [
    "# Show available OTB applications"
   ]
  },
  {
   "cell_type": "code",
   "execution_count": 4,
   "metadata": {},
   "outputs": [
    {
     "name": "stdout",
     "output_type": "stream",
     "text": [
      "('BandMath', 'BinaryMorphologicalOperation', 'BlockMatching', 'BundleToPerfectSensor', 'ClassificationMapRegularization', 'ColorMapping', 'CompareImages', 'ComputeConfusionMatrix', 'ComputeImagesStatistics', 'ComputeModulusAndPhase', 'ComputeOGRLayersFeaturesStatistics', 'ComputePolylineFeatureFromImage', 'ConcatenateImages', 'ConcatenateVectorData', 'ConnectedComponentSegmentation', 'Convert', 'ConvertCartoToGeoPoint', 'ConvertSensorToGeoPoint', 'DEMConvert', 'DSFuzzyModelEstimation', 'Despeckle', 'DimensionalityReduction', 'DisparityMapToElevationMap', 'DomainTransform', 'DownloadSRTMTiles', 'EdgeExtraction', 'ExtractROI', 'FineRegistration', 'FusionOfClassifications', 'GeneratePlyFile', 'GenerateRPCSensorModel', 'GrayScaleMorphologicalOperation', 'GridBasedImageResampling', 'HaralickTextureExtraction', 'HomologousPointsExtraction', 'HooverCompareSegmentation', 'HyperspectralUnmixing', 'ImageClassifier', 'ImageEnvelope', 'KMeansClassification', 'KmzExport', 'LSMSSegmentation', 'LSMSSmallRegionsMerging', 'LSMSVectorization', 'LineSegmentDetection', 'LocalStatisticExtraction', 'ManageNoData', 'MeanShiftSmoothing', 'MorphologicalClassification', 'MorphologicalMultiScaleDecomposition', 'MorphologicalProfilesAnalysis', 'MultiImageSamplingRate', 'MultiResolutionPyramid', 'MultivariateAlterationDetector', 'OGRLayerClassifier', 'OSMDownloader', 'ObtainUTMZoneFromGeoPoint', 'OrthoRectification', 'Pansharpening', 'PixelValue', 'PolygonClassStatistics', 'PredictRegression', 'Quicklook', 'RadiometricIndices', 'Rasterization', 'ReadImageInfo', 'RefineSensorModel', 'Rescale', 'RigidTransformResample', 'SARCalibration', 'SARDeburst', 'SARDecompositions', 'SARPolarMatrixConvert', 'SARPolarSynth', 'SFSTextureExtraction', 'SOMClassification', 'SampleExtraction', 'SampleSelection', 'Segmentation', 'Smoothing', 'SplitImage', 'StereoFramework', 'StereoRectificationGridGenerator', 'Superimpose', 'TestApplication', 'TileFusion', 'TrainImagesClassifier', 'TrainRegression', 'TrainVectorClassifier', 'VectorClassifier', 'VectorDataDSValidation', 'VectorDataExtractROI', 'VectorDataReprojection', 'VectorDataSetField', 'VectorDataTransform', 'VertexComponentAnalysis')\n"
     ]
    }
   ],
   "source": [
    "print otbApplication.Registry.GetAvailableApplications()"
   ]
  },
  {
   "cell_type": "markdown",
   "metadata": {},
   "source": [
    "# Create application"
   ]
  },
  {
   "cell_type": "code",
   "execution_count": 6,
   "metadata": {},
   "outputs": [],
   "source": [
    "app = otbApplication.Registry.CreateApplication(\"Smoothing\")"
   ]
  },
  {
   "cell_type": "markdown",
   "metadata": {},
   "source": [
    "# Show application parameters"
   ]
  },
  {
   "cell_type": "code",
   "execution_count": 8,
   "metadata": {},
   "outputs": [
    {
     "name": "stdout",
     "output_type": "stream",
     "text": [
      "('in', 'out', 'ram', 'type', 'type.mean.radius', 'type.gaussian.radius', 'type.anidif.timestep', 'type.anidif.nbiter', 'type.anidif.conductance', 'inxml', 'outxml')\n"
     ]
    }
   ],
   "source": [
    "print app.GetParametersKeys()"
   ]
  },
  {
   "cell_type": "markdown",
   "metadata": {},
   "source": [
    "# Run appliction and save results"
   ]
  },
  {
   "cell_type": "code",
   "execution_count": 10,
   "metadata": {},
   "outputs": [
    {
     "name": "stdout",
     "output_type": "stream",
     "text": [
      "Running with mean smoothing type\n"
     ]
    }
   ],
   "source": [
    "file=\"/eodata/Landsat-5/TM/L1G/1984/04/06/LS05_RFUI_TM__GEO_1P_19840406T105359_19840406T105428_000524_0207_0018_654F/LS05_RFUI_TM__GEO_1P_19840406T105359_19840406T105428_000524_0207_0018_654F.TIFF/LT52070181984097ESA00_B1.TIF\"\n",
    "app.SetParameterString(\"in\",file)\n",
    "for type in ['mean']:\n",
    "    print 'Running with ' + type + ' smoothing type'    \n",
    "    app.SetParameterString(\"type\", type)    \n",
    "    app.SetParameterString(\"out\", \"out\" + type + \".tif\")    \n",
    "    app.ExecuteAndWriteOutput()"
   ]
  }
 ],
 "metadata": {
  "kernelspec": {
   "display_name": "Python 2",
   "language": "python",
   "name": "python2"
  },
  "language_info": {
   "codemirror_mode": {
    "name": "ipython",
    "version": 2
   },
   "file_extension": ".py",
   "mimetype": "text/x-python",
   "name": "python",
   "nbconvert_exporter": "python",
   "pygments_lexer": "ipython2",
   "version": "2.7.12"
  }
 },
 "nbformat": 4,
 "nbformat_minor": 2
}
