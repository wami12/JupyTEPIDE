{
 "cells": [
  {
   "cell_type": "markdown",
   "metadata": {
    "collapsed": true
   },
   "source": [
    "#ImageClassifier - Image Classification\n",
    "Performs a classification of the input image according to a model file."
   ]
  },
  {
   "cell_type": "code",
   "execution_count": null,
   "metadata": {},
   "outputs": [],
   "source": [
    "import sys\n",
    "import os \n",
    "import otbApplication"
   ]
  },
  {
   "cell_type": "markdown",
   "metadata": {},
   "source": [
    "#Processing"
   ]
  },
  {
   "cell_type": "code",
   "execution_count": null,
   "metadata": {},
   "outputs": [],
   "source": [
    "file_1 = \"\"\n",
    "file_2 = \"\"\n",
    "file_3 = \"\"\n",
    "\n",
    "ImageClassifier = otbApplication.Registry.CreateApplication(\"ImageClassifier\")\n",
    "ImageClassifier.SetParameterString(\"in\", file_1)\n",
    "ImageClassifier.SetParameterString(\"imstat\", file_2)\n",
    "ImageClassifier.SetParameterString(\"model\", file_3)\n",
    "ImageClassifier.SetParameterString(\"out\", \"clLabeledImageQB1.tif\")\n",
    "\n",
    "ImageClassifier.ExecuteAndWriteOutput()"
   ]
  }
 ],
 "metadata": {
  "kernelspec": {
   "display_name": "Python 2",
   "language": "python",
   "name": "python2"
  },
  "language_info": {
   "codemirror_mode": {
    "name": "ipython",
    "version": 2.0
   },
   "file_extension": ".py",
   "mimetype": "text/x-python",
   "name": "python",
   "nbconvert_exporter": "python",
   "pygments_lexer": "ipython2",
   "version": "2.7.6"
  }
 },
 "nbformat": 4,
 "nbformat_minor": 0
}