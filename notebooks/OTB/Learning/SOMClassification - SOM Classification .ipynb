{
 "cells": [
  {
   "cell_type": "markdown",
   "metadata": {
    "collapsed": true
   },
   "source": [
    "#SOMClassification - SOM Classification\n",
    "SOM image classification."
   ]
  },
  {
   "cell_type": "code",
   "execution_count": null,
   "metadata": {},
   "outputs": [],
   "source": [
    "import sys\n",
    "import os \n",
    "import otbApplication"
   ]
  },
  {
   "cell_type": "markdown",
   "metadata": {},
   "source": [
    "#Processing"
   ]
  },
  {
   "cell_type": "code",
   "execution_count": null,
   "metadata": {},
   "outputs": [],
   "source": [
    "file_1 = \"\"\n",
    "SOMClassification = otbApplication.Registry.CreateApplication(\"SOMClassification\")\n",
    "SOMClassification.SetParameterString(\"in\", file_1)\n",
    "SOMClassification.SetParameterString(\"out\", \"SOMClassification.tif\")\n",
    "SOMClassification.SetParameterFloat(\"tp\", 1.0)\n",
    "SOMClassification.SetParameterInt(\"ts\", 16384)\n",
    "SOMClassification.SetParameterInt(\"sx\", 32)\n",
    "SOMClassification.SetParameterInt(\"sy\", 32)\n",
    "SOMClassification.SetParameterInt(\"nx\", 10)\n",
    "SOMClassification.SetParameterInt(\"ny\", 10)\n",
    "SOMClassification.SetParameterInt(\"ni\", 5)\n",
    "SOMClassification.SetParameterFloat(\"bi\", 1.0)\n",
    "SOMClassification.SetParameterFloat(\"bf\", 0.1)\n",
    "SOMClassification.SetParameterFloat(\"iv\", 0)\n",
    "SOMClassification.ExecuteAndWriteOutput()"
   ]
  }
 ],
 "metadata": {
  "kernelspec": {
   "display_name": "Python 2",
   "language": "python",
   "name": "python2"
  },
  "language_info": {
   "codemirror_mode": {
    "name": "ipython",
    "version": 2.0
   },
   "file_extension": ".py",
   "mimetype": "text/x-python",
   "name": "python",
   "nbconvert_exporter": "python",
   "pygments_lexer": "ipython2",
   "version": "2.7.6"
  }
 },
 "nbformat": 4,
 "nbformat_minor": 0
}