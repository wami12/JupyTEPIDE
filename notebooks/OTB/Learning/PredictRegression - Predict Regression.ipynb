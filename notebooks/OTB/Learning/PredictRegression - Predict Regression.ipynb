{
 "cells": [
  {
   "cell_type": "markdown",
   "metadata": {
    "collapsed": true
   },
   "source": [
    "#PredictRegression - Predict Regression\n",
    "Performs a prediction of the input image according to a regression model file."
   ]
  },
  {
   "cell_type": "code",
   "execution_count": null,
   "metadata": {},
   "outputs": [],
   "source": [
    "import sys\n",
    "import os \n",
    "import otbApplication"
   ]
  },
  {
   "cell_type": "markdown",
   "metadata": {},
   "source": [
    "#Processing"
   ]
  },
  {
   "cell_type": "code",
   "execution_count": null,
   "metadata": {},
   "outputs": [],
   "source": [
    "file_1 = \"\"\n",
    "file_2 = \"\"\n",
    "file_3 = \"\"\n",
    "PredictRegression = otbApplication.Registry.CreateApplication(\"PredictRegression\")\n",
    "PredictRegression.SetParameterString(\"in\", file_1)\n",
    "PredictRegression.SetParameterString(\"imstat\",file_2)\n",
    "PredictRegression.SetParameterString(\"model\", file_3)\n",
    "PredictRegression.SetParameterString(\"out\", \"clLabeledImageQB1.tif\")\n",
    "\n",
    "PredictRegression.ExecuteAndWriteOutput()"
   ]
  }
 ],
 "metadata": {
  "kernelspec": {
   "display_name": "Python 2",
   "language": "python",
   "name": "python2"
  },
  "language_info": {
   "codemirror_mode": {
    "name": "ipython",
    "version": 2.0
   },
   "file_extension": ".py",
   "mimetype": "text/x-python",
   "name": "python",
   "nbconvert_exporter": "python",
   "pygments_lexer": "ipython2",
   "version": "2.7.6"
  }
 },
 "nbformat": 4,
 "nbformat_minor": 0
}