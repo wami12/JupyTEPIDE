{
 "cells": [
  {
   "cell_type": "markdown",
   "metadata": {
    "collapsed": true
   },
   "source": [
    "#ClassificationMapRegularization - Classification Map Regularization\n",
    "Filters the input labeled image using Majority Voting in a ball shaped neighbordhood."
   ]
  },
  {
   "cell_type": "code",
   "execution_count": null,
   "metadata": {},
   "outputs": [],
   "source": [
    "import sys\n",
    "import os \n",
    "import otbApplication"
   ]
  },
  {
   "cell_type": "markdown",
   "metadata": {},
   "source": [
    "#Processing"
   ]
  },
  {
   "cell_type": "code",
   "execution_count": null,
   "metadata": {},
   "outputs": [],
   "source": [
    "file_1 = \"\"\n",
    "\n",
    "ClassificationMapRegularization = otbApplication.Registry.CreateApplication(\"ClassificationMapRegularization\")\n",
    "ClassificationMapRegularization.SetParameterString(\"io.in\", file_1)\n",
    "ClassificationMapRegularization.SetParameterString(\"io.out\", \"clLabeledImageQB123_1_CMR_r2_nodl_10_undl_7.tif\")\n",
    "ClassificationMapRegularization.SetParameterInt(\"ip.radius\", 2)\n",
    "ClassificationMapRegularization.EnableParameter(\"ip.suvbool\")\n",
    "ClassificationMapRegularization.EnableParameter(\"ip.onlyisolatedpixels\")\n",
    "ClassificationMapRegularization.SetParameterInt(\"ip.nodatalabel\", 10)\n",
    "ClassificationMapRegularization.SetParameterInt(\"ip.undecidedlabel\", 7)\n",
    "\n",
    "ClassificationMapRegularization.ExecuteAndWriteOutput()"
   ]
  }
 ],
 "metadata": {
  "kernelspec": {
   "display_name": "Python 2",
   "language": "python",
   "name": "python2"
  },
  "language_info": {
   "codemirror_mode": {
    "name": "ipython",
    "version": 2.0
   },
   "file_extension": ".py",
   "mimetype": "text/x-python",
   "name": "python",
   "nbconvert_exporter": "python",
   "pygments_lexer": "ipython2",
   "version": "2.7.6"
  }
 },
 "nbformat": 4,
 "nbformat_minor": 0
}