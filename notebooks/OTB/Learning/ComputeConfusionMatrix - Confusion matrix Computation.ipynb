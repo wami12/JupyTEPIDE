{
 "cells": [
  {
   "cell_type": "markdown",
   "metadata": {
    "collapsed": true
   },
   "source": [
    "#ComputeConfusionMatrix - Confusion matrix Computation\n",
    "Computes the confusion matrix of a classification"
   ]
  },
  {
   "cell_type": "code",
   "execution_count": null,
   "metadata": {},
   "outputs": [],
   "source": [
    "import sys\n",
    "import os \n",
    "import otbApplication"
   ]
  },
  {
   "cell_type": "markdown",
   "metadata": {},
   "source": [
    "#Processing"
   ]
  },
  {
   "cell_type": "code",
   "execution_count": null,
   "metadata": {},
   "outputs": [],
   "source": [
    "file_1 = \"\"\n",
    "file_2 = \"\"\n",
    "ComputeConfusionMatrix = otbApplication.Registry.CreateApplication(\"ComputeConfusionMatrix\")\n",
    "ComputeConfusionMatrix.SetParameterString(\"in\", file_1)\n",
    "ComputeConfusionMatrix.SetParameterString(\"out\", \"ConfusionMatrix.csv\")\n",
    "ComputeConfusionMatrix.SetParameterString(\"ref\",\"vector\")\n",
    "ComputeConfusionMatrix.SetParameterString(\"ref.vector.in\", file_2)\n",
    "ComputeConfusionMatrix.ExecuteAndWriteOutput()"
   ]
  }
 ],
 "metadata": {
  "kernelspec": {
   "display_name": "Python 2",
   "language": "python",
   "name": "python2"
  },
  "language_info": {
   "codemirror_mode": {
    "name": "ipython",
    "version": 2.0
   },
   "file_extension": ".py",
   "mimetype": "text/x-python",
   "name": "python",
   "nbconvert_exporter": "python",
   "pygments_lexer": "ipython2",
   "version": "2.7.6"
  }
 },
 "nbformat": 4,
 "nbformat_minor": 0
}