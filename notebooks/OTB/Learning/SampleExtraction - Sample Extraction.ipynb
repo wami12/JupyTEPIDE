{
 "cells": [
  {
   "cell_type": "markdown",
   "metadata": {
    "collapsed": true
   },
   "source": [
    "#SampleExtraction - Sample Extraction\n",
    "Extracts samples values from an image."
   ]
  },
  {
   "cell_type": "code",
   "execution_count": null,
   "metadata": {},
   "outputs": [],
   "source": [
    "import sys\n",
    "import os \n",
    "import otbApplication"
   ]
  },
  {
   "cell_type": "markdown",
   "metadata": {},
   "source": [
    "#Processing"
   ]
  },
  {
   "cell_type": "code",
   "execution_count": null,
   "metadata": {},
   "outputs": [],
   "source": [
    "file_1 = \"\"\n",
    "file_2 = \"\"\n",
    "SampleExtraction = otbApplication.Registry.CreateApplication(\"SampleExtraction\")\n",
    "SampleExtraction.SetParameterString(\"in\", file_1)\n",
    "SampleExtraction.SetParameterString(\"vec\", file_2)\n",
    "SampleExtraction.SetParameterString(\"outfield\",\"prefix\")\n",
    "SampleExtraction.SetParameterString(\"outfield.prefix.name\", \"band_\")\n",
    "\n",
    "SampleExtraction.ExecuteAndWriteOutput()"
   ]
  }
 ],
 "metadata": {
  "kernelspec": {
   "display_name": "Python 2",
   "language": "python",
   "name": "python2"
  },
  "language_info": {
   "codemirror_mode": {
    "name": "ipython",
    "version": 2.0
   },
   "file_extension": ".py",
   "mimetype": "text/x-python",
   "name": "python",
   "nbconvert_exporter": "python",
   "pygments_lexer": "ipython2",
   "version": "2.7.6"
  }
 },
 "nbformat": 4,
 "nbformat_minor": 0
}