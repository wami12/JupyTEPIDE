{
 "cells": [
  {
   "cell_type": "markdown",
   "metadata": {
    "collapsed": true
   },
   "source": [
    "#TrainImagesClassifier - Train a classifier from multiple images\n",
    "Train a classifier from multiple pairs of images and training vector data."
   ]
  },
  {
   "cell_type": "code",
   "execution_count": null,
   "metadata": {},
   "outputs": [],
   "source": [
    "import sys\n",
    "import os \n",
    "import otbApplication"
   ]
  },
  {
   "cell_type": "markdown",
   "metadata": {},
   "source": [
    "#Processing"
   ]
  },
  {
   "cell_type": "code",
   "execution_count": null,
   "metadata": {},
   "outputs": [],
   "source": [
    "file_1 = \"\"\n",
    "file_2 = \"\" \n",
    "file_3 = \"\"\n",
    "TrainImagesClassifier = otbApplication.Registry.CreateApplication(\"TrainImagesClassifier\")\n",
    "TrainImagesClassifier.SetParameterStringList(\"io.il\", [file_1])\n",
    "TrainImagesClassifier.SetParameterStringList(\"io.vd\", [file_2])\n",
    "TrainImagesClassifier.SetParameterString(\"io.imstat\", file_3)\n",
    "TrainImagesClassifier.SetParameterInt(\"sample.mv\", 100)\n",
    "TrainImagesClassifier.SetParameterInt(\"sample.mt\", 100)\n",
    "TrainImagesClassifier.SetParameterFloat(\"sample.vtr\", 0.5)\n",
    "\n",
    "TrainImagesClassifier.ExecuteAndWriteOutput()"
   ]
  }
 ],
 "metadata": {
  "kernelspec": {
   "display_name": "Python 2",
   "language": "python",
   "name": "python2"
  },
  "language_info": {
   "codemirror_mode": {
    "name": "ipython",
    "version": 2.0
   },
   "file_extension": ".py",
   "mimetype": "text/x-python",
   "name": "python",
   "nbconvert_exporter": "python",
   "pygments_lexer": "ipython2",
   "version": "2.7.6"
  }
 },
 "nbformat": 4,
 "nbformat_minor": 0
}