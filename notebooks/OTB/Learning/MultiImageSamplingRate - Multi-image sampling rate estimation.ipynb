{
 "cells": [
  {
   "cell_type": "markdown",
   "metadata": {
    "collapsed": true
   },
   "source": [
    "#MultiImageSamplingRate - Multi-image sampling rate estimation\n",
    "Compute sampling rate for an input set of images."
   ]
  },
  {
   "cell_type": "code",
   "execution_count": null,
   "metadata": {},
   "outputs": [],
   "source": [
    "import sys\n",
    "import os \n",
    "import otbApplication"
   ]
  },
  {
   "cell_type": "markdown",
   "metadata": {},
   "source": [
    "#Processing"
   ]
  },
  {
   "cell_type": "code",
   "execution_count": null,
   "metadata": {},
   "outputs": [],
   "source": [
    "MultiImageSamplingRate = otbApplication.Registry.CreateApplication(\"MultiImageSamplingRate\")\n",
    "MultiImageSamplingRate.SetParameterString(\"out\", \"rates.csv\")\n",
    "MultiImageSamplingRate.SetParameterString(\"strategy\",\"smallest\")\n",
    "MultiImageSamplingRate.SetParameterString(\"mim\",\"proportional\")\n",
    "\n",
    "MultiImageSamplingRate.ExecuteAndWriteOutput()"
   ]
  }
 ],
 "metadata": {
  "kernelspec": {
   "display_name": "Python 2",
   "language": "python",
   "name": "python2"
  },
  "language_info": {
   "codemirror_mode": {
    "name": "ipython",
    "version": 2.0
   },
   "file_extension": ".py",
   "mimetype": "text/x-python",
   "name": "python",
   "nbconvert_exporter": "python",
   "pygments_lexer": "ipython2",
   "version": "2.7.6"
  }
 },
 "nbformat": 4,
 "nbformat_minor": 0
}