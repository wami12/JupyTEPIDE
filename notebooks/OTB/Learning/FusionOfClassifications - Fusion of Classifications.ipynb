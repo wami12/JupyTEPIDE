{
 "cells": [
  {
   "cell_type": "markdown",
   "metadata": {
    "collapsed": true
   },
   "source": [
    "#FusionOfClassifications - Fusion of Classifications\n",
    "Fuses several classifications maps of the same image on the basis of class labels."
   ]
  },
  {
   "cell_type": "code",
   "execution_count": null,
   "metadata": {},
   "outputs": [],
   "source": [
    "import sys\n",
    "import os \n",
    "import otbApplication"
   ]
  },
  {
   "cell_type": "markdown",
   "metadata": {},
   "source": [
    "#Processing"
   ]
  },
  {
   "cell_type": "code",
   "execution_count": null,
   "metadata": {},
   "outputs": [],
   "source": [
    "file_1 = \"\"\n",
    "file_2 = \"\"\n",
    "file_3 = \"\"\n",
    "FusionOfClassifications = otbApplication.Registry.CreateApplication(\"FusionOfClassifications\")\n",
    "FusionOfClassifications.SetParameterStringList(\"il\", [file_1, file_2, file_3])\n",
    "FusionOfClassifications.SetParameterString(\"method\",\"dempstershafer\")\n",
    "FusionOfClassifications.SetParameterString(\"method.dempstershafer.mob\",\"precision\")\n",
    "FusionOfClassifications.SetParameterInt(\"nodatalabel\", 0)\n",
    "FusionOfClassifications.SetParameterInt(\"undecidedlabel\", 10)\n",
    "FusionOfClassifications.SetParameterString(\"out\", \"classification_fused.tif\")\n",
    "FusionOfClassifications.ExecuteAndWriteOutput()"
   ]
  }
 ],
 "metadata": {
  "kernelspec": {
   "display_name": "Python 2",
   "language": "python",
   "name": "python2"
  },
  "language_info": {
   "codemirror_mode": {
    "name": "ipython",
    "version": 2.0
   },
   "file_extension": ".py",
   "mimetype": "text/x-python",
   "name": "python",
   "nbconvert_exporter": "python",
   "pygments_lexer": "ipython2",
   "version": "2.7.6"
  }
 },
 "nbformat": 4,
 "nbformat_minor": 0
}