{
 "cells": [
  {
   "cell_type": "markdown",
   "metadata": {
    "collapsed": true
   },
   "source": [
    "#VectorClassifier - Vector Classification\n",
    "Performs a classification of the input vector data according to a model file."
   ]
  },
  {
   "cell_type": "code",
   "execution_count": null,
   "metadata": {},
   "outputs": [],
   "source": [
    "import sys\n",
    "import os \n",
    "import otbApplication"
   ]
  },
  {
   "cell_type": "markdown",
   "metadata": {},
   "source": [
    "#Processing"
   ]
  },
  {
   "cell_type": "code",
   "execution_count": null,
   "metadata": {},
   "outputs": [],
   "source": [
    "file_1 = \"\"\n",
    "file_2 = \"\" \n",
    "file_3 = \"\" \n",
    "VectorClassifier = otbApplication.Registry.CreateApplication(\"VectorClassifier\")\n",
    "VectorClassifier.SetParameterString(\"in\", file_1)\n",
    "VectorClassifier.SetParameterString(\"instat\", file_2)\n",
    "VectorClassifier.SetParameterString(\"model\", file_3)\n",
    "VectorClassifier.SetParameterString(\"out\", \"vectorDataLabeledVector.shp\")\n",
    "\n",
    "VectorClassifier.ExecuteAndWriteOutput()"
   ]
  }
 ],
 "metadata": {
  "kernelspec": {
   "display_name": "Python 2",
   "language": "python",
   "name": "python2"
  },
  "language_info": {
   "codemirror_mode": {
    "name": "ipython",
    "version": 2.0
   },
   "file_extension": ".py",
   "mimetype": "text/x-python",
   "name": "python",
   "nbconvert_exporter": "python",
   "pygments_lexer": "ipython2",
   "version": "2.7.6"
  }
 },
 "nbformat": 4,
 "nbformat_minor": 0
}