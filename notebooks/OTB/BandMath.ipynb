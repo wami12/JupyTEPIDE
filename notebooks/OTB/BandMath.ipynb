{
 "cells": [
  {
   "cell_type": "markdown",
   "metadata": {},
   "source": [
    "# Imports\n",
    "Import required libraries"
   ]
  },
  {
   "cell_type": "code",
   "execution_count": null,
   "metadata": {},
   "outputs": [],
   "source": [
    "import matplotlib.pyplot as plt\n",
    "from matplotlib import gridspec\n",
    "import sys\n",
    "import os\n",
    "import otbApplication\n",
    "import PIL\n",
    "from jupytep.common.io import *\n",
    "from jupytep.maps.leaflet.layer import ImageLayer"
   ]
  },
  {
   "cell_type": "markdown",
   "metadata": {},
   "source": [
    "# Processing\n",
    "* expression is muParser mathematical expression to apply on input images\n",
    "* imNbM is band M from image N"
   ]
  },
  {
   "cell_type": "code",
   "execution_count": null,
   "metadata": {},
   "outputs": [],
   "source": [
    "BandMath = otbApplication.Registry.CreateApplication(\"BandMath\")\n",
    "# file1='/eodata/Landsat-5/TM/L1G/1984/04/06/LS05_RFUI_TM__GEO_1P_19840406T105359_19840406T105428_000524_0207_0018_654F/LS05_RFUI_TM__GEO_1P_19840406T105359_19840406T105428_000524_0207_0018_654F.TIFF/LT52070181984097ESA00_B1.TIF'\n",
    "# file2='/eodata/Landsat-5/TM/L1G/1984/04/06/LS05_RFUI_TM__GEO_1P_19840406T105359_19840406T105428_000524_0207_0018_654F/LS05_RFUI_TM__GEO_1P_19840406T105359_19840406T105428_000524_0207_0018_654F.TIFF/LT52070181984097ESA00_B2.TIF'\n",
    "file1='/eodata/Landsat-5/TM/L1T/2011/07/17/LS05_RKSE_TM__GTC_1P_20110717T092055_20110717T092124_145609_0188_0024_75AC/LS05_RKSE_TM__GTC_1P_20110717T092055_20110717T092124_145609_0188_0024_75AC.TIFF/LT51880242011198ESA00_B1.TIF'\n",
    "file2='/eodata/Landsat-5/TM/L1T/2011/07/17/LS05_RKSE_TM__GTC_1P_20110717T092055_20110717T092124_145609_0188_0024_75AC/LS05_RKSE_TM__GTC_1P_20110717T092055_20110717T092124_145609_0188_0024_75AC.TIFF/LT51880242011198ESA00_B2.TIF'\n",
    "\n",
    "out_file = get_work_dir() + \"bandmath.png\"\n",
    "\n",
    "BandMath.SetParameterStringList(\"il\",[file1,file2])\n",
    "BandMath.SetParameterString(\"out\", out_file)\n",
    "expression = \"cos( im1b1 )>cos( im2b1 )?im1b1:im2b1\"\n",
    "BandMath.SetParameterString(\"exp\",expression)\n",
    "BandMath.ExecuteAndWriteOutput()"
   ]
  },
  {
   "cell_type": "markdown",
   "metadata": {},
   "source": [
    "# Display results\n",
    "Display results using matplotlib."
   ]
  },
  {
   "cell_type": "code",
   "execution_count": null,
   "metadata": {
    "scrolled": true
   },
   "outputs": [],
   "source": [
    "fig = plt.figure(num=1,figsize=(20, 60))\n",
    "\n",
    "gs1 = gridspec.GridSpec(1, 3)\n",
    "gs1.update(left=0.05, right=0.48, wspace=0.05)\n",
    "ax1 = fig.add_subplot(gs1[0])\n",
    "ax2 = fig.add_subplot(gs1[1])\n",
    "ax3 = fig.add_subplot(gs1[2])\n",
    "\n",
    "\n",
    "img = plt.imread(file1)\n",
    "ax1.imshow(img)\n",
    "ax1.set_title(\"Image 1\")\n",
    "ax1.xaxis.set_major_formatter(plt.NullFormatter())\n",
    "ax1.yaxis.set_major_formatter(plt.NullFormatter())\n",
    "\n",
    "img1 = plt.imread(file2)\n",
    "ax2.imshow(img1)\n",
    "ax2.set_title(\"Image 2\")\n",
    "ax2.xaxis.set_major_formatter(plt.NullFormatter())\n",
    "ax2.yaxis.set_major_formatter(plt.NullFormatter())\n",
    "\n",
    "img2 = plt.imread(out_file)\n",
    "ax3.imshow(img2)\n",
    "ax3.set_title(\"Band math result\")\n",
    "ax3.xaxis.set_major_formatter(plt.NullFormatter())\n",
    "ax3.yaxis.set_major_formatter(plt.NullFormatter())\n",
    "plt.show()"
   ]
  },
  {
   "cell_type": "markdown",
   "metadata": {},
   "source": [
    "# Display result on map"
   ]
  },
  {
   "cell_type": "code",
   "execution_count": null,
   "metadata": {},
   "outputs": [],
   "source": [
    "layer=ImageLayer()\n",
    "box=layer.get_bbox('/eodata/Landsat-5/TM/L1T/2011/07/17/LS05_RKSE_TM__GTC_1P_20110717T092055_20110717T092124_145609_0188_0024_75AC/')\n",
    "print box\n",
    "layer.add_image_layer('../../../work/bandmath.png', box, 'Layer_name')\n",
    "layer.show_layer()"
   ]
  },
  {
   "cell_type": "code",
   "execution_count": null,
   "metadata": {},
   "outputs": [],
   "source": []
  }
 ],
 "metadata": {
  "kernelspec": {
   "display_name": "Python 2",
   "language": "python",
   "name": "python2"
  },
  "language_info": {
   "codemirror_mode": {
    "name": "ipython",
    "version": 2
   },
   "file_extension": ".py",
   "mimetype": "text/x-python",
   "name": "python",
   "nbconvert_exporter": "python",
   "pygments_lexer": "ipython2",
   "version": "2.7.15"
  },
  "latex_envs": {
   "LaTeX_envs_menu_present": true,
   "autoclose": false,
   "autocomplete": true,
   "bibliofile": "biblio.bib",
   "cite_by": "apalike",
   "current_citInitial": 1,
   "eqLabelWithNumbers": true,
   "eqNumInitial": 1,
   "hotkeys": {
    "equation": "Ctrl-E",
    "itemize": "Ctrl-I"
   },
   "labels_anchors": false,
   "latex_user_defs": false,
   "report_style_numbering": false,
   "user_envs_cfg": false
  }
 },
 "nbformat": 4,
 "nbformat_minor": 1
}
